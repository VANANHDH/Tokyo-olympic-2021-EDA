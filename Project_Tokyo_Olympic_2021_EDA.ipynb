{
 "cells": [
  {
   "cell_type": "code",
   "execution_count": 3,
   "id": "8f8fef3f",
   "metadata": {},
   "outputs": [
    {
     "data": {
      "text/html": [
       "\n",
       "            <div>\n",
       "                <p><b>SparkSession - in-memory</b></p>\n",
       "                \n",
       "        <div>\n",
       "            <p><b>SparkContext</b></p>\n",
       "\n",
       "            <p><a href=\"http://192.168.1.10:4040\">Spark UI</a></p>\n",
       "\n",
       "            <dl>\n",
       "              <dt>Version</dt>\n",
       "                <dd><code>v3.1.2</code></dd>\n",
       "              <dt>Master</dt>\n",
       "                <dd><code>local[*]</code></dd>\n",
       "              <dt>AppName</dt>\n",
       "                <dd><code>pyspark-shell</code></dd>\n",
       "            </dl>\n",
       "        </div>\n",
       "        \n",
       "            </div>\n",
       "        "
      ],
      "text/plain": [
       "<pyspark.sql.session.SparkSession at 0x22527292460>"
      ]
     },
     "execution_count": 3,
     "metadata": {},
     "output_type": "execute_result"
    }
   ],
   "source": [
    "import pyspark\n",
    "spark = pyspark.sql.SparkSession(pyspark.SparkContext())\n",
    "spark"
   ]
  },
  {
   "cell_type": "code",
   "execution_count": 5,
   "id": "1b002a38",
   "metadata": {},
   "outputs": [
    {
     "name": "stderr",
     "output_type": "stream",
     "text": [
      "c:\\program files\\python38\\lib\\site-packages\\openpyxl\\styles\\stylesheet.py:221: UserWarning: Workbook contains no default style, apply openpyxl's default\n",
      "  warn(\"Workbook contains no default style, apply openpyxl's default\")\n"
     ]
    }
   ],
   "source": [
    "import pandas as pd\n",
    "\n",
    "# Convert excel to csv\n",
    "def excel_to_csv(name):\n",
    "    pd.read_excel(name + '.xlsx').to_csv(name + '.csv', sep=',', index=False)\n",
    "    \n",
    "excel_to_csv('Athletes')\n",
    "excel_to_csv('Coaches')\n",
    "excel_to_csv('EntriesGender')\n",
    "excel_to_csv('Medals')\n",
    "excel_to_csv('Teams')"
   ]
  },
  {
   "cell_type": "code",
   "execution_count": 8,
   "id": "1a471928",
   "metadata": {},
   "outputs": [
    {
     "data": {
      "text/html": [
       "<div>\n",
       "<style scoped>\n",
       "    .dataframe tbody tr th:only-of-type {\n",
       "        vertical-align: middle;\n",
       "    }\n",
       "\n",
       "    .dataframe tbody tr th {\n",
       "        vertical-align: top;\n",
       "    }\n",
       "\n",
       "    .dataframe thead th {\n",
       "        text-align: right;\n",
       "    }\n",
       "</style>\n",
       "<table border=\"1\" class=\"dataframe\">\n",
       "  <thead>\n",
       "    <tr style=\"text-align: right;\">\n",
       "      <th></th>\n",
       "      <th>Name</th>\n",
       "      <th>NOC</th>\n",
       "      <th>Discipline</th>\n",
       "    </tr>\n",
       "  </thead>\n",
       "  <tbody>\n",
       "    <tr>\n",
       "      <th>0</th>\n",
       "      <td>AALERUD Katrine</td>\n",
       "      <td>Norway</td>\n",
       "      <td>Cycling Road</td>\n",
       "    </tr>\n",
       "    <tr>\n",
       "      <th>1</th>\n",
       "      <td>ABAD Nestor</td>\n",
       "      <td>Spain</td>\n",
       "      <td>Artistic Gymnastics</td>\n",
       "    </tr>\n",
       "    <tr>\n",
       "      <th>2</th>\n",
       "      <td>ABAGNALE Giovanni</td>\n",
       "      <td>Italy</td>\n",
       "      <td>Rowing</td>\n",
       "    </tr>\n",
       "    <tr>\n",
       "      <th>3</th>\n",
       "      <td>ABALDE Alberto</td>\n",
       "      <td>Spain</td>\n",
       "      <td>Basketball</td>\n",
       "    </tr>\n",
       "    <tr>\n",
       "      <th>4</th>\n",
       "      <td>ABALDE Tamara</td>\n",
       "      <td>Spain</td>\n",
       "      <td>Basketball</td>\n",
       "    </tr>\n",
       "  </tbody>\n",
       "</table>\n",
       "</div>"
      ],
      "text/plain": [
       "                Name     NOC           Discipline\n",
       "0    AALERUD Katrine  Norway         Cycling Road\n",
       "1        ABAD Nestor   Spain  Artistic Gymnastics\n",
       "2  ABAGNALE Giovanni   Italy               Rowing\n",
       "3     ABALDE Alberto   Spain           Basketball\n",
       "4      ABALDE Tamara   Spain           Basketball"
      ]
     },
     "execution_count": 8,
     "metadata": {},
     "output_type": "execute_result"
    }
   ],
   "source": [
    "athletes = pd.read_csv('Athletes.csv')\n",
    "coaches = pd.read_csv('Coaches.csv')\n",
    "entries_gender = pd.read_csv('EntriesGender.csv')\n",
    "medals = pd.read_csv('Medals.csv')\n",
    "teams = pd.read_csv('Teams.csv')\n",
    "\n",
    "athletes.head()"
   ]
  },
  {
   "cell_type": "code",
   "execution_count": 9,
   "id": "525539eb",
   "metadata": {},
   "outputs": [
    {
     "data": {
      "text/html": [
       "<div>\n",
       "<style scoped>\n",
       "    .dataframe tbody tr th:only-of-type {\n",
       "        vertical-align: middle;\n",
       "    }\n",
       "\n",
       "    .dataframe tbody tr th {\n",
       "        vertical-align: top;\n",
       "    }\n",
       "\n",
       "    .dataframe thead th {\n",
       "        text-align: right;\n",
       "    }\n",
       "</style>\n",
       "<table border=\"1\" class=\"dataframe\">\n",
       "  <thead>\n",
       "    <tr style=\"text-align: right;\">\n",
       "      <th></th>\n",
       "      <th>Name</th>\n",
       "      <th>Discipline</th>\n",
       "      <th>NOC</th>\n",
       "      <th>Event</th>\n",
       "    </tr>\n",
       "  </thead>\n",
       "  <tbody>\n",
       "    <tr>\n",
       "      <th>0</th>\n",
       "      <td>Belgium</td>\n",
       "      <td>3x3 Basketball</td>\n",
       "      <td>Belgium</td>\n",
       "      <td>Men</td>\n",
       "    </tr>\n",
       "    <tr>\n",
       "      <th>1</th>\n",
       "      <td>China</td>\n",
       "      <td>3x3 Basketball</td>\n",
       "      <td>People's Republic of China</td>\n",
       "      <td>Men</td>\n",
       "    </tr>\n",
       "    <tr>\n",
       "      <th>2</th>\n",
       "      <td>China</td>\n",
       "      <td>3x3 Basketball</td>\n",
       "      <td>People's Republic of China</td>\n",
       "      <td>Women</td>\n",
       "    </tr>\n",
       "    <tr>\n",
       "      <th>3</th>\n",
       "      <td>France</td>\n",
       "      <td>3x3 Basketball</td>\n",
       "      <td>France</td>\n",
       "      <td>Women</td>\n",
       "    </tr>\n",
       "    <tr>\n",
       "      <th>4</th>\n",
       "      <td>Italy</td>\n",
       "      <td>3x3 Basketball</td>\n",
       "      <td>Italy</td>\n",
       "      <td>Women</td>\n",
       "    </tr>\n",
       "  </tbody>\n",
       "</table>\n",
       "</div>"
      ],
      "text/plain": [
       "      Name      Discipline                         NOC  Event\n",
       "0  Belgium  3x3 Basketball                     Belgium    Men\n",
       "1    China  3x3 Basketball  People's Republic of China    Men\n",
       "2    China  3x3 Basketball  People's Republic of China  Women\n",
       "3   France  3x3 Basketball                      France  Women\n",
       "4    Italy  3x3 Basketball                       Italy  Women"
      ]
     },
     "execution_count": 9,
     "metadata": {},
     "output_type": "execute_result"
    }
   ],
   "source": [
    "teams.head()"
   ]
  },
  {
   "cell_type": "code",
   "execution_count": 10,
   "id": "d4248c78",
   "metadata": {},
   "outputs": [
    {
     "data": {
      "text/html": [
       "<div>\n",
       "<style scoped>\n",
       "    .dataframe tbody tr th:only-of-type {\n",
       "        vertical-align: middle;\n",
       "    }\n",
       "\n",
       "    .dataframe tbody tr th {\n",
       "        vertical-align: top;\n",
       "    }\n",
       "\n",
       "    .dataframe thead th {\n",
       "        text-align: right;\n",
       "    }\n",
       "</style>\n",
       "<table border=\"1\" class=\"dataframe\">\n",
       "  <thead>\n",
       "    <tr style=\"text-align: right;\">\n",
       "      <th></th>\n",
       "      <th>Rank</th>\n",
       "      <th>Team/NOC</th>\n",
       "      <th>Gold</th>\n",
       "      <th>Silver</th>\n",
       "      <th>Bronze</th>\n",
       "      <th>Total</th>\n",
       "      <th>Rank by Total</th>\n",
       "    </tr>\n",
       "  </thead>\n",
       "  <tbody>\n",
       "    <tr>\n",
       "      <th>0</th>\n",
       "      <td>1</td>\n",
       "      <td>United States of America</td>\n",
       "      <td>39</td>\n",
       "      <td>41</td>\n",
       "      <td>33</td>\n",
       "      <td>113</td>\n",
       "      <td>1</td>\n",
       "    </tr>\n",
       "    <tr>\n",
       "      <th>1</th>\n",
       "      <td>2</td>\n",
       "      <td>People's Republic of China</td>\n",
       "      <td>38</td>\n",
       "      <td>32</td>\n",
       "      <td>18</td>\n",
       "      <td>88</td>\n",
       "      <td>2</td>\n",
       "    </tr>\n",
       "    <tr>\n",
       "      <th>2</th>\n",
       "      <td>3</td>\n",
       "      <td>Japan</td>\n",
       "      <td>27</td>\n",
       "      <td>14</td>\n",
       "      <td>17</td>\n",
       "      <td>58</td>\n",
       "      <td>5</td>\n",
       "    </tr>\n",
       "    <tr>\n",
       "      <th>3</th>\n",
       "      <td>4</td>\n",
       "      <td>Great Britain</td>\n",
       "      <td>22</td>\n",
       "      <td>21</td>\n",
       "      <td>22</td>\n",
       "      <td>65</td>\n",
       "      <td>4</td>\n",
       "    </tr>\n",
       "    <tr>\n",
       "      <th>4</th>\n",
       "      <td>5</td>\n",
       "      <td>ROC</td>\n",
       "      <td>20</td>\n",
       "      <td>28</td>\n",
       "      <td>23</td>\n",
       "      <td>71</td>\n",
       "      <td>3</td>\n",
       "    </tr>\n",
       "  </tbody>\n",
       "</table>\n",
       "</div>"
      ],
      "text/plain": [
       "   Rank                    Team/NOC  Gold  Silver  Bronze  Total  \\\n",
       "0     1    United States of America    39      41      33    113   \n",
       "1     2  People's Republic of China    38      32      18     88   \n",
       "2     3                       Japan    27      14      17     58   \n",
       "3     4               Great Britain    22      21      22     65   \n",
       "4     5                         ROC    20      28      23     71   \n",
       "\n",
       "   Rank by Total  \n",
       "0              1  \n",
       "1              2  \n",
       "2              5  \n",
       "3              4  \n",
       "4              3  "
      ]
     },
     "execution_count": 10,
     "metadata": {},
     "output_type": "execute_result"
    }
   ],
   "source": [
    "medals.head()"
   ]
  },
  {
   "cell_type": "code",
   "execution_count": 11,
   "id": "0685acd7",
   "metadata": {},
   "outputs": [
    {
     "data": {
      "text/html": [
       "<div>\n",
       "<style scoped>\n",
       "    .dataframe tbody tr th:only-of-type {\n",
       "        vertical-align: middle;\n",
       "    }\n",
       "\n",
       "    .dataframe tbody tr th {\n",
       "        vertical-align: top;\n",
       "    }\n",
       "\n",
       "    .dataframe thead th {\n",
       "        text-align: right;\n",
       "    }\n",
       "</style>\n",
       "<table border=\"1\" class=\"dataframe\">\n",
       "  <thead>\n",
       "    <tr style=\"text-align: right;\">\n",
       "      <th></th>\n",
       "      <th>Rank</th>\n",
       "      <th>Team/NOC</th>\n",
       "      <th>Gold</th>\n",
       "      <th>Silver</th>\n",
       "      <th>Bronze</th>\n",
       "      <th>Total</th>\n",
       "      <th>Rank by Total</th>\n",
       "    </tr>\n",
       "  </thead>\n",
       "  <tbody>\n",
       "    <tr>\n",
       "      <th>0</th>\n",
       "      <td>1</td>\n",
       "      <td>United States of America</td>\n",
       "      <td>39</td>\n",
       "      <td>41</td>\n",
       "      <td>33</td>\n",
       "      <td>113</td>\n",
       "      <td>1</td>\n",
       "    </tr>\n",
       "    <tr>\n",
       "      <th>1</th>\n",
       "      <td>2</td>\n",
       "      <td>People's Republic of China</td>\n",
       "      <td>38</td>\n",
       "      <td>32</td>\n",
       "      <td>18</td>\n",
       "      <td>88</td>\n",
       "      <td>2</td>\n",
       "    </tr>\n",
       "    <tr>\n",
       "      <th>4</th>\n",
       "      <td>5</td>\n",
       "      <td>ROC</td>\n",
       "      <td>20</td>\n",
       "      <td>28</td>\n",
       "      <td>23</td>\n",
       "      <td>71</td>\n",
       "      <td>3</td>\n",
       "    </tr>\n",
       "    <tr>\n",
       "      <th>3</th>\n",
       "      <td>4</td>\n",
       "      <td>Great Britain</td>\n",
       "      <td>22</td>\n",
       "      <td>21</td>\n",
       "      <td>22</td>\n",
       "      <td>65</td>\n",
       "      <td>4</td>\n",
       "    </tr>\n",
       "    <tr>\n",
       "      <th>2</th>\n",
       "      <td>3</td>\n",
       "      <td>Japan</td>\n",
       "      <td>27</td>\n",
       "      <td>14</td>\n",
       "      <td>17</td>\n",
       "      <td>58</td>\n",
       "      <td>5</td>\n",
       "    </tr>\n",
       "  </tbody>\n",
       "</table>\n",
       "</div>"
      ],
      "text/plain": [
       "   Rank                    Team/NOC  Gold  Silver  Bronze  Total  \\\n",
       "0     1    United States of America    39      41      33    113   \n",
       "1     2  People's Republic of China    38      32      18     88   \n",
       "4     5                         ROC    20      28      23     71   \n",
       "3     4               Great Britain    22      21      22     65   \n",
       "2     3                       Japan    27      14      17     58   \n",
       "\n",
       "   Rank by Total  \n",
       "0              1  \n",
       "1              2  \n",
       "4              3  \n",
       "3              4  \n",
       "2              5  "
      ]
     },
     "execution_count": 11,
     "metadata": {},
     "output_type": "execute_result"
    }
   ],
   "source": [
    "# Plot a bar chart for Medals\n",
    "medals.sort_values('Rank by Total', inplace=True)\n",
    "medals.head()"
   ]
  },
  {
   "cell_type": "code",
   "execution_count": 15,
   "id": "a5174115",
   "metadata": {},
   "outputs": [
    {
     "data": {
      "application/vnd.plotly.v1+json": {
       "config": {
        "plotlyServerURL": "https://plot.ly"
       },
       "data": [
        {
         "alignmentgroup": "True",
         "hovertemplate": "variable=Gold<br>Team/NOC=%{x}<br>value=%{y}<extra></extra>",
         "legendgroup": "Gold",
         "marker": {
          "color": "Gold",
          "pattern": {
           "shape": ""
          }
         },
         "name": "Gold",
         "offsetgroup": "Gold",
         "orientation": "v",
         "showlegend": true,
         "textposition": "auto",
         "type": "bar",
         "x": [
          "United States of America",
          "People's Republic of China",
          "ROC",
          "Great Britain",
          "Japan",
          "Australia",
          "Italy",
          "Germany",
          "Netherlands",
          "France",
          "Canada",
          "Brazil",
          "Republic of Korea",
          "Hungary",
          "New Zealand",
          "Ukraine",
          "Spain",
          "Cuba",
          "Poland",
          "Switzerland",
          "Turkey",
          "Chinese Taipei",
          "Czech Republic",
          "Denmark",
          "Kenya",
          "Jamaica",
          "Sweden",
          "Serbia",
          "Kazakhstan",
          "Georgia",
          "Croatia",
          "Norway",
          "Azerbaijan",
          "India",
          "Belarus",
          "Austria",
          "Islamic Republic of Iran",
          "Belgium",
          "Egypt",
          "Bulgaria",
          "Hong Kong, China",
          "Dominican Republic",
          "Slovenia",
          "Colombia",
          "Indonesia",
          "Uzbekistan",
          "Mongolia",
          "Armenia",
          "Portugal",
          "Ethiopia",
          "Mexico",
          "Venezuela",
          "Slovakia",
          "Philippines",
          "Greece",
          "Romania",
          "Uganda",
          "Ireland",
          "Israel",
          "South Africa",
          "Argentina",
          "Ecuador",
          "Kyrgyzstan",
          "Qatar",
          "San Marino",
          "Bahamas",
          "Finland",
          "Nigeria",
          "Malaysia",
          "Tunisia",
          "Estonia",
          "Jordan",
          "Latvia",
          "Thailand",
          "Fiji",
          "Kosovo",
          "Republic of Moldova",
          "Grenada",
          "Ghana",
          "Côte d'Ivoire",
          "Burkina Faso",
          "Botswana",
          "Kuwait",
          "Lithuania",
          "Namibia",
          "North Macedonia",
          "Puerto Rico",
          "Saudi Arabia",
          "Bahrain",
          "Bermuda",
          "Morocco",
          "Turkmenistan",
          "Syrian Arab Republic"
         ],
         "xaxis": "x",
         "y": [
          39,
          38,
          20,
          22,
          27,
          17,
          10,
          10,
          10,
          10,
          7,
          7,
          6,
          6,
          7,
          1,
          3,
          7,
          4,
          3,
          2,
          2,
          4,
          3,
          4,
          4,
          3,
          3,
          0,
          2,
          3,
          4,
          0,
          1,
          1,
          1,
          3,
          3,
          1,
          3,
          1,
          0,
          3,
          0,
          1,
          3,
          0,
          0,
          1,
          1,
          0,
          1,
          1,
          1,
          2,
          1,
          2,
          2,
          2,
          1,
          0,
          2,
          0,
          2,
          0,
          2,
          0,
          0,
          0,
          1,
          1,
          0,
          1,
          1,
          1,
          2,
          0,
          0,
          0,
          0,
          0,
          0,
          0,
          0,
          0,
          0,
          1,
          0,
          0,
          1,
          1,
          0,
          0
         ],
         "yaxis": "y"
        },
        {
         "alignmentgroup": "True",
         "hovertemplate": "variable=Silver<br>Team/NOC=%{x}<br>value=%{y}<extra></extra>",
         "legendgroup": "Silver",
         "marker": {
          "color": "Silver",
          "pattern": {
           "shape": ""
          }
         },
         "name": "Silver",
         "offsetgroup": "Silver",
         "orientation": "v",
         "showlegend": true,
         "textposition": "auto",
         "type": "bar",
         "x": [
          "United States of America",
          "People's Republic of China",
          "ROC",
          "Great Britain",
          "Japan",
          "Australia",
          "Italy",
          "Germany",
          "Netherlands",
          "France",
          "Canada",
          "Brazil",
          "Republic of Korea",
          "Hungary",
          "New Zealand",
          "Ukraine",
          "Spain",
          "Cuba",
          "Poland",
          "Switzerland",
          "Turkey",
          "Chinese Taipei",
          "Czech Republic",
          "Denmark",
          "Kenya",
          "Jamaica",
          "Sweden",
          "Serbia",
          "Kazakhstan",
          "Georgia",
          "Croatia",
          "Norway",
          "Azerbaijan",
          "India",
          "Belarus",
          "Austria",
          "Islamic Republic of Iran",
          "Belgium",
          "Egypt",
          "Bulgaria",
          "Hong Kong, China",
          "Dominican Republic",
          "Slovenia",
          "Colombia",
          "Indonesia",
          "Uzbekistan",
          "Mongolia",
          "Armenia",
          "Portugal",
          "Ethiopia",
          "Mexico",
          "Venezuela",
          "Slovakia",
          "Philippines",
          "Greece",
          "Romania",
          "Uganda",
          "Ireland",
          "Israel",
          "South Africa",
          "Argentina",
          "Ecuador",
          "Kyrgyzstan",
          "Qatar",
          "San Marino",
          "Bahamas",
          "Finland",
          "Nigeria",
          "Malaysia",
          "Tunisia",
          "Estonia",
          "Jordan",
          "Latvia",
          "Thailand",
          "Fiji",
          "Kosovo",
          "Republic of Moldova",
          "Grenada",
          "Ghana",
          "Côte d'Ivoire",
          "Burkina Faso",
          "Botswana",
          "Kuwait",
          "Lithuania",
          "Namibia",
          "North Macedonia",
          "Puerto Rico",
          "Saudi Arabia",
          "Bahrain",
          "Bermuda",
          "Morocco",
          "Turkmenistan",
          "Syrian Arab Republic"
         ],
         "xaxis": "x",
         "y": [
          41,
          32,
          28,
          21,
          14,
          7,
          10,
          11,
          12,
          12,
          6,
          6,
          4,
          7,
          6,
          6,
          8,
          3,
          5,
          4,
          2,
          4,
          4,
          4,
          4,
          1,
          6,
          1,
          0,
          5,
          3,
          2,
          3,
          2,
          3,
          1,
          2,
          1,
          1,
          1,
          2,
          3,
          1,
          4,
          1,
          0,
          1,
          2,
          1,
          1,
          0,
          3,
          2,
          2,
          1,
          3,
          1,
          0,
          0,
          2,
          1,
          1,
          2,
          0,
          1,
          0,
          0,
          1,
          1,
          1,
          0,
          1,
          0,
          0,
          0,
          0,
          0,
          0,
          0,
          0,
          0,
          0,
          0,
          1,
          1,
          1,
          0,
          1,
          1,
          0,
          0,
          1,
          0
         ],
         "yaxis": "y"
        },
        {
         "alignmentgroup": "True",
         "hovertemplate": "variable=Bronze<br>Team/NOC=%{x}<br>value=%{y}<extra></extra>",
         "legendgroup": "Bronze",
         "marker": {
          "color": "Brown",
          "pattern": {
           "shape": ""
          }
         },
         "name": "Bronze",
         "offsetgroup": "Bronze",
         "orientation": "v",
         "showlegend": true,
         "textposition": "auto",
         "type": "bar",
         "x": [
          "United States of America",
          "People's Republic of China",
          "ROC",
          "Great Britain",
          "Japan",
          "Australia",
          "Italy",
          "Germany",
          "Netherlands",
          "France",
          "Canada",
          "Brazil",
          "Republic of Korea",
          "Hungary",
          "New Zealand",
          "Ukraine",
          "Spain",
          "Cuba",
          "Poland",
          "Switzerland",
          "Turkey",
          "Chinese Taipei",
          "Czech Republic",
          "Denmark",
          "Kenya",
          "Jamaica",
          "Sweden",
          "Serbia",
          "Kazakhstan",
          "Georgia",
          "Croatia",
          "Norway",
          "Azerbaijan",
          "India",
          "Belarus",
          "Austria",
          "Islamic Republic of Iran",
          "Belgium",
          "Egypt",
          "Bulgaria",
          "Hong Kong, China",
          "Dominican Republic",
          "Slovenia",
          "Colombia",
          "Indonesia",
          "Uzbekistan",
          "Mongolia",
          "Armenia",
          "Portugal",
          "Ethiopia",
          "Mexico",
          "Venezuela",
          "Slovakia",
          "Philippines",
          "Greece",
          "Romania",
          "Uganda",
          "Ireland",
          "Israel",
          "South Africa",
          "Argentina",
          "Ecuador",
          "Kyrgyzstan",
          "Qatar",
          "San Marino",
          "Bahamas",
          "Finland",
          "Nigeria",
          "Malaysia",
          "Tunisia",
          "Estonia",
          "Jordan",
          "Latvia",
          "Thailand",
          "Fiji",
          "Kosovo",
          "Republic of Moldova",
          "Grenada",
          "Ghana",
          "Côte d'Ivoire",
          "Burkina Faso",
          "Botswana",
          "Kuwait",
          "Lithuania",
          "Namibia",
          "North Macedonia",
          "Puerto Rico",
          "Saudi Arabia",
          "Bahrain",
          "Bermuda",
          "Morocco",
          "Turkmenistan",
          "Syrian Arab Republic"
         ],
         "xaxis": "x",
         "y": [
          33,
          18,
          23,
          22,
          17,
          22,
          20,
          16,
          14,
          11,
          11,
          8,
          10,
          7,
          7,
          12,
          6,
          5,
          5,
          6,
          9,
          6,
          3,
          4,
          2,
          4,
          0,
          5,
          8,
          1,
          2,
          2,
          4,
          4,
          3,
          5,
          2,
          3,
          4,
          2,
          3,
          2,
          1,
          1,
          3,
          2,
          3,
          2,
          2,
          2,
          4,
          0,
          1,
          1,
          1,
          0,
          1,
          2,
          2,
          0,
          2,
          0,
          1,
          1,
          2,
          0,
          2,
          1,
          1,
          0,
          1,
          1,
          1,
          1,
          1,
          0,
          1,
          1,
          1,
          1,
          1,
          1,
          1,
          0,
          0,
          0,
          0,
          0,
          0,
          0,
          0,
          0,
          1
         ],
         "yaxis": "y"
        }
       ],
       "layout": {
        "barmode": "relative",
        "legend": {
         "title": {
          "text": "variable"
         },
         "tracegroupgap": 0
        },
        "template": {
         "data": {
          "bar": [
           {
            "error_x": {
             "color": "#2a3f5f"
            },
            "error_y": {
             "color": "#2a3f5f"
            },
            "marker": {
             "line": {
              "color": "#E5ECF6",
              "width": 0.5
             },
             "pattern": {
              "fillmode": "overlay",
              "size": 10,
              "solidity": 0.2
             }
            },
            "type": "bar"
           }
          ],
          "barpolar": [
           {
            "marker": {
             "line": {
              "color": "#E5ECF6",
              "width": 0.5
             },
             "pattern": {
              "fillmode": "overlay",
              "size": 10,
              "solidity": 0.2
             }
            },
            "type": "barpolar"
           }
          ],
          "carpet": [
           {
            "aaxis": {
             "endlinecolor": "#2a3f5f",
             "gridcolor": "white",
             "linecolor": "white",
             "minorgridcolor": "white",
             "startlinecolor": "#2a3f5f"
            },
            "baxis": {
             "endlinecolor": "#2a3f5f",
             "gridcolor": "white",
             "linecolor": "white",
             "minorgridcolor": "white",
             "startlinecolor": "#2a3f5f"
            },
            "type": "carpet"
           }
          ],
          "choropleth": [
           {
            "colorbar": {
             "outlinewidth": 0,
             "ticks": ""
            },
            "type": "choropleth"
           }
          ],
          "contour": [
           {
            "colorbar": {
             "outlinewidth": 0,
             "ticks": ""
            },
            "colorscale": [
             [
              0,
              "#0d0887"
             ],
             [
              0.1111111111111111,
              "#46039f"
             ],
             [
              0.2222222222222222,
              "#7201a8"
             ],
             [
              0.3333333333333333,
              "#9c179e"
             ],
             [
              0.4444444444444444,
              "#bd3786"
             ],
             [
              0.5555555555555556,
              "#d8576b"
             ],
             [
              0.6666666666666666,
              "#ed7953"
             ],
             [
              0.7777777777777778,
              "#fb9f3a"
             ],
             [
              0.8888888888888888,
              "#fdca26"
             ],
             [
              1,
              "#f0f921"
             ]
            ],
            "type": "contour"
           }
          ],
          "contourcarpet": [
           {
            "colorbar": {
             "outlinewidth": 0,
             "ticks": ""
            },
            "type": "contourcarpet"
           }
          ],
          "heatmap": [
           {
            "colorbar": {
             "outlinewidth": 0,
             "ticks": ""
            },
            "colorscale": [
             [
              0,
              "#0d0887"
             ],
             [
              0.1111111111111111,
              "#46039f"
             ],
             [
              0.2222222222222222,
              "#7201a8"
             ],
             [
              0.3333333333333333,
              "#9c179e"
             ],
             [
              0.4444444444444444,
              "#bd3786"
             ],
             [
              0.5555555555555556,
              "#d8576b"
             ],
             [
              0.6666666666666666,
              "#ed7953"
             ],
             [
              0.7777777777777778,
              "#fb9f3a"
             ],
             [
              0.8888888888888888,
              "#fdca26"
             ],
             [
              1,
              "#f0f921"
             ]
            ],
            "type": "heatmap"
           }
          ],
          "heatmapgl": [
           {
            "colorbar": {
             "outlinewidth": 0,
             "ticks": ""
            },
            "colorscale": [
             [
              0,
              "#0d0887"
             ],
             [
              0.1111111111111111,
              "#46039f"
             ],
             [
              0.2222222222222222,
              "#7201a8"
             ],
             [
              0.3333333333333333,
              "#9c179e"
             ],
             [
              0.4444444444444444,
              "#bd3786"
             ],
             [
              0.5555555555555556,
              "#d8576b"
             ],
             [
              0.6666666666666666,
              "#ed7953"
             ],
             [
              0.7777777777777778,
              "#fb9f3a"
             ],
             [
              0.8888888888888888,
              "#fdca26"
             ],
             [
              1,
              "#f0f921"
             ]
            ],
            "type": "heatmapgl"
           }
          ],
          "histogram": [
           {
            "marker": {
             "pattern": {
              "fillmode": "overlay",
              "size": 10,
              "solidity": 0.2
             }
            },
            "type": "histogram"
           }
          ],
          "histogram2d": [
           {
            "colorbar": {
             "outlinewidth": 0,
             "ticks": ""
            },
            "colorscale": [
             [
              0,
              "#0d0887"
             ],
             [
              0.1111111111111111,
              "#46039f"
             ],
             [
              0.2222222222222222,
              "#7201a8"
             ],
             [
              0.3333333333333333,
              "#9c179e"
             ],
             [
              0.4444444444444444,
              "#bd3786"
             ],
             [
              0.5555555555555556,
              "#d8576b"
             ],
             [
              0.6666666666666666,
              "#ed7953"
             ],
             [
              0.7777777777777778,
              "#fb9f3a"
             ],
             [
              0.8888888888888888,
              "#fdca26"
             ],
             [
              1,
              "#f0f921"
             ]
            ],
            "type": "histogram2d"
           }
          ],
          "histogram2dcontour": [
           {
            "colorbar": {
             "outlinewidth": 0,
             "ticks": ""
            },
            "colorscale": [
             [
              0,
              "#0d0887"
             ],
             [
              0.1111111111111111,
              "#46039f"
             ],
             [
              0.2222222222222222,
              "#7201a8"
             ],
             [
              0.3333333333333333,
              "#9c179e"
             ],
             [
              0.4444444444444444,
              "#bd3786"
             ],
             [
              0.5555555555555556,
              "#d8576b"
             ],
             [
              0.6666666666666666,
              "#ed7953"
             ],
             [
              0.7777777777777778,
              "#fb9f3a"
             ],
             [
              0.8888888888888888,
              "#fdca26"
             ],
             [
              1,
              "#f0f921"
             ]
            ],
            "type": "histogram2dcontour"
           }
          ],
          "mesh3d": [
           {
            "colorbar": {
             "outlinewidth": 0,
             "ticks": ""
            },
            "type": "mesh3d"
           }
          ],
          "parcoords": [
           {
            "line": {
             "colorbar": {
              "outlinewidth": 0,
              "ticks": ""
             }
            },
            "type": "parcoords"
           }
          ],
          "pie": [
           {
            "automargin": true,
            "type": "pie"
           }
          ],
          "scatter": [
           {
            "marker": {
             "colorbar": {
              "outlinewidth": 0,
              "ticks": ""
             }
            },
            "type": "scatter"
           }
          ],
          "scatter3d": [
           {
            "line": {
             "colorbar": {
              "outlinewidth": 0,
              "ticks": ""
             }
            },
            "marker": {
             "colorbar": {
              "outlinewidth": 0,
              "ticks": ""
             }
            },
            "type": "scatter3d"
           }
          ],
          "scattercarpet": [
           {
            "marker": {
             "colorbar": {
              "outlinewidth": 0,
              "ticks": ""
             }
            },
            "type": "scattercarpet"
           }
          ],
          "scattergeo": [
           {
            "marker": {
             "colorbar": {
              "outlinewidth": 0,
              "ticks": ""
             }
            },
            "type": "scattergeo"
           }
          ],
          "scattergl": [
           {
            "marker": {
             "colorbar": {
              "outlinewidth": 0,
              "ticks": ""
             }
            },
            "type": "scattergl"
           }
          ],
          "scattermapbox": [
           {
            "marker": {
             "colorbar": {
              "outlinewidth": 0,
              "ticks": ""
             }
            },
            "type": "scattermapbox"
           }
          ],
          "scatterpolar": [
           {
            "marker": {
             "colorbar": {
              "outlinewidth": 0,
              "ticks": ""
             }
            },
            "type": "scatterpolar"
           }
          ],
          "scatterpolargl": [
           {
            "marker": {
             "colorbar": {
              "outlinewidth": 0,
              "ticks": ""
             }
            },
            "type": "scatterpolargl"
           }
          ],
          "scatterternary": [
           {
            "marker": {
             "colorbar": {
              "outlinewidth": 0,
              "ticks": ""
             }
            },
            "type": "scatterternary"
           }
          ],
          "surface": [
           {
            "colorbar": {
             "outlinewidth": 0,
             "ticks": ""
            },
            "colorscale": [
             [
              0,
              "#0d0887"
             ],
             [
              0.1111111111111111,
              "#46039f"
             ],
             [
              0.2222222222222222,
              "#7201a8"
             ],
             [
              0.3333333333333333,
              "#9c179e"
             ],
             [
              0.4444444444444444,
              "#bd3786"
             ],
             [
              0.5555555555555556,
              "#d8576b"
             ],
             [
              0.6666666666666666,
              "#ed7953"
             ],
             [
              0.7777777777777778,
              "#fb9f3a"
             ],
             [
              0.8888888888888888,
              "#fdca26"
             ],
             [
              1,
              "#f0f921"
             ]
            ],
            "type": "surface"
           }
          ],
          "table": [
           {
            "cells": {
             "fill": {
              "color": "#EBF0F8"
             },
             "line": {
              "color": "white"
             }
            },
            "header": {
             "fill": {
              "color": "#C8D4E3"
             },
             "line": {
              "color": "white"
             }
            },
            "type": "table"
           }
          ]
         },
         "layout": {
          "annotationdefaults": {
           "arrowcolor": "#2a3f5f",
           "arrowhead": 0,
           "arrowwidth": 1
          },
          "autotypenumbers": "strict",
          "coloraxis": {
           "colorbar": {
            "outlinewidth": 0,
            "ticks": ""
           }
          },
          "colorscale": {
           "diverging": [
            [
             0,
             "#8e0152"
            ],
            [
             0.1,
             "#c51b7d"
            ],
            [
             0.2,
             "#de77ae"
            ],
            [
             0.3,
             "#f1b6da"
            ],
            [
             0.4,
             "#fde0ef"
            ],
            [
             0.5,
             "#f7f7f7"
            ],
            [
             0.6,
             "#e6f5d0"
            ],
            [
             0.7,
             "#b8e186"
            ],
            [
             0.8,
             "#7fbc41"
            ],
            [
             0.9,
             "#4d9221"
            ],
            [
             1,
             "#276419"
            ]
           ],
           "sequential": [
            [
             0,
             "#0d0887"
            ],
            [
             0.1111111111111111,
             "#46039f"
            ],
            [
             0.2222222222222222,
             "#7201a8"
            ],
            [
             0.3333333333333333,
             "#9c179e"
            ],
            [
             0.4444444444444444,
             "#bd3786"
            ],
            [
             0.5555555555555556,
             "#d8576b"
            ],
            [
             0.6666666666666666,
             "#ed7953"
            ],
            [
             0.7777777777777778,
             "#fb9f3a"
            ],
            [
             0.8888888888888888,
             "#fdca26"
            ],
            [
             1,
             "#f0f921"
            ]
           ],
           "sequentialminus": [
            [
             0,
             "#0d0887"
            ],
            [
             0.1111111111111111,
             "#46039f"
            ],
            [
             0.2222222222222222,
             "#7201a8"
            ],
            [
             0.3333333333333333,
             "#9c179e"
            ],
            [
             0.4444444444444444,
             "#bd3786"
            ],
            [
             0.5555555555555556,
             "#d8576b"
            ],
            [
             0.6666666666666666,
             "#ed7953"
            ],
            [
             0.7777777777777778,
             "#fb9f3a"
            ],
            [
             0.8888888888888888,
             "#fdca26"
            ],
            [
             1,
             "#f0f921"
            ]
           ]
          },
          "colorway": [
           "#636efa",
           "#EF553B",
           "#00cc96",
           "#ab63fa",
           "#FFA15A",
           "#19d3f3",
           "#FF6692",
           "#B6E880",
           "#FF97FF",
           "#FECB52"
          ],
          "font": {
           "color": "#2a3f5f"
          },
          "geo": {
           "bgcolor": "white",
           "lakecolor": "white",
           "landcolor": "#E5ECF6",
           "showlakes": true,
           "showland": true,
           "subunitcolor": "white"
          },
          "hoverlabel": {
           "align": "left"
          },
          "hovermode": "closest",
          "mapbox": {
           "style": "light"
          },
          "paper_bgcolor": "white",
          "plot_bgcolor": "#E5ECF6",
          "polar": {
           "angularaxis": {
            "gridcolor": "white",
            "linecolor": "white",
            "ticks": ""
           },
           "bgcolor": "#E5ECF6",
           "radialaxis": {
            "gridcolor": "white",
            "linecolor": "white",
            "ticks": ""
           }
          },
          "scene": {
           "xaxis": {
            "backgroundcolor": "#E5ECF6",
            "gridcolor": "white",
            "gridwidth": 2,
            "linecolor": "white",
            "showbackground": true,
            "ticks": "",
            "zerolinecolor": "white"
           },
           "yaxis": {
            "backgroundcolor": "#E5ECF6",
            "gridcolor": "white",
            "gridwidth": 2,
            "linecolor": "white",
            "showbackground": true,
            "ticks": "",
            "zerolinecolor": "white"
           },
           "zaxis": {
            "backgroundcolor": "#E5ECF6",
            "gridcolor": "white",
            "gridwidth": 2,
            "linecolor": "white",
            "showbackground": true,
            "ticks": "",
            "zerolinecolor": "white"
           }
          },
          "shapedefaults": {
           "line": {
            "color": "#2a3f5f"
           }
          },
          "ternary": {
           "aaxis": {
            "gridcolor": "white",
            "linecolor": "white",
            "ticks": ""
           },
           "baxis": {
            "gridcolor": "white",
            "linecolor": "white",
            "ticks": ""
           },
           "bgcolor": "#E5ECF6",
           "caxis": {
            "gridcolor": "white",
            "linecolor": "white",
            "ticks": ""
           }
          },
          "title": {
           "x": 0.05
          },
          "xaxis": {
           "automargin": true,
           "gridcolor": "white",
           "linecolor": "white",
           "ticks": "",
           "title": {
            "standoff": 15
           },
           "zerolinecolor": "white",
           "zerolinewidth": 2
          },
          "yaxis": {
           "automargin": true,
           "gridcolor": "white",
           "linecolor": "white",
           "ticks": "",
           "title": {
            "standoff": 15
           },
           "zerolinecolor": "white",
           "zerolinewidth": 2
          }
         }
        },
        "title": {
         "text": "Number of Medals per country"
        },
        "xaxis": {
         "anchor": "y",
         "domain": [
          0,
          1
         ],
         "title": {
          "text": "Team/NOC"
         }
        },
        "yaxis": {
         "anchor": "x",
         "domain": [
          0,
          1
         ],
         "title": {
          "text": "value"
         }
        }
       }
      },
      "text/html": [
       "<div>                            <div id=\"8e33f266-2d64-483d-a931-98994a2b0354\" class=\"plotly-graph-div\" style=\"height:525px; width:100%;\"></div>            <script type=\"text/javascript\">                require([\"plotly\"], function(Plotly) {                    window.PLOTLYENV=window.PLOTLYENV || {};                                    if (document.getElementById(\"8e33f266-2d64-483d-a931-98994a2b0354\")) {                    Plotly.newPlot(                        \"8e33f266-2d64-483d-a931-98994a2b0354\",                        [{\"alignmentgroup\":\"True\",\"hovertemplate\":\"variable=Gold<br>Team/NOC=%{x}<br>value=%{y}<extra></extra>\",\"legendgroup\":\"Gold\",\"marker\":{\"color\":\"Gold\",\"pattern\":{\"shape\":\"\"}},\"name\":\"Gold\",\"offsetgroup\":\"Gold\",\"orientation\":\"v\",\"showlegend\":true,\"textposition\":\"auto\",\"type\":\"bar\",\"x\":[\"United States of America\",\"People's Republic of China\",\"ROC\",\"Great Britain\",\"Japan\",\"Australia\",\"Italy\",\"Germany\",\"Netherlands\",\"France\",\"Canada\",\"Brazil\",\"Republic of Korea\",\"Hungary\",\"New Zealand\",\"Ukraine\",\"Spain\",\"Cuba\",\"Poland\",\"Switzerland\",\"Turkey\",\"Chinese Taipei\",\"Czech Republic\",\"Denmark\",\"Kenya\",\"Jamaica\",\"Sweden\",\"Serbia\",\"Kazakhstan\",\"Georgia\",\"Croatia\",\"Norway\",\"Azerbaijan\",\"India\",\"Belarus\",\"Austria\",\"Islamic Republic of Iran\",\"Belgium\",\"Egypt\",\"Bulgaria\",\"Hong Kong, China\",\"Dominican Republic\",\"Slovenia\",\"Colombia\",\"Indonesia\",\"Uzbekistan\",\"Mongolia\",\"Armenia\",\"Portugal\",\"Ethiopia\",\"Mexico\",\"Venezuela\",\"Slovakia\",\"Philippines\",\"Greece\",\"Romania\",\"Uganda\",\"Ireland\",\"Israel\",\"South Africa\",\"Argentina\",\"Ecuador\",\"Kyrgyzstan\",\"Qatar\",\"San Marino\",\"Bahamas\",\"Finland\",\"Nigeria\",\"Malaysia\",\"Tunisia\",\"Estonia\",\"Jordan\",\"Latvia\",\"Thailand\",\"Fiji\",\"Kosovo\",\"Republic of Moldova\",\"Grenada\",\"Ghana\",\"C\\u00f4te d'Ivoire\",\"Burkina Faso\",\"Botswana\",\"Kuwait\",\"Lithuania\",\"Namibia\",\"North Macedonia\",\"Puerto Rico\",\"Saudi Arabia\",\"Bahrain\",\"Bermuda\",\"Morocco\",\"Turkmenistan\",\"Syrian Arab Republic\"],\"xaxis\":\"x\",\"y\":[39,38,20,22,27,17,10,10,10,10,7,7,6,6,7,1,3,7,4,3,2,2,4,3,4,4,3,3,0,2,3,4,0,1,1,1,3,3,1,3,1,0,3,0,1,3,0,0,1,1,0,1,1,1,2,1,2,2,2,1,0,2,0,2,0,2,0,0,0,1,1,0,1,1,1,2,0,0,0,0,0,0,0,0,0,0,1,0,0,1,1,0,0],\"yaxis\":\"y\"},{\"alignmentgroup\":\"True\",\"hovertemplate\":\"variable=Silver<br>Team/NOC=%{x}<br>value=%{y}<extra></extra>\",\"legendgroup\":\"Silver\",\"marker\":{\"color\":\"Silver\",\"pattern\":{\"shape\":\"\"}},\"name\":\"Silver\",\"offsetgroup\":\"Silver\",\"orientation\":\"v\",\"showlegend\":true,\"textposition\":\"auto\",\"type\":\"bar\",\"x\":[\"United States of America\",\"People's Republic of China\",\"ROC\",\"Great Britain\",\"Japan\",\"Australia\",\"Italy\",\"Germany\",\"Netherlands\",\"France\",\"Canada\",\"Brazil\",\"Republic of Korea\",\"Hungary\",\"New Zealand\",\"Ukraine\",\"Spain\",\"Cuba\",\"Poland\",\"Switzerland\",\"Turkey\",\"Chinese Taipei\",\"Czech Republic\",\"Denmark\",\"Kenya\",\"Jamaica\",\"Sweden\",\"Serbia\",\"Kazakhstan\",\"Georgia\",\"Croatia\",\"Norway\",\"Azerbaijan\",\"India\",\"Belarus\",\"Austria\",\"Islamic Republic of Iran\",\"Belgium\",\"Egypt\",\"Bulgaria\",\"Hong Kong, China\",\"Dominican Republic\",\"Slovenia\",\"Colombia\",\"Indonesia\",\"Uzbekistan\",\"Mongolia\",\"Armenia\",\"Portugal\",\"Ethiopia\",\"Mexico\",\"Venezuela\",\"Slovakia\",\"Philippines\",\"Greece\",\"Romania\",\"Uganda\",\"Ireland\",\"Israel\",\"South Africa\",\"Argentina\",\"Ecuador\",\"Kyrgyzstan\",\"Qatar\",\"San Marino\",\"Bahamas\",\"Finland\",\"Nigeria\",\"Malaysia\",\"Tunisia\",\"Estonia\",\"Jordan\",\"Latvia\",\"Thailand\",\"Fiji\",\"Kosovo\",\"Republic of Moldova\",\"Grenada\",\"Ghana\",\"C\\u00f4te d'Ivoire\",\"Burkina Faso\",\"Botswana\",\"Kuwait\",\"Lithuania\",\"Namibia\",\"North Macedonia\",\"Puerto Rico\",\"Saudi Arabia\",\"Bahrain\",\"Bermuda\",\"Morocco\",\"Turkmenistan\",\"Syrian Arab Republic\"],\"xaxis\":\"x\",\"y\":[41,32,28,21,14,7,10,11,12,12,6,6,4,7,6,6,8,3,5,4,2,4,4,4,4,1,6,1,0,5,3,2,3,2,3,1,2,1,1,1,2,3,1,4,1,0,1,2,1,1,0,3,2,2,1,3,1,0,0,2,1,1,2,0,1,0,0,1,1,1,0,1,0,0,0,0,0,0,0,0,0,0,0,1,1,1,0,1,1,0,0,1,0],\"yaxis\":\"y\"},{\"alignmentgroup\":\"True\",\"hovertemplate\":\"variable=Bronze<br>Team/NOC=%{x}<br>value=%{y}<extra></extra>\",\"legendgroup\":\"Bronze\",\"marker\":{\"color\":\"Brown\",\"pattern\":{\"shape\":\"\"}},\"name\":\"Bronze\",\"offsetgroup\":\"Bronze\",\"orientation\":\"v\",\"showlegend\":true,\"textposition\":\"auto\",\"type\":\"bar\",\"x\":[\"United States of America\",\"People's Republic of China\",\"ROC\",\"Great Britain\",\"Japan\",\"Australia\",\"Italy\",\"Germany\",\"Netherlands\",\"France\",\"Canada\",\"Brazil\",\"Republic of Korea\",\"Hungary\",\"New Zealand\",\"Ukraine\",\"Spain\",\"Cuba\",\"Poland\",\"Switzerland\",\"Turkey\",\"Chinese Taipei\",\"Czech Republic\",\"Denmark\",\"Kenya\",\"Jamaica\",\"Sweden\",\"Serbia\",\"Kazakhstan\",\"Georgia\",\"Croatia\",\"Norway\",\"Azerbaijan\",\"India\",\"Belarus\",\"Austria\",\"Islamic Republic of Iran\",\"Belgium\",\"Egypt\",\"Bulgaria\",\"Hong Kong, China\",\"Dominican Republic\",\"Slovenia\",\"Colombia\",\"Indonesia\",\"Uzbekistan\",\"Mongolia\",\"Armenia\",\"Portugal\",\"Ethiopia\",\"Mexico\",\"Venezuela\",\"Slovakia\",\"Philippines\",\"Greece\",\"Romania\",\"Uganda\",\"Ireland\",\"Israel\",\"South Africa\",\"Argentina\",\"Ecuador\",\"Kyrgyzstan\",\"Qatar\",\"San Marino\",\"Bahamas\",\"Finland\",\"Nigeria\",\"Malaysia\",\"Tunisia\",\"Estonia\",\"Jordan\",\"Latvia\",\"Thailand\",\"Fiji\",\"Kosovo\",\"Republic of Moldova\",\"Grenada\",\"Ghana\",\"C\\u00f4te d'Ivoire\",\"Burkina Faso\",\"Botswana\",\"Kuwait\",\"Lithuania\",\"Namibia\",\"North Macedonia\",\"Puerto Rico\",\"Saudi Arabia\",\"Bahrain\",\"Bermuda\",\"Morocco\",\"Turkmenistan\",\"Syrian Arab Republic\"],\"xaxis\":\"x\",\"y\":[33,18,23,22,17,22,20,16,14,11,11,8,10,7,7,12,6,5,5,6,9,6,3,4,2,4,0,5,8,1,2,2,4,4,3,5,2,3,4,2,3,2,1,1,3,2,3,2,2,2,4,0,1,1,1,0,1,2,2,0,2,0,1,1,2,0,2,1,1,0,1,1,1,1,1,0,1,1,1,1,1,1,1,0,0,0,0,0,0,0,0,0,1],\"yaxis\":\"y\"}],                        {\"barmode\":\"relative\",\"legend\":{\"title\":{\"text\":\"variable\"},\"tracegroupgap\":0},\"template\":{\"data\":{\"bar\":[{\"error_x\":{\"color\":\"#2a3f5f\"},\"error_y\":{\"color\":\"#2a3f5f\"},\"marker\":{\"line\":{\"color\":\"#E5ECF6\",\"width\":0.5},\"pattern\":{\"fillmode\":\"overlay\",\"size\":10,\"solidity\":0.2}},\"type\":\"bar\"}],\"barpolar\":[{\"marker\":{\"line\":{\"color\":\"#E5ECF6\",\"width\":0.5},\"pattern\":{\"fillmode\":\"overlay\",\"size\":10,\"solidity\":0.2}},\"type\":\"barpolar\"}],\"carpet\":[{\"aaxis\":{\"endlinecolor\":\"#2a3f5f\",\"gridcolor\":\"white\",\"linecolor\":\"white\",\"minorgridcolor\":\"white\",\"startlinecolor\":\"#2a3f5f\"},\"baxis\":{\"endlinecolor\":\"#2a3f5f\",\"gridcolor\":\"white\",\"linecolor\":\"white\",\"minorgridcolor\":\"white\",\"startlinecolor\":\"#2a3f5f\"},\"type\":\"carpet\"}],\"choropleth\":[{\"colorbar\":{\"outlinewidth\":0,\"ticks\":\"\"},\"type\":\"choropleth\"}],\"contour\":[{\"colorbar\":{\"outlinewidth\":0,\"ticks\":\"\"},\"colorscale\":[[0.0,\"#0d0887\"],[0.1111111111111111,\"#46039f\"],[0.2222222222222222,\"#7201a8\"],[0.3333333333333333,\"#9c179e\"],[0.4444444444444444,\"#bd3786\"],[0.5555555555555556,\"#d8576b\"],[0.6666666666666666,\"#ed7953\"],[0.7777777777777778,\"#fb9f3a\"],[0.8888888888888888,\"#fdca26\"],[1.0,\"#f0f921\"]],\"type\":\"contour\"}],\"contourcarpet\":[{\"colorbar\":{\"outlinewidth\":0,\"ticks\":\"\"},\"type\":\"contourcarpet\"}],\"heatmap\":[{\"colorbar\":{\"outlinewidth\":0,\"ticks\":\"\"},\"colorscale\":[[0.0,\"#0d0887\"],[0.1111111111111111,\"#46039f\"],[0.2222222222222222,\"#7201a8\"],[0.3333333333333333,\"#9c179e\"],[0.4444444444444444,\"#bd3786\"],[0.5555555555555556,\"#d8576b\"],[0.6666666666666666,\"#ed7953\"],[0.7777777777777778,\"#fb9f3a\"],[0.8888888888888888,\"#fdca26\"],[1.0,\"#f0f921\"]],\"type\":\"heatmap\"}],\"heatmapgl\":[{\"colorbar\":{\"outlinewidth\":0,\"ticks\":\"\"},\"colorscale\":[[0.0,\"#0d0887\"],[0.1111111111111111,\"#46039f\"],[0.2222222222222222,\"#7201a8\"],[0.3333333333333333,\"#9c179e\"],[0.4444444444444444,\"#bd3786\"],[0.5555555555555556,\"#d8576b\"],[0.6666666666666666,\"#ed7953\"],[0.7777777777777778,\"#fb9f3a\"],[0.8888888888888888,\"#fdca26\"],[1.0,\"#f0f921\"]],\"type\":\"heatmapgl\"}],\"histogram\":[{\"marker\":{\"pattern\":{\"fillmode\":\"overlay\",\"size\":10,\"solidity\":0.2}},\"type\":\"histogram\"}],\"histogram2d\":[{\"colorbar\":{\"outlinewidth\":0,\"ticks\":\"\"},\"colorscale\":[[0.0,\"#0d0887\"],[0.1111111111111111,\"#46039f\"],[0.2222222222222222,\"#7201a8\"],[0.3333333333333333,\"#9c179e\"],[0.4444444444444444,\"#bd3786\"],[0.5555555555555556,\"#d8576b\"],[0.6666666666666666,\"#ed7953\"],[0.7777777777777778,\"#fb9f3a\"],[0.8888888888888888,\"#fdca26\"],[1.0,\"#f0f921\"]],\"type\":\"histogram2d\"}],\"histogram2dcontour\":[{\"colorbar\":{\"outlinewidth\":0,\"ticks\":\"\"},\"colorscale\":[[0.0,\"#0d0887\"],[0.1111111111111111,\"#46039f\"],[0.2222222222222222,\"#7201a8\"],[0.3333333333333333,\"#9c179e\"],[0.4444444444444444,\"#bd3786\"],[0.5555555555555556,\"#d8576b\"],[0.6666666666666666,\"#ed7953\"],[0.7777777777777778,\"#fb9f3a\"],[0.8888888888888888,\"#fdca26\"],[1.0,\"#f0f921\"]],\"type\":\"histogram2dcontour\"}],\"mesh3d\":[{\"colorbar\":{\"outlinewidth\":0,\"ticks\":\"\"},\"type\":\"mesh3d\"}],\"parcoords\":[{\"line\":{\"colorbar\":{\"outlinewidth\":0,\"ticks\":\"\"}},\"type\":\"parcoords\"}],\"pie\":[{\"automargin\":true,\"type\":\"pie\"}],\"scatter\":[{\"marker\":{\"colorbar\":{\"outlinewidth\":0,\"ticks\":\"\"}},\"type\":\"scatter\"}],\"scatter3d\":[{\"line\":{\"colorbar\":{\"outlinewidth\":0,\"ticks\":\"\"}},\"marker\":{\"colorbar\":{\"outlinewidth\":0,\"ticks\":\"\"}},\"type\":\"scatter3d\"}],\"scattercarpet\":[{\"marker\":{\"colorbar\":{\"outlinewidth\":0,\"ticks\":\"\"}},\"type\":\"scattercarpet\"}],\"scattergeo\":[{\"marker\":{\"colorbar\":{\"outlinewidth\":0,\"ticks\":\"\"}},\"type\":\"scattergeo\"}],\"scattergl\":[{\"marker\":{\"colorbar\":{\"outlinewidth\":0,\"ticks\":\"\"}},\"type\":\"scattergl\"}],\"scattermapbox\":[{\"marker\":{\"colorbar\":{\"outlinewidth\":0,\"ticks\":\"\"}},\"type\":\"scattermapbox\"}],\"scatterpolar\":[{\"marker\":{\"colorbar\":{\"outlinewidth\":0,\"ticks\":\"\"}},\"type\":\"scatterpolar\"}],\"scatterpolargl\":[{\"marker\":{\"colorbar\":{\"outlinewidth\":0,\"ticks\":\"\"}},\"type\":\"scatterpolargl\"}],\"scatterternary\":[{\"marker\":{\"colorbar\":{\"outlinewidth\":0,\"ticks\":\"\"}},\"type\":\"scatterternary\"}],\"surface\":[{\"colorbar\":{\"outlinewidth\":0,\"ticks\":\"\"},\"colorscale\":[[0.0,\"#0d0887\"],[0.1111111111111111,\"#46039f\"],[0.2222222222222222,\"#7201a8\"],[0.3333333333333333,\"#9c179e\"],[0.4444444444444444,\"#bd3786\"],[0.5555555555555556,\"#d8576b\"],[0.6666666666666666,\"#ed7953\"],[0.7777777777777778,\"#fb9f3a\"],[0.8888888888888888,\"#fdca26\"],[1.0,\"#f0f921\"]],\"type\":\"surface\"}],\"table\":[{\"cells\":{\"fill\":{\"color\":\"#EBF0F8\"},\"line\":{\"color\":\"white\"}},\"header\":{\"fill\":{\"color\":\"#C8D4E3\"},\"line\":{\"color\":\"white\"}},\"type\":\"table\"}]},\"layout\":{\"annotationdefaults\":{\"arrowcolor\":\"#2a3f5f\",\"arrowhead\":0,\"arrowwidth\":1},\"autotypenumbers\":\"strict\",\"coloraxis\":{\"colorbar\":{\"outlinewidth\":0,\"ticks\":\"\"}},\"colorscale\":{\"diverging\":[[0,\"#8e0152\"],[0.1,\"#c51b7d\"],[0.2,\"#de77ae\"],[0.3,\"#f1b6da\"],[0.4,\"#fde0ef\"],[0.5,\"#f7f7f7\"],[0.6,\"#e6f5d0\"],[0.7,\"#b8e186\"],[0.8,\"#7fbc41\"],[0.9,\"#4d9221\"],[1,\"#276419\"]],\"sequential\":[[0.0,\"#0d0887\"],[0.1111111111111111,\"#46039f\"],[0.2222222222222222,\"#7201a8\"],[0.3333333333333333,\"#9c179e\"],[0.4444444444444444,\"#bd3786\"],[0.5555555555555556,\"#d8576b\"],[0.6666666666666666,\"#ed7953\"],[0.7777777777777778,\"#fb9f3a\"],[0.8888888888888888,\"#fdca26\"],[1.0,\"#f0f921\"]],\"sequentialminus\":[[0.0,\"#0d0887\"],[0.1111111111111111,\"#46039f\"],[0.2222222222222222,\"#7201a8\"],[0.3333333333333333,\"#9c179e\"],[0.4444444444444444,\"#bd3786\"],[0.5555555555555556,\"#d8576b\"],[0.6666666666666666,\"#ed7953\"],[0.7777777777777778,\"#fb9f3a\"],[0.8888888888888888,\"#fdca26\"],[1.0,\"#f0f921\"]]},\"colorway\":[\"#636efa\",\"#EF553B\",\"#00cc96\",\"#ab63fa\",\"#FFA15A\",\"#19d3f3\",\"#FF6692\",\"#B6E880\",\"#FF97FF\",\"#FECB52\"],\"font\":{\"color\":\"#2a3f5f\"},\"geo\":{\"bgcolor\":\"white\",\"lakecolor\":\"white\",\"landcolor\":\"#E5ECF6\",\"showlakes\":true,\"showland\":true,\"subunitcolor\":\"white\"},\"hoverlabel\":{\"align\":\"left\"},\"hovermode\":\"closest\",\"mapbox\":{\"style\":\"light\"},\"paper_bgcolor\":\"white\",\"plot_bgcolor\":\"#E5ECF6\",\"polar\":{\"angularaxis\":{\"gridcolor\":\"white\",\"linecolor\":\"white\",\"ticks\":\"\"},\"bgcolor\":\"#E5ECF6\",\"radialaxis\":{\"gridcolor\":\"white\",\"linecolor\":\"white\",\"ticks\":\"\"}},\"scene\":{\"xaxis\":{\"backgroundcolor\":\"#E5ECF6\",\"gridcolor\":\"white\",\"gridwidth\":2,\"linecolor\":\"white\",\"showbackground\":true,\"ticks\":\"\",\"zerolinecolor\":\"white\"},\"yaxis\":{\"backgroundcolor\":\"#E5ECF6\",\"gridcolor\":\"white\",\"gridwidth\":2,\"linecolor\":\"white\",\"showbackground\":true,\"ticks\":\"\",\"zerolinecolor\":\"white\"},\"zaxis\":{\"backgroundcolor\":\"#E5ECF6\",\"gridcolor\":\"white\",\"gridwidth\":2,\"linecolor\":\"white\",\"showbackground\":true,\"ticks\":\"\",\"zerolinecolor\":\"white\"}},\"shapedefaults\":{\"line\":{\"color\":\"#2a3f5f\"}},\"ternary\":{\"aaxis\":{\"gridcolor\":\"white\",\"linecolor\":\"white\",\"ticks\":\"\"},\"baxis\":{\"gridcolor\":\"white\",\"linecolor\":\"white\",\"ticks\":\"\"},\"bgcolor\":\"#E5ECF6\",\"caxis\":{\"gridcolor\":\"white\",\"linecolor\":\"white\",\"ticks\":\"\"}},\"title\":{\"x\":0.05},\"xaxis\":{\"automargin\":true,\"gridcolor\":\"white\",\"linecolor\":\"white\",\"ticks\":\"\",\"title\":{\"standoff\":15},\"zerolinecolor\":\"white\",\"zerolinewidth\":2},\"yaxis\":{\"automargin\":true,\"gridcolor\":\"white\",\"linecolor\":\"white\",\"ticks\":\"\",\"title\":{\"standoff\":15},\"zerolinecolor\":\"white\",\"zerolinewidth\":2}}},\"title\":{\"text\":\"Number of Medals per country\"},\"xaxis\":{\"anchor\":\"y\",\"domain\":[0.0,1.0],\"title\":{\"text\":\"Team/NOC\"}},\"yaxis\":{\"anchor\":\"x\",\"domain\":[0.0,1.0],\"title\":{\"text\":\"value\"}}},                        {\"responsive\": true}                    ).then(function(){\n",
       "                            \n",
       "var gd = document.getElementById('8e33f266-2d64-483d-a931-98994a2b0354');\n",
       "var x = new MutationObserver(function (mutations, observer) {{\n",
       "        var display = window.getComputedStyle(gd).display;\n",
       "        if (!display || display === 'none') {{\n",
       "            console.log([gd, 'removed!']);\n",
       "            Plotly.purge(gd);\n",
       "            observer.disconnect();\n",
       "        }}\n",
       "}});\n",
       "\n",
       "// Listen for the removal of the full notebook cells\n",
       "var notebookContainer = gd.closest('#notebook-container');\n",
       "if (notebookContainer) {{\n",
       "    x.observe(notebookContainer, {childList: true});\n",
       "}}\n",
       "\n",
       "// Listen for the clearing of the current output cell\n",
       "var outputEl = gd.closest('.output');\n",
       "if (outputEl) {{\n",
       "    x.observe(outputEl, {childList: true});\n",
       "}}\n",
       "\n",
       "                        })                };                });            </script>        </div>"
      ]
     },
     "metadata": {},
     "output_type": "display_data"
    }
   ],
   "source": [
    "import plotly.express as px\n",
    "fig = px.bar(medals, x='Team/NOC', y=['Gold', 'Silver', 'Bronze'],\n",
    "             color_discrete_sequence=['Gold', 'Silver', 'Brown'],\n",
    "             title='Number of Medals per country')\n",
    "fig.show()"
   ]
  },
  {
   "cell_type": "code",
   "execution_count": 18,
   "id": "8f510a92",
   "metadata": {},
   "outputs": [
    {
     "data": {
      "text/html": [
       "<div>\n",
       "<style scoped>\n",
       "    .dataframe tbody tr th:only-of-type {\n",
       "        vertical-align: middle;\n",
       "    }\n",
       "\n",
       "    .dataframe tbody tr th {\n",
       "        vertical-align: top;\n",
       "    }\n",
       "\n",
       "    .dataframe thead th {\n",
       "        text-align: right;\n",
       "    }\n",
       "</style>\n",
       "<table border=\"1\" class=\"dataframe\">\n",
       "  <thead>\n",
       "    <tr style=\"text-align: right;\">\n",
       "      <th></th>\n",
       "      <th>Name</th>\n",
       "      <th>NOC</th>\n",
       "      <th>Discipline</th>\n",
       "      <th>Event</th>\n",
       "    </tr>\n",
       "  </thead>\n",
       "  <tbody>\n",
       "    <tr>\n",
       "      <th>0</th>\n",
       "      <td>ABDELMAGID Wael</td>\n",
       "      <td>Egypt</td>\n",
       "      <td>Football</td>\n",
       "      <td>NaN</td>\n",
       "    </tr>\n",
       "    <tr>\n",
       "      <th>1</th>\n",
       "      <td>ABE Junya</td>\n",
       "      <td>Japan</td>\n",
       "      <td>Volleyball</td>\n",
       "      <td>NaN</td>\n",
       "    </tr>\n",
       "    <tr>\n",
       "      <th>2</th>\n",
       "      <td>ABE Katsuhiko</td>\n",
       "      <td>Japan</td>\n",
       "      <td>Basketball</td>\n",
       "      <td>NaN</td>\n",
       "    </tr>\n",
       "    <tr>\n",
       "      <th>3</th>\n",
       "      <td>ADAMA Cherif</td>\n",
       "      <td>Côte d'Ivoire</td>\n",
       "      <td>Football</td>\n",
       "      <td>NaN</td>\n",
       "    </tr>\n",
       "    <tr>\n",
       "      <th>4</th>\n",
       "      <td>AGEBA Yuya</td>\n",
       "      <td>Japan</td>\n",
       "      <td>Volleyball</td>\n",
       "      <td>NaN</td>\n",
       "    </tr>\n",
       "  </tbody>\n",
       "</table>\n",
       "</div>"
      ],
      "text/plain": [
       "              Name            NOC  Discipline Event\n",
       "0  ABDELMAGID Wael          Egypt    Football   NaN\n",
       "1        ABE Junya          Japan  Volleyball   NaN\n",
       "2    ABE Katsuhiko          Japan  Basketball   NaN\n",
       "3     ADAMA Cherif  Côte d'Ivoire    Football   NaN\n",
       "4       AGEBA Yuya          Japan  Volleyball   NaN"
      ]
     },
     "execution_count": 18,
     "metadata": {},
     "output_type": "execute_result"
    }
   ],
   "source": [
    "coaches.head()"
   ]
  },
  {
   "cell_type": "code",
   "execution_count": 20,
   "id": "08b6a32b",
   "metadata": {},
   "outputs": [
    {
     "name": "stdout",
     "output_type": "stream",
     "text": [
      "+---------------+-------------+----------+-----+\n",
      "|           Name|          NOC|Discipline|Event|\n",
      "+---------------+-------------+----------+-----+\n",
      "|ABDELMAGID Wael|        Egypt|  Football| null|\n",
      "|      ABE Junya|        Japan|Volleyball| null|\n",
      "|  ABE Katsuhiko|        Japan|Basketball| null|\n",
      "|   ADAMA Cherif|Côte d'Ivoire|  Football| null|\n",
      "|     AGEBA Yuya|        Japan|Volleyball| null|\n",
      "+---------------+-------------+----------+-----+\n",
      "only showing top 5 rows\n",
      "\n"
     ]
    }
   ],
   "source": [
    "spark.read.csv('Coaches.csv', header=True, inferSchema=True).createOrReplaceTempView('Coaches')\n",
    "spark.sql('Select * from Coaches').show(5)"
   ]
  },
  {
   "cell_type": "code",
   "execution_count": 25,
   "id": "2adcb256",
   "metadata": {},
   "outputs": [
    {
     "data": {
      "text/html": [
       "<div>\n",
       "<style scoped>\n",
       "    .dataframe tbody tr th:only-of-type {\n",
       "        vertical-align: middle;\n",
       "    }\n",
       "\n",
       "    .dataframe tbody tr th {\n",
       "        vertical-align: top;\n",
       "    }\n",
       "\n",
       "    .dataframe thead th {\n",
       "        text-align: right;\n",
       "    }\n",
       "</style>\n",
       "<table border=\"1\" class=\"dataframe\">\n",
       "  <thead>\n",
       "    <tr style=\"text-align: right;\">\n",
       "      <th></th>\n",
       "      <th>NOC</th>\n",
       "      <th>NOC_Count</th>\n",
       "    </tr>\n",
       "  </thead>\n",
       "  <tbody>\n",
       "    <tr>\n",
       "      <th>0</th>\n",
       "      <td>Angola</td>\n",
       "      <td>1</td>\n",
       "    </tr>\n",
       "    <tr>\n",
       "      <th>1</th>\n",
       "      <td>Argentina</td>\n",
       "      <td>11</td>\n",
       "    </tr>\n",
       "    <tr>\n",
       "      <th>2</th>\n",
       "      <td>Australia</td>\n",
       "      <td>22</td>\n",
       "    </tr>\n",
       "    <tr>\n",
       "      <th>3</th>\n",
       "      <td>Austria</td>\n",
       "      <td>3</td>\n",
       "    </tr>\n",
       "    <tr>\n",
       "      <th>4</th>\n",
       "      <td>Bahrain</td>\n",
       "      <td>1</td>\n",
       "    </tr>\n",
       "    <tr>\n",
       "      <th>5</th>\n",
       "      <td>Belarus</td>\n",
       "      <td>1</td>\n",
       "    </tr>\n",
       "    <tr>\n",
       "      <th>6</th>\n",
       "      <td>Belgium</td>\n",
       "      <td>5</td>\n",
       "    </tr>\n",
       "    <tr>\n",
       "      <th>7</th>\n",
       "      <td>Brazil</td>\n",
       "      <td>7</td>\n",
       "    </tr>\n",
       "    <tr>\n",
       "      <th>8</th>\n",
       "      <td>Cambodia</td>\n",
       "      <td>1</td>\n",
       "    </tr>\n",
       "    <tr>\n",
       "      <th>9</th>\n",
       "      <td>Canada</td>\n",
       "      <td>16</td>\n",
       "    </tr>\n",
       "  </tbody>\n",
       "</table>\n",
       "</div>"
      ],
      "text/plain": [
       "         NOC  NOC_Count\n",
       "0     Angola          1\n",
       "1  Argentina         11\n",
       "2  Australia         22\n",
       "3    Austria          3\n",
       "4    Bahrain          1\n",
       "5    Belarus          1\n",
       "6    Belgium          5\n",
       "7     Brazil          7\n",
       "8   Cambodia          1\n",
       "9     Canada         16"
      ]
     },
     "execution_count": 25,
     "metadata": {},
     "output_type": "execute_result"
    }
   ],
   "source": [
    "pd_coaches_query = spark.sql('Select NOC, Count(NOC) as NOC_Count from Coaches group by NOC order by NOC').toPandas()\n",
    "pd_coaches_query.head(10)"
   ]
  },
  {
   "cell_type": "code",
   "execution_count": 29,
   "id": "d42223c0",
   "metadata": {},
   "outputs": [
    {
     "data": {
      "application/vnd.plotly.v1+json": {
       "config": {
        "plotlyServerURL": "https://plot.ly"
       },
       "data": [
        {
         "alignmentgroup": "True",
         "hovertemplate": "NOC=%{x}<br>NOC_Count=%{marker.color}<extra></extra>",
         "legendgroup": "",
         "marker": {
          "color": [
           1,
           11,
           22,
           3,
           1,
           1,
           5,
           7,
           1,
           16,
           6,
           2,
           1,
           2,
           5,
           2,
           6,
           12,
           2,
           10,
           9,
           7,
           6,
           1,
           4,
           5,
           3,
           2,
           2,
           14,
           35,
           2,
           5,
           1,
           8,
           2,
           10,
           8,
           9,
           3,
           12,
           3,
           1,
           3,
           12,
           7,
           2,
           2,
           2,
           5,
           1,
           3,
           12,
           28,
           3,
           1,
           1,
           4,
           28,
           10,
           2
          ],
          "coloraxis": "coloraxis",
          "pattern": {
           "shape": ""
          }
         },
         "name": "",
         "offsetgroup": "",
         "orientation": "v",
         "showlegend": false,
         "textposition": "auto",
         "type": "bar",
         "x": [
          "Angola",
          "Argentina",
          "Australia",
          "Austria",
          "Bahrain",
          "Belarus",
          "Belgium",
          "Brazil",
          "Cambodia",
          "Canada",
          "Chile",
          "Colombia",
          "Croatia",
          "Czech Republic",
          "Côte d'Ivoire",
          "Denmark",
          "Dominican Republic",
          "Egypt",
          "Fiji",
          "France",
          "Germany",
          "Great Britain",
          "Greece",
          "Honduras",
          "Hungary",
          "India",
          "Ireland",
          "Islamic Republic of Iran",
          "Israel",
          "Italy",
          "Japan",
          "Kazakhstan",
          "Kenya",
          "Liechtenstein",
          "Mexico",
          "Montenegro",
          "Netherlands",
          "New Zealand",
          "Nigeria",
          "Norway",
          "People's Republic of China",
          "Poland",
          "Portugal",
          "Puerto Rico",
          "ROC",
          "Republic of Korea",
          "Romania",
          "San Marino",
          "Saudi Arabia",
          "Serbia",
          "Slovakia",
          "Slovenia",
          "South Africa",
          "Spain",
          "Sweden",
          "Tunisia",
          "Turkey",
          "Ukraine",
          "United States of America",
          "Venezuela",
          "Zambia"
         ],
         "xaxis": "x",
         "y": [
          1,
          11,
          22,
          3,
          1,
          1,
          5,
          7,
          1,
          16,
          6,
          2,
          1,
          2,
          5,
          2,
          6,
          12,
          2,
          10,
          9,
          7,
          6,
          1,
          4,
          5,
          3,
          2,
          2,
          14,
          35,
          2,
          5,
          1,
          8,
          2,
          10,
          8,
          9,
          3,
          12,
          3,
          1,
          3,
          12,
          7,
          2,
          2,
          2,
          5,
          1,
          3,
          12,
          28,
          3,
          1,
          1,
          4,
          28,
          10,
          2
         ],
         "yaxis": "y"
        }
       ],
       "layout": {
        "barmode": "relative",
        "coloraxis": {
         "colorbar": {
          "title": {
           "text": "NOC_Count"
          }
         },
         "colorscale": [
          [
           0,
           "#0d0887"
          ],
          [
           0.1111111111111111,
           "#46039f"
          ],
          [
           0.2222222222222222,
           "#7201a8"
          ],
          [
           0.3333333333333333,
           "#9c179e"
          ],
          [
           0.4444444444444444,
           "#bd3786"
          ],
          [
           0.5555555555555556,
           "#d8576b"
          ],
          [
           0.6666666666666666,
           "#ed7953"
          ],
          [
           0.7777777777777778,
           "#fb9f3a"
          ],
          [
           0.8888888888888888,
           "#fdca26"
          ],
          [
           1,
           "#f0f921"
          ]
         ]
        },
        "legend": {
         "tracegroupgap": 0
        },
        "template": {
         "data": {
          "bar": [
           {
            "error_x": {
             "color": "#2a3f5f"
            },
            "error_y": {
             "color": "#2a3f5f"
            },
            "marker": {
             "line": {
              "color": "#E5ECF6",
              "width": 0.5
             },
             "pattern": {
              "fillmode": "overlay",
              "size": 10,
              "solidity": 0.2
             }
            },
            "type": "bar"
           }
          ],
          "barpolar": [
           {
            "marker": {
             "line": {
              "color": "#E5ECF6",
              "width": 0.5
             },
             "pattern": {
              "fillmode": "overlay",
              "size": 10,
              "solidity": 0.2
             }
            },
            "type": "barpolar"
           }
          ],
          "carpet": [
           {
            "aaxis": {
             "endlinecolor": "#2a3f5f",
             "gridcolor": "white",
             "linecolor": "white",
             "minorgridcolor": "white",
             "startlinecolor": "#2a3f5f"
            },
            "baxis": {
             "endlinecolor": "#2a3f5f",
             "gridcolor": "white",
             "linecolor": "white",
             "minorgridcolor": "white",
             "startlinecolor": "#2a3f5f"
            },
            "type": "carpet"
           }
          ],
          "choropleth": [
           {
            "colorbar": {
             "outlinewidth": 0,
             "ticks": ""
            },
            "type": "choropleth"
           }
          ],
          "contour": [
           {
            "colorbar": {
             "outlinewidth": 0,
             "ticks": ""
            },
            "colorscale": [
             [
              0,
              "#0d0887"
             ],
             [
              0.1111111111111111,
              "#46039f"
             ],
             [
              0.2222222222222222,
              "#7201a8"
             ],
             [
              0.3333333333333333,
              "#9c179e"
             ],
             [
              0.4444444444444444,
              "#bd3786"
             ],
             [
              0.5555555555555556,
              "#d8576b"
             ],
             [
              0.6666666666666666,
              "#ed7953"
             ],
             [
              0.7777777777777778,
              "#fb9f3a"
             ],
             [
              0.8888888888888888,
              "#fdca26"
             ],
             [
              1,
              "#f0f921"
             ]
            ],
            "type": "contour"
           }
          ],
          "contourcarpet": [
           {
            "colorbar": {
             "outlinewidth": 0,
             "ticks": ""
            },
            "type": "contourcarpet"
           }
          ],
          "heatmap": [
           {
            "colorbar": {
             "outlinewidth": 0,
             "ticks": ""
            },
            "colorscale": [
             [
              0,
              "#0d0887"
             ],
             [
              0.1111111111111111,
              "#46039f"
             ],
             [
              0.2222222222222222,
              "#7201a8"
             ],
             [
              0.3333333333333333,
              "#9c179e"
             ],
             [
              0.4444444444444444,
              "#bd3786"
             ],
             [
              0.5555555555555556,
              "#d8576b"
             ],
             [
              0.6666666666666666,
              "#ed7953"
             ],
             [
              0.7777777777777778,
              "#fb9f3a"
             ],
             [
              0.8888888888888888,
              "#fdca26"
             ],
             [
              1,
              "#f0f921"
             ]
            ],
            "type": "heatmap"
           }
          ],
          "heatmapgl": [
           {
            "colorbar": {
             "outlinewidth": 0,
             "ticks": ""
            },
            "colorscale": [
             [
              0,
              "#0d0887"
             ],
             [
              0.1111111111111111,
              "#46039f"
             ],
             [
              0.2222222222222222,
              "#7201a8"
             ],
             [
              0.3333333333333333,
              "#9c179e"
             ],
             [
              0.4444444444444444,
              "#bd3786"
             ],
             [
              0.5555555555555556,
              "#d8576b"
             ],
             [
              0.6666666666666666,
              "#ed7953"
             ],
             [
              0.7777777777777778,
              "#fb9f3a"
             ],
             [
              0.8888888888888888,
              "#fdca26"
             ],
             [
              1,
              "#f0f921"
             ]
            ],
            "type": "heatmapgl"
           }
          ],
          "histogram": [
           {
            "marker": {
             "pattern": {
              "fillmode": "overlay",
              "size": 10,
              "solidity": 0.2
             }
            },
            "type": "histogram"
           }
          ],
          "histogram2d": [
           {
            "colorbar": {
             "outlinewidth": 0,
             "ticks": ""
            },
            "colorscale": [
             [
              0,
              "#0d0887"
             ],
             [
              0.1111111111111111,
              "#46039f"
             ],
             [
              0.2222222222222222,
              "#7201a8"
             ],
             [
              0.3333333333333333,
              "#9c179e"
             ],
             [
              0.4444444444444444,
              "#bd3786"
             ],
             [
              0.5555555555555556,
              "#d8576b"
             ],
             [
              0.6666666666666666,
              "#ed7953"
             ],
             [
              0.7777777777777778,
              "#fb9f3a"
             ],
             [
              0.8888888888888888,
              "#fdca26"
             ],
             [
              1,
              "#f0f921"
             ]
            ],
            "type": "histogram2d"
           }
          ],
          "histogram2dcontour": [
           {
            "colorbar": {
             "outlinewidth": 0,
             "ticks": ""
            },
            "colorscale": [
             [
              0,
              "#0d0887"
             ],
             [
              0.1111111111111111,
              "#46039f"
             ],
             [
              0.2222222222222222,
              "#7201a8"
             ],
             [
              0.3333333333333333,
              "#9c179e"
             ],
             [
              0.4444444444444444,
              "#bd3786"
             ],
             [
              0.5555555555555556,
              "#d8576b"
             ],
             [
              0.6666666666666666,
              "#ed7953"
             ],
             [
              0.7777777777777778,
              "#fb9f3a"
             ],
             [
              0.8888888888888888,
              "#fdca26"
             ],
             [
              1,
              "#f0f921"
             ]
            ],
            "type": "histogram2dcontour"
           }
          ],
          "mesh3d": [
           {
            "colorbar": {
             "outlinewidth": 0,
             "ticks": ""
            },
            "type": "mesh3d"
           }
          ],
          "parcoords": [
           {
            "line": {
             "colorbar": {
              "outlinewidth": 0,
              "ticks": ""
             }
            },
            "type": "parcoords"
           }
          ],
          "pie": [
           {
            "automargin": true,
            "type": "pie"
           }
          ],
          "scatter": [
           {
            "marker": {
             "colorbar": {
              "outlinewidth": 0,
              "ticks": ""
             }
            },
            "type": "scatter"
           }
          ],
          "scatter3d": [
           {
            "line": {
             "colorbar": {
              "outlinewidth": 0,
              "ticks": ""
             }
            },
            "marker": {
             "colorbar": {
              "outlinewidth": 0,
              "ticks": ""
             }
            },
            "type": "scatter3d"
           }
          ],
          "scattercarpet": [
           {
            "marker": {
             "colorbar": {
              "outlinewidth": 0,
              "ticks": ""
             }
            },
            "type": "scattercarpet"
           }
          ],
          "scattergeo": [
           {
            "marker": {
             "colorbar": {
              "outlinewidth": 0,
              "ticks": ""
             }
            },
            "type": "scattergeo"
           }
          ],
          "scattergl": [
           {
            "marker": {
             "colorbar": {
              "outlinewidth": 0,
              "ticks": ""
             }
            },
            "type": "scattergl"
           }
          ],
          "scattermapbox": [
           {
            "marker": {
             "colorbar": {
              "outlinewidth": 0,
              "ticks": ""
             }
            },
            "type": "scattermapbox"
           }
          ],
          "scatterpolar": [
           {
            "marker": {
             "colorbar": {
              "outlinewidth": 0,
              "ticks": ""
             }
            },
            "type": "scatterpolar"
           }
          ],
          "scatterpolargl": [
           {
            "marker": {
             "colorbar": {
              "outlinewidth": 0,
              "ticks": ""
             }
            },
            "type": "scatterpolargl"
           }
          ],
          "scatterternary": [
           {
            "marker": {
             "colorbar": {
              "outlinewidth": 0,
              "ticks": ""
             }
            },
            "type": "scatterternary"
           }
          ],
          "surface": [
           {
            "colorbar": {
             "outlinewidth": 0,
             "ticks": ""
            },
            "colorscale": [
             [
              0,
              "#0d0887"
             ],
             [
              0.1111111111111111,
              "#46039f"
             ],
             [
              0.2222222222222222,
              "#7201a8"
             ],
             [
              0.3333333333333333,
              "#9c179e"
             ],
             [
              0.4444444444444444,
              "#bd3786"
             ],
             [
              0.5555555555555556,
              "#d8576b"
             ],
             [
              0.6666666666666666,
              "#ed7953"
             ],
             [
              0.7777777777777778,
              "#fb9f3a"
             ],
             [
              0.8888888888888888,
              "#fdca26"
             ],
             [
              1,
              "#f0f921"
             ]
            ],
            "type": "surface"
           }
          ],
          "table": [
           {
            "cells": {
             "fill": {
              "color": "#EBF0F8"
             },
             "line": {
              "color": "white"
             }
            },
            "header": {
             "fill": {
              "color": "#C8D4E3"
             },
             "line": {
              "color": "white"
             }
            },
            "type": "table"
           }
          ]
         },
         "layout": {
          "annotationdefaults": {
           "arrowcolor": "#2a3f5f",
           "arrowhead": 0,
           "arrowwidth": 1
          },
          "autotypenumbers": "strict",
          "coloraxis": {
           "colorbar": {
            "outlinewidth": 0,
            "ticks": ""
           }
          },
          "colorscale": {
           "diverging": [
            [
             0,
             "#8e0152"
            ],
            [
             0.1,
             "#c51b7d"
            ],
            [
             0.2,
             "#de77ae"
            ],
            [
             0.3,
             "#f1b6da"
            ],
            [
             0.4,
             "#fde0ef"
            ],
            [
             0.5,
             "#f7f7f7"
            ],
            [
             0.6,
             "#e6f5d0"
            ],
            [
             0.7,
             "#b8e186"
            ],
            [
             0.8,
             "#7fbc41"
            ],
            [
             0.9,
             "#4d9221"
            ],
            [
             1,
             "#276419"
            ]
           ],
           "sequential": [
            [
             0,
             "#0d0887"
            ],
            [
             0.1111111111111111,
             "#46039f"
            ],
            [
             0.2222222222222222,
             "#7201a8"
            ],
            [
             0.3333333333333333,
             "#9c179e"
            ],
            [
             0.4444444444444444,
             "#bd3786"
            ],
            [
             0.5555555555555556,
             "#d8576b"
            ],
            [
             0.6666666666666666,
             "#ed7953"
            ],
            [
             0.7777777777777778,
             "#fb9f3a"
            ],
            [
             0.8888888888888888,
             "#fdca26"
            ],
            [
             1,
             "#f0f921"
            ]
           ],
           "sequentialminus": [
            [
             0,
             "#0d0887"
            ],
            [
             0.1111111111111111,
             "#46039f"
            ],
            [
             0.2222222222222222,
             "#7201a8"
            ],
            [
             0.3333333333333333,
             "#9c179e"
            ],
            [
             0.4444444444444444,
             "#bd3786"
            ],
            [
             0.5555555555555556,
             "#d8576b"
            ],
            [
             0.6666666666666666,
             "#ed7953"
            ],
            [
             0.7777777777777778,
             "#fb9f3a"
            ],
            [
             0.8888888888888888,
             "#fdca26"
            ],
            [
             1,
             "#f0f921"
            ]
           ]
          },
          "colorway": [
           "#636efa",
           "#EF553B",
           "#00cc96",
           "#ab63fa",
           "#FFA15A",
           "#19d3f3",
           "#FF6692",
           "#B6E880",
           "#FF97FF",
           "#FECB52"
          ],
          "font": {
           "color": "#2a3f5f"
          },
          "geo": {
           "bgcolor": "white",
           "lakecolor": "white",
           "landcolor": "#E5ECF6",
           "showlakes": true,
           "showland": true,
           "subunitcolor": "white"
          },
          "hoverlabel": {
           "align": "left"
          },
          "hovermode": "closest",
          "mapbox": {
           "style": "light"
          },
          "paper_bgcolor": "white",
          "plot_bgcolor": "#E5ECF6",
          "polar": {
           "angularaxis": {
            "gridcolor": "white",
            "linecolor": "white",
            "ticks": ""
           },
           "bgcolor": "#E5ECF6",
           "radialaxis": {
            "gridcolor": "white",
            "linecolor": "white",
            "ticks": ""
           }
          },
          "scene": {
           "xaxis": {
            "backgroundcolor": "#E5ECF6",
            "gridcolor": "white",
            "gridwidth": 2,
            "linecolor": "white",
            "showbackground": true,
            "ticks": "",
            "zerolinecolor": "white"
           },
           "yaxis": {
            "backgroundcolor": "#E5ECF6",
            "gridcolor": "white",
            "gridwidth": 2,
            "linecolor": "white",
            "showbackground": true,
            "ticks": "",
            "zerolinecolor": "white"
           },
           "zaxis": {
            "backgroundcolor": "#E5ECF6",
            "gridcolor": "white",
            "gridwidth": 2,
            "linecolor": "white",
            "showbackground": true,
            "ticks": "",
            "zerolinecolor": "white"
           }
          },
          "shapedefaults": {
           "line": {
            "color": "#2a3f5f"
           }
          },
          "ternary": {
           "aaxis": {
            "gridcolor": "white",
            "linecolor": "white",
            "ticks": ""
           },
           "baxis": {
            "gridcolor": "white",
            "linecolor": "white",
            "ticks": ""
           },
           "bgcolor": "#E5ECF6",
           "caxis": {
            "gridcolor": "white",
            "linecolor": "white",
            "ticks": ""
           }
          },
          "title": {
           "x": 0.05
          },
          "xaxis": {
           "automargin": true,
           "gridcolor": "white",
           "linecolor": "white",
           "ticks": "",
           "title": {
            "standoff": 15
           },
           "zerolinecolor": "white",
           "zerolinewidth": 2
          },
          "yaxis": {
           "automargin": true,
           "gridcolor": "white",
           "linecolor": "white",
           "ticks": "",
           "title": {
            "standoff": 15
           },
           "zerolinecolor": "white",
           "zerolinewidth": 2
          }
         }
        },
        "title": {
         "text": "Number of Coaches by Country"
        },
        "xaxis": {
         "anchor": "y",
         "domain": [
          0,
          1
         ],
         "title": {
          "text": "NOC"
         }
        },
        "yaxis": {
         "anchor": "x",
         "domain": [
          0,
          1
         ],
         "title": {
          "text": "NOC_Count"
         }
        }
       }
      },
      "text/html": [
       "<div>                            <div id=\"2b071352-4d9a-45f4-862f-fdc1b6514197\" class=\"plotly-graph-div\" style=\"height:525px; width:100%;\"></div>            <script type=\"text/javascript\">                require([\"plotly\"], function(Plotly) {                    window.PLOTLYENV=window.PLOTLYENV || {};                                    if (document.getElementById(\"2b071352-4d9a-45f4-862f-fdc1b6514197\")) {                    Plotly.newPlot(                        \"2b071352-4d9a-45f4-862f-fdc1b6514197\",                        [{\"alignmentgroup\":\"True\",\"hovertemplate\":\"NOC=%{x}<br>NOC_Count=%{marker.color}<extra></extra>\",\"legendgroup\":\"\",\"marker\":{\"color\":[1,11,22,3,1,1,5,7,1,16,6,2,1,2,5,2,6,12,2,10,9,7,6,1,4,5,3,2,2,14,35,2,5,1,8,2,10,8,9,3,12,3,1,3,12,7,2,2,2,5,1,3,12,28,3,1,1,4,28,10,2],\"coloraxis\":\"coloraxis\",\"pattern\":{\"shape\":\"\"}},\"name\":\"\",\"offsetgroup\":\"\",\"orientation\":\"v\",\"showlegend\":false,\"textposition\":\"auto\",\"type\":\"bar\",\"x\":[\"Angola\",\"Argentina\",\"Australia\",\"Austria\",\"Bahrain\",\"Belarus\",\"Belgium\",\"Brazil\",\"Cambodia\",\"Canada\",\"Chile\",\"Colombia\",\"Croatia\",\"Czech Republic\",\"C\\u00f4te d'Ivoire\",\"Denmark\",\"Dominican Republic\",\"Egypt\",\"Fiji\",\"France\",\"Germany\",\"Great Britain\",\"Greece\",\"Honduras\",\"Hungary\",\"India\",\"Ireland\",\"Islamic Republic of Iran\",\"Israel\",\"Italy\",\"Japan\",\"Kazakhstan\",\"Kenya\",\"Liechtenstein\",\"Mexico\",\"Montenegro\",\"Netherlands\",\"New Zealand\",\"Nigeria\",\"Norway\",\"People's Republic of China\",\"Poland\",\"Portugal\",\"Puerto Rico\",\"ROC\",\"Republic of Korea\",\"Romania\",\"San Marino\",\"Saudi Arabia\",\"Serbia\",\"Slovakia\",\"Slovenia\",\"South Africa\",\"Spain\",\"Sweden\",\"Tunisia\",\"Turkey\",\"Ukraine\",\"United States of America\",\"Venezuela\",\"Zambia\"],\"xaxis\":\"x\",\"y\":[1,11,22,3,1,1,5,7,1,16,6,2,1,2,5,2,6,12,2,10,9,7,6,1,4,5,3,2,2,14,35,2,5,1,8,2,10,8,9,3,12,3,1,3,12,7,2,2,2,5,1,3,12,28,3,1,1,4,28,10,2],\"yaxis\":\"y\"}],                        {\"barmode\":\"relative\",\"coloraxis\":{\"colorbar\":{\"title\":{\"text\":\"NOC_Count\"}},\"colorscale\":[[0.0,\"#0d0887\"],[0.1111111111111111,\"#46039f\"],[0.2222222222222222,\"#7201a8\"],[0.3333333333333333,\"#9c179e\"],[0.4444444444444444,\"#bd3786\"],[0.5555555555555556,\"#d8576b\"],[0.6666666666666666,\"#ed7953\"],[0.7777777777777778,\"#fb9f3a\"],[0.8888888888888888,\"#fdca26\"],[1.0,\"#f0f921\"]]},\"legend\":{\"tracegroupgap\":0},\"template\":{\"data\":{\"bar\":[{\"error_x\":{\"color\":\"#2a3f5f\"},\"error_y\":{\"color\":\"#2a3f5f\"},\"marker\":{\"line\":{\"color\":\"#E5ECF6\",\"width\":0.5},\"pattern\":{\"fillmode\":\"overlay\",\"size\":10,\"solidity\":0.2}},\"type\":\"bar\"}],\"barpolar\":[{\"marker\":{\"line\":{\"color\":\"#E5ECF6\",\"width\":0.5},\"pattern\":{\"fillmode\":\"overlay\",\"size\":10,\"solidity\":0.2}},\"type\":\"barpolar\"}],\"carpet\":[{\"aaxis\":{\"endlinecolor\":\"#2a3f5f\",\"gridcolor\":\"white\",\"linecolor\":\"white\",\"minorgridcolor\":\"white\",\"startlinecolor\":\"#2a3f5f\"},\"baxis\":{\"endlinecolor\":\"#2a3f5f\",\"gridcolor\":\"white\",\"linecolor\":\"white\",\"minorgridcolor\":\"white\",\"startlinecolor\":\"#2a3f5f\"},\"type\":\"carpet\"}],\"choropleth\":[{\"colorbar\":{\"outlinewidth\":0,\"ticks\":\"\"},\"type\":\"choropleth\"}],\"contour\":[{\"colorbar\":{\"outlinewidth\":0,\"ticks\":\"\"},\"colorscale\":[[0.0,\"#0d0887\"],[0.1111111111111111,\"#46039f\"],[0.2222222222222222,\"#7201a8\"],[0.3333333333333333,\"#9c179e\"],[0.4444444444444444,\"#bd3786\"],[0.5555555555555556,\"#d8576b\"],[0.6666666666666666,\"#ed7953\"],[0.7777777777777778,\"#fb9f3a\"],[0.8888888888888888,\"#fdca26\"],[1.0,\"#f0f921\"]],\"type\":\"contour\"}],\"contourcarpet\":[{\"colorbar\":{\"outlinewidth\":0,\"ticks\":\"\"},\"type\":\"contourcarpet\"}],\"heatmap\":[{\"colorbar\":{\"outlinewidth\":0,\"ticks\":\"\"},\"colorscale\":[[0.0,\"#0d0887\"],[0.1111111111111111,\"#46039f\"],[0.2222222222222222,\"#7201a8\"],[0.3333333333333333,\"#9c179e\"],[0.4444444444444444,\"#bd3786\"],[0.5555555555555556,\"#d8576b\"],[0.6666666666666666,\"#ed7953\"],[0.7777777777777778,\"#fb9f3a\"],[0.8888888888888888,\"#fdca26\"],[1.0,\"#f0f921\"]],\"type\":\"heatmap\"}],\"heatmapgl\":[{\"colorbar\":{\"outlinewidth\":0,\"ticks\":\"\"},\"colorscale\":[[0.0,\"#0d0887\"],[0.1111111111111111,\"#46039f\"],[0.2222222222222222,\"#7201a8\"],[0.3333333333333333,\"#9c179e\"],[0.4444444444444444,\"#bd3786\"],[0.5555555555555556,\"#d8576b\"],[0.6666666666666666,\"#ed7953\"],[0.7777777777777778,\"#fb9f3a\"],[0.8888888888888888,\"#fdca26\"],[1.0,\"#f0f921\"]],\"type\":\"heatmapgl\"}],\"histogram\":[{\"marker\":{\"pattern\":{\"fillmode\":\"overlay\",\"size\":10,\"solidity\":0.2}},\"type\":\"histogram\"}],\"histogram2d\":[{\"colorbar\":{\"outlinewidth\":0,\"ticks\":\"\"},\"colorscale\":[[0.0,\"#0d0887\"],[0.1111111111111111,\"#46039f\"],[0.2222222222222222,\"#7201a8\"],[0.3333333333333333,\"#9c179e\"],[0.4444444444444444,\"#bd3786\"],[0.5555555555555556,\"#d8576b\"],[0.6666666666666666,\"#ed7953\"],[0.7777777777777778,\"#fb9f3a\"],[0.8888888888888888,\"#fdca26\"],[1.0,\"#f0f921\"]],\"type\":\"histogram2d\"}],\"histogram2dcontour\":[{\"colorbar\":{\"outlinewidth\":0,\"ticks\":\"\"},\"colorscale\":[[0.0,\"#0d0887\"],[0.1111111111111111,\"#46039f\"],[0.2222222222222222,\"#7201a8\"],[0.3333333333333333,\"#9c179e\"],[0.4444444444444444,\"#bd3786\"],[0.5555555555555556,\"#d8576b\"],[0.6666666666666666,\"#ed7953\"],[0.7777777777777778,\"#fb9f3a\"],[0.8888888888888888,\"#fdca26\"],[1.0,\"#f0f921\"]],\"type\":\"histogram2dcontour\"}],\"mesh3d\":[{\"colorbar\":{\"outlinewidth\":0,\"ticks\":\"\"},\"type\":\"mesh3d\"}],\"parcoords\":[{\"line\":{\"colorbar\":{\"outlinewidth\":0,\"ticks\":\"\"}},\"type\":\"parcoords\"}],\"pie\":[{\"automargin\":true,\"type\":\"pie\"}],\"scatter\":[{\"marker\":{\"colorbar\":{\"outlinewidth\":0,\"ticks\":\"\"}},\"type\":\"scatter\"}],\"scatter3d\":[{\"line\":{\"colorbar\":{\"outlinewidth\":0,\"ticks\":\"\"}},\"marker\":{\"colorbar\":{\"outlinewidth\":0,\"ticks\":\"\"}},\"type\":\"scatter3d\"}],\"scattercarpet\":[{\"marker\":{\"colorbar\":{\"outlinewidth\":0,\"ticks\":\"\"}},\"type\":\"scattercarpet\"}],\"scattergeo\":[{\"marker\":{\"colorbar\":{\"outlinewidth\":0,\"ticks\":\"\"}},\"type\":\"scattergeo\"}],\"scattergl\":[{\"marker\":{\"colorbar\":{\"outlinewidth\":0,\"ticks\":\"\"}},\"type\":\"scattergl\"}],\"scattermapbox\":[{\"marker\":{\"colorbar\":{\"outlinewidth\":0,\"ticks\":\"\"}},\"type\":\"scattermapbox\"}],\"scatterpolar\":[{\"marker\":{\"colorbar\":{\"outlinewidth\":0,\"ticks\":\"\"}},\"type\":\"scatterpolar\"}],\"scatterpolargl\":[{\"marker\":{\"colorbar\":{\"outlinewidth\":0,\"ticks\":\"\"}},\"type\":\"scatterpolargl\"}],\"scatterternary\":[{\"marker\":{\"colorbar\":{\"outlinewidth\":0,\"ticks\":\"\"}},\"type\":\"scatterternary\"}],\"surface\":[{\"colorbar\":{\"outlinewidth\":0,\"ticks\":\"\"},\"colorscale\":[[0.0,\"#0d0887\"],[0.1111111111111111,\"#46039f\"],[0.2222222222222222,\"#7201a8\"],[0.3333333333333333,\"#9c179e\"],[0.4444444444444444,\"#bd3786\"],[0.5555555555555556,\"#d8576b\"],[0.6666666666666666,\"#ed7953\"],[0.7777777777777778,\"#fb9f3a\"],[0.8888888888888888,\"#fdca26\"],[1.0,\"#f0f921\"]],\"type\":\"surface\"}],\"table\":[{\"cells\":{\"fill\":{\"color\":\"#EBF0F8\"},\"line\":{\"color\":\"white\"}},\"header\":{\"fill\":{\"color\":\"#C8D4E3\"},\"line\":{\"color\":\"white\"}},\"type\":\"table\"}]},\"layout\":{\"annotationdefaults\":{\"arrowcolor\":\"#2a3f5f\",\"arrowhead\":0,\"arrowwidth\":1},\"autotypenumbers\":\"strict\",\"coloraxis\":{\"colorbar\":{\"outlinewidth\":0,\"ticks\":\"\"}},\"colorscale\":{\"diverging\":[[0,\"#8e0152\"],[0.1,\"#c51b7d\"],[0.2,\"#de77ae\"],[0.3,\"#f1b6da\"],[0.4,\"#fde0ef\"],[0.5,\"#f7f7f7\"],[0.6,\"#e6f5d0\"],[0.7,\"#b8e186\"],[0.8,\"#7fbc41\"],[0.9,\"#4d9221\"],[1,\"#276419\"]],\"sequential\":[[0.0,\"#0d0887\"],[0.1111111111111111,\"#46039f\"],[0.2222222222222222,\"#7201a8\"],[0.3333333333333333,\"#9c179e\"],[0.4444444444444444,\"#bd3786\"],[0.5555555555555556,\"#d8576b\"],[0.6666666666666666,\"#ed7953\"],[0.7777777777777778,\"#fb9f3a\"],[0.8888888888888888,\"#fdca26\"],[1.0,\"#f0f921\"]],\"sequentialminus\":[[0.0,\"#0d0887\"],[0.1111111111111111,\"#46039f\"],[0.2222222222222222,\"#7201a8\"],[0.3333333333333333,\"#9c179e\"],[0.4444444444444444,\"#bd3786\"],[0.5555555555555556,\"#d8576b\"],[0.6666666666666666,\"#ed7953\"],[0.7777777777777778,\"#fb9f3a\"],[0.8888888888888888,\"#fdca26\"],[1.0,\"#f0f921\"]]},\"colorway\":[\"#636efa\",\"#EF553B\",\"#00cc96\",\"#ab63fa\",\"#FFA15A\",\"#19d3f3\",\"#FF6692\",\"#B6E880\",\"#FF97FF\",\"#FECB52\"],\"font\":{\"color\":\"#2a3f5f\"},\"geo\":{\"bgcolor\":\"white\",\"lakecolor\":\"white\",\"landcolor\":\"#E5ECF6\",\"showlakes\":true,\"showland\":true,\"subunitcolor\":\"white\"},\"hoverlabel\":{\"align\":\"left\"},\"hovermode\":\"closest\",\"mapbox\":{\"style\":\"light\"},\"paper_bgcolor\":\"white\",\"plot_bgcolor\":\"#E5ECF6\",\"polar\":{\"angularaxis\":{\"gridcolor\":\"white\",\"linecolor\":\"white\",\"ticks\":\"\"},\"bgcolor\":\"#E5ECF6\",\"radialaxis\":{\"gridcolor\":\"white\",\"linecolor\":\"white\",\"ticks\":\"\"}},\"scene\":{\"xaxis\":{\"backgroundcolor\":\"#E5ECF6\",\"gridcolor\":\"white\",\"gridwidth\":2,\"linecolor\":\"white\",\"showbackground\":true,\"ticks\":\"\",\"zerolinecolor\":\"white\"},\"yaxis\":{\"backgroundcolor\":\"#E5ECF6\",\"gridcolor\":\"white\",\"gridwidth\":2,\"linecolor\":\"white\",\"showbackground\":true,\"ticks\":\"\",\"zerolinecolor\":\"white\"},\"zaxis\":{\"backgroundcolor\":\"#E5ECF6\",\"gridcolor\":\"white\",\"gridwidth\":2,\"linecolor\":\"white\",\"showbackground\":true,\"ticks\":\"\",\"zerolinecolor\":\"white\"}},\"shapedefaults\":{\"line\":{\"color\":\"#2a3f5f\"}},\"ternary\":{\"aaxis\":{\"gridcolor\":\"white\",\"linecolor\":\"white\",\"ticks\":\"\"},\"baxis\":{\"gridcolor\":\"white\",\"linecolor\":\"white\",\"ticks\":\"\"},\"bgcolor\":\"#E5ECF6\",\"caxis\":{\"gridcolor\":\"white\",\"linecolor\":\"white\",\"ticks\":\"\"}},\"title\":{\"x\":0.05},\"xaxis\":{\"automargin\":true,\"gridcolor\":\"white\",\"linecolor\":\"white\",\"ticks\":\"\",\"title\":{\"standoff\":15},\"zerolinecolor\":\"white\",\"zerolinewidth\":2},\"yaxis\":{\"automargin\":true,\"gridcolor\":\"white\",\"linecolor\":\"white\",\"ticks\":\"\",\"title\":{\"standoff\":15},\"zerolinecolor\":\"white\",\"zerolinewidth\":2}}},\"title\":{\"text\":\"Number of Coaches by Country\"},\"xaxis\":{\"anchor\":\"y\",\"domain\":[0.0,1.0],\"title\":{\"text\":\"NOC\"}},\"yaxis\":{\"anchor\":\"x\",\"domain\":[0.0,1.0],\"title\":{\"text\":\"NOC_Count\"}}},                        {\"responsive\": true}                    ).then(function(){\n",
       "                            \n",
       "var gd = document.getElementById('2b071352-4d9a-45f4-862f-fdc1b6514197');\n",
       "var x = new MutationObserver(function (mutations, observer) {{\n",
       "        var display = window.getComputedStyle(gd).display;\n",
       "        if (!display || display === 'none') {{\n",
       "            console.log([gd, 'removed!']);\n",
       "            Plotly.purge(gd);\n",
       "            observer.disconnect();\n",
       "        }}\n",
       "}});\n",
       "\n",
       "// Listen for the removal of the full notebook cells\n",
       "var notebookContainer = gd.closest('#notebook-container');\n",
       "if (notebookContainer) {{\n",
       "    x.observe(notebookContainer, {childList: true});\n",
       "}}\n",
       "\n",
       "// Listen for the clearing of the current output cell\n",
       "var outputEl = gd.closest('.output');\n",
       "if (outputEl) {{\n",
       "    x.observe(outputEl, {childList: true});\n",
       "}}\n",
       "\n",
       "                        })                };                });            </script>        </div>"
      ]
     },
     "metadata": {},
     "output_type": "display_data"
    }
   ],
   "source": [
    "fig = px.bar(pd_coaches_query, x='NOC', y='NOC_Count', color='NOC_Count', title='Number of Coaches by Country')\n",
    "fig.show()"
   ]
  },
  {
   "cell_type": "code",
   "execution_count": 30,
   "id": "fc5d6555",
   "metadata": {},
   "outputs": [
    {
     "data": {
      "text/html": [
       "<div>\n",
       "<style scoped>\n",
       "    .dataframe tbody tr th:only-of-type {\n",
       "        vertical-align: middle;\n",
       "    }\n",
       "\n",
       "    .dataframe tbody tr th {\n",
       "        vertical-align: top;\n",
       "    }\n",
       "\n",
       "    .dataframe thead th {\n",
       "        text-align: right;\n",
       "    }\n",
       "</style>\n",
       "<table border=\"1\" class=\"dataframe\">\n",
       "  <thead>\n",
       "    <tr style=\"text-align: right;\">\n",
       "      <th></th>\n",
       "      <th>Name</th>\n",
       "      <th>NOC</th>\n",
       "      <th>Discipline</th>\n",
       "    </tr>\n",
       "  </thead>\n",
       "  <tbody>\n",
       "    <tr>\n",
       "      <th>0</th>\n",
       "      <td>AALERUD Katrine</td>\n",
       "      <td>Norway</td>\n",
       "      <td>Cycling Road</td>\n",
       "    </tr>\n",
       "    <tr>\n",
       "      <th>1</th>\n",
       "      <td>ABAD Nestor</td>\n",
       "      <td>Spain</td>\n",
       "      <td>Artistic Gymnastics</td>\n",
       "    </tr>\n",
       "    <tr>\n",
       "      <th>2</th>\n",
       "      <td>ABAGNALE Giovanni</td>\n",
       "      <td>Italy</td>\n",
       "      <td>Rowing</td>\n",
       "    </tr>\n",
       "    <tr>\n",
       "      <th>3</th>\n",
       "      <td>ABALDE Alberto</td>\n",
       "      <td>Spain</td>\n",
       "      <td>Basketball</td>\n",
       "    </tr>\n",
       "    <tr>\n",
       "      <th>4</th>\n",
       "      <td>ABALDE Tamara</td>\n",
       "      <td>Spain</td>\n",
       "      <td>Basketball</td>\n",
       "    </tr>\n",
       "  </tbody>\n",
       "</table>\n",
       "</div>"
      ],
      "text/plain": [
       "                Name     NOC           Discipline\n",
       "0    AALERUD Katrine  Norway         Cycling Road\n",
       "1        ABAD Nestor   Spain  Artistic Gymnastics\n",
       "2  ABAGNALE Giovanni   Italy               Rowing\n",
       "3     ABALDE Alberto   Spain           Basketball\n",
       "4      ABALDE Tamara   Spain           Basketball"
      ]
     },
     "execution_count": 30,
     "metadata": {},
     "output_type": "execute_result"
    }
   ],
   "source": [
    "athletes.head()"
   ]
  },
  {
   "cell_type": "code",
   "execution_count": 33,
   "id": "59367cc4",
   "metadata": {},
   "outputs": [
    {
     "name": "stdout",
     "output_type": "stream",
     "text": [
      "+--------------------+-----------+-------------------+\n",
      "|                Name|        NOC|         Discipline|\n",
      "+--------------------+-----------+-------------------+\n",
      "|       YOUSOFI Kimia|Afghanistan|          Athletics|\n",
      "|NOOR ZAHI Sha Mah...|Afghanistan|          Athletics|\n",
      "|        YOVARI Mahdi|Afghanistan|           Shooting|\n",
      "|        ANWARI Fahim|Afghanistan|           Swimming|\n",
      "|     MANSOURI Farzad|Afghanistan|          Taekwondo|\n",
      "|       PETROV Matvei|    Albania|Artistic Gymnastics|\n",
      "|       SMAJLAJ Izmir|    Albania|          Athletics|\n",
      "|      CULLHAJ Indrit|    Albania|               Judo|\n",
      "|     DELILAJ Manuela|    Albania|           Shooting|\n",
      "|         KADIU Kledi|    Albania|           Swimming|\n",
      "|       MERIZAJ Nikol|    Albania|           Swimming|\n",
      "|        CALJA Briken|    Albania|      Weightlifting|\n",
      "|      QERIMAJ Erkand|    Albania|      Weightlifting|\n",
      "|      HETHAT Yassine|    Algeria|          Athletics|\n",
      "|TRIKI Yasser Mohamed|    Algeria|          Athletics|\n",
      "| LAHOULOU Abdelmalik|    Algeria|          Athletics|\n",
      "|   MAKHLOUFI Taoufik|    Algeria|          Athletics|\n",
      "|    BOUCHICHA Hichem|    Algeria|          Athletics|\n",
      "|         TABTI Bilal|    Algeria|          Athletics|\n",
      "|      SEDJATI Djamel|    Algeria|          Athletics|\n",
      "+--------------------+-----------+-------------------+\n",
      "only showing top 20 rows\n",
      "\n"
     ]
    }
   ],
   "source": [
    "spark.read.csv('Athletes.csv', header=True, inferSchema=True).createOrReplaceTempView('Athletes')\n",
    "spark.sql('select * from athletes order by NOC, Discipline').show(20)"
   ]
  },
  {
   "cell_type": "code",
   "execution_count": 35,
   "id": "a83f46f3",
   "metadata": {},
   "outputs": [
    {
     "data": {
      "text/html": [
       "<div>\n",
       "<style scoped>\n",
       "    .dataframe tbody tr th:only-of-type {\n",
       "        vertical-align: middle;\n",
       "    }\n",
       "\n",
       "    .dataframe tbody tr th {\n",
       "        vertical-align: top;\n",
       "    }\n",
       "\n",
       "    .dataframe thead th {\n",
       "        text-align: right;\n",
       "    }\n",
       "</style>\n",
       "<table border=\"1\" class=\"dataframe\">\n",
       "  <thead>\n",
       "    <tr style=\"text-align: right;\">\n",
       "      <th></th>\n",
       "      <th>NOC</th>\n",
       "      <th>Discipline</th>\n",
       "      <th>Count</th>\n",
       "    </tr>\n",
       "  </thead>\n",
       "  <tbody>\n",
       "    <tr>\n",
       "      <th>0</th>\n",
       "      <td>Afghanistan</td>\n",
       "      <td>Athletics</td>\n",
       "      <td>2</td>\n",
       "    </tr>\n",
       "    <tr>\n",
       "      <th>1</th>\n",
       "      <td>Afghanistan</td>\n",
       "      <td>Shooting</td>\n",
       "      <td>1</td>\n",
       "    </tr>\n",
       "    <tr>\n",
       "      <th>2</th>\n",
       "      <td>Afghanistan</td>\n",
       "      <td>Swimming</td>\n",
       "      <td>1</td>\n",
       "    </tr>\n",
       "    <tr>\n",
       "      <th>3</th>\n",
       "      <td>Afghanistan</td>\n",
       "      <td>Taekwondo</td>\n",
       "      <td>1</td>\n",
       "    </tr>\n",
       "    <tr>\n",
       "      <th>4</th>\n",
       "      <td>Albania</td>\n",
       "      <td>Artistic Gymnastics</td>\n",
       "      <td>1</td>\n",
       "    </tr>\n",
       "    <tr>\n",
       "      <th>5</th>\n",
       "      <td>Albania</td>\n",
       "      <td>Athletics</td>\n",
       "      <td>1</td>\n",
       "    </tr>\n",
       "    <tr>\n",
       "      <th>6</th>\n",
       "      <td>Albania</td>\n",
       "      <td>Judo</td>\n",
       "      <td>1</td>\n",
       "    </tr>\n",
       "    <tr>\n",
       "      <th>7</th>\n",
       "      <td>Albania</td>\n",
       "      <td>Shooting</td>\n",
       "      <td>1</td>\n",
       "    </tr>\n",
       "    <tr>\n",
       "      <th>8</th>\n",
       "      <td>Albania</td>\n",
       "      <td>Swimming</td>\n",
       "      <td>2</td>\n",
       "    </tr>\n",
       "    <tr>\n",
       "      <th>9</th>\n",
       "      <td>Albania</td>\n",
       "      <td>Weightlifting</td>\n",
       "      <td>2</td>\n",
       "    </tr>\n",
       "  </tbody>\n",
       "</table>\n",
       "</div>"
      ],
      "text/plain": [
       "           NOC           Discipline  Count\n",
       "0  Afghanistan            Athletics      2\n",
       "1  Afghanistan             Shooting      1\n",
       "2  Afghanistan             Swimming      1\n",
       "3  Afghanistan            Taekwondo      1\n",
       "4      Albania  Artistic Gymnastics      1\n",
       "5      Albania            Athletics      1\n",
       "6      Albania                 Judo      1\n",
       "7      Albania             Shooting      1\n",
       "8      Albania             Swimming      2\n",
       "9      Albania        Weightlifting      2"
      ]
     },
     "execution_count": 35,
     "metadata": {},
     "output_type": "execute_result"
    }
   ],
   "source": [
    "pd_athletes_query = spark.sql('''select first(NOC) as NOC, first(Discipline) as Discipline, count(*) as Count from athletes group by NOC, Discipline order by NOC, Discipline''').toPandas()\n",
    "\n",
    "pd_athletes_query.head(10)"
   ]
  },
  {
   "cell_type": "code",
   "execution_count": 37,
   "id": "d2f40f17",
   "metadata": {},
   "outputs": [
    {
     "data": {
      "application/vnd.plotly.v1+json": {
       "config": {
        "plotlyServerURL": "https://plot.ly"
       },
       "data": [
        {
         "alignmentgroup": "True",
         "hovertemplate": "Discipline=Athletics<br>NOC=%{x}<br>Count=%{y}<extra></extra>",
         "legendgroup": "Athletics",
         "marker": {
          "color": "#636efa",
          "pattern": {
           "shape": ""
          }
         },
         "name": "Athletics",
         "offsetgroup": "Athletics",
         "orientation": "v",
         "showlegend": true,
         "textposition": "auto",
         "type": "bar",
         "x": [
          "Afghanistan",
          "Albania",
          "Algeria",
          "American Samoa",
          "Andorra",
          "Angola",
          "Antigua and Barbuda",
          "Argentina",
          "Armenia",
          "Australia",
          "Austria",
          "Azerbaijan",
          "Bahamas",
          "Bahrain",
          "Bangladesh",
          "Barbados",
          "Belarus",
          "Belgium",
          "Belize",
          "Benin",
          "Bolivia",
          "Bosnia and Herzegovina",
          "Botswana",
          "Brazil",
          "Brunei Darussalam",
          "Bulgaria",
          "Burkina Faso",
          "Burundi",
          "Cambodia",
          "Cameroon",
          "Canada",
          "Cape Verde",
          "Cayman Islands",
          "Central African Republic",
          "Chad",
          "Chile",
          "Chinese Taipei",
          "Colombia",
          "Comoros",
          "Congo",
          "Cook Islands",
          "Costa Rica",
          "Croatia",
          "Cuba",
          "Cyprus",
          "Czech Republic",
          "Côte d'Ivoire",
          "Democratic Republic of Timor-Leste",
          "Democratic Republic of the Congo",
          "Denmark",
          "Djibouti",
          "Dominica",
          "Dominican Republic",
          "Ecuador",
          "Egypt",
          "El Salvador",
          "Equatorial Guinea",
          "Eritrea",
          "Estonia",
          "Eswatini",
          "Ethiopia",
          "Federated States of Micronesia",
          "Fiji",
          "Finland",
          "France",
          "Gabon",
          "Gambia",
          "Georgia",
          "Germany",
          "Ghana",
          "Great Britain",
          "Greece",
          "Grenada",
          "Guam",
          "Guatemala",
          "Guinea",
          "Guinea-Bissau",
          "Guyana",
          "Haiti",
          "Honduras",
          "Hong Kong, China",
          "Hungary",
          "Iceland",
          "India",
          "Indonesia",
          "Iraq",
          "Ireland",
          "Islamic Republic of Iran",
          "Israel",
          "Italy",
          "Jamaica",
          "Japan",
          "Jordan",
          "Kazakhstan",
          "Kenya",
          "Kiribati",
          "Kosovo",
          "Kuwait",
          "Kyrgyzstan",
          "Lao People's Democratic Republic",
          "Latvia",
          "Lebanon",
          "Lesotho",
          "Liberia",
          "Libya",
          "Lithuania",
          "Luxembourg",
          "Madagascar",
          "Malawi",
          "Malaysia",
          "Maldives",
          "Mali",
          "Malta",
          "Mauritania",
          "Mauritius",
          "Mexico",
          "Monaco",
          "Mongolia",
          "Montenegro",
          "Morocco",
          "Mozambique",
          "Namibia",
          "Nauru",
          "Nepal",
          "Netherlands",
          "New Zealand",
          "Nicaragua",
          "Niger",
          "Nigeria",
          "North Macedonia",
          "Norway",
          "Oman",
          "Pakistan",
          "Palau",
          "Palestine",
          "Panama",
          "Papua New Guinea",
          "Paraguay",
          "People's Republic of China",
          "Peru",
          "Philippines",
          "Poland",
          "Portugal",
          "Puerto Rico",
          "Qatar",
          "ROC",
          "Refugee Olympic Team",
          "Republic of Korea",
          "Republic of Moldova",
          "Romania",
          "Rwanda",
          "Saint Kitts and Nevis",
          "Saint Lucia",
          "Samoa",
          "Sao Tome and Principe",
          "Saudi Arabia",
          "Senegal",
          "Serbia",
          "Seychelles",
          "Sierra Leone",
          "Singapore",
          "Slovakia",
          "Slovenia",
          "Solomon Islands",
          "Somalia",
          "South Africa",
          "South Sudan",
          "Spain",
          "Sri Lanka",
          "Sudan",
          "Sweden",
          "Switzerland",
          "Syrian Arab Republic",
          "Tajikistan",
          "Thailand",
          "Togo",
          "Tonga",
          "Trinidad and Tobago",
          "Tunisia",
          "Turkey",
          "Turkmenistan",
          "Tuvalu",
          "Uganda",
          "Ukraine",
          "United Republic of Tanzania",
          "United States of America",
          "Uruguay",
          "Uzbekistan",
          "Venezuela",
          "Vietnam",
          "Virgin Islands, British",
          "Virgin Islands, US",
          "Yemen",
          "Zambia",
          "Zimbabwe"
         ],
         "xaxis": "x",
         "y": [
          2,
          1,
          8,
          1,
          1,
          1,
          2,
          5,
          1,
          65,
          7,
          2,
          14,
          13,
          1,
          6,
          33,
          30,
          2,
          3,
          2,
          2,
          9,
          53,
          1,
          5,
          2,
          3,
          1,
          1,
          56,
          1,
          2,
          1,
          1,
          3,
          6,
          24,
          2,
          2,
          1,
          3,
          7,
          18,
          3,
          31,
          3,
          1,
          1,
          16,
          2,
          2,
          7,
          18,
          5,
          1,
          2,
          9,
          7,
          1,
          39,
          1,
          1,
          22,
          66,
          1,
          2,
          5,
          95,
          7,
          75,
          20,
          4,
          1,
          9,
          1,
          1,
          3,
          1,
          1,
          2,
          19,
          1,
          25,
          2,
          2,
          27,
          4,
          9,
          73,
          54,
          70,
          1,
          10,
          37,
          1,
          1,
          2,
          3,
          1,
          7,
          1,
          2,
          3,
          1,
          9,
          2,
          1,
          1,
          2,
          1,
          2,
          1,
          2,
          1,
          18,
          1,
          3,
          2,
          16,
          1,
          4,
          1,
          1,
          44,
          12,
          1,
          2,
          20,
          1,
          15,
          2,
          2,
          1,
          1,
          4,
          1,
          2,
          53,
          7,
          2,
          64,
          19,
          4,
          8,
          10,
          6,
          6,
          5,
          10,
          2,
          2,
          1,
          1,
          1,
          2,
          1,
          5,
          1,
          1,
          1,
          9,
          7,
          1,
          1,
          30,
          2,
          58,
          2,
          1,
          20,
          30,
          1,
          1,
          2,
          1,
          1,
          22,
          3,
          24,
          1,
          2,
          18,
          48,
          2,
          144,
          3,
          7,
          4,
          1,
          2,
          1,
          1,
          2,
          1
         ],
         "yaxis": "y"
        },
        {
         "alignmentgroup": "True",
         "hovertemplate": "Discipline=Shooting<br>NOC=%{x}<br>Count=%{y}<extra></extra>",
         "legendgroup": "Shooting",
         "marker": {
          "color": "#EF553B",
          "pattern": {
           "shape": ""
          }
         },
         "name": "Shooting",
         "offsetgroup": "Shooting",
         "orientation": "v",
         "showlegend": true,
         "textposition": "auto",
         "type": "bar",
         "x": [
          "Afghanistan",
          "Albania",
          "Algeria",
          "Argentina",
          "Armenia",
          "Aruba",
          "Australia",
          "Austria",
          "Azerbaijan",
          "Bahrain",
          "Bangladesh",
          "Belarus",
          "Belgium",
          "Bhutan",
          "Bosnia and Herzegovina",
          "Brazil",
          "Bulgaria",
          "Canada",
          "Chile",
          "Chinese Taipei",
          "Colombia",
          "Croatia",
          "Cuba",
          "Cyprus",
          "Czech Republic",
          "Denmark",
          "Ecuador",
          "Egypt",
          "Estonia",
          "Finland",
          "France",
          "Georgia",
          "Germany",
          "Great Britain",
          "Greece",
          "Guatemala",
          "Hungary",
          "Iceland",
          "India",
          "Indonesia",
          "Iraq",
          "Ireland",
          "Islamic Republic of Iran",
          "Israel",
          "Italy",
          "Japan",
          "Jordan",
          "Kazakhstan",
          "Kosovo",
          "Kuwait",
          "Kyrgyzstan",
          "Latvia",
          "Lebanon",
          "Lithuania",
          "Malaysia",
          "Malta",
          "Mexico",
          "Mongolia",
          "Montenegro",
          "Morocco",
          "Myanmar",
          "Nepal",
          "New Zealand",
          "Nicaragua",
          "North Macedonia",
          "Norway",
          "Oman",
          "Pakistan",
          "People's Republic of China",
          "Peru",
          "Philippines",
          "Poland",
          "Portugal",
          "Puerto Rico",
          "Qatar",
          "ROC",
          "Refugee Olympic Team",
          "Republic of Korea",
          "Republic of Moldova",
          "Romania",
          "San Marino",
          "Saudi Arabia",
          "Senegal",
          "Serbia",
          "Singapore",
          "Slovakia",
          "Slovenia",
          "Spain",
          "Sri Lanka",
          "Sweden",
          "Switzerland",
          "Thailand",
          "Tunisia",
          "Turkey",
          "Ukraine",
          "United Arab Emirates",
          "United States of America",
          "Venezuela",
          "Vietnam",
          "Yemen"
         ],
         "xaxis": "x",
         "y": [
          1,
          1,
          1,
          4,
          1,
          1,
          14,
          2,
          1,
          1,
          1,
          3,
          1,
          1,
          1,
          1,
          3,
          1,
          1,
          5,
          1,
          4,
          5,
          3,
          8,
          3,
          1,
          10,
          1,
          3,
          10,
          1,
          8,
          5,
          2,
          3,
          4,
          1,
          13,
          1,
          1,
          1,
          6,
          1,
          14,
          12,
          1,
          3,
          1,
          4,
          1,
          1,
          1,
          1,
          1,
          1,
          4,
          4,
          1,
          1,
          1,
          1,
          2,
          1,
          1,
          5,
          1,
          3,
          24,
          3,
          1,
          4,
          1,
          1,
          1,
          17,
          1,
          15,
          1,
          1,
          1,
          1,
          1,
          6,
          1,
          7,
          1,
          2,
          1,
          1,
          2,
          6,
          2,
          4,
          6,
          1,
          19,
          1,
          1,
          1
         ],
         "yaxis": "y"
        },
        {
         "alignmentgroup": "True",
         "hovertemplate": "Discipline=Swimming<br>NOC=%{x}<br>Count=%{y}<extra></extra>",
         "legendgroup": "Swimming",
         "marker": {
          "color": "#00cc96",
          "pattern": {
           "shape": ""
          }
         },
         "name": "Swimming",
         "offsetgroup": "Swimming",
         "orientation": "v",
         "showlegend": true,
         "textposition": "auto",
         "type": "bar",
         "x": [
          "Afghanistan",
          "Albania",
          "Algeria",
          "American Samoa",
          "Angola",
          "Antigua and Barbuda",
          "Argentina",
          "Armenia",
          "Aruba",
          "Australia",
          "Austria",
          "Azerbaijan",
          "Bahamas",
          "Bahrain",
          "Bangladesh",
          "Barbados",
          "Belarus",
          "Belgium",
          "Benin",
          "Bhutan",
          "Bolivia",
          "Bosnia and Herzegovina",
          "Botswana",
          "Brazil",
          "Brunei Darussalam",
          "Bulgaria",
          "Burkina Faso",
          "Burundi",
          "Cambodia",
          "Cameroon",
          "Canada",
          "Cape Verde",
          "Cayman Islands",
          "Central African Republic",
          "Chile",
          "Chinese Taipei",
          "Colombia",
          "Congo",
          "Cook Islands",
          "Costa Rica",
          "Croatia",
          "Cuba",
          "Cyprus",
          "Czech Republic",
          "Côte d'Ivoire",
          "Democratic Republic of Timor-Leste",
          "Denmark",
          "Djibouti",
          "Dominican Republic",
          "Ecuador",
          "Egypt",
          "El Salvador",
          "Equatorial Guinea",
          "Eritrea",
          "Estonia",
          "Eswatini",
          "Ethiopia",
          "Federated States of Micronesia",
          "Fiji",
          "Finland",
          "France",
          "Gabon",
          "Georgia",
          "Germany",
          "Ghana",
          "Great Britain",
          "Greece",
          "Grenada",
          "Guam",
          "Guatemala",
          "Guinea",
          "Guyana",
          "Haiti",
          "Honduras",
          "Hong Kong, China",
          "Hungary",
          "Iceland",
          "India",
          "Indonesia",
          "Ireland",
          "Islamic Republic of Iran",
          "Israel",
          "Italy",
          "Jamaica",
          "Japan",
          "Jordan",
          "Kazakhstan",
          "Kenya",
          "Kosovo",
          "Kuwait",
          "Kyrgyzstan",
          "Lao People's Democratic Republic",
          "Latvia",
          "Lebanon",
          "Libya",
          "Liechtenstein",
          "Lithuania",
          "Luxembourg",
          "Madagascar",
          "Malawi",
          "Malaysia",
          "Maldives",
          "Mali",
          "Malta",
          "Marshall Islands",
          "Mauritius",
          "Mexico",
          "Monaco",
          "Mongolia",
          "Montenegro",
          "Morocco",
          "Mozambique",
          "Nepal",
          "Netherlands",
          "New Zealand",
          "Nicaragua",
          "Niger",
          "Nigeria",
          "North Macedonia",
          "Norway",
          "Oman",
          "Pakistan",
          "Palau",
          "Palestine",
          "Panama",
          "Papua New Guinea",
          "Paraguay",
          "People's Republic of China",
          "Peru",
          "Philippines",
          "Poland",
          "Portugal",
          "Puerto Rico",
          "Qatar",
          "ROC",
          "Refugee Olympic Team",
          "Republic of Korea",
          "Republic of Moldova",
          "Romania",
          "Rwanda",
          "Saint Lucia",
          "San Marino",
          "Saudi Arabia",
          "Senegal",
          "Serbia",
          "Seychelles",
          "Sierra Leone",
          "Singapore",
          "Slovakia",
          "Slovenia",
          "Solomon Islands",
          "South Africa",
          "Spain",
          "Sri Lanka",
          "St Vincent and the Grenadines",
          "Sudan",
          "Suriname",
          "Sweden",
          "Switzerland",
          "Syrian Arab Republic",
          "Tajikistan",
          "Thailand",
          "Togo",
          "Tonga",
          "Trinidad and Tobago",
          "Tunisia",
          "Turkey",
          "Turkmenistan",
          "Uganda",
          "Ukraine",
          "United Arab Emirates",
          "United States of America",
          "Uruguay",
          "Uzbekistan",
          "Venezuela",
          "Vietnam",
          "Virgin Islands, British",
          "Virgin Islands, US",
          "Yemen",
          "Zambia",
          "Zimbabwe"
         ],
         "xaxis": "x",
         "y": [
          1,
          2,
          2,
          1,
          2,
          2,
          3,
          2,
          2,
          30,
          7,
          2,
          2,
          2,
          2,
          1,
          5,
          2,
          2,
          1,
          2,
          2,
          1,
          17,
          1,
          5,
          2,
          2,
          2,
          2,
          20,
          2,
          2,
          1,
          2,
          3,
          2,
          1,
          2,
          2,
          2,
          2,
          2,
          8,
          1,
          2,
          9,
          1,
          2,
          2,
          4,
          2,
          1,
          1,
          3,
          2,
          1,
          2,
          2,
          5,
          17,
          2,
          2,
          24,
          2,
          27,
          7,
          2,
          2,
          2,
          2,
          2,
          2,
          2,
          6,
          20,
          2,
          3,
          2,
          6,
          1,
          10,
          29,
          2,
          25,
          1,
          2,
          2,
          2,
          2,
          1,
          2,
          2,
          2,
          1,
          2,
          4,
          2,
          2,
          2,
          2,
          2,
          1,
          2,
          2,
          1,
          3,
          2,
          2,
          2,
          2,
          2,
          2,
          14,
          6,
          2,
          2,
          1,
          2,
          4,
          1,
          2,
          2,
          1,
          1,
          2,
          2,
          25,
          1,
          2,
          8,
          6,
          2,
          2,
          28,
          2,
          8,
          2,
          3,
          2,
          2,
          1,
          1,
          2,
          5,
          2,
          2,
          3,
          2,
          3,
          1,
          12,
          8,
          2,
          2,
          2,
          1,
          10,
          6,
          1,
          2,
          2,
          1,
          2,
          2,
          1,
          10,
          2,
          2,
          6,
          1,
          39,
          2,
          2,
          3,
          2,
          1,
          2,
          1,
          2,
          2
         ],
         "yaxis": "y"
        },
        {
         "alignmentgroup": "True",
         "hovertemplate": "Discipline=Taekwondo<br>NOC=%{x}<br>Count=%{y}<extra></extra>",
         "legendgroup": "Taekwondo",
         "marker": {
          "color": "#ab63fa",
          "pattern": {
           "shape": ""
          }
         },
         "name": "Taekwondo",
         "offsetgroup": "Taekwondo",
         "orientation": "v",
         "showlegend": true,
         "textposition": "auto",
         "type": "bar",
         "x": [
          "Afghanistan",
          "Argentina",
          "Australia",
          "Azerbaijan",
          "Belgium",
          "Bosnia and Herzegovina",
          "Brazil",
          "Burkina Faso",
          "Canada",
          "Chinese Taipei",
          "Colombia",
          "Costa Rica",
          "Croatia",
          "Cuba",
          "Côte d'Ivoire",
          "Democratic Republic of the Congo",
          "Dominican Republic",
          "Egypt",
          "Ethiopia",
          "France",
          "Gabon",
          "Germany",
          "Great Britain",
          "Greece",
          "Haiti",
          "Honduras",
          "Hungary",
          "Ireland",
          "Islamic Republic of Iran",
          "Israel",
          "Italy",
          "Japan",
          "Jordan",
          "Kazakhstan",
          "Mali",
          "Mexico",
          "Morocco",
          "New Zealand",
          "Niger",
          "Nigeria",
          "North Macedonia",
          "Norway",
          "People's Republic of China",
          "Philippines",
          "Poland",
          "Portugal",
          "Puerto Rico",
          "ROC",
          "Refugee Olympic Team",
          "Republic of Korea",
          "Serbia",
          "Spain",
          "Thailand",
          "Tonga",
          "Tunisia",
          "Turkey",
          "United States of America",
          "Uzbekistan",
          "Vietnam"
         ],
         "xaxis": "x",
         "y": [
          1,
          1,
          4,
          2,
          1,
          1,
          2,
          1,
          2,
          4,
          2,
          1,
          3,
          1,
          4,
          1,
          3,
          4,
          1,
          2,
          1,
          1,
          5,
          1,
          1,
          1,
          1,
          1,
          3,
          1,
          2,
          4,
          1,
          2,
          1,
          2,
          3,
          1,
          2,
          1,
          1,
          1,
          5,
          1,
          2,
          1,
          1,
          4,
          3,
          6,
          2,
          4,
          2,
          1,
          1,
          5,
          2,
          4,
          1
         ],
         "yaxis": "y"
        },
        {
         "alignmentgroup": "True",
         "hovertemplate": "Discipline=Artistic Gymnastics<br>NOC=%{x}<br>Count=%{y}<extra></extra>",
         "legendgroup": "Artistic Gymnastics",
         "marker": {
          "color": "#FFA15A",
          "pattern": {
           "shape": ""
          }
         },
         "name": "Artistic Gymnastics",
         "offsetgroup": "Artistic Gymnastics",
         "orientation": "v",
         "showlegend": true,
         "textposition": "auto",
         "type": "bar",
         "x": [
          "Albania",
          "Argentina",
          "Armenia",
          "Australia",
          "Austria",
          "Azerbaijan",
          "Belarus",
          "Belgium",
          "Brazil",
          "Bulgaria",
          "Canada",
          "Cayman Islands",
          "Chile",
          "Chinese Taipei",
          "Costa Rica",
          "Croatia",
          "Cuba",
          "Cyprus",
          "Czech Republic",
          "Egypt",
          "France",
          "Germany",
          "Great Britain",
          "Greece",
          "Hong Kong, China",
          "Hungary",
          "India",
          "Ireland",
          "Israel",
          "Italy",
          "Jamaica",
          "Japan",
          "Kazakhstan",
          "Lithuania",
          "Malaysia",
          "Mexico",
          "Netherlands",
          "New Zealand",
          "Nigeria",
          "Norway",
          "People's Republic of China",
          "Peru",
          "Poland",
          "Portugal",
          "ROC",
          "Republic of Korea",
          "Romania",
          "Singapore",
          "Slovakia",
          "South Africa",
          "Spain",
          "Sri Lanka",
          "Sweden",
          "Switzerland",
          "Turkey",
          "Ukraine",
          "United States of America",
          "Uzbekistan",
          "Vietnam"
         ],
         "xaxis": "x",
         "y": [
          1,
          1,
          1,
          2,
          1,
          2,
          1,
          4,
          6,
          1,
          5,
          1,
          2,
          4,
          1,
          2,
          1,
          1,
          2,
          3,
          7,
          8,
          8,
          1,
          1,
          1,
          1,
          1,
          3,
          6,
          1,
          11,
          1,
          1,
          2,
          2,
          6,
          1,
          1,
          2,
          12,
          1,
          1,
          1,
          12,
          6,
          3,
          1,
          1,
          1,
          9,
          1,
          2,
          4,
          5,
          5,
          11,
          2,
          2
         ],
         "yaxis": "y"
        },
        {
         "alignmentgroup": "True",
         "hovertemplate": "Discipline=Judo<br>NOC=%{x}<br>Count=%{y}<extra></extra>",
         "legendgroup": "Judo",
         "marker": {
          "color": "#19d3f3",
          "pattern": {
           "shape": ""
          }
         },
         "name": "Judo",
         "offsetgroup": "Judo",
         "orientation": "v",
         "showlegend": true,
         "textposition": "auto",
         "type": "bar",
         "x": [
          "Albania",
          "Algeria",
          "Angola",
          "Argentina",
          "Armenia",
          "Australia",
          "Austria",
          "Azerbaijan",
          "Belarus",
          "Belgium",
          "Benin",
          "Bosnia and Herzegovina",
          "Brazil",
          "Bulgaria",
          "Burkina Faso",
          "Cameroon",
          "Canada",
          "Cape Verde",
          "Chad",
          "Chile",
          "Chinese Taipei",
          "Comoros",
          "Costa Rica",
          "Croatia",
          "Cuba",
          "Czech Republic",
          "Democratic Republic of the Congo",
          "Djibouti",
          "Dominican Republic",
          "Ecuador",
          "Egypt",
          "Estonia",
          "Fiji",
          "France",
          "Gabon",
          "Gambia",
          "Georgia",
          "Germany",
          "Ghana",
          "Great Britain",
          "Greece",
          "Guam",
          "Guatemala",
          "Guinea",
          "Guinea-Bissau",
          "Haiti",
          "Honduras",
          "Hungary",
          "India",
          "Ireland",
          "Israel",
          "Italy",
          "Jamaica",
          "Japan",
          "Jordan",
          "Kazakhstan",
          "Kiribati",
          "Kosovo",
          "Kyrgyzstan",
          "Lao People's Democratic Republic",
          "Latvia",
          "Lebanon",
          "Libya",
          "Liechtenstein",
          "Lithuania",
          "Madagascar",
          "Malawi",
          "Mauritius",
          "Mexico",
          "Monaco",
          "Mongolia",
          "Montenegro",
          "Morocco",
          "Mozambique",
          "Nepal",
          "Netherlands",
          "Nicaragua",
          "Niger",
          "North Macedonia",
          "Pakistan",
          "Palestine",
          "Panama",
          "People's Republic of China",
          "Peru",
          "Philippines",
          "Poland",
          "Portugal",
          "Puerto Rico",
          "Qatar",
          "ROC",
          "Refugee Olympic Team",
          "Republic of Korea",
          "Republic of Moldova",
          "Romania",
          "Samoa",
          "San Marino",
          "Saudi Arabia",
          "Senegal",
          "Serbia",
          "Seychelles",
          "Sierra Leone",
          "Slovenia",
          "South Africa",
          "Spain",
          "Sri Lanka",
          "Sudan",
          "Sweden",
          "Switzerland",
          "Tajikistan",
          "Thailand",
          "Trinidad and Tobago",
          "Tunisia",
          "Turkey",
          "Turkmenistan",
          "Ukraine",
          "United Arab Emirates",
          "United States of America",
          "Uruguay",
          "Uzbekistan",
          "Vanuatu",
          "Venezuela",
          "Vietnam",
          "Zambia"
         ],
         "xaxis": "x",
         "y": [
          1,
          2,
          1,
          2,
          1,
          3,
          5,
          9,
          3,
          4,
          1,
          1,
          11,
          3,
          1,
          2,
          5,
          1,
          1,
          1,
          3,
          1,
          1,
          3,
          6,
          2,
          1,
          1,
          1,
          3,
          2,
          1,
          1,
          13,
          1,
          1,
          9,
          11,
          1,
          5,
          2,
          1,
          1,
          1,
          1,
          1,
          1,
          7,
          1,
          2,
          12,
          8,
          1,
          13,
          1,
          6,
          1,
          4,
          1,
          1,
          1,
          1,
          1,
          1,
          1,
          1,
          1,
          1,
          1,
          1,
          12,
          1,
          2,
          1,
          1,
          10,
          1,
          1,
          1,
          1,
          1,
          2,
          5,
          1,
          1,
          6,
          8,
          3,
          1,
          13,
          6,
          14,
          2,
          3,
          1,
          1,
          2,
          1,
          5,
          1,
          1,
          5,
          1,
          7,
          1,
          1,
          4,
          2,
          3,
          1,
          1,
          3,
          5,
          1,
          7,
          2,
          4,
          1,
          8,
          1,
          3,
          1,
          1
         ],
         "yaxis": "y"
        },
        {
         "alignmentgroup": "True",
         "hovertemplate": "Discipline=Weightlifting<br>NOC=%{x}<br>Count=%{y}<extra></extra>",
         "legendgroup": "Weightlifting",
         "marker": {
          "color": "#FF6692",
          "pattern": {
           "shape": ""
          }
         },
         "name": "Weightlifting",
         "offsetgroup": "Weightlifting",
         "orientation": "v",
         "showlegend": true,
         "textposition": "auto",
         "type": "bar",
         "x": [
          "Albania",
          "Algeria",
          "American Samoa",
          "Armenia",
          "Australia",
          "Austria",
          "Belarus",
          "Belgium",
          "Botswana",
          "Brazil",
          "Bulgaria",
          "Cameroon",
          "Canada",
          "Chile",
          "Chinese Taipei",
          "Colombia",
          "Cuba",
          "Czech Republic",
          "Dominican Republic",
          "Ecuador",
          "France",
          "Georgia",
          "Germany",
          "Ghana",
          "Great Britain",
          "Greece",
          "Guatemala",
          "Hungary",
          "Indonesia",
          "Islamic Republic of Iran",
          "Israel",
          "Italy",
          "Japan",
          "Kazakhstan",
          "Kiribati",
          "Kyrgyzstan",
          "Latvia",
          "Lebanon",
          "Lithuania",
          "Madagascar",
          "Malta",
          "Mauritius",
          "Mexico",
          "Mongolia",
          "Morocco",
          "Nauru",
          "Netherlands",
          "New Zealand",
          "Nicaragua",
          "Oman",
          "Pakistan",
          "Palestine",
          "Papua New Guinea",
          "People's Republic of China",
          "Peru",
          "Philippines",
          "Poland",
          "ROC",
          "Refugee Olympic Team",
          "Republic of Korea",
          "Republic of Moldova",
          "Saudi Arabia",
          "Solomon Islands",
          "Spain",
          "Sweden",
          "Syrian Arab Republic",
          "Tonga",
          "Tunisia",
          "Turkey",
          "Turkmenistan",
          "Ukraine",
          "United States of America",
          "Uzbekistan",
          "Venezuela",
          "Vietnam"
         ],
         "xaxis": "x",
         "y": [
          2,
          1,
          1,
          2,
          5,
          2,
          2,
          2,
          1,
          2,
          2,
          2,
          5,
          2,
          7,
          3,
          4,
          1,
          4,
          4,
          4,
          4,
          3,
          1,
          4,
          1,
          1,
          1,
          5,
          2,
          1,
          3,
          7,
          2,
          1,
          1,
          2,
          1,
          1,
          2,
          1,
          1,
          4,
          2,
          1,
          1,
          1,
          5,
          1,
          1,
          1,
          1,
          1,
          7,
          1,
          2,
          3,
          2,
          1,
          7,
          2,
          2,
          1,
          4,
          1,
          1,
          1,
          5,
          1,
          4,
          2,
          8,
          4,
          4,
          2
         ],
         "yaxis": "y"
        },
        {
         "alignmentgroup": "True",
         "hovertemplate": "Discipline=Boxing<br>NOC=%{x}<br>Count=%{y}<extra></extra>",
         "legendgroup": "Boxing",
         "marker": {
          "color": "#B6E880",
          "pattern": {
           "shape": ""
          }
         },
         "name": "Boxing",
         "offsetgroup": "Boxing",
         "orientation": "v",
         "showlegend": true,
         "textposition": "auto",
         "type": "bar",
         "x": [
          "Algeria",
          "Antigua and Barbuda",
          "Argentina",
          "Armenia",
          "Australia",
          "Azerbaijan",
          "Bahrain",
          "Belarus",
          "Botswana",
          "Brazil",
          "Bulgaria",
          "Burundi",
          "Cameroon",
          "Canada",
          "Cape Verde",
          "Chinese Taipei",
          "Colombia",
          "Croatia",
          "Cuba",
          "Democratic Republic of the Congo",
          "Dominican Republic",
          "Ecuador",
          "Egypt",
          "El Salvador",
          "Eswatini",
          "France",
          "Georgia",
          "Germany",
          "Ghana",
          "Great Britain",
          "Guyana",
          "Haiti",
          "Hungary",
          "India",
          "Ireland",
          "Islamic Republic of Iran",
          "Italy",
          "Jamaica",
          "Japan",
          "Jordan",
          "Kazakhstan",
          "Kenya",
          "Kosovo",
          "Mauritius",
          "Mexico",
          "Mongolia",
          "Morocco",
          "Mozambique",
          "Namibia",
          "Netherlands",
          "New Zealand",
          "Panama",
          "Papua New Guinea",
          "People's Republic of China",
          "Peru",
          "Philippines",
          "Poland",
          "Puerto Rico",
          "ROC",
          "Refugee Olympic Team",
          "Republic of Korea",
          "Romania",
          "Samoa",
          "Serbia",
          "Somalia",
          "Spain",
          "Sweden",
          "Tajikistan",
          "Thailand",
          "Trinidad and Tobago",
          "Tunisia",
          "Turkey",
          "Uganda",
          "Ukraine",
          "United States of America",
          "Uzbekistan",
          "Venezuela",
          "Vietnam",
          "Zambia"
         ],
         "xaxis": "x",
         "y": [
          8,
          1,
          5,
          2,
          4,
          3,
          1,
          4,
          2,
          7,
          3,
          1,
          3,
          5,
          1,
          4,
          6,
          2,
          7,
          4,
          7,
          4,
          2,
          1,
          1,
          5,
          3,
          3,
          3,
          10,
          1,
          1,
          1,
          7,
          6,
          2,
          3,
          1,
          6,
          5,
          8,
          4,
          1,
          2,
          3,
          3,
          6,
          1,
          1,
          2,
          1,
          1,
          1,
          6,
          2,
          4,
          2,
          1,
          11,
          1,
          2,
          2,
          2,
          1,
          1,
          4,
          2,
          2,
          4,
          1,
          2,
          6,
          3,
          5,
          8,
          11,
          3,
          2,
          3
         ],
         "yaxis": "y"
        },
        {
         "alignmentgroup": "True",
         "hovertemplate": "Discipline=Canoe Sprint<br>NOC=%{x}<br>Count=%{y}<extra></extra>",
         "legendgroup": "Canoe Sprint",
         "marker": {
          "color": "#FF97FF",
          "pattern": {
           "shape": ""
          }
         },
         "name": "Canoe Sprint",
         "offsetgroup": "Canoe Sprint",
         "orientation": "v",
         "showlegend": true,
         "textposition": "auto",
         "type": "bar",
         "x": [
          "Algeria",
          "Argentina",
          "Australia",
          "Austria",
          "Belarus",
          "Belgium",
          "Belize",
          "Brazil",
          "Bulgaria",
          "Canada",
          "Chile",
          "Cook Islands",
          "Croatia",
          "Cuba",
          "Czech Republic",
          "Denmark",
          "Egypt",
          "France",
          "Germany",
          "Great Britain",
          "Hungary",
          "Islamic Republic of Iran",
          "Italy",
          "Japan",
          "Kazakhstan",
          "Latvia",
          "Lithuania",
          "New Zealand",
          "Nigeria",
          "Norway",
          "People's Republic of China",
          "Poland",
          "Portugal",
          "ROC",
          "Republic of Korea",
          "Republic of Moldova",
          "Romania",
          "Samoa",
          "Sao Tome and Principe",
          "Serbia",
          "Slovakia",
          "Slovenia",
          "Spain",
          "Sweden",
          "Thailand",
          "Tunisia",
          "Ukraine",
          "United States of America",
          "Uzbekistan"
         ],
         "xaxis": "x",
         "y": [
          1,
          3,
          13,
          2,
          12,
          2,
          1,
          3,
          1,
          14,
          2,
          2,
          2,
          5,
          4,
          4,
          2,
          8,
          15,
          4,
          17,
          1,
          4,
          8,
          5,
          1,
          1,
          6,
          1,
          1,
          14,
          8,
          7,
          14,
          1,
          3,
          1,
          3,
          2,
          3,
          4,
          2,
          11,
          2,
          1,
          2,
          10,
          1,
          2
         ],
         "yaxis": "y"
        },
        {
         "alignmentgroup": "True",
         "hovertemplate": "Discipline=Cycling Road<br>NOC=%{x}<br>Count=%{y}<extra></extra>",
         "legendgroup": "Cycling Road",
         "marker": {
          "color": "#FECB52",
          "pattern": {
           "shape": ""
          }
         },
         "name": "Cycling Road",
         "offsetgroup": "Cycling Road",
         "orientation": "v",
         "showlegend": true,
         "textposition": "auto",
         "type": "bar",
         "x": [
          "Algeria",
          "Argentina",
          "Australia",
          "Austria",
          "Azerbaijan",
          "Belarus",
          "Belgium",
          "Burkina Faso",
          "Canada",
          "Chile",
          "Chinese Taipei",
          "Colombia",
          "Costa Rica",
          "Croatia",
          "Cuba",
          "Cyprus",
          "Czech Republic",
          "Denmark",
          "Ecuador",
          "Eritrea",
          "Estonia",
          "Ethiopia",
          "France",
          "Germany",
          "Great Britain",
          "Greece",
          "Guatemala",
          "Hong Kong, China",
          "Hungary",
          "Ireland",
          "Islamic Republic of Iran",
          "Israel",
          "Italy",
          "Japan",
          "Kazakhstan",
          "Latvia",
          "Lithuania",
          "Luxembourg",
          "Mexico",
          "Morocco",
          "Namibia",
          "Netherlands",
          "New Zealand",
          "Norway",
          "Panama",
          "Paraguay",
          "People's Republic of China",
          "Peru",
          "Poland",
          "Portugal",
          "ROC",
          "Refugee Olympic Team",
          "Republic of Korea",
          "Romania",
          "Rwanda",
          "Slovakia",
          "Slovenia",
          "South Africa",
          "Spain",
          "Switzerland",
          "Thailand",
          "Trinidad and Tobago",
          "Turkey",
          "Ukraine",
          "United States of America",
          "Uzbekistan",
          "Venezuela"
         ],
         "xaxis": "x",
         "y": [
          2,
          1,
          8,
          4,
          1,
          2,
          8,
          1,
          6,
          1,
          1,
          5,
          2,
          1,
          1,
          1,
          4,
          6,
          2,
          3,
          2,
          1,
          6,
          7,
          5,
          1,
          1,
          1,
          1,
          2,
          1,
          1,
          9,
          4,
          3,
          1,
          2,
          2,
          2,
          1,
          2,
          9,
          2,
          6,
          1,
          1,
          2,
          1,
          5,
          2,
          4,
          2,
          1,
          1,
          1,
          2,
          4,
          4,
          6,
          5,
          1,
          1,
          2,
          2,
          7,
          2,
          1
         ],
         "yaxis": "y"
        },
        {
         "alignmentgroup": "True",
         "hovertemplate": "Discipline=Fencing<br>NOC=%{x}<br>Count=%{y}<extra></extra>",
         "legendgroup": "Fencing",
         "marker": {
          "color": "#636efa",
          "pattern": {
           "shape": ""
          }
         },
         "name": "Fencing",
         "offsetgroup": "Fencing",
         "orientation": "v",
         "showlegend": true,
         "textposition": "auto",
         "type": "bar",
         "x": [
          "Algeria",
          "Argentina",
          "Azerbaijan",
          "Brazil",
          "Canada",
          "Chile",
          "Colombia",
          "Czech Republic",
          "Egypt",
          "Estonia",
          "France",
          "Georgia",
          "Germany",
          "Great Britain",
          "Greece",
          "Hong Kong, China",
          "Hungary",
          "India",
          "Islamic Republic of Iran",
          "Italy",
          "Japan",
          "Kazakhstan",
          "Mexico",
          "Morocco",
          "Netherlands",
          "People's Republic of China",
          "Peru",
          "Poland",
          "ROC",
          "Republic of Korea",
          "Romania",
          "Senegal",
          "Singapore",
          "Spain",
          "Switzerland",
          "Tunisia",
          "Turkey",
          "Ukraine",
          "United States of America",
          "Uzbekistan",
          "Venezuela"
         ],
         "xaxis": "x",
         "y": [
          3,
          1,
          1,
          2,
          11,
          1,
          1,
          2,
          12,
          4,
          17,
          1,
          9,
          1,
          1,
          8,
          12,
          1,
          4,
          23,
          19,
          1,
          1,
          1,
          1,
          15,
          1,
          5,
          21,
          18,
          2,
          1,
          2,
          1,
          4,
          7,
          1,
          4,
          24,
          3,
          2
         ],
         "yaxis": "y"
        },
        {
         "alignmentgroup": "True",
         "hovertemplate": "Discipline=Marathon Swimming<br>NOC=%{x}<br>Count=%{y}<extra></extra>",
         "legendgroup": "Marathon Swimming",
         "marker": {
          "color": "#EF553B",
          "pattern": {
           "shape": ""
          }
         },
         "name": "Marathon Swimming",
         "offsetgroup": "Marathon Swimming",
         "orientation": "v",
         "showlegend": true,
         "textposition": "auto",
         "type": "bar",
         "x": [
          "Algeria",
          "Argentina",
          "Australia",
          "Canada",
          "Czech Republic",
          "Ecuador",
          "France",
          "Germany",
          "Great Britain",
          "Greece",
          "Hong Kong, China",
          "Hungary",
          "Israel",
          "Italy",
          "Japan",
          "Mexico",
          "Namibia",
          "Netherlands",
          "People's Republic of China",
          "Portugal",
          "ROC",
          "Singapore",
          "Slovenia",
          "South Africa",
          "Spain",
          "Tunisia",
          "Ukraine",
          "United States of America",
          "Venezuela"
         ],
         "xaxis": "x",
         "y": [
          1,
          1,
          2,
          2,
          1,
          2,
          3,
          4,
          2,
          1,
          1,
          2,
          1,
          3,
          2,
          1,
          1,
          2,
          1,
          2,
          2,
          1,
          1,
          2,
          2,
          1,
          1,
          3,
          1
         ],
         "yaxis": "y"
        },
        {
         "alignmentgroup": "True",
         "hovertemplate": "Discipline=Rowing<br>NOC=%{x}<br>Count=%{y}<extra></extra>",
         "legendgroup": "Rowing",
         "marker": {
          "color": "#00cc96",
          "pattern": {
           "shape": ""
          }
         },
         "name": "Rowing",
         "offsetgroup": "Rowing",
         "orientation": "v",
         "showlegend": true,
         "textposition": "auto",
         "type": "bar",
         "x": [
          "Algeria",
          "Argentina",
          "Australia",
          "Austria",
          "Belarus",
          "Belgium",
          "Benin",
          "Bermuda",
          "Canada",
          "Chile",
          "Chinese Taipei",
          "Croatia",
          "Cuba",
          "Czech Republic",
          "Côte d'Ivoire",
          "Denmark",
          "Dominican Republic",
          "Egypt",
          "Estonia",
          "France",
          "Germany",
          "Great Britain",
          "Greece",
          "Guatemala",
          "Hong Kong, China",
          "Hungary",
          "India",
          "Indonesia",
          "Iraq",
          "Ireland",
          "Islamic Republic of Iran",
          "Italy",
          "Japan",
          "Kazakhstan",
          "Kuwait",
          "Libya",
          "Lithuania",
          "Mexico",
          "Monaco",
          "Morocco",
          "Namibia",
          "Netherlands",
          "New Zealand",
          "Nicaragua",
          "Nigeria",
          "Norway",
          "Paraguay",
          "People's Republic of China",
          "Peru",
          "Philippines",
          "Poland",
          "Portugal",
          "Puerto Rico",
          "Qatar",
          "ROC",
          "Republic of Korea",
          "Romania",
          "Saudi Arabia",
          "Serbia",
          "Singapore",
          "South Africa",
          "Spain",
          "Sudan",
          "Sweden",
          "Switzerland",
          "Thailand",
          "Togo",
          "Trinidad and Tobago",
          "Tunisia",
          "Turkey",
          "Uganda",
          "Ukraine",
          "United States of America",
          "Uruguay",
          "Uzbekistan",
          "Vanuatu",
          "Venezuela",
          "Vietnam",
          "Zimbabwe"
         ],
         "xaxis": "x",
         "y": [
          2,
          2,
          37,
          3,
          5,
          2,
          1,
          1,
          28,
          2,
          1,
          3,
          1,
          6,
          1,
          9,
          1,
          1,
          4,
          11,
          23,
          39,
          4,
          1,
          1,
          1,
          2,
          1,
          1,
          11,
          1,
          23,
          3,
          1,
          1,
          1,
          9,
          1,
          1,
          1,
          1,
          34,
          25,
          2,
          1,
          7,
          1,
          26,
          1,
          1,
          19,
          1,
          1,
          1,
          10,
          1,
          34,
          1,
          3,
          1,
          6,
          6,
          1,
          1,
          9,
          2,
          1,
          1,
          2,
          1,
          1,
          2,
          36,
          2,
          2,
          1,
          2,
          1,
          1
         ],
         "yaxis": "y"
        },
        {
         "alignmentgroup": "True",
         "hovertemplate": "Discipline=Sailing<br>NOC=%{x}<br>Count=%{y}<extra></extra>",
         "legendgroup": "Sailing",
         "marker": {
          "color": "#ab63fa",
          "pattern": {
           "shape": ""
          }
         },
         "name": "Sailing",
         "offsetgroup": "Sailing",
         "orientation": "v",
         "showlegend": true,
         "textposition": "auto",
         "type": "bar",
         "x": [
          "Algeria",
          "American Samoa",
          "Angola",
          "Antigua and Barbuda",
          "Argentina",
          "Australia",
          "Austria",
          "Belarus",
          "Belgium",
          "Brazil",
          "Canada",
          "Chile",
          "Croatia",
          "Cyprus",
          "Czech Republic",
          "Denmark",
          "Egypt",
          "El Salvador",
          "Estonia",
          "Fiji",
          "Finland",
          "France",
          "Germany",
          "Great Britain",
          "Greece",
          "Guatemala",
          "Hong Kong, China",
          "Hungary",
          "India",
          "Ireland",
          "Israel",
          "Italy",
          "Japan",
          "Lithuania",
          "Malaysia",
          "Mexico",
          "Montenegro",
          "Mozambique",
          "Netherlands",
          "New Zealand",
          "Norway",
          "Papua New Guinea",
          "People's Republic of China",
          "Peru",
          "Poland",
          "Portugal",
          "Puerto Rico",
          "ROC",
          "Republic of Korea",
          "Saint Lucia",
          "Samoa",
          "Seychelles",
          "Singapore",
          "Slovenia",
          "South Africa",
          "Spain",
          "Sweden",
          "Switzerland",
          "Thailand",
          "Trinidad and Tobago",
          "Tunisia",
          "Turkey",
          "United States of America",
          "Uruguay",
          "Venezuela"
         ],
         "xaxis": "x",
         "y": [
          2,
          2,
          2,
          1,
          11,
          12,
          6,
          2,
          4,
          13,
          9,
          1,
          4,
          4,
          1,
          8,
          2,
          1,
          2,
          1,
          5,
          14,
          9,
          14,
          8,
          1,
          2,
          4,
          4,
          3,
          5,
          8,
          15,
          2,
          3,
          4,
          1,
          3,
          10,
          10,
          8,
          2,
          10,
          5,
          7,
          5,
          2,
          6,
          4,
          2,
          1,
          1,
          4,
          3,
          3,
          13,
          9,
          6,
          2,
          1,
          4,
          8,
          13,
          3,
          1
         ],
         "yaxis": "y"
        },
        {
         "alignmentgroup": "True",
         "hovertemplate": "Discipline=Table Tennis<br>NOC=%{x}<br>Count=%{y}<extra></extra>",
         "legendgroup": "Table Tennis",
         "marker": {
          "color": "#FFA15A",
          "pattern": {
           "shape": ""
          }
         },
         "name": "Table Tennis",
         "offsetgroup": "Table Tennis",
         "orientation": "v",
         "showlegend": true,
         "textposition": "auto",
         "type": "bar",
         "x": [
          "Algeria",
          "Argentina",
          "Australia",
          "Austria",
          "Brazil",
          "Bulgaria",
          "Cameroon",
          "Canada",
          "Chile",
          "Chinese Taipei",
          "Croatia",
          "Cuba",
          "Czech Republic",
          "Denmark",
          "Ecuador",
          "Egypt",
          "Fiji",
          "France",
          "Germany",
          "Great Britain",
          "Guyana",
          "Hong Kong, China",
          "Hungary",
          "India",
          "Islamic Republic of Iran",
          "Italy",
          "Japan",
          "Kazakhstan",
          "Luxembourg",
          "Monaco",
          "Mongolia",
          "Netherlands",
          "Nigeria",
          "People's Republic of China",
          "Poland",
          "Portugal",
          "Puerto Rico",
          "ROC",
          "Republic of Korea",
          "Romania",
          "Saudi Arabia",
          "Senegal",
          "Serbia",
          "Singapore",
          "Slovakia",
          "Slovenia",
          "Spain",
          "Sweden",
          "Switzerland",
          "Syrian Arab Republic",
          "Thailand",
          "Togo",
          "Tunisia",
          "Ukraine",
          "United States of America"
         ],
         "xaxis": "x",
         "y": [
          1,
          2,
          6,
          5,
          6,
          1,
          1,
          3,
          1,
          6,
          3,
          2,
          3,
          1,
          1,
          5,
          1,
          6,
          6,
          3,
          1,
          6,
          5,
          4,
          1,
          1,
          6,
          2,
          2,
          1,
          2,
          1,
          4,
          6,
          3,
          5,
          3,
          3,
          6,
          4,
          1,
          1,
          3,
          4,
          3,
          3,
          1,
          4,
          1,
          1,
          1,
          1,
          2,
          3,
          6
         ],
         "yaxis": "y"
        },
        {
         "alignmentgroup": "True",
         "hovertemplate": "Discipline=Wrestling<br>NOC=%{x}<br>Count=%{y}<extra></extra>",
         "legendgroup": "Wrestling",
         "marker": {
          "color": "#19d3f3",
          "pattern": {
           "shape": ""
          }
         },
         "name": "Wrestling",
         "offsetgroup": "Wrestling",
         "orientation": "v",
         "showlegend": true,
         "textposition": "auto",
         "type": "bar",
         "x": [
          "Algeria",
          "Argentina",
          "Armenia",
          "Azerbaijan",
          "Belarus",
          "Brazil",
          "Bulgaria",
          "Canada",
          "Chile",
          "Colombia",
          "Croatia",
          "Cuba",
          "Czech Republic",
          "Denmark",
          "Ecuador",
          "Egypt",
          "Estonia",
          "Finland",
          "France",
          "Georgia",
          "Germany",
          "Greece",
          "Guam",
          "Guinea",
          "Guinea-Bissau",
          "Hungary",
          "India",
          "Islamic Republic of Iran",
          "Italy",
          "Japan",
          "Kazakhstan",
          "Kosovo",
          "Kyrgyzstan",
          "Latvia",
          "Lithuania",
          "Mexico",
          "Mongolia",
          "Morocco",
          "Nigeria",
          "North Macedonia",
          "People's Republic of China",
          "Peru",
          "Poland",
          "Puerto Rico",
          "ROC",
          "Refugee Olympic Team",
          "Republic of Korea",
          "Republic of Moldova",
          "Romania",
          "San Marino",
          "Senegal",
          "Serbia",
          "Slovakia",
          "Sweden",
          "Switzerland",
          "Tunisia",
          "Turkey",
          "Ukraine",
          "United States of America",
          "Uzbekistan"
         ],
         "xaxis": "x",
         "y": [
          7,
          1,
          6,
          7,
          8,
          3,
          7,
          4,
          1,
          3,
          1,
          12,
          1,
          1,
          2,
          8,
          2,
          2,
          2,
          7,
          7,
          2,
          1,
          1,
          2,
          5,
          7,
          11,
          2,
          11,
          10,
          1,
          9,
          1,
          1,
          2,
          9,
          1,
          5,
          1,
          11,
          1,
          6,
          1,
          16,
          1,
          2,
          2,
          5,
          1,
          1,
          4,
          1,
          3,
          1,
          9,
          9,
          9,
          14,
          8
         ],
         "yaxis": "y"
        },
        {
         "alignmentgroup": "True",
         "hovertemplate": "Discipline=Canoe Slalom<br>NOC=%{x}<br>Count=%{y}<extra></extra>",
         "legendgroup": "Canoe Slalom",
         "marker": {
          "color": "#FF6692",
          "pattern": {
           "shape": ""
          }
         },
         "name": "Canoe Slalom",
         "offsetgroup": "Canoe Slalom",
         "orientation": "v",
         "showlegend": true,
         "textposition": "auto",
         "type": "bar",
         "x": [
          "Andorra",
          "Argentina",
          "Australia",
          "Austria",
          "Belgium",
          "Brazil",
          "Canada",
          "Chinese Taipei",
          "Cook Islands",
          "Croatia",
          "Czech Republic",
          "France",
          "Germany",
          "Great Britain",
          "Ireland",
          "Italy",
          "Japan",
          "Kazakhstan",
          "Mexico",
          "Morocco",
          "Netherlands",
          "New Zealand",
          "People's Republic of China",
          "Poland",
          "Portugal",
          "ROC",
          "Senegal",
          "Slovakia",
          "Slovenia",
          "Spain",
          "Sweden",
          "Switzerland",
          "Ukraine",
          "United States of America"
         ],
         "xaxis": "x",
         "y": [
          1,
          1,
          3,
          3,
          1,
          2,
          4,
          1,
          1,
          1,
          4,
          3,
          4,
          3,
          1,
          3,
          3,
          2,
          1,
          2,
          1,
          2,
          3,
          4,
          1,
          2,
          1,
          4,
          4,
          4,
          1,
          4,
          1,
          2
         ],
         "yaxis": "y"
        },
        {
         "alignmentgroup": "True",
         "hovertemplate": "Discipline=Handball<br>NOC=%{x}<br>Count=%{y}<extra></extra>",
         "legendgroup": "Handball",
         "marker": {
          "color": "#B6E880",
          "pattern": {
           "shape": ""
          }
         },
         "name": "Handball",
         "offsetgroup": "Handball",
         "orientation": "v",
         "showlegend": true,
         "textposition": "auto",
         "type": "bar",
         "x": [
          "Angola",
          "Argentina",
          "Bahrain",
          "Brazil",
          "Denmark",
          "Egypt",
          "France",
          "Germany",
          "Hungary",
          "Japan",
          "Montenegro",
          "Netherlands",
          "Norway",
          "Portugal",
          "ROC",
          "Republic of Korea",
          "Spain",
          "Sweden"
         ],
         "xaxis": "x",
         "y": [
          14,
          15,
          14,
          28,
          15,
          14,
          28,
          15,
          14,
          28,
          15,
          15,
          30,
          12,
          14,
          15,
          29,
          28
         ],
         "yaxis": "y"
        },
        {
         "alignmentgroup": "True",
         "hovertemplate": "Discipline=Basketball<br>NOC=%{x}<br>Count=%{y}<extra></extra>",
         "legendgroup": "Basketball",
         "marker": {
          "color": "#FF97FF",
          "pattern": {
           "shape": ""
          }
         },
         "name": "Basketball",
         "offsetgroup": "Basketball",
         "orientation": "v",
         "showlegend": true,
         "textposition": "auto",
         "type": "bar",
         "x": [
          "Argentina",
          "Australia",
          "Belgium",
          "Canada",
          "Czech Republic",
          "France",
          "Germany",
          "Islamic Republic of Iran",
          "Italy",
          "Japan",
          "Nigeria",
          "People's Republic of China",
          "Puerto Rico",
          "Republic of Korea",
          "Serbia",
          "Slovenia",
          "Spain",
          "United States of America"
         ],
         "xaxis": "x",
         "y": [
          12,
          23,
          12,
          12,
          12,
          23,
          12,
          12,
          10,
          23,
          23,
          12,
          12,
          11,
          12,
          12,
          24,
          23
         ],
         "yaxis": "y"
        },
        {
         "alignmentgroup": "True",
         "hovertemplate": "Discipline=Beach Volleyball<br>NOC=%{x}<br>Count=%{y}<extra></extra>",
         "legendgroup": "Beach Volleyball",
         "marker": {
          "color": "#FECB52",
          "pattern": {
           "shape": ""
          }
         },
         "name": "Beach Volleyball",
         "offsetgroup": "Beach Volleyball",
         "orientation": "v",
         "showlegend": true,
         "textposition": "auto",
         "type": "bar",
         "x": [
          "Argentina",
          "Australia",
          "Brazil",
          "Canada",
          "Chile",
          "Cuba",
          "Czech Republic",
          "Germany",
          "Italy",
          "Japan",
          "Kenya",
          "Latvia",
          "Mexico",
          "Morocco",
          "Netherlands",
          "Norway",
          "People's Republic of China",
          "Poland",
          "Qatar",
          "ROC",
          "Spain",
          "Switzerland",
          "United States of America"
         ],
         "xaxis": "x",
         "y": [
          3,
          4,
          7,
          3,
          2,
          2,
          4,
          6,
          6,
          4,
          2,
          4,
          1,
          2,
          6,
          2,
          4,
          4,
          1,
          6,
          4,
          5,
          8
         ],
         "yaxis": "y"
        },
        {
         "alignmentgroup": "True",
         "hovertemplate": "Discipline=Cycling BMX Racing<br>NOC=%{x}<br>Count=%{y}<extra></extra>",
         "legendgroup": "Cycling BMX Racing",
         "marker": {
          "color": "#636efa",
          "pattern": {
           "shape": ""
          }
         },
         "name": "Cycling BMX Racing",
         "offsetgroup": "Cycling BMX Racing",
         "orientation": "v",
         "showlegend": true,
         "textposition": "auto",
         "type": "bar",
         "x": [
          "Argentina",
          "Australia",
          "Belgium",
          "Brazil",
          "Canada",
          "Colombia",
          "Denmark",
          "Ecuador",
          "France",
          "Great Britain",
          "Italy",
          "Japan",
          "Latvia",
          "Netherlands",
          "New Zealand",
          "Norway",
          "ROC",
          "South Africa",
          "Switzerland",
          "Thailand",
          "United States of America"
         ],
         "xaxis": "x",
         "y": [
          1,
          3,
          1,
          2,
          2,
          2,
          1,
          1,
          5,
          2,
          1,
          1,
          2,
          5,
          1,
          1,
          3,
          1,
          3,
          1,
          4
         ],
         "yaxis": "y"
        },
        {
         "alignmentgroup": "True",
         "hovertemplate": "Discipline=Cycling Mountain Bike<br>NOC=%{x}<br>Count=%{y}<extra></extra>",
         "legendgroup": "Cycling Mountain Bike",
         "marker": {
          "color": "#EF553B",
          "pattern": {
           "shape": ""
          }
         },
         "name": "Cycling Mountain Bike",
         "offsetgroup": "Cycling Mountain Bike",
         "orientation": "v",
         "showlegend": true,
         "textposition": "auto",
         "type": "bar",
         "x": [
          "Argentina",
          "Australia",
          "Austria",
          "Belgium",
          "Brazil",
          "Canada",
          "Chile",
          "Czech Republic",
          "Denmark",
          "Estonia",
          "France",
          "Germany",
          "Great Britain",
          "Greece",
          "Hungary",
          "Israel",
          "Italy",
          "Japan",
          "Mexico",
          "Namibia",
          "Netherlands",
          "New Zealand",
          "Norway",
          "People's Republic of China",
          "Poland",
          "Portugal",
          "ROC",
          "Romania",
          "Slovenia",
          "South Africa",
          "Spain",
          "Sweden",
          "Switzerland",
          "Ukraine",
          "United States of America"
         ],
         "xaxis": "x",
         "y": [
          1,
          2,
          1,
          2,
          3,
          3,
          1,
          2,
          3,
          1,
          4,
          4,
          2,
          1,
          2,
          1,
          4,
          1,
          2,
          2,
          4,
          1,
          1,
          2,
          2,
          1,
          2,
          1,
          1,
          2,
          3,
          1,
          6,
          1,
          4
         ],
         "yaxis": "y"
        },
        {
         "alignmentgroup": "True",
         "hovertemplate": "Discipline=Equestrian<br>NOC=%{x}<br>Count=%{y}<extra></extra>",
         "legendgroup": "Equestrian",
         "marker": {
          "color": "#00cc96",
          "pattern": {
           "shape": ""
          }
         },
         "name": "Equestrian",
         "offsetgroup": "Equestrian",
         "orientation": "v",
         "showlegend": true,
         "textposition": "auto",
         "type": "bar",
         "x": [
          "Argentina",
          "Australia",
          "Austria",
          "Belarus",
          "Belgium",
          "Brazil",
          "Canada",
          "Chile",
          "Chinese Taipei",
          "Colombia",
          "Czech Republic",
          "Denmark",
          "Dominican Republic",
          "Ecuador",
          "Egypt",
          "Estonia",
          "Finland",
          "France",
          "Germany",
          "Great Britain",
          "Hong Kong, China",
          "India",
          "Ireland",
          "Israel",
          "Italy",
          "Japan",
          "Jordan",
          "Latvia",
          "Luxembourg",
          "Mexico",
          "Morocco",
          "Netherlands",
          "New Zealand",
          "Norway",
          "People's Republic of China",
          "Poland",
          "Portugal",
          "Puerto Rico",
          "ROC",
          "Republic of Korea",
          "Singapore",
          "South Africa",
          "Spain",
          "Sri Lanka",
          "Sweden",
          "Switzerland",
          "Syrian Arab Republic",
          "Thailand",
          "Ukraine",
          "United States of America"
         ],
         "xaxis": "x",
         "y": [
          4,
          10,
          5,
          2,
          10,
          9,
          7,
          2,
          1,
          1,
          6,
          6,
          2,
          1,
          4,
          1,
          1,
          11,
          11,
          11,
          1,
          1,
          9,
          3,
          6,
          12,
          1,
          1,
          1,
          5,
          5,
          10,
          8,
          1,
          8,
          4,
          4,
          1,
          6,
          1,
          1,
          1,
          5,
          1,
          11,
          8,
          1,
          3,
          2,
          11
         ],
         "yaxis": "y"
        },
        {
         "alignmentgroup": "True",
         "hovertemplate": "Discipline=Football<br>NOC=%{x}<br>Count=%{y}<extra></extra>",
         "legendgroup": "Football",
         "marker": {
          "color": "#ab63fa",
          "pattern": {
           "shape": ""
          }
         },
         "name": "Football",
         "offsetgroup": "Football",
         "orientation": "v",
         "showlegend": true,
         "textposition": "auto",
         "type": "bar",
         "x": [
          "Argentina",
          "Australia",
          "Brazil",
          "Canada",
          "Chile",
          "Côte d'Ivoire",
          "Egypt",
          "France",
          "Germany",
          "Great Britain",
          "Honduras",
          "Japan",
          "Mexico",
          "Netherlands",
          "New Zealand",
          "People's Republic of China",
          "Republic of Korea",
          "Romania",
          "Saudi Arabia",
          "South Africa",
          "Spain",
          "Sweden",
          "United States of America",
          "Zambia"
         ],
         "xaxis": "x",
         "y": [
          19,
          43,
          41,
          22,
          21,
          20,
          20,
          21,
          17,
          21,
          20,
          42,
          21,
          20,
          39,
          20,
          20,
          20,
          21,
          19,
          19,
          20,
          20,
          21
         ],
         "yaxis": "y"
        },
        {
         "alignmentgroup": "True",
         "hovertemplate": "Discipline=Golf<br>NOC=%{x}<br>Count=%{y}<extra></extra>",
         "legendgroup": "Golf",
         "marker": {
          "color": "#FFA15A",
          "pattern": {
           "shape": ""
          }
         },
         "name": "Golf",
         "offsetgroup": "Golf",
         "orientation": "v",
         "showlegend": true,
         "textposition": "auto",
         "type": "bar",
         "x": [
          "Argentina",
          "Australia",
          "Austria",
          "Belgium",
          "Canada",
          "Chile",
          "Chinese Taipei",
          "Colombia",
          "Czech Republic",
          "Denmark",
          "Ecuador",
          "Finland",
          "France",
          "Germany",
          "Great Britain",
          "Hong Kong, China",
          "India",
          "Ireland",
          "Italy",
          "Japan",
          "Malaysia",
          "Mexico",
          "Morocco",
          "Netherlands",
          "New Zealand",
          "Norway",
          "Paraguay",
          "People's Republic of China",
          "Philippines",
          "Poland",
          "Puerto Rico",
          "Republic of Korea",
          "Slovenia",
          "South Africa",
          "Spain",
          "Sweden",
          "Switzerland",
          "Thailand",
          "United States of America",
          "Venezuela",
          "Zimbabwe"
         ],
         "xaxis": "x",
         "y": [
          1,
          4,
          3,
          3,
          4,
          2,
          3,
          2,
          2,
          4,
          1,
          4,
          4,
          4,
          4,
          1,
          3,
          4,
          4,
          4,
          2,
          4,
          1,
          1,
          2,
          2,
          1,
          4,
          3,
          1,
          1,
          5,
          1,
          3,
          3,
          4,
          2,
          4,
          8,
          1,
          1
         ],
         "yaxis": "y"
        },
        {
         "alignmentgroup": "True",
         "hovertemplate": "Discipline=Hockey<br>NOC=%{x}<br>Count=%{y}<extra></extra>",
         "legendgroup": "Hockey",
         "marker": {
          "color": "#19d3f3",
          "pattern": {
           "shape": ""
          }
         },
         "name": "Hockey",
         "offsetgroup": "Hockey",
         "orientation": "v",
         "showlegend": true,
         "textposition": "auto",
         "type": "bar",
         "x": [
          "Argentina",
          "Australia",
          "Belgium",
          "Canada",
          "Germany",
          "Great Britain",
          "India",
          "Ireland",
          "Japan",
          "Netherlands",
          "New Zealand",
          "People's Republic of China",
          "South Africa",
          "Spain"
         ],
         "xaxis": "x",
         "y": [
          35,
          35,
          16,
          18,
          33,
          34,
          35,
          18,
          32,
          33,
          30,
          17,
          35,
          35
         ],
         "yaxis": "y"
        },
        {
         "alignmentgroup": "True",
         "hovertemplate": "Discipline=Modern Pentathlon<br>NOC=%{x}<br>Count=%{y}<extra></extra>",
         "legendgroup": "Modern Pentathlon",
         "marker": {
          "color": "#FF6692",
          "pattern": {
           "shape": ""
          }
         },
         "name": "Modern Pentathlon",
         "offsetgroup": "Modern Pentathlon",
         "orientation": "v",
         "showlegend": true,
         "textposition": "auto",
         "type": "bar",
         "x": [
          "Argentina",
          "Australia",
          "Belarus",
          "Brazil",
          "Chile",
          "Cuba",
          "Czech Republic",
          "Ecuador",
          "Egypt",
          "France",
          "Germany",
          "Great Britain",
          "Guatemala",
          "Hungary",
          "Ireland",
          "Italy",
          "Japan",
          "Kazakhstan",
          "Latvia",
          "Lithuania",
          "Mexico",
          "People's Republic of China",
          "Poland",
          "ROC",
          "Republic of Korea",
          "Spain",
          "Turkey",
          "Ukraine",
          "United States of America",
          "Uzbekistan"
         ],
         "xaxis": "x",
         "y": [
          1,
          2,
          3,
          1,
          1,
          2,
          2,
          1,
          4,
          4,
          4,
          4,
          1,
          3,
          1,
          2,
          3,
          2,
          1,
          3,
          4,
          4,
          3,
          3,
          3,
          1,
          1,
          1,
          2,
          2
         ],
         "yaxis": "y"
        },
        {
         "alignmentgroup": "True",
         "hovertemplate": "Discipline=Rugby Sevens<br>NOC=%{x}<br>Count=%{y}<extra></extra>",
         "legendgroup": "Rugby Sevens",
         "marker": {
          "color": "#B6E880",
          "pattern": {
           "shape": ""
          }
         },
         "name": "Rugby Sevens",
         "offsetgroup": "Rugby Sevens",
         "orientation": "v",
         "showlegend": true,
         "textposition": "auto",
         "type": "bar",
         "x": [
          "Argentina",
          "Australia",
          "Brazil",
          "Canada",
          "Fiji",
          "France",
          "Great Britain",
          "Ireland",
          "Japan",
          "Kenya",
          "New Zealand",
          "People's Republic of China",
          "ROC",
          "Republic of Korea",
          "South Africa",
          "United States of America"
         ],
         "xaxis": "x",
         "y": [
          12,
          23,
          12,
          23,
          22,
          11,
          23,
          12,
          32,
          21,
          23,
          11,
          11,
          11,
          12,
          24
         ],
         "yaxis": "y"
        },
        {
         "alignmentgroup": "True",
         "hovertemplate": "Discipline=Surfing<br>NOC=%{x}<br>Count=%{y}<extra></extra>",
         "legendgroup": "Surfing",
         "marker": {
          "color": "#FF97FF",
          "pattern": {
           "shape": ""
          }
         },
         "name": "Surfing",
         "offsetgroup": "Surfing",
         "orientation": "v",
         "showlegend": true,
         "textposition": "auto",
         "type": "bar",
         "x": [
          "Argentina",
          "Australia",
          "Brazil",
          "Chile",
          "Costa Rica",
          "Ecuador",
          "France",
          "Germany",
          "Indonesia",
          "Israel",
          "Italy",
          "Japan",
          "Morocco",
          "New Zealand",
          "Peru",
          "Portugal",
          "South Africa",
          "United States of America"
         ],
         "xaxis": "x",
         "y": [
          1,
          4,
          4,
          1,
          2,
          1,
          4,
          1,
          1,
          1,
          1,
          3,
          1,
          2,
          4,
          2,
          1,
          4
         ],
         "yaxis": "y"
        },
        {
         "alignmentgroup": "True",
         "hovertemplate": "Discipline=Tennis<br>NOC=%{x}<br>Count=%{y}<extra></extra>",
         "legendgroup": "Tennis",
         "marker": {
          "color": "#FECB52",
          "pattern": {
           "shape": ""
          }
         },
         "name": "Tennis",
         "offsetgroup": "Tennis",
         "orientation": "v",
         "showlegend": true,
         "textposition": "auto",
         "type": "bar",
         "x": [
          "Argentina",
          "Australia",
          "Austria",
          "Belarus",
          "Belgium",
          "Bolivia",
          "Brazil",
          "Canada",
          "Chile",
          "Chinese Taipei",
          "Colombia",
          "Croatia",
          "Czech Republic",
          "Egypt",
          "Estonia",
          "France",
          "Georgia",
          "Germany",
          "Great Britain",
          "Greece",
          "Hungary",
          "India",
          "Italy",
          "Japan",
          "Kazakhstan",
          "Latvia",
          "Mexico",
          "Netherlands",
          "New Zealand",
          "Paraguay",
          "People's Republic of China",
          "Peru",
          "Poland",
          "Portugal",
          "ROC",
          "Republic of Korea",
          "Romania",
          "Serbia",
          "Slovakia",
          "Spain",
          "Sweden",
          "Switzerland",
          "Tunisia",
          "Ukraine",
          "United States of America",
          "Uzbekistan"
         ],
         "xaxis": "x",
         "y": [
          7,
          10,
          2,
          3,
          4,
          1,
          5,
          4,
          1,
          5,
          3,
          6,
          6,
          2,
          1,
          9,
          1,
          9,
          5,
          1,
          1,
          3,
          6,
          10,
          7,
          1,
          2,
          4,
          1,
          1,
          5,
          1,
          6,
          1,
          8,
          1,
          3,
          4,
          3,
          7,
          1,
          2,
          1,
          3,
          10,
          1
         ],
         "yaxis": "y"
        },
        {
         "alignmentgroup": "True",
         "hovertemplate": "Discipline=Triathlon<br>NOC=%{x}<br>Count=%{y}<extra></extra>",
         "legendgroup": "Triathlon",
         "marker": {
          "color": "#636efa",
          "pattern": {
           "shape": ""
          }
         },
         "name": "Triathlon",
         "offsetgroup": "Triathlon",
         "orientation": "v",
         "showlegend": true,
         "textposition": "auto",
         "type": "bar",
         "x": [
          "Argentina",
          "Australia",
          "Austria",
          "Azerbaijan",
          "Belgium",
          "Bermuda",
          "Brazil",
          "Canada",
          "Chile",
          "Czech Republic",
          "Ecuador",
          "Egypt",
          "Estonia",
          "France",
          "Germany",
          "Great Britain",
          "Hong Kong, China",
          "Hungary",
          "Ireland",
          "Israel",
          "Italy",
          "Japan",
          "Luxembourg",
          "Mexico",
          "Morocco",
          "Netherlands",
          "New Zealand",
          "Norway",
          "People's Republic of China",
          "Portugal",
          "ROC",
          "Romania",
          "South Africa",
          "Spain",
          "Switzerland",
          "Syrian Arab Republic",
          "Ukraine",
          "United States of America"
         ],
         "xaxis": "x",
         "y": [
          1,
          5,
          4,
          1,
          3,
          1,
          3,
          4,
          2,
          2,
          1,
          1,
          1,
          5,
          4,
          5,
          1,
          4,
          2,
          2,
          5,
          4,
          1,
          4,
          1,
          3,
          3,
          4,
          1,
          3,
          4,
          1,
          4,
          5,
          4,
          1,
          1,
          5
         ],
         "yaxis": "y"
        },
        {
         "alignmentgroup": "True",
         "hovertemplate": "Discipline=Volleyball<br>NOC=%{x}<br>Count=%{y}<extra></extra>",
         "legendgroup": "Volleyball",
         "marker": {
          "color": "#EF553B",
          "pattern": {
           "shape": ""
          }
         },
         "name": "Volleyball",
         "offsetgroup": "Volleyball",
         "orientation": "v",
         "showlegend": true,
         "textposition": "auto",
         "type": "bar",
         "x": [
          "Argentina",
          "Brazil",
          "Canada",
          "Dominican Republic",
          "France",
          "Islamic Republic of Iran",
          "Italy",
          "Japan",
          "Kenya",
          "People's Republic of China",
          "Poland",
          "ROC",
          "Republic of Korea",
          "Serbia",
          "Tunisia",
          "Turkey",
          "United States of America",
          "Venezuela"
         ],
         "xaxis": "x",
         "y": [
          23,
          23,
          12,
          12,
          11,
          12,
          22,
          22,
          12,
          12,
          11,
          22,
          12,
          12,
          10,
          12,
          22,
          12
         ],
         "yaxis": "y"
        },
        {
         "alignmentgroup": "True",
         "hovertemplate": "Discipline=Archery<br>NOC=%{x}<br>Count=%{y}<extra></extra>",
         "legendgroup": "Archery",
         "marker": {
          "color": "#00cc96",
          "pattern": {
           "shape": ""
          }
         },
         "name": "Archery",
         "offsetgroup": "Archery",
         "orientation": "v",
         "showlegend": true,
         "textposition": "auto",
         "type": "bar",
         "x": [
          "Australia",
          "Bangladesh",
          "Belarus",
          "Belgium",
          "Bhutan",
          "Brazil",
          "Canada",
          "Chad",
          "Chile",
          "Chinese Taipei",
          "Colombia",
          "Czech Republic",
          "Denmark",
          "Ecuador",
          "Egypt",
          "Estonia",
          "Finland",
          "France",
          "Germany",
          "Great Britain",
          "Greece",
          "Hungary",
          "India",
          "Indonesia",
          "Islamic Republic of Iran",
          "Israel",
          "Italy",
          "Japan",
          "Kazakhstan",
          "Luxembourg",
          "Malawi",
          "Malaysia",
          "Mexico",
          "Mongolia",
          "Netherlands",
          "People's Republic of China",
          "Poland",
          "ROC",
          "Republic of Korea",
          "Republic of Moldova",
          "Romania",
          "Slovakia",
          "Slovenia",
          "Spain",
          "Sweden",
          "Tunisia",
          "Turkey",
          "Ukraine",
          "United States of America",
          "Vietnam",
          "Virgin Islands, US"
         ],
         "xaxis": "x",
         "y": [
          2,
          2,
          3,
          1,
          1,
          2,
          1,
          1,
          1,
          6,
          2,
          1,
          1,
          1,
          2,
          1,
          1,
          4,
          4,
          5,
          1,
          1,
          4,
          4,
          1,
          1,
          3,
          6,
          3,
          1,
          1,
          2,
          4,
          2,
          4,
          6,
          2,
          3,
          6,
          2,
          1,
          1,
          1,
          2,
          1,
          2,
          2,
          4,
          6,
          2,
          1
         ],
         "yaxis": "y"
        },
        {
         "alignmentgroup": "True",
         "hovertemplate": "Discipline=Artistic Swimming<br>NOC=%{x}<br>Count=%{y}<extra></extra>",
         "legendgroup": "Artistic Swimming",
         "marker": {
          "color": "#ab63fa",
          "pattern": {
           "shape": ""
          }
         },
         "name": "Artistic Swimming",
         "offsetgroup": "Artistic Swimming",
         "orientation": "v",
         "showlegend": true,
         "textposition": "auto",
         "type": "bar",
         "x": [
          "Australia",
          "Austria",
          "Belarus",
          "Canada",
          "Colombia",
          "Egypt",
          "France",
          "Great Britain",
          "Greece",
          "Israel",
          "Italy",
          "Japan",
          "Kazakhstan",
          "Liechtenstein",
          "Mexico",
          "Netherlands",
          "People's Republic of China",
          "ROC",
          "South Africa",
          "Spain",
          "Ukraine",
          "United States of America"
         ],
         "xaxis": "x",
         "y": [
          7,
          2,
          2,
          6,
          2,
          8,
          2,
          1,
          8,
          2,
          8,
          8,
          2,
          2,
          2,
          1,
          8,
          7,
          2,
          8,
          8,
          2
         ],
         "yaxis": "y"
        },
        {
         "alignmentgroup": "True",
         "hovertemplate": "Discipline=Badminton<br>NOC=%{x}<br>Count=%{y}<extra></extra>",
         "legendgroup": "Badminton",
         "marker": {
          "color": "#FFA15A",
          "pattern": {
           "shape": ""
          }
         },
         "name": "Badminton",
         "offsetgroup": "Badminton",
         "orientation": "v",
         "showlegend": true,
         "textposition": "auto",
         "type": "bar",
         "x": [
          "Australia",
          "Austria",
          "Azerbaijan",
          "Belgium",
          "Brazil",
          "Bulgaria",
          "Canada",
          "Chinese Taipei",
          "Denmark",
          "Egypt",
          "Estonia",
          "Finland",
          "France",
          "Germany",
          "Great Britain",
          "Guatemala",
          "Hong Kong, China",
          "Hungary",
          "India",
          "Indonesia",
          "Ireland",
          "Islamic Republic of Iran",
          "Israel",
          "Japan",
          "Malaysia",
          "Maldives",
          "Malta",
          "Mauritius",
          "Mexico",
          "Myanmar",
          "Netherlands",
          "Nigeria",
          "Pakistan",
          "People's Republic of China",
          "Peru",
          "ROC",
          "Refugee Olympic Team",
          "Republic of Korea",
          "Singapore",
          "Slovakia",
          "Spain",
          "Sri Lanka",
          "Suriname",
          "Sweden",
          "Switzerland",
          "Thailand",
          "Turkey",
          "Ukraine",
          "United States of America",
          "Vietnam"
         ],
         "xaxis": "x",
         "y": [
          4,
          1,
          1,
          1,
          2,
          2,
          8,
          5,
          8,
          3,
          2,
          1,
          4,
          5,
          7,
          2,
          4,
          2,
          3,
          10,
          1,
          1,
          2,
          11,
          8,
          1,
          1,
          1,
          2,
          1,
          3,
          2,
          1,
          14,
          1,
          3,
          1,
          10,
          2,
          1,
          2,
          1,
          1,
          1,
          1,
          7,
          1,
          2,
          4,
          2
         ],
         "yaxis": "y"
        },
        {
         "alignmentgroup": "True",
         "hovertemplate": "Discipline=Baseball/Softball<br>NOC=%{x}<br>Count=%{y}<extra></extra>",
         "legendgroup": "Baseball/Softball",
         "marker": {
          "color": "#19d3f3",
          "pattern": {
           "shape": ""
          }
         },
         "name": "Baseball/Softball",
         "offsetgroup": "Baseball/Softball",
         "orientation": "v",
         "showlegend": true,
         "textposition": "auto",
         "type": "bar",
         "x": [
          "Australia",
          "Canada",
          "Dominican Republic",
          "Israel",
          "Italy",
          "Japan",
          "Mexico",
          "Republic of Korea",
          "United States of America"
         ],
         "xaxis": "x",
         "y": [
          15,
          14,
          21,
          22,
          14,
          37,
          37,
          22,
          38
         ],
         "yaxis": "y"
        },
        {
         "alignmentgroup": "True",
         "hovertemplate": "Discipline=Cycling BMX Freestyle<br>NOC=%{x}<br>Count=%{y}<extra></extra>",
         "legendgroup": "Cycling BMX Freestyle",
         "marker": {
          "color": "#FF6692",
          "pattern": {
           "shape": ""
          }
         },
         "name": "Cycling BMX Freestyle",
         "offsetgroup": "Cycling BMX Freestyle",
         "orientation": "v",
         "showlegend": true,
         "textposition": "auto",
         "type": "bar",
         "x": [
          "Australia",
          "Chile",
          "Costa Rica",
          "France",
          "Germany",
          "Great Britain",
          "Japan",
          "ROC",
          "Switzerland",
          "United States of America",
          "Venezuela"
         ],
         "xaxis": "x",
         "y": [
          2,
          1,
          1,
          1,
          2,
          2,
          2,
          2,
          1,
          4,
          1
         ],
         "yaxis": "y"
        },
        {
         "alignmentgroup": "True",
         "hovertemplate": "Discipline=Cycling Track<br>NOC=%{x}<br>Count=%{y}<extra></extra>",
         "legendgroup": "Cycling Track",
         "marker": {
          "color": "#B6E880",
          "pattern": {
           "shape": ""
          }
         },
         "name": "Cycling Track",
         "offsetgroup": "Cycling Track",
         "orientation": "v",
         "showlegend": true,
         "textposition": "auto",
         "type": "bar",
         "x": [
          "Australia",
          "Austria",
          "Belarus",
          "Belgium",
          "Canada",
          "Colombia",
          "Czech Republic",
          "Denmark",
          "Egypt",
          "France",
          "Germany",
          "Great Britain",
          "Greece",
          "Hong Kong, China",
          "Ireland",
          "Italy",
          "Japan",
          "Kazakhstan",
          "Lithuania",
          "Malaysia",
          "Mexico",
          "Netherlands",
          "New Zealand",
          "Norway",
          "People's Republic of China",
          "Poland",
          "Portugal",
          "ROC",
          "Republic of Korea",
          "South Africa",
          "Spain",
          "Suriname",
          "Switzerland",
          "Trinidad and Tobago",
          "Ukraine",
          "United States of America"
         ],
         "xaxis": "x",
         "y": [
          16,
          3,
          2,
          5,
          14,
          1,
          1,
          7,
          1,
          12,
          18,
          15,
          1,
          4,
          6,
          10,
          7,
          2,
          2,
          2,
          3,
          9,
          16,
          1,
          5,
          9,
          1,
          9,
          1,
          3,
          2,
          1,
          6,
          2,
          2,
          9
         ],
         "yaxis": "y"
        },
        {
         "alignmentgroup": "True",
         "hovertemplate": "Discipline=Diving<br>NOC=%{x}<br>Count=%{y}<extra></extra>",
         "legendgroup": "Diving",
         "marker": {
          "color": "#FF97FF",
          "pattern": {
           "shape": ""
          }
         },
         "name": "Diving",
         "offsetgroup": "Diving",
         "orientation": "v",
         "showlegend": true,
         "textposition": "auto",
         "type": "bar",
         "x": [
          "Australia",
          "Brazil",
          "Canada",
          "Colombia",
          "Dominican Republic",
          "Egypt",
          "France",
          "Germany",
          "Great Britain",
          "Ireland",
          "Italy",
          "Jamaica",
          "Japan",
          "Malaysia",
          "Mexico",
          "Netherlands",
          "New Zealand",
          "Norway",
          "People's Republic of China",
          "Puerto Rico",
          "ROC",
          "Republic of Korea",
          "Singapore",
          "South Africa",
          "Spain",
          "Sweden",
          "Switzerland",
          "Ukraine",
          "United States of America",
          "Venezuela"
         ],
         "xaxis": "x",
         "y": [
          7,
          4,
          9,
          2,
          1,
          2,
          3,
          7,
          11,
          2,
          6,
          1,
          11,
          5,
          13,
          2,
          1,
          1,
          8,
          1,
          6,
          5,
          2,
          2,
          2,
          1,
          1,
          6,
          10,
          1
         ],
         "yaxis": "y"
        },
        {
         "alignmentgroup": "True",
         "hovertemplate": "Discipline=Karate<br>NOC=%{x}<br>Count=%{y}<extra></extra>",
         "legendgroup": "Karate",
         "marker": {
          "color": "#FECB52",
          "pattern": {
           "shape": ""
          }
         },
         "name": "Karate",
         "offsetgroup": "Karate",
         "orientation": "v",
         "showlegend": true,
         "textposition": "auto",
         "type": "bar",
         "x": [
          "Australia",
          "Austria",
          "Azerbaijan",
          "Bulgaria",
          "Canada",
          "Chinese Taipei",
          "Croatia",
          "Egypt",
          "France",
          "Georgia",
          "Germany",
          "Hong Kong, China",
          "Hungary",
          "Islamic Republic of Iran",
          "Italy",
          "Japan",
          "Kazakhstan",
          "Kuwait",
          "Latvia",
          "Morocco",
          "New Zealand",
          "North Macedonia",
          "People's Republic of China",
          "Peru",
          "ROC",
          "Refugee Olympic Team",
          "Republic of Korea",
          "Saudi Arabia",
          "Serbia",
          "Spain",
          "Switzerland",
          "Turkey",
          "Ukraine",
          "United States of America",
          "Venezuela"
         ],
         "xaxis": "x",
         "y": [
          1,
          1,
          3,
          1,
          1,
          2,
          1,
          4,
          3,
          1,
          4,
          1,
          1,
          3,
          5,
          8,
          5,
          1,
          1,
          1,
          1,
          1,
          2,
          1,
          1,
          2,
          1,
          1,
          1,
          2,
          1,
          5,
          3,
          4,
          3
         ],
         "yaxis": "y"
        },
        {
         "alignmentgroup": "True",
         "hovertemplate": "Discipline=Rhythmic Gymnastics<br>NOC=%{x}<br>Count=%{y}<extra></extra>",
         "legendgroup": "Rhythmic Gymnastics",
         "marker": {
          "color": "#636efa",
          "pattern": {
           "shape": ""
          }
         },
         "name": "Rhythmic Gymnastics",
         "offsetgroup": "Rhythmic Gymnastics",
         "orientation": "v",
         "showlegend": true,
         "textposition": "auto",
         "type": "bar",
         "x": [
          "Australia",
          "Azerbaijan",
          "Belarus",
          "Brazil",
          "Bulgaria",
          "Cape Verde",
          "Egypt",
          "Georgia",
          "Hungary",
          "Israel",
          "Italy",
          "Japan",
          "Kazakhstan",
          "Mexico",
          "People's Republic of China",
          "ROC",
          "Slovenia",
          "Ukraine",
          "United States of America",
          "Uzbekistan"
         ],
         "xaxis": "x",
         "y": [
          6,
          6,
          7,
          5,
          7,
          1,
          6,
          1,
          1,
          7,
          7,
          7,
          1,
          1,
          5,
          7,
          1,
          7,
          7,
          5
         ],
         "yaxis": "y"
        },
        {
         "alignmentgroup": "True",
         "hovertemplate": "Discipline=Skateboarding<br>NOC=%{x}<br>Count=%{y}<extra></extra>",
         "legendgroup": "Skateboarding",
         "marker": {
          "color": "#EF553B",
          "pattern": {
           "shape": ""
          }
         },
         "name": "Skateboarding",
         "offsetgroup": "Skateboarding",
         "orientation": "v",
         "showlegend": true,
         "textposition": "auto",
         "type": "bar",
         "x": [
          "Australia",
          "Austria",
          "Belgium",
          "Brazil",
          "Canada",
          "Chile",
          "Colombia",
          "Denmark",
          "Finland",
          "France",
          "Germany",
          "Great Britain",
          "Italy",
          "Japan",
          "Netherlands",
          "People's Republic of China",
          "Peru",
          "Philippines",
          "Poland",
          "Portugal",
          "Puerto Rico",
          "South Africa",
          "Spain",
          "Sweden",
          "United States of America"
         ],
         "xaxis": "x",
         "y": [
          5,
          1,
          2,
          12,
          4,
          1,
          1,
          1,
          1,
          5,
          2,
          1,
          3,
          10,
          2,
          2,
          1,
          1,
          1,
          1,
          1,
          3,
          4,
          1,
          11
         ],
         "yaxis": "y"
        },
        {
         "alignmentgroup": "True",
         "hovertemplate": "Discipline=Sport Climbing<br>NOC=%{x}<br>Count=%{y}<extra></extra>",
         "legendgroup": "Sport Climbing",
         "marker": {
          "color": "#00cc96",
          "pattern": {
           "shape": ""
          }
         },
         "name": "Sport Climbing",
         "offsetgroup": "Sport Climbing",
         "orientation": "v",
         "showlegend": true,
         "textposition": "auto",
         "type": "bar",
         "x": [
          "Australia",
          "Austria",
          "Canada",
          "Czech Republic",
          "France",
          "Germany",
          "Great Britain",
          "Italy",
          "Japan",
          "Kazakhstan",
          "People's Republic of China",
          "Poland",
          "ROC",
          "Republic of Korea",
          "Slovenia",
          "South Africa",
          "Spain",
          "Switzerland",
          "United States of America"
         ],
         "xaxis": "x",
         "y": [
          2,
          2,
          2,
          1,
          4,
          1,
          1,
          3,
          4,
          1,
          2,
          1,
          2,
          2,
          2,
          2,
          1,
          1,
          3
         ],
         "yaxis": "y"
        },
        {
         "alignmentgroup": "True",
         "hovertemplate": "Discipline=Trampoline Gymnastics<br>NOC=%{x}<br>Count=%{y}<extra></extra>",
         "legendgroup": "Trampoline Gymnastics",
         "marker": {
          "color": "#ab63fa",
          "pattern": {
           "shape": ""
          }
         },
         "name": "Trampoline Gymnastics",
         "offsetgroup": "Trampoline Gymnastics",
         "orientation": "v",
         "showlegend": true,
         "textposition": "auto",
         "type": "bar",
         "x": [
          "Australia",
          "Belarus",
          "Canada",
          "Colombia",
          "Egypt",
          "France",
          "Great Britain",
          "Japan",
          "Mexico",
          "New Zealand",
          "People's Republic of China",
          "Portugal",
          "ROC",
          "Ukraine",
          "United States of America"
         ],
         "xaxis": "x",
         "y": [
          2,
          2,
          2,
          1,
          2,
          2,
          2,
          4,
          1,
          1,
          4,
          1,
          4,
          1,
          2
         ],
         "yaxis": "y"
        },
        {
         "alignmentgroup": "True",
         "hovertemplate": "Discipline=Water Polo<br>NOC=%{x}<br>Count=%{y}<extra></extra>",
         "legendgroup": "Water Polo",
         "marker": {
          "color": "#FFA15A",
          "pattern": {
           "shape": ""
          }
         },
         "name": "Water Polo",
         "offsetgroup": "Water Polo",
         "orientation": "v",
         "showlegend": true,
         "textposition": "auto",
         "type": "bar",
         "x": [
          "Australia",
          "Canada",
          "Croatia",
          "Greece",
          "Hungary",
          "Italy",
          "Japan",
          "Kazakhstan",
          "Montenegro",
          "Netherlands",
          "People's Republic of China",
          "ROC",
          "Serbia",
          "South Africa",
          "Spain",
          "United States of America"
         ],
         "xaxis": "x",
         "y": [
          25,
          13,
          12,
          12,
          25,
          12,
          23,
          11,
          13,
          13,
          12,
          12,
          13,
          22,
          26,
          25
         ],
         "yaxis": "y"
        },
        {
         "alignmentgroup": "True",
         "hovertemplate": "Discipline=3x3 Basketball<br>NOC=%{x}<br>Count=%{y}<extra></extra>",
         "legendgroup": "3x3 Basketball",
         "marker": {
          "color": "#19d3f3",
          "pattern": {
           "shape": ""
          }
         },
         "name": "3x3 Basketball",
         "offsetgroup": "3x3 Basketball",
         "orientation": "v",
         "showlegend": true,
         "textposition": "auto",
         "type": "bar",
         "x": [
          "Belgium",
          "France",
          "Italy",
          "Japan",
          "Latvia",
          "Mongolia",
          "Netherlands",
          "People's Republic of China",
          "Poland",
          "ROC",
          "Romania",
          "Serbia",
          "United States of America"
         ],
         "xaxis": "x",
         "y": [
          4,
          3,
          4,
          8,
          3,
          4,
          4,
          8,
          4,
          8,
          4,
          4,
          4
         ],
         "yaxis": "y"
        }
       ],
       "layout": {
        "barmode": "relative",
        "legend": {
         "title": {
          "text": "Discipline"
         },
         "tracegroupgap": 0
        },
        "template": {
         "data": {
          "bar": [
           {
            "error_x": {
             "color": "#2a3f5f"
            },
            "error_y": {
             "color": "#2a3f5f"
            },
            "marker": {
             "line": {
              "color": "#E5ECF6",
              "width": 0.5
             },
             "pattern": {
              "fillmode": "overlay",
              "size": 10,
              "solidity": 0.2
             }
            },
            "type": "bar"
           }
          ],
          "barpolar": [
           {
            "marker": {
             "line": {
              "color": "#E5ECF6",
              "width": 0.5
             },
             "pattern": {
              "fillmode": "overlay",
              "size": 10,
              "solidity": 0.2
             }
            },
            "type": "barpolar"
           }
          ],
          "carpet": [
           {
            "aaxis": {
             "endlinecolor": "#2a3f5f",
             "gridcolor": "white",
             "linecolor": "white",
             "minorgridcolor": "white",
             "startlinecolor": "#2a3f5f"
            },
            "baxis": {
             "endlinecolor": "#2a3f5f",
             "gridcolor": "white",
             "linecolor": "white",
             "minorgridcolor": "white",
             "startlinecolor": "#2a3f5f"
            },
            "type": "carpet"
           }
          ],
          "choropleth": [
           {
            "colorbar": {
             "outlinewidth": 0,
             "ticks": ""
            },
            "type": "choropleth"
           }
          ],
          "contour": [
           {
            "colorbar": {
             "outlinewidth": 0,
             "ticks": ""
            },
            "colorscale": [
             [
              0,
              "#0d0887"
             ],
             [
              0.1111111111111111,
              "#46039f"
             ],
             [
              0.2222222222222222,
              "#7201a8"
             ],
             [
              0.3333333333333333,
              "#9c179e"
             ],
             [
              0.4444444444444444,
              "#bd3786"
             ],
             [
              0.5555555555555556,
              "#d8576b"
             ],
             [
              0.6666666666666666,
              "#ed7953"
             ],
             [
              0.7777777777777778,
              "#fb9f3a"
             ],
             [
              0.8888888888888888,
              "#fdca26"
             ],
             [
              1,
              "#f0f921"
             ]
            ],
            "type": "contour"
           }
          ],
          "contourcarpet": [
           {
            "colorbar": {
             "outlinewidth": 0,
             "ticks": ""
            },
            "type": "contourcarpet"
           }
          ],
          "heatmap": [
           {
            "colorbar": {
             "outlinewidth": 0,
             "ticks": ""
            },
            "colorscale": [
             [
              0,
              "#0d0887"
             ],
             [
              0.1111111111111111,
              "#46039f"
             ],
             [
              0.2222222222222222,
              "#7201a8"
             ],
             [
              0.3333333333333333,
              "#9c179e"
             ],
             [
              0.4444444444444444,
              "#bd3786"
             ],
             [
              0.5555555555555556,
              "#d8576b"
             ],
             [
              0.6666666666666666,
              "#ed7953"
             ],
             [
              0.7777777777777778,
              "#fb9f3a"
             ],
             [
              0.8888888888888888,
              "#fdca26"
             ],
             [
              1,
              "#f0f921"
             ]
            ],
            "type": "heatmap"
           }
          ],
          "heatmapgl": [
           {
            "colorbar": {
             "outlinewidth": 0,
             "ticks": ""
            },
            "colorscale": [
             [
              0,
              "#0d0887"
             ],
             [
              0.1111111111111111,
              "#46039f"
             ],
             [
              0.2222222222222222,
              "#7201a8"
             ],
             [
              0.3333333333333333,
              "#9c179e"
             ],
             [
              0.4444444444444444,
              "#bd3786"
             ],
             [
              0.5555555555555556,
              "#d8576b"
             ],
             [
              0.6666666666666666,
              "#ed7953"
             ],
             [
              0.7777777777777778,
              "#fb9f3a"
             ],
             [
              0.8888888888888888,
              "#fdca26"
             ],
             [
              1,
              "#f0f921"
             ]
            ],
            "type": "heatmapgl"
           }
          ],
          "histogram": [
           {
            "marker": {
             "pattern": {
              "fillmode": "overlay",
              "size": 10,
              "solidity": 0.2
             }
            },
            "type": "histogram"
           }
          ],
          "histogram2d": [
           {
            "colorbar": {
             "outlinewidth": 0,
             "ticks": ""
            },
            "colorscale": [
             [
              0,
              "#0d0887"
             ],
             [
              0.1111111111111111,
              "#46039f"
             ],
             [
              0.2222222222222222,
              "#7201a8"
             ],
             [
              0.3333333333333333,
              "#9c179e"
             ],
             [
              0.4444444444444444,
              "#bd3786"
             ],
             [
              0.5555555555555556,
              "#d8576b"
             ],
             [
              0.6666666666666666,
              "#ed7953"
             ],
             [
              0.7777777777777778,
              "#fb9f3a"
             ],
             [
              0.8888888888888888,
              "#fdca26"
             ],
             [
              1,
              "#f0f921"
             ]
            ],
            "type": "histogram2d"
           }
          ],
          "histogram2dcontour": [
           {
            "colorbar": {
             "outlinewidth": 0,
             "ticks": ""
            },
            "colorscale": [
             [
              0,
              "#0d0887"
             ],
             [
              0.1111111111111111,
              "#46039f"
             ],
             [
              0.2222222222222222,
              "#7201a8"
             ],
             [
              0.3333333333333333,
              "#9c179e"
             ],
             [
              0.4444444444444444,
              "#bd3786"
             ],
             [
              0.5555555555555556,
              "#d8576b"
             ],
             [
              0.6666666666666666,
              "#ed7953"
             ],
             [
              0.7777777777777778,
              "#fb9f3a"
             ],
             [
              0.8888888888888888,
              "#fdca26"
             ],
             [
              1,
              "#f0f921"
             ]
            ],
            "type": "histogram2dcontour"
           }
          ],
          "mesh3d": [
           {
            "colorbar": {
             "outlinewidth": 0,
             "ticks": ""
            },
            "type": "mesh3d"
           }
          ],
          "parcoords": [
           {
            "line": {
             "colorbar": {
              "outlinewidth": 0,
              "ticks": ""
             }
            },
            "type": "parcoords"
           }
          ],
          "pie": [
           {
            "automargin": true,
            "type": "pie"
           }
          ],
          "scatter": [
           {
            "marker": {
             "colorbar": {
              "outlinewidth": 0,
              "ticks": ""
             }
            },
            "type": "scatter"
           }
          ],
          "scatter3d": [
           {
            "line": {
             "colorbar": {
              "outlinewidth": 0,
              "ticks": ""
             }
            },
            "marker": {
             "colorbar": {
              "outlinewidth": 0,
              "ticks": ""
             }
            },
            "type": "scatter3d"
           }
          ],
          "scattercarpet": [
           {
            "marker": {
             "colorbar": {
              "outlinewidth": 0,
              "ticks": ""
             }
            },
            "type": "scattercarpet"
           }
          ],
          "scattergeo": [
           {
            "marker": {
             "colorbar": {
              "outlinewidth": 0,
              "ticks": ""
             }
            },
            "type": "scattergeo"
           }
          ],
          "scattergl": [
           {
            "marker": {
             "colorbar": {
              "outlinewidth": 0,
              "ticks": ""
             }
            },
            "type": "scattergl"
           }
          ],
          "scattermapbox": [
           {
            "marker": {
             "colorbar": {
              "outlinewidth": 0,
              "ticks": ""
             }
            },
            "type": "scattermapbox"
           }
          ],
          "scatterpolar": [
           {
            "marker": {
             "colorbar": {
              "outlinewidth": 0,
              "ticks": ""
             }
            },
            "type": "scatterpolar"
           }
          ],
          "scatterpolargl": [
           {
            "marker": {
             "colorbar": {
              "outlinewidth": 0,
              "ticks": ""
             }
            },
            "type": "scatterpolargl"
           }
          ],
          "scatterternary": [
           {
            "marker": {
             "colorbar": {
              "outlinewidth": 0,
              "ticks": ""
             }
            },
            "type": "scatterternary"
           }
          ],
          "surface": [
           {
            "colorbar": {
             "outlinewidth": 0,
             "ticks": ""
            },
            "colorscale": [
             [
              0,
              "#0d0887"
             ],
             [
              0.1111111111111111,
              "#46039f"
             ],
             [
              0.2222222222222222,
              "#7201a8"
             ],
             [
              0.3333333333333333,
              "#9c179e"
             ],
             [
              0.4444444444444444,
              "#bd3786"
             ],
             [
              0.5555555555555556,
              "#d8576b"
             ],
             [
              0.6666666666666666,
              "#ed7953"
             ],
             [
              0.7777777777777778,
              "#fb9f3a"
             ],
             [
              0.8888888888888888,
              "#fdca26"
             ],
             [
              1,
              "#f0f921"
             ]
            ],
            "type": "surface"
           }
          ],
          "table": [
           {
            "cells": {
             "fill": {
              "color": "#EBF0F8"
             },
             "line": {
              "color": "white"
             }
            },
            "header": {
             "fill": {
              "color": "#C8D4E3"
             },
             "line": {
              "color": "white"
             }
            },
            "type": "table"
           }
          ]
         },
         "layout": {
          "annotationdefaults": {
           "arrowcolor": "#2a3f5f",
           "arrowhead": 0,
           "arrowwidth": 1
          },
          "autotypenumbers": "strict",
          "coloraxis": {
           "colorbar": {
            "outlinewidth": 0,
            "ticks": ""
           }
          },
          "colorscale": {
           "diverging": [
            [
             0,
             "#8e0152"
            ],
            [
             0.1,
             "#c51b7d"
            ],
            [
             0.2,
             "#de77ae"
            ],
            [
             0.3,
             "#f1b6da"
            ],
            [
             0.4,
             "#fde0ef"
            ],
            [
             0.5,
             "#f7f7f7"
            ],
            [
             0.6,
             "#e6f5d0"
            ],
            [
             0.7,
             "#b8e186"
            ],
            [
             0.8,
             "#7fbc41"
            ],
            [
             0.9,
             "#4d9221"
            ],
            [
             1,
             "#276419"
            ]
           ],
           "sequential": [
            [
             0,
             "#0d0887"
            ],
            [
             0.1111111111111111,
             "#46039f"
            ],
            [
             0.2222222222222222,
             "#7201a8"
            ],
            [
             0.3333333333333333,
             "#9c179e"
            ],
            [
             0.4444444444444444,
             "#bd3786"
            ],
            [
             0.5555555555555556,
             "#d8576b"
            ],
            [
             0.6666666666666666,
             "#ed7953"
            ],
            [
             0.7777777777777778,
             "#fb9f3a"
            ],
            [
             0.8888888888888888,
             "#fdca26"
            ],
            [
             1,
             "#f0f921"
            ]
           ],
           "sequentialminus": [
            [
             0,
             "#0d0887"
            ],
            [
             0.1111111111111111,
             "#46039f"
            ],
            [
             0.2222222222222222,
             "#7201a8"
            ],
            [
             0.3333333333333333,
             "#9c179e"
            ],
            [
             0.4444444444444444,
             "#bd3786"
            ],
            [
             0.5555555555555556,
             "#d8576b"
            ],
            [
             0.6666666666666666,
             "#ed7953"
            ],
            [
             0.7777777777777778,
             "#fb9f3a"
            ],
            [
             0.8888888888888888,
             "#fdca26"
            ],
            [
             1,
             "#f0f921"
            ]
           ]
          },
          "colorway": [
           "#636efa",
           "#EF553B",
           "#00cc96",
           "#ab63fa",
           "#FFA15A",
           "#19d3f3",
           "#FF6692",
           "#B6E880",
           "#FF97FF",
           "#FECB52"
          ],
          "font": {
           "color": "#2a3f5f"
          },
          "geo": {
           "bgcolor": "white",
           "lakecolor": "white",
           "landcolor": "#E5ECF6",
           "showlakes": true,
           "showland": true,
           "subunitcolor": "white"
          },
          "hoverlabel": {
           "align": "left"
          },
          "hovermode": "closest",
          "mapbox": {
           "style": "light"
          },
          "paper_bgcolor": "white",
          "plot_bgcolor": "#E5ECF6",
          "polar": {
           "angularaxis": {
            "gridcolor": "white",
            "linecolor": "white",
            "ticks": ""
           },
           "bgcolor": "#E5ECF6",
           "radialaxis": {
            "gridcolor": "white",
            "linecolor": "white",
            "ticks": ""
           }
          },
          "scene": {
           "xaxis": {
            "backgroundcolor": "#E5ECF6",
            "gridcolor": "white",
            "gridwidth": 2,
            "linecolor": "white",
            "showbackground": true,
            "ticks": "",
            "zerolinecolor": "white"
           },
           "yaxis": {
            "backgroundcolor": "#E5ECF6",
            "gridcolor": "white",
            "gridwidth": 2,
            "linecolor": "white",
            "showbackground": true,
            "ticks": "",
            "zerolinecolor": "white"
           },
           "zaxis": {
            "backgroundcolor": "#E5ECF6",
            "gridcolor": "white",
            "gridwidth": 2,
            "linecolor": "white",
            "showbackground": true,
            "ticks": "",
            "zerolinecolor": "white"
           }
          },
          "shapedefaults": {
           "line": {
            "color": "#2a3f5f"
           }
          },
          "ternary": {
           "aaxis": {
            "gridcolor": "white",
            "linecolor": "white",
            "ticks": ""
           },
           "baxis": {
            "gridcolor": "white",
            "linecolor": "white",
            "ticks": ""
           },
           "bgcolor": "#E5ECF6",
           "caxis": {
            "gridcolor": "white",
            "linecolor": "white",
            "ticks": ""
           }
          },
          "title": {
           "x": 0.05
          },
          "xaxis": {
           "automargin": true,
           "gridcolor": "white",
           "linecolor": "white",
           "ticks": "",
           "title": {
            "standoff": 15
           },
           "zerolinecolor": "white",
           "zerolinewidth": 2
          },
          "yaxis": {
           "automargin": true,
           "gridcolor": "white",
           "linecolor": "white",
           "ticks": "",
           "title": {
            "standoff": 15
           },
           "zerolinecolor": "white",
           "zerolinewidth": 2
          }
         }
        },
        "title": {
         "text": "Number of Athletes from each country by Discipline"
        },
        "xaxis": {
         "anchor": "y",
         "domain": [
          0,
          1
         ],
         "title": {
          "text": "NOC"
         }
        },
        "yaxis": {
         "anchor": "x",
         "domain": [
          0,
          1
         ],
         "title": {
          "text": "Count"
         }
        }
       }
      },
      "text/html": [
       "<div>                            <div id=\"4f6e44ee-a50b-4257-8cbf-bbcfdeca7696\" class=\"plotly-graph-div\" style=\"height:525px; width:100%;\"></div>            <script type=\"text/javascript\">                require([\"plotly\"], function(Plotly) {                    window.PLOTLYENV=window.PLOTLYENV || {};                                    if (document.getElementById(\"4f6e44ee-a50b-4257-8cbf-bbcfdeca7696\")) {                    Plotly.newPlot(                        \"4f6e44ee-a50b-4257-8cbf-bbcfdeca7696\",                        [{\"alignmentgroup\":\"True\",\"hovertemplate\":\"Discipline=Athletics<br>NOC=%{x}<br>Count=%{y}<extra></extra>\",\"legendgroup\":\"Athletics\",\"marker\":{\"color\":\"#636efa\",\"pattern\":{\"shape\":\"\"}},\"name\":\"Athletics\",\"offsetgroup\":\"Athletics\",\"orientation\":\"v\",\"showlegend\":true,\"textposition\":\"auto\",\"type\":\"bar\",\"x\":[\"Afghanistan\",\"Albania\",\"Algeria\",\"American Samoa\",\"Andorra\",\"Angola\",\"Antigua and Barbuda\",\"Argentina\",\"Armenia\",\"Australia\",\"Austria\",\"Azerbaijan\",\"Bahamas\",\"Bahrain\",\"Bangladesh\",\"Barbados\",\"Belarus\",\"Belgium\",\"Belize\",\"Benin\",\"Bolivia\",\"Bosnia and Herzegovina\",\"Botswana\",\"Brazil\",\"Brunei Darussalam\",\"Bulgaria\",\"Burkina Faso\",\"Burundi\",\"Cambodia\",\"Cameroon\",\"Canada\",\"Cape Verde\",\"Cayman Islands\",\"Central African Republic\",\"Chad\",\"Chile\",\"Chinese Taipei\",\"Colombia\",\"Comoros\",\"Congo\",\"Cook Islands\",\"Costa Rica\",\"Croatia\",\"Cuba\",\"Cyprus\",\"Czech Republic\",\"C\\u00f4te d'Ivoire\",\"Democratic Republic of Timor-Leste\",\"Democratic Republic of the Congo\",\"Denmark\",\"Djibouti\",\"Dominica\",\"Dominican Republic\",\"Ecuador\",\"Egypt\",\"El Salvador\",\"Equatorial Guinea\",\"Eritrea\",\"Estonia\",\"Eswatini\",\"Ethiopia\",\"Federated States of Micronesia\",\"Fiji\",\"Finland\",\"France\",\"Gabon\",\"Gambia\",\"Georgia\",\"Germany\",\"Ghana\",\"Great Britain\",\"Greece\",\"Grenada\",\"Guam\",\"Guatemala\",\"Guinea\",\"Guinea-Bissau\",\"Guyana\",\"Haiti\",\"Honduras\",\"Hong Kong, China\",\"Hungary\",\"Iceland\",\"India\",\"Indonesia\",\"Iraq\",\"Ireland\",\"Islamic Republic of Iran\",\"Israel\",\"Italy\",\"Jamaica\",\"Japan\",\"Jordan\",\"Kazakhstan\",\"Kenya\",\"Kiribati\",\"Kosovo\",\"Kuwait\",\"Kyrgyzstan\",\"Lao People's Democratic Republic\",\"Latvia\",\"Lebanon\",\"Lesotho\",\"Liberia\",\"Libya\",\"Lithuania\",\"Luxembourg\",\"Madagascar\",\"Malawi\",\"Malaysia\",\"Maldives\",\"Mali\",\"Malta\",\"Mauritania\",\"Mauritius\",\"Mexico\",\"Monaco\",\"Mongolia\",\"Montenegro\",\"Morocco\",\"Mozambique\",\"Namibia\",\"Nauru\",\"Nepal\",\"Netherlands\",\"New Zealand\",\"Nicaragua\",\"Niger\",\"Nigeria\",\"North Macedonia\",\"Norway\",\"Oman\",\"Pakistan\",\"Palau\",\"Palestine\",\"Panama\",\"Papua New Guinea\",\"Paraguay\",\"People's Republic of China\",\"Peru\",\"Philippines\",\"Poland\",\"Portugal\",\"Puerto Rico\",\"Qatar\",\"ROC\",\"Refugee Olympic Team\",\"Republic of Korea\",\"Republic of Moldova\",\"Romania\",\"Rwanda\",\"Saint Kitts and Nevis\",\"Saint Lucia\",\"Samoa\",\"Sao Tome and Principe\",\"Saudi Arabia\",\"Senegal\",\"Serbia\",\"Seychelles\",\"Sierra Leone\",\"Singapore\",\"Slovakia\",\"Slovenia\",\"Solomon Islands\",\"Somalia\",\"South Africa\",\"South Sudan\",\"Spain\",\"Sri Lanka\",\"Sudan\",\"Sweden\",\"Switzerland\",\"Syrian Arab Republic\",\"Tajikistan\",\"Thailand\",\"Togo\",\"Tonga\",\"Trinidad and Tobago\",\"Tunisia\",\"Turkey\",\"Turkmenistan\",\"Tuvalu\",\"Uganda\",\"Ukraine\",\"United Republic of Tanzania\",\"United States of America\",\"Uruguay\",\"Uzbekistan\",\"Venezuela\",\"Vietnam\",\"Virgin Islands, British\",\"Virgin Islands, US\",\"Yemen\",\"Zambia\",\"Zimbabwe\"],\"xaxis\":\"x\",\"y\":[2,1,8,1,1,1,2,5,1,65,7,2,14,13,1,6,33,30,2,3,2,2,9,53,1,5,2,3,1,1,56,1,2,1,1,3,6,24,2,2,1,3,7,18,3,31,3,1,1,16,2,2,7,18,5,1,2,9,7,1,39,1,1,22,66,1,2,5,95,7,75,20,4,1,9,1,1,3,1,1,2,19,1,25,2,2,27,4,9,73,54,70,1,10,37,1,1,2,3,1,7,1,2,3,1,9,2,1,1,2,1,2,1,2,1,18,1,3,2,16,1,4,1,1,44,12,1,2,20,1,15,2,2,1,1,4,1,2,53,7,2,64,19,4,8,10,6,6,5,10,2,2,1,1,1,2,1,5,1,1,1,9,7,1,1,30,2,58,2,1,20,30,1,1,2,1,1,22,3,24,1,2,18,48,2,144,3,7,4,1,2,1,1,2,1],\"yaxis\":\"y\"},{\"alignmentgroup\":\"True\",\"hovertemplate\":\"Discipline=Shooting<br>NOC=%{x}<br>Count=%{y}<extra></extra>\",\"legendgroup\":\"Shooting\",\"marker\":{\"color\":\"#EF553B\",\"pattern\":{\"shape\":\"\"}},\"name\":\"Shooting\",\"offsetgroup\":\"Shooting\",\"orientation\":\"v\",\"showlegend\":true,\"textposition\":\"auto\",\"type\":\"bar\",\"x\":[\"Afghanistan\",\"Albania\",\"Algeria\",\"Argentina\",\"Armenia\",\"Aruba\",\"Australia\",\"Austria\",\"Azerbaijan\",\"Bahrain\",\"Bangladesh\",\"Belarus\",\"Belgium\",\"Bhutan\",\"Bosnia and Herzegovina\",\"Brazil\",\"Bulgaria\",\"Canada\",\"Chile\",\"Chinese Taipei\",\"Colombia\",\"Croatia\",\"Cuba\",\"Cyprus\",\"Czech Republic\",\"Denmark\",\"Ecuador\",\"Egypt\",\"Estonia\",\"Finland\",\"France\",\"Georgia\",\"Germany\",\"Great Britain\",\"Greece\",\"Guatemala\",\"Hungary\",\"Iceland\",\"India\",\"Indonesia\",\"Iraq\",\"Ireland\",\"Islamic Republic of Iran\",\"Israel\",\"Italy\",\"Japan\",\"Jordan\",\"Kazakhstan\",\"Kosovo\",\"Kuwait\",\"Kyrgyzstan\",\"Latvia\",\"Lebanon\",\"Lithuania\",\"Malaysia\",\"Malta\",\"Mexico\",\"Mongolia\",\"Montenegro\",\"Morocco\",\"Myanmar\",\"Nepal\",\"New Zealand\",\"Nicaragua\",\"North Macedonia\",\"Norway\",\"Oman\",\"Pakistan\",\"People's Republic of China\",\"Peru\",\"Philippines\",\"Poland\",\"Portugal\",\"Puerto Rico\",\"Qatar\",\"ROC\",\"Refugee Olympic Team\",\"Republic of Korea\",\"Republic of Moldova\",\"Romania\",\"San Marino\",\"Saudi Arabia\",\"Senegal\",\"Serbia\",\"Singapore\",\"Slovakia\",\"Slovenia\",\"Spain\",\"Sri Lanka\",\"Sweden\",\"Switzerland\",\"Thailand\",\"Tunisia\",\"Turkey\",\"Ukraine\",\"United Arab Emirates\",\"United States of America\",\"Venezuela\",\"Vietnam\",\"Yemen\"],\"xaxis\":\"x\",\"y\":[1,1,1,4,1,1,14,2,1,1,1,3,1,1,1,1,3,1,1,5,1,4,5,3,8,3,1,10,1,3,10,1,8,5,2,3,4,1,13,1,1,1,6,1,14,12,1,3,1,4,1,1,1,1,1,1,4,4,1,1,1,1,2,1,1,5,1,3,24,3,1,4,1,1,1,17,1,15,1,1,1,1,1,6,1,7,1,2,1,1,2,6,2,4,6,1,19,1,1,1],\"yaxis\":\"y\"},{\"alignmentgroup\":\"True\",\"hovertemplate\":\"Discipline=Swimming<br>NOC=%{x}<br>Count=%{y}<extra></extra>\",\"legendgroup\":\"Swimming\",\"marker\":{\"color\":\"#00cc96\",\"pattern\":{\"shape\":\"\"}},\"name\":\"Swimming\",\"offsetgroup\":\"Swimming\",\"orientation\":\"v\",\"showlegend\":true,\"textposition\":\"auto\",\"type\":\"bar\",\"x\":[\"Afghanistan\",\"Albania\",\"Algeria\",\"American Samoa\",\"Angola\",\"Antigua and Barbuda\",\"Argentina\",\"Armenia\",\"Aruba\",\"Australia\",\"Austria\",\"Azerbaijan\",\"Bahamas\",\"Bahrain\",\"Bangladesh\",\"Barbados\",\"Belarus\",\"Belgium\",\"Benin\",\"Bhutan\",\"Bolivia\",\"Bosnia and Herzegovina\",\"Botswana\",\"Brazil\",\"Brunei Darussalam\",\"Bulgaria\",\"Burkina Faso\",\"Burundi\",\"Cambodia\",\"Cameroon\",\"Canada\",\"Cape Verde\",\"Cayman Islands\",\"Central African Republic\",\"Chile\",\"Chinese Taipei\",\"Colombia\",\"Congo\",\"Cook Islands\",\"Costa Rica\",\"Croatia\",\"Cuba\",\"Cyprus\",\"Czech Republic\",\"C\\u00f4te d'Ivoire\",\"Democratic Republic of Timor-Leste\",\"Denmark\",\"Djibouti\",\"Dominican Republic\",\"Ecuador\",\"Egypt\",\"El Salvador\",\"Equatorial Guinea\",\"Eritrea\",\"Estonia\",\"Eswatini\",\"Ethiopia\",\"Federated States of Micronesia\",\"Fiji\",\"Finland\",\"France\",\"Gabon\",\"Georgia\",\"Germany\",\"Ghana\",\"Great Britain\",\"Greece\",\"Grenada\",\"Guam\",\"Guatemala\",\"Guinea\",\"Guyana\",\"Haiti\",\"Honduras\",\"Hong Kong, China\",\"Hungary\",\"Iceland\",\"India\",\"Indonesia\",\"Ireland\",\"Islamic Republic of Iran\",\"Israel\",\"Italy\",\"Jamaica\",\"Japan\",\"Jordan\",\"Kazakhstan\",\"Kenya\",\"Kosovo\",\"Kuwait\",\"Kyrgyzstan\",\"Lao People's Democratic Republic\",\"Latvia\",\"Lebanon\",\"Libya\",\"Liechtenstein\",\"Lithuania\",\"Luxembourg\",\"Madagascar\",\"Malawi\",\"Malaysia\",\"Maldives\",\"Mali\",\"Malta\",\"Marshall Islands\",\"Mauritius\",\"Mexico\",\"Monaco\",\"Mongolia\",\"Montenegro\",\"Morocco\",\"Mozambique\",\"Nepal\",\"Netherlands\",\"New Zealand\",\"Nicaragua\",\"Niger\",\"Nigeria\",\"North Macedonia\",\"Norway\",\"Oman\",\"Pakistan\",\"Palau\",\"Palestine\",\"Panama\",\"Papua New Guinea\",\"Paraguay\",\"People's Republic of China\",\"Peru\",\"Philippines\",\"Poland\",\"Portugal\",\"Puerto Rico\",\"Qatar\",\"ROC\",\"Refugee Olympic Team\",\"Republic of Korea\",\"Republic of Moldova\",\"Romania\",\"Rwanda\",\"Saint Lucia\",\"San Marino\",\"Saudi Arabia\",\"Senegal\",\"Serbia\",\"Seychelles\",\"Sierra Leone\",\"Singapore\",\"Slovakia\",\"Slovenia\",\"Solomon Islands\",\"South Africa\",\"Spain\",\"Sri Lanka\",\"St Vincent and the Grenadines\",\"Sudan\",\"Suriname\",\"Sweden\",\"Switzerland\",\"Syrian Arab Republic\",\"Tajikistan\",\"Thailand\",\"Togo\",\"Tonga\",\"Trinidad and Tobago\",\"Tunisia\",\"Turkey\",\"Turkmenistan\",\"Uganda\",\"Ukraine\",\"United Arab Emirates\",\"United States of America\",\"Uruguay\",\"Uzbekistan\",\"Venezuela\",\"Vietnam\",\"Virgin Islands, British\",\"Virgin Islands, US\",\"Yemen\",\"Zambia\",\"Zimbabwe\"],\"xaxis\":\"x\",\"y\":[1,2,2,1,2,2,3,2,2,30,7,2,2,2,2,1,5,2,2,1,2,2,1,17,1,5,2,2,2,2,20,2,2,1,2,3,2,1,2,2,2,2,2,8,1,2,9,1,2,2,4,2,1,1,3,2,1,2,2,5,17,2,2,24,2,27,7,2,2,2,2,2,2,2,6,20,2,3,2,6,1,10,29,2,25,1,2,2,2,2,1,2,2,2,1,2,4,2,2,2,2,2,1,2,2,1,3,2,2,2,2,2,2,14,6,2,2,1,2,4,1,2,2,1,1,2,2,25,1,2,8,6,2,2,28,2,8,2,3,2,2,1,1,2,5,2,2,3,2,3,1,12,8,2,2,2,1,10,6,1,2,2,1,2,2,1,10,2,2,6,1,39,2,2,3,2,1,2,1,2,2],\"yaxis\":\"y\"},{\"alignmentgroup\":\"True\",\"hovertemplate\":\"Discipline=Taekwondo<br>NOC=%{x}<br>Count=%{y}<extra></extra>\",\"legendgroup\":\"Taekwondo\",\"marker\":{\"color\":\"#ab63fa\",\"pattern\":{\"shape\":\"\"}},\"name\":\"Taekwondo\",\"offsetgroup\":\"Taekwondo\",\"orientation\":\"v\",\"showlegend\":true,\"textposition\":\"auto\",\"type\":\"bar\",\"x\":[\"Afghanistan\",\"Argentina\",\"Australia\",\"Azerbaijan\",\"Belgium\",\"Bosnia and Herzegovina\",\"Brazil\",\"Burkina Faso\",\"Canada\",\"Chinese Taipei\",\"Colombia\",\"Costa Rica\",\"Croatia\",\"Cuba\",\"C\\u00f4te d'Ivoire\",\"Democratic Republic of the Congo\",\"Dominican Republic\",\"Egypt\",\"Ethiopia\",\"France\",\"Gabon\",\"Germany\",\"Great Britain\",\"Greece\",\"Haiti\",\"Honduras\",\"Hungary\",\"Ireland\",\"Islamic Republic of Iran\",\"Israel\",\"Italy\",\"Japan\",\"Jordan\",\"Kazakhstan\",\"Mali\",\"Mexico\",\"Morocco\",\"New Zealand\",\"Niger\",\"Nigeria\",\"North Macedonia\",\"Norway\",\"People's Republic of China\",\"Philippines\",\"Poland\",\"Portugal\",\"Puerto Rico\",\"ROC\",\"Refugee Olympic Team\",\"Republic of Korea\",\"Serbia\",\"Spain\",\"Thailand\",\"Tonga\",\"Tunisia\",\"Turkey\",\"United States of America\",\"Uzbekistan\",\"Vietnam\"],\"xaxis\":\"x\",\"y\":[1,1,4,2,1,1,2,1,2,4,2,1,3,1,4,1,3,4,1,2,1,1,5,1,1,1,1,1,3,1,2,4,1,2,1,2,3,1,2,1,1,1,5,1,2,1,1,4,3,6,2,4,2,1,1,5,2,4,1],\"yaxis\":\"y\"},{\"alignmentgroup\":\"True\",\"hovertemplate\":\"Discipline=Artistic Gymnastics<br>NOC=%{x}<br>Count=%{y}<extra></extra>\",\"legendgroup\":\"Artistic Gymnastics\",\"marker\":{\"color\":\"#FFA15A\",\"pattern\":{\"shape\":\"\"}},\"name\":\"Artistic Gymnastics\",\"offsetgroup\":\"Artistic Gymnastics\",\"orientation\":\"v\",\"showlegend\":true,\"textposition\":\"auto\",\"type\":\"bar\",\"x\":[\"Albania\",\"Argentina\",\"Armenia\",\"Australia\",\"Austria\",\"Azerbaijan\",\"Belarus\",\"Belgium\",\"Brazil\",\"Bulgaria\",\"Canada\",\"Cayman Islands\",\"Chile\",\"Chinese Taipei\",\"Costa Rica\",\"Croatia\",\"Cuba\",\"Cyprus\",\"Czech Republic\",\"Egypt\",\"France\",\"Germany\",\"Great Britain\",\"Greece\",\"Hong Kong, China\",\"Hungary\",\"India\",\"Ireland\",\"Israel\",\"Italy\",\"Jamaica\",\"Japan\",\"Kazakhstan\",\"Lithuania\",\"Malaysia\",\"Mexico\",\"Netherlands\",\"New Zealand\",\"Nigeria\",\"Norway\",\"People's Republic of China\",\"Peru\",\"Poland\",\"Portugal\",\"ROC\",\"Republic of Korea\",\"Romania\",\"Singapore\",\"Slovakia\",\"South Africa\",\"Spain\",\"Sri Lanka\",\"Sweden\",\"Switzerland\",\"Turkey\",\"Ukraine\",\"United States of America\",\"Uzbekistan\",\"Vietnam\"],\"xaxis\":\"x\",\"y\":[1,1,1,2,1,2,1,4,6,1,5,1,2,4,1,2,1,1,2,3,7,8,8,1,1,1,1,1,3,6,1,11,1,1,2,2,6,1,1,2,12,1,1,1,12,6,3,1,1,1,9,1,2,4,5,5,11,2,2],\"yaxis\":\"y\"},{\"alignmentgroup\":\"True\",\"hovertemplate\":\"Discipline=Judo<br>NOC=%{x}<br>Count=%{y}<extra></extra>\",\"legendgroup\":\"Judo\",\"marker\":{\"color\":\"#19d3f3\",\"pattern\":{\"shape\":\"\"}},\"name\":\"Judo\",\"offsetgroup\":\"Judo\",\"orientation\":\"v\",\"showlegend\":true,\"textposition\":\"auto\",\"type\":\"bar\",\"x\":[\"Albania\",\"Algeria\",\"Angola\",\"Argentina\",\"Armenia\",\"Australia\",\"Austria\",\"Azerbaijan\",\"Belarus\",\"Belgium\",\"Benin\",\"Bosnia and Herzegovina\",\"Brazil\",\"Bulgaria\",\"Burkina Faso\",\"Cameroon\",\"Canada\",\"Cape Verde\",\"Chad\",\"Chile\",\"Chinese Taipei\",\"Comoros\",\"Costa Rica\",\"Croatia\",\"Cuba\",\"Czech Republic\",\"Democratic Republic of the Congo\",\"Djibouti\",\"Dominican Republic\",\"Ecuador\",\"Egypt\",\"Estonia\",\"Fiji\",\"France\",\"Gabon\",\"Gambia\",\"Georgia\",\"Germany\",\"Ghana\",\"Great Britain\",\"Greece\",\"Guam\",\"Guatemala\",\"Guinea\",\"Guinea-Bissau\",\"Haiti\",\"Honduras\",\"Hungary\",\"India\",\"Ireland\",\"Israel\",\"Italy\",\"Jamaica\",\"Japan\",\"Jordan\",\"Kazakhstan\",\"Kiribati\",\"Kosovo\",\"Kyrgyzstan\",\"Lao People's Democratic Republic\",\"Latvia\",\"Lebanon\",\"Libya\",\"Liechtenstein\",\"Lithuania\",\"Madagascar\",\"Malawi\",\"Mauritius\",\"Mexico\",\"Monaco\",\"Mongolia\",\"Montenegro\",\"Morocco\",\"Mozambique\",\"Nepal\",\"Netherlands\",\"Nicaragua\",\"Niger\",\"North Macedonia\",\"Pakistan\",\"Palestine\",\"Panama\",\"People's Republic of China\",\"Peru\",\"Philippines\",\"Poland\",\"Portugal\",\"Puerto Rico\",\"Qatar\",\"ROC\",\"Refugee Olympic Team\",\"Republic of Korea\",\"Republic of Moldova\",\"Romania\",\"Samoa\",\"San Marino\",\"Saudi Arabia\",\"Senegal\",\"Serbia\",\"Seychelles\",\"Sierra Leone\",\"Slovenia\",\"South Africa\",\"Spain\",\"Sri Lanka\",\"Sudan\",\"Sweden\",\"Switzerland\",\"Tajikistan\",\"Thailand\",\"Trinidad and Tobago\",\"Tunisia\",\"Turkey\",\"Turkmenistan\",\"Ukraine\",\"United Arab Emirates\",\"United States of America\",\"Uruguay\",\"Uzbekistan\",\"Vanuatu\",\"Venezuela\",\"Vietnam\",\"Zambia\"],\"xaxis\":\"x\",\"y\":[1,2,1,2,1,3,5,9,3,4,1,1,11,3,1,2,5,1,1,1,3,1,1,3,6,2,1,1,1,3,2,1,1,13,1,1,9,11,1,5,2,1,1,1,1,1,1,7,1,2,12,8,1,13,1,6,1,4,1,1,1,1,1,1,1,1,1,1,1,1,12,1,2,1,1,10,1,1,1,1,1,2,5,1,1,6,8,3,1,13,6,14,2,3,1,1,2,1,5,1,1,5,1,7,1,1,4,2,3,1,1,3,5,1,7,2,4,1,8,1,3,1,1],\"yaxis\":\"y\"},{\"alignmentgroup\":\"True\",\"hovertemplate\":\"Discipline=Weightlifting<br>NOC=%{x}<br>Count=%{y}<extra></extra>\",\"legendgroup\":\"Weightlifting\",\"marker\":{\"color\":\"#FF6692\",\"pattern\":{\"shape\":\"\"}},\"name\":\"Weightlifting\",\"offsetgroup\":\"Weightlifting\",\"orientation\":\"v\",\"showlegend\":true,\"textposition\":\"auto\",\"type\":\"bar\",\"x\":[\"Albania\",\"Algeria\",\"American Samoa\",\"Armenia\",\"Australia\",\"Austria\",\"Belarus\",\"Belgium\",\"Botswana\",\"Brazil\",\"Bulgaria\",\"Cameroon\",\"Canada\",\"Chile\",\"Chinese Taipei\",\"Colombia\",\"Cuba\",\"Czech Republic\",\"Dominican Republic\",\"Ecuador\",\"France\",\"Georgia\",\"Germany\",\"Ghana\",\"Great Britain\",\"Greece\",\"Guatemala\",\"Hungary\",\"Indonesia\",\"Islamic Republic of Iran\",\"Israel\",\"Italy\",\"Japan\",\"Kazakhstan\",\"Kiribati\",\"Kyrgyzstan\",\"Latvia\",\"Lebanon\",\"Lithuania\",\"Madagascar\",\"Malta\",\"Mauritius\",\"Mexico\",\"Mongolia\",\"Morocco\",\"Nauru\",\"Netherlands\",\"New Zealand\",\"Nicaragua\",\"Oman\",\"Pakistan\",\"Palestine\",\"Papua New Guinea\",\"People's Republic of China\",\"Peru\",\"Philippines\",\"Poland\",\"ROC\",\"Refugee Olympic Team\",\"Republic of Korea\",\"Republic of Moldova\",\"Saudi Arabia\",\"Solomon Islands\",\"Spain\",\"Sweden\",\"Syrian Arab Republic\",\"Tonga\",\"Tunisia\",\"Turkey\",\"Turkmenistan\",\"Ukraine\",\"United States of America\",\"Uzbekistan\",\"Venezuela\",\"Vietnam\"],\"xaxis\":\"x\",\"y\":[2,1,1,2,5,2,2,2,1,2,2,2,5,2,7,3,4,1,4,4,4,4,3,1,4,1,1,1,5,2,1,3,7,2,1,1,2,1,1,2,1,1,4,2,1,1,1,5,1,1,1,1,1,7,1,2,3,2,1,7,2,2,1,4,1,1,1,5,1,4,2,8,4,4,2],\"yaxis\":\"y\"},{\"alignmentgroup\":\"True\",\"hovertemplate\":\"Discipline=Boxing<br>NOC=%{x}<br>Count=%{y}<extra></extra>\",\"legendgroup\":\"Boxing\",\"marker\":{\"color\":\"#B6E880\",\"pattern\":{\"shape\":\"\"}},\"name\":\"Boxing\",\"offsetgroup\":\"Boxing\",\"orientation\":\"v\",\"showlegend\":true,\"textposition\":\"auto\",\"type\":\"bar\",\"x\":[\"Algeria\",\"Antigua and Barbuda\",\"Argentina\",\"Armenia\",\"Australia\",\"Azerbaijan\",\"Bahrain\",\"Belarus\",\"Botswana\",\"Brazil\",\"Bulgaria\",\"Burundi\",\"Cameroon\",\"Canada\",\"Cape Verde\",\"Chinese Taipei\",\"Colombia\",\"Croatia\",\"Cuba\",\"Democratic Republic of the Congo\",\"Dominican Republic\",\"Ecuador\",\"Egypt\",\"El Salvador\",\"Eswatini\",\"France\",\"Georgia\",\"Germany\",\"Ghana\",\"Great Britain\",\"Guyana\",\"Haiti\",\"Hungary\",\"India\",\"Ireland\",\"Islamic Republic of Iran\",\"Italy\",\"Jamaica\",\"Japan\",\"Jordan\",\"Kazakhstan\",\"Kenya\",\"Kosovo\",\"Mauritius\",\"Mexico\",\"Mongolia\",\"Morocco\",\"Mozambique\",\"Namibia\",\"Netherlands\",\"New Zealand\",\"Panama\",\"Papua New Guinea\",\"People's Republic of China\",\"Peru\",\"Philippines\",\"Poland\",\"Puerto Rico\",\"ROC\",\"Refugee Olympic Team\",\"Republic of Korea\",\"Romania\",\"Samoa\",\"Serbia\",\"Somalia\",\"Spain\",\"Sweden\",\"Tajikistan\",\"Thailand\",\"Trinidad and Tobago\",\"Tunisia\",\"Turkey\",\"Uganda\",\"Ukraine\",\"United States of America\",\"Uzbekistan\",\"Venezuela\",\"Vietnam\",\"Zambia\"],\"xaxis\":\"x\",\"y\":[8,1,5,2,4,3,1,4,2,7,3,1,3,5,1,4,6,2,7,4,7,4,2,1,1,5,3,3,3,10,1,1,1,7,6,2,3,1,6,5,8,4,1,2,3,3,6,1,1,2,1,1,1,6,2,4,2,1,11,1,2,2,2,1,1,4,2,2,4,1,2,6,3,5,8,11,3,2,3],\"yaxis\":\"y\"},{\"alignmentgroup\":\"True\",\"hovertemplate\":\"Discipline=Canoe Sprint<br>NOC=%{x}<br>Count=%{y}<extra></extra>\",\"legendgroup\":\"Canoe Sprint\",\"marker\":{\"color\":\"#FF97FF\",\"pattern\":{\"shape\":\"\"}},\"name\":\"Canoe Sprint\",\"offsetgroup\":\"Canoe Sprint\",\"orientation\":\"v\",\"showlegend\":true,\"textposition\":\"auto\",\"type\":\"bar\",\"x\":[\"Algeria\",\"Argentina\",\"Australia\",\"Austria\",\"Belarus\",\"Belgium\",\"Belize\",\"Brazil\",\"Bulgaria\",\"Canada\",\"Chile\",\"Cook Islands\",\"Croatia\",\"Cuba\",\"Czech Republic\",\"Denmark\",\"Egypt\",\"France\",\"Germany\",\"Great Britain\",\"Hungary\",\"Islamic Republic of Iran\",\"Italy\",\"Japan\",\"Kazakhstan\",\"Latvia\",\"Lithuania\",\"New Zealand\",\"Nigeria\",\"Norway\",\"People's Republic of China\",\"Poland\",\"Portugal\",\"ROC\",\"Republic of Korea\",\"Republic of Moldova\",\"Romania\",\"Samoa\",\"Sao Tome and Principe\",\"Serbia\",\"Slovakia\",\"Slovenia\",\"Spain\",\"Sweden\",\"Thailand\",\"Tunisia\",\"Ukraine\",\"United States of America\",\"Uzbekistan\"],\"xaxis\":\"x\",\"y\":[1,3,13,2,12,2,1,3,1,14,2,2,2,5,4,4,2,8,15,4,17,1,4,8,5,1,1,6,1,1,14,8,7,14,1,3,1,3,2,3,4,2,11,2,1,2,10,1,2],\"yaxis\":\"y\"},{\"alignmentgroup\":\"True\",\"hovertemplate\":\"Discipline=Cycling Road<br>NOC=%{x}<br>Count=%{y}<extra></extra>\",\"legendgroup\":\"Cycling Road\",\"marker\":{\"color\":\"#FECB52\",\"pattern\":{\"shape\":\"\"}},\"name\":\"Cycling Road\",\"offsetgroup\":\"Cycling Road\",\"orientation\":\"v\",\"showlegend\":true,\"textposition\":\"auto\",\"type\":\"bar\",\"x\":[\"Algeria\",\"Argentina\",\"Australia\",\"Austria\",\"Azerbaijan\",\"Belarus\",\"Belgium\",\"Burkina Faso\",\"Canada\",\"Chile\",\"Chinese Taipei\",\"Colombia\",\"Costa Rica\",\"Croatia\",\"Cuba\",\"Cyprus\",\"Czech Republic\",\"Denmark\",\"Ecuador\",\"Eritrea\",\"Estonia\",\"Ethiopia\",\"France\",\"Germany\",\"Great Britain\",\"Greece\",\"Guatemala\",\"Hong Kong, China\",\"Hungary\",\"Ireland\",\"Islamic Republic of Iran\",\"Israel\",\"Italy\",\"Japan\",\"Kazakhstan\",\"Latvia\",\"Lithuania\",\"Luxembourg\",\"Mexico\",\"Morocco\",\"Namibia\",\"Netherlands\",\"New Zealand\",\"Norway\",\"Panama\",\"Paraguay\",\"People's Republic of China\",\"Peru\",\"Poland\",\"Portugal\",\"ROC\",\"Refugee Olympic Team\",\"Republic of Korea\",\"Romania\",\"Rwanda\",\"Slovakia\",\"Slovenia\",\"South Africa\",\"Spain\",\"Switzerland\",\"Thailand\",\"Trinidad and Tobago\",\"Turkey\",\"Ukraine\",\"United States of America\",\"Uzbekistan\",\"Venezuela\"],\"xaxis\":\"x\",\"y\":[2,1,8,4,1,2,8,1,6,1,1,5,2,1,1,1,4,6,2,3,2,1,6,7,5,1,1,1,1,2,1,1,9,4,3,1,2,2,2,1,2,9,2,6,1,1,2,1,5,2,4,2,1,1,1,2,4,4,6,5,1,1,2,2,7,2,1],\"yaxis\":\"y\"},{\"alignmentgroup\":\"True\",\"hovertemplate\":\"Discipline=Fencing<br>NOC=%{x}<br>Count=%{y}<extra></extra>\",\"legendgroup\":\"Fencing\",\"marker\":{\"color\":\"#636efa\",\"pattern\":{\"shape\":\"\"}},\"name\":\"Fencing\",\"offsetgroup\":\"Fencing\",\"orientation\":\"v\",\"showlegend\":true,\"textposition\":\"auto\",\"type\":\"bar\",\"x\":[\"Algeria\",\"Argentina\",\"Azerbaijan\",\"Brazil\",\"Canada\",\"Chile\",\"Colombia\",\"Czech Republic\",\"Egypt\",\"Estonia\",\"France\",\"Georgia\",\"Germany\",\"Great Britain\",\"Greece\",\"Hong Kong, China\",\"Hungary\",\"India\",\"Islamic Republic of Iran\",\"Italy\",\"Japan\",\"Kazakhstan\",\"Mexico\",\"Morocco\",\"Netherlands\",\"People's Republic of China\",\"Peru\",\"Poland\",\"ROC\",\"Republic of Korea\",\"Romania\",\"Senegal\",\"Singapore\",\"Spain\",\"Switzerland\",\"Tunisia\",\"Turkey\",\"Ukraine\",\"United States of America\",\"Uzbekistan\",\"Venezuela\"],\"xaxis\":\"x\",\"y\":[3,1,1,2,11,1,1,2,12,4,17,1,9,1,1,8,12,1,4,23,19,1,1,1,1,15,1,5,21,18,2,1,2,1,4,7,1,4,24,3,2],\"yaxis\":\"y\"},{\"alignmentgroup\":\"True\",\"hovertemplate\":\"Discipline=Marathon Swimming<br>NOC=%{x}<br>Count=%{y}<extra></extra>\",\"legendgroup\":\"Marathon Swimming\",\"marker\":{\"color\":\"#EF553B\",\"pattern\":{\"shape\":\"\"}},\"name\":\"Marathon Swimming\",\"offsetgroup\":\"Marathon Swimming\",\"orientation\":\"v\",\"showlegend\":true,\"textposition\":\"auto\",\"type\":\"bar\",\"x\":[\"Algeria\",\"Argentina\",\"Australia\",\"Canada\",\"Czech Republic\",\"Ecuador\",\"France\",\"Germany\",\"Great Britain\",\"Greece\",\"Hong Kong, China\",\"Hungary\",\"Israel\",\"Italy\",\"Japan\",\"Mexico\",\"Namibia\",\"Netherlands\",\"People's Republic of China\",\"Portugal\",\"ROC\",\"Singapore\",\"Slovenia\",\"South Africa\",\"Spain\",\"Tunisia\",\"Ukraine\",\"United States of America\",\"Venezuela\"],\"xaxis\":\"x\",\"y\":[1,1,2,2,1,2,3,4,2,1,1,2,1,3,2,1,1,2,1,2,2,1,1,2,2,1,1,3,1],\"yaxis\":\"y\"},{\"alignmentgroup\":\"True\",\"hovertemplate\":\"Discipline=Rowing<br>NOC=%{x}<br>Count=%{y}<extra></extra>\",\"legendgroup\":\"Rowing\",\"marker\":{\"color\":\"#00cc96\",\"pattern\":{\"shape\":\"\"}},\"name\":\"Rowing\",\"offsetgroup\":\"Rowing\",\"orientation\":\"v\",\"showlegend\":true,\"textposition\":\"auto\",\"type\":\"bar\",\"x\":[\"Algeria\",\"Argentina\",\"Australia\",\"Austria\",\"Belarus\",\"Belgium\",\"Benin\",\"Bermuda\",\"Canada\",\"Chile\",\"Chinese Taipei\",\"Croatia\",\"Cuba\",\"Czech Republic\",\"C\\u00f4te d'Ivoire\",\"Denmark\",\"Dominican Republic\",\"Egypt\",\"Estonia\",\"France\",\"Germany\",\"Great Britain\",\"Greece\",\"Guatemala\",\"Hong Kong, China\",\"Hungary\",\"India\",\"Indonesia\",\"Iraq\",\"Ireland\",\"Islamic Republic of Iran\",\"Italy\",\"Japan\",\"Kazakhstan\",\"Kuwait\",\"Libya\",\"Lithuania\",\"Mexico\",\"Monaco\",\"Morocco\",\"Namibia\",\"Netherlands\",\"New Zealand\",\"Nicaragua\",\"Nigeria\",\"Norway\",\"Paraguay\",\"People's Republic of China\",\"Peru\",\"Philippines\",\"Poland\",\"Portugal\",\"Puerto Rico\",\"Qatar\",\"ROC\",\"Republic of Korea\",\"Romania\",\"Saudi Arabia\",\"Serbia\",\"Singapore\",\"South Africa\",\"Spain\",\"Sudan\",\"Sweden\",\"Switzerland\",\"Thailand\",\"Togo\",\"Trinidad and Tobago\",\"Tunisia\",\"Turkey\",\"Uganda\",\"Ukraine\",\"United States of America\",\"Uruguay\",\"Uzbekistan\",\"Vanuatu\",\"Venezuela\",\"Vietnam\",\"Zimbabwe\"],\"xaxis\":\"x\",\"y\":[2,2,37,3,5,2,1,1,28,2,1,3,1,6,1,9,1,1,4,11,23,39,4,1,1,1,2,1,1,11,1,23,3,1,1,1,9,1,1,1,1,34,25,2,1,7,1,26,1,1,19,1,1,1,10,1,34,1,3,1,6,6,1,1,9,2,1,1,2,1,1,2,36,2,2,1,2,1,1],\"yaxis\":\"y\"},{\"alignmentgroup\":\"True\",\"hovertemplate\":\"Discipline=Sailing<br>NOC=%{x}<br>Count=%{y}<extra></extra>\",\"legendgroup\":\"Sailing\",\"marker\":{\"color\":\"#ab63fa\",\"pattern\":{\"shape\":\"\"}},\"name\":\"Sailing\",\"offsetgroup\":\"Sailing\",\"orientation\":\"v\",\"showlegend\":true,\"textposition\":\"auto\",\"type\":\"bar\",\"x\":[\"Algeria\",\"American Samoa\",\"Angola\",\"Antigua and Barbuda\",\"Argentina\",\"Australia\",\"Austria\",\"Belarus\",\"Belgium\",\"Brazil\",\"Canada\",\"Chile\",\"Croatia\",\"Cyprus\",\"Czech Republic\",\"Denmark\",\"Egypt\",\"El Salvador\",\"Estonia\",\"Fiji\",\"Finland\",\"France\",\"Germany\",\"Great Britain\",\"Greece\",\"Guatemala\",\"Hong Kong, China\",\"Hungary\",\"India\",\"Ireland\",\"Israel\",\"Italy\",\"Japan\",\"Lithuania\",\"Malaysia\",\"Mexico\",\"Montenegro\",\"Mozambique\",\"Netherlands\",\"New Zealand\",\"Norway\",\"Papua New Guinea\",\"People's Republic of China\",\"Peru\",\"Poland\",\"Portugal\",\"Puerto Rico\",\"ROC\",\"Republic of Korea\",\"Saint Lucia\",\"Samoa\",\"Seychelles\",\"Singapore\",\"Slovenia\",\"South Africa\",\"Spain\",\"Sweden\",\"Switzerland\",\"Thailand\",\"Trinidad and Tobago\",\"Tunisia\",\"Turkey\",\"United States of America\",\"Uruguay\",\"Venezuela\"],\"xaxis\":\"x\",\"y\":[2,2,2,1,11,12,6,2,4,13,9,1,4,4,1,8,2,1,2,1,5,14,9,14,8,1,2,4,4,3,5,8,15,2,3,4,1,3,10,10,8,2,10,5,7,5,2,6,4,2,1,1,4,3,3,13,9,6,2,1,4,8,13,3,1],\"yaxis\":\"y\"},{\"alignmentgroup\":\"True\",\"hovertemplate\":\"Discipline=Table Tennis<br>NOC=%{x}<br>Count=%{y}<extra></extra>\",\"legendgroup\":\"Table Tennis\",\"marker\":{\"color\":\"#FFA15A\",\"pattern\":{\"shape\":\"\"}},\"name\":\"Table Tennis\",\"offsetgroup\":\"Table Tennis\",\"orientation\":\"v\",\"showlegend\":true,\"textposition\":\"auto\",\"type\":\"bar\",\"x\":[\"Algeria\",\"Argentina\",\"Australia\",\"Austria\",\"Brazil\",\"Bulgaria\",\"Cameroon\",\"Canada\",\"Chile\",\"Chinese Taipei\",\"Croatia\",\"Cuba\",\"Czech Republic\",\"Denmark\",\"Ecuador\",\"Egypt\",\"Fiji\",\"France\",\"Germany\",\"Great Britain\",\"Guyana\",\"Hong Kong, China\",\"Hungary\",\"India\",\"Islamic Republic of Iran\",\"Italy\",\"Japan\",\"Kazakhstan\",\"Luxembourg\",\"Monaco\",\"Mongolia\",\"Netherlands\",\"Nigeria\",\"People's Republic of China\",\"Poland\",\"Portugal\",\"Puerto Rico\",\"ROC\",\"Republic of Korea\",\"Romania\",\"Saudi Arabia\",\"Senegal\",\"Serbia\",\"Singapore\",\"Slovakia\",\"Slovenia\",\"Spain\",\"Sweden\",\"Switzerland\",\"Syrian Arab Republic\",\"Thailand\",\"Togo\",\"Tunisia\",\"Ukraine\",\"United States of America\"],\"xaxis\":\"x\",\"y\":[1,2,6,5,6,1,1,3,1,6,3,2,3,1,1,5,1,6,6,3,1,6,5,4,1,1,6,2,2,1,2,1,4,6,3,5,3,3,6,4,1,1,3,4,3,3,1,4,1,1,1,1,2,3,6],\"yaxis\":\"y\"},{\"alignmentgroup\":\"True\",\"hovertemplate\":\"Discipline=Wrestling<br>NOC=%{x}<br>Count=%{y}<extra></extra>\",\"legendgroup\":\"Wrestling\",\"marker\":{\"color\":\"#19d3f3\",\"pattern\":{\"shape\":\"\"}},\"name\":\"Wrestling\",\"offsetgroup\":\"Wrestling\",\"orientation\":\"v\",\"showlegend\":true,\"textposition\":\"auto\",\"type\":\"bar\",\"x\":[\"Algeria\",\"Argentina\",\"Armenia\",\"Azerbaijan\",\"Belarus\",\"Brazil\",\"Bulgaria\",\"Canada\",\"Chile\",\"Colombia\",\"Croatia\",\"Cuba\",\"Czech Republic\",\"Denmark\",\"Ecuador\",\"Egypt\",\"Estonia\",\"Finland\",\"France\",\"Georgia\",\"Germany\",\"Greece\",\"Guam\",\"Guinea\",\"Guinea-Bissau\",\"Hungary\",\"India\",\"Islamic Republic of Iran\",\"Italy\",\"Japan\",\"Kazakhstan\",\"Kosovo\",\"Kyrgyzstan\",\"Latvia\",\"Lithuania\",\"Mexico\",\"Mongolia\",\"Morocco\",\"Nigeria\",\"North Macedonia\",\"People's Republic of China\",\"Peru\",\"Poland\",\"Puerto Rico\",\"ROC\",\"Refugee Olympic Team\",\"Republic of Korea\",\"Republic of Moldova\",\"Romania\",\"San Marino\",\"Senegal\",\"Serbia\",\"Slovakia\",\"Sweden\",\"Switzerland\",\"Tunisia\",\"Turkey\",\"Ukraine\",\"United States of America\",\"Uzbekistan\"],\"xaxis\":\"x\",\"y\":[7,1,6,7,8,3,7,4,1,3,1,12,1,1,2,8,2,2,2,7,7,2,1,1,2,5,7,11,2,11,10,1,9,1,1,2,9,1,5,1,11,1,6,1,16,1,2,2,5,1,1,4,1,3,1,9,9,9,14,8],\"yaxis\":\"y\"},{\"alignmentgroup\":\"True\",\"hovertemplate\":\"Discipline=Canoe Slalom<br>NOC=%{x}<br>Count=%{y}<extra></extra>\",\"legendgroup\":\"Canoe Slalom\",\"marker\":{\"color\":\"#FF6692\",\"pattern\":{\"shape\":\"\"}},\"name\":\"Canoe Slalom\",\"offsetgroup\":\"Canoe Slalom\",\"orientation\":\"v\",\"showlegend\":true,\"textposition\":\"auto\",\"type\":\"bar\",\"x\":[\"Andorra\",\"Argentina\",\"Australia\",\"Austria\",\"Belgium\",\"Brazil\",\"Canada\",\"Chinese Taipei\",\"Cook Islands\",\"Croatia\",\"Czech Republic\",\"France\",\"Germany\",\"Great Britain\",\"Ireland\",\"Italy\",\"Japan\",\"Kazakhstan\",\"Mexico\",\"Morocco\",\"Netherlands\",\"New Zealand\",\"People's Republic of China\",\"Poland\",\"Portugal\",\"ROC\",\"Senegal\",\"Slovakia\",\"Slovenia\",\"Spain\",\"Sweden\",\"Switzerland\",\"Ukraine\",\"United States of America\"],\"xaxis\":\"x\",\"y\":[1,1,3,3,1,2,4,1,1,1,4,3,4,3,1,3,3,2,1,2,1,2,3,4,1,2,1,4,4,4,1,4,1,2],\"yaxis\":\"y\"},{\"alignmentgroup\":\"True\",\"hovertemplate\":\"Discipline=Handball<br>NOC=%{x}<br>Count=%{y}<extra></extra>\",\"legendgroup\":\"Handball\",\"marker\":{\"color\":\"#B6E880\",\"pattern\":{\"shape\":\"\"}},\"name\":\"Handball\",\"offsetgroup\":\"Handball\",\"orientation\":\"v\",\"showlegend\":true,\"textposition\":\"auto\",\"type\":\"bar\",\"x\":[\"Angola\",\"Argentina\",\"Bahrain\",\"Brazil\",\"Denmark\",\"Egypt\",\"France\",\"Germany\",\"Hungary\",\"Japan\",\"Montenegro\",\"Netherlands\",\"Norway\",\"Portugal\",\"ROC\",\"Republic of Korea\",\"Spain\",\"Sweden\"],\"xaxis\":\"x\",\"y\":[14,15,14,28,15,14,28,15,14,28,15,15,30,12,14,15,29,28],\"yaxis\":\"y\"},{\"alignmentgroup\":\"True\",\"hovertemplate\":\"Discipline=Basketball<br>NOC=%{x}<br>Count=%{y}<extra></extra>\",\"legendgroup\":\"Basketball\",\"marker\":{\"color\":\"#FF97FF\",\"pattern\":{\"shape\":\"\"}},\"name\":\"Basketball\",\"offsetgroup\":\"Basketball\",\"orientation\":\"v\",\"showlegend\":true,\"textposition\":\"auto\",\"type\":\"bar\",\"x\":[\"Argentina\",\"Australia\",\"Belgium\",\"Canada\",\"Czech Republic\",\"France\",\"Germany\",\"Islamic Republic of Iran\",\"Italy\",\"Japan\",\"Nigeria\",\"People's Republic of China\",\"Puerto Rico\",\"Republic of Korea\",\"Serbia\",\"Slovenia\",\"Spain\",\"United States of America\"],\"xaxis\":\"x\",\"y\":[12,23,12,12,12,23,12,12,10,23,23,12,12,11,12,12,24,23],\"yaxis\":\"y\"},{\"alignmentgroup\":\"True\",\"hovertemplate\":\"Discipline=Beach Volleyball<br>NOC=%{x}<br>Count=%{y}<extra></extra>\",\"legendgroup\":\"Beach Volleyball\",\"marker\":{\"color\":\"#FECB52\",\"pattern\":{\"shape\":\"\"}},\"name\":\"Beach Volleyball\",\"offsetgroup\":\"Beach Volleyball\",\"orientation\":\"v\",\"showlegend\":true,\"textposition\":\"auto\",\"type\":\"bar\",\"x\":[\"Argentina\",\"Australia\",\"Brazil\",\"Canada\",\"Chile\",\"Cuba\",\"Czech Republic\",\"Germany\",\"Italy\",\"Japan\",\"Kenya\",\"Latvia\",\"Mexico\",\"Morocco\",\"Netherlands\",\"Norway\",\"People's Republic of China\",\"Poland\",\"Qatar\",\"ROC\",\"Spain\",\"Switzerland\",\"United States of America\"],\"xaxis\":\"x\",\"y\":[3,4,7,3,2,2,4,6,6,4,2,4,1,2,6,2,4,4,1,6,4,5,8],\"yaxis\":\"y\"},{\"alignmentgroup\":\"True\",\"hovertemplate\":\"Discipline=Cycling BMX Racing<br>NOC=%{x}<br>Count=%{y}<extra></extra>\",\"legendgroup\":\"Cycling BMX Racing\",\"marker\":{\"color\":\"#636efa\",\"pattern\":{\"shape\":\"\"}},\"name\":\"Cycling BMX Racing\",\"offsetgroup\":\"Cycling BMX Racing\",\"orientation\":\"v\",\"showlegend\":true,\"textposition\":\"auto\",\"type\":\"bar\",\"x\":[\"Argentina\",\"Australia\",\"Belgium\",\"Brazil\",\"Canada\",\"Colombia\",\"Denmark\",\"Ecuador\",\"France\",\"Great Britain\",\"Italy\",\"Japan\",\"Latvia\",\"Netherlands\",\"New Zealand\",\"Norway\",\"ROC\",\"South Africa\",\"Switzerland\",\"Thailand\",\"United States of America\"],\"xaxis\":\"x\",\"y\":[1,3,1,2,2,2,1,1,5,2,1,1,2,5,1,1,3,1,3,1,4],\"yaxis\":\"y\"},{\"alignmentgroup\":\"True\",\"hovertemplate\":\"Discipline=Cycling Mountain Bike<br>NOC=%{x}<br>Count=%{y}<extra></extra>\",\"legendgroup\":\"Cycling Mountain Bike\",\"marker\":{\"color\":\"#EF553B\",\"pattern\":{\"shape\":\"\"}},\"name\":\"Cycling Mountain Bike\",\"offsetgroup\":\"Cycling Mountain Bike\",\"orientation\":\"v\",\"showlegend\":true,\"textposition\":\"auto\",\"type\":\"bar\",\"x\":[\"Argentina\",\"Australia\",\"Austria\",\"Belgium\",\"Brazil\",\"Canada\",\"Chile\",\"Czech Republic\",\"Denmark\",\"Estonia\",\"France\",\"Germany\",\"Great Britain\",\"Greece\",\"Hungary\",\"Israel\",\"Italy\",\"Japan\",\"Mexico\",\"Namibia\",\"Netherlands\",\"New Zealand\",\"Norway\",\"People's Republic of China\",\"Poland\",\"Portugal\",\"ROC\",\"Romania\",\"Slovenia\",\"South Africa\",\"Spain\",\"Sweden\",\"Switzerland\",\"Ukraine\",\"United States of America\"],\"xaxis\":\"x\",\"y\":[1,2,1,2,3,3,1,2,3,1,4,4,2,1,2,1,4,1,2,2,4,1,1,2,2,1,2,1,1,2,3,1,6,1,4],\"yaxis\":\"y\"},{\"alignmentgroup\":\"True\",\"hovertemplate\":\"Discipline=Equestrian<br>NOC=%{x}<br>Count=%{y}<extra></extra>\",\"legendgroup\":\"Equestrian\",\"marker\":{\"color\":\"#00cc96\",\"pattern\":{\"shape\":\"\"}},\"name\":\"Equestrian\",\"offsetgroup\":\"Equestrian\",\"orientation\":\"v\",\"showlegend\":true,\"textposition\":\"auto\",\"type\":\"bar\",\"x\":[\"Argentina\",\"Australia\",\"Austria\",\"Belarus\",\"Belgium\",\"Brazil\",\"Canada\",\"Chile\",\"Chinese Taipei\",\"Colombia\",\"Czech Republic\",\"Denmark\",\"Dominican Republic\",\"Ecuador\",\"Egypt\",\"Estonia\",\"Finland\",\"France\",\"Germany\",\"Great Britain\",\"Hong Kong, China\",\"India\",\"Ireland\",\"Israel\",\"Italy\",\"Japan\",\"Jordan\",\"Latvia\",\"Luxembourg\",\"Mexico\",\"Morocco\",\"Netherlands\",\"New Zealand\",\"Norway\",\"People's Republic of China\",\"Poland\",\"Portugal\",\"Puerto Rico\",\"ROC\",\"Republic of Korea\",\"Singapore\",\"South Africa\",\"Spain\",\"Sri Lanka\",\"Sweden\",\"Switzerland\",\"Syrian Arab Republic\",\"Thailand\",\"Ukraine\",\"United States of America\"],\"xaxis\":\"x\",\"y\":[4,10,5,2,10,9,7,2,1,1,6,6,2,1,4,1,1,11,11,11,1,1,9,3,6,12,1,1,1,5,5,10,8,1,8,4,4,1,6,1,1,1,5,1,11,8,1,3,2,11],\"yaxis\":\"y\"},{\"alignmentgroup\":\"True\",\"hovertemplate\":\"Discipline=Football<br>NOC=%{x}<br>Count=%{y}<extra></extra>\",\"legendgroup\":\"Football\",\"marker\":{\"color\":\"#ab63fa\",\"pattern\":{\"shape\":\"\"}},\"name\":\"Football\",\"offsetgroup\":\"Football\",\"orientation\":\"v\",\"showlegend\":true,\"textposition\":\"auto\",\"type\":\"bar\",\"x\":[\"Argentina\",\"Australia\",\"Brazil\",\"Canada\",\"Chile\",\"C\\u00f4te d'Ivoire\",\"Egypt\",\"France\",\"Germany\",\"Great Britain\",\"Honduras\",\"Japan\",\"Mexico\",\"Netherlands\",\"New Zealand\",\"People's Republic of China\",\"Republic of Korea\",\"Romania\",\"Saudi Arabia\",\"South Africa\",\"Spain\",\"Sweden\",\"United States of America\",\"Zambia\"],\"xaxis\":\"x\",\"y\":[19,43,41,22,21,20,20,21,17,21,20,42,21,20,39,20,20,20,21,19,19,20,20,21],\"yaxis\":\"y\"},{\"alignmentgroup\":\"True\",\"hovertemplate\":\"Discipline=Golf<br>NOC=%{x}<br>Count=%{y}<extra></extra>\",\"legendgroup\":\"Golf\",\"marker\":{\"color\":\"#FFA15A\",\"pattern\":{\"shape\":\"\"}},\"name\":\"Golf\",\"offsetgroup\":\"Golf\",\"orientation\":\"v\",\"showlegend\":true,\"textposition\":\"auto\",\"type\":\"bar\",\"x\":[\"Argentina\",\"Australia\",\"Austria\",\"Belgium\",\"Canada\",\"Chile\",\"Chinese Taipei\",\"Colombia\",\"Czech Republic\",\"Denmark\",\"Ecuador\",\"Finland\",\"France\",\"Germany\",\"Great Britain\",\"Hong Kong, China\",\"India\",\"Ireland\",\"Italy\",\"Japan\",\"Malaysia\",\"Mexico\",\"Morocco\",\"Netherlands\",\"New Zealand\",\"Norway\",\"Paraguay\",\"People's Republic of China\",\"Philippines\",\"Poland\",\"Puerto Rico\",\"Republic of Korea\",\"Slovenia\",\"South Africa\",\"Spain\",\"Sweden\",\"Switzerland\",\"Thailand\",\"United States of America\",\"Venezuela\",\"Zimbabwe\"],\"xaxis\":\"x\",\"y\":[1,4,3,3,4,2,3,2,2,4,1,4,4,4,4,1,3,4,4,4,2,4,1,1,2,2,1,4,3,1,1,5,1,3,3,4,2,4,8,1,1],\"yaxis\":\"y\"},{\"alignmentgroup\":\"True\",\"hovertemplate\":\"Discipline=Hockey<br>NOC=%{x}<br>Count=%{y}<extra></extra>\",\"legendgroup\":\"Hockey\",\"marker\":{\"color\":\"#19d3f3\",\"pattern\":{\"shape\":\"\"}},\"name\":\"Hockey\",\"offsetgroup\":\"Hockey\",\"orientation\":\"v\",\"showlegend\":true,\"textposition\":\"auto\",\"type\":\"bar\",\"x\":[\"Argentina\",\"Australia\",\"Belgium\",\"Canada\",\"Germany\",\"Great Britain\",\"India\",\"Ireland\",\"Japan\",\"Netherlands\",\"New Zealand\",\"People's Republic of China\",\"South Africa\",\"Spain\"],\"xaxis\":\"x\",\"y\":[35,35,16,18,33,34,35,18,32,33,30,17,35,35],\"yaxis\":\"y\"},{\"alignmentgroup\":\"True\",\"hovertemplate\":\"Discipline=Modern Pentathlon<br>NOC=%{x}<br>Count=%{y}<extra></extra>\",\"legendgroup\":\"Modern Pentathlon\",\"marker\":{\"color\":\"#FF6692\",\"pattern\":{\"shape\":\"\"}},\"name\":\"Modern Pentathlon\",\"offsetgroup\":\"Modern Pentathlon\",\"orientation\":\"v\",\"showlegend\":true,\"textposition\":\"auto\",\"type\":\"bar\",\"x\":[\"Argentina\",\"Australia\",\"Belarus\",\"Brazil\",\"Chile\",\"Cuba\",\"Czech Republic\",\"Ecuador\",\"Egypt\",\"France\",\"Germany\",\"Great Britain\",\"Guatemala\",\"Hungary\",\"Ireland\",\"Italy\",\"Japan\",\"Kazakhstan\",\"Latvia\",\"Lithuania\",\"Mexico\",\"People's Republic of China\",\"Poland\",\"ROC\",\"Republic of Korea\",\"Spain\",\"Turkey\",\"Ukraine\",\"United States of America\",\"Uzbekistan\"],\"xaxis\":\"x\",\"y\":[1,2,3,1,1,2,2,1,4,4,4,4,1,3,1,2,3,2,1,3,4,4,3,3,3,1,1,1,2,2],\"yaxis\":\"y\"},{\"alignmentgroup\":\"True\",\"hovertemplate\":\"Discipline=Rugby Sevens<br>NOC=%{x}<br>Count=%{y}<extra></extra>\",\"legendgroup\":\"Rugby Sevens\",\"marker\":{\"color\":\"#B6E880\",\"pattern\":{\"shape\":\"\"}},\"name\":\"Rugby Sevens\",\"offsetgroup\":\"Rugby Sevens\",\"orientation\":\"v\",\"showlegend\":true,\"textposition\":\"auto\",\"type\":\"bar\",\"x\":[\"Argentina\",\"Australia\",\"Brazil\",\"Canada\",\"Fiji\",\"France\",\"Great Britain\",\"Ireland\",\"Japan\",\"Kenya\",\"New Zealand\",\"People's Republic of China\",\"ROC\",\"Republic of Korea\",\"South Africa\",\"United States of America\"],\"xaxis\":\"x\",\"y\":[12,23,12,23,22,11,23,12,32,21,23,11,11,11,12,24],\"yaxis\":\"y\"},{\"alignmentgroup\":\"True\",\"hovertemplate\":\"Discipline=Surfing<br>NOC=%{x}<br>Count=%{y}<extra></extra>\",\"legendgroup\":\"Surfing\",\"marker\":{\"color\":\"#FF97FF\",\"pattern\":{\"shape\":\"\"}},\"name\":\"Surfing\",\"offsetgroup\":\"Surfing\",\"orientation\":\"v\",\"showlegend\":true,\"textposition\":\"auto\",\"type\":\"bar\",\"x\":[\"Argentina\",\"Australia\",\"Brazil\",\"Chile\",\"Costa Rica\",\"Ecuador\",\"France\",\"Germany\",\"Indonesia\",\"Israel\",\"Italy\",\"Japan\",\"Morocco\",\"New Zealand\",\"Peru\",\"Portugal\",\"South Africa\",\"United States of America\"],\"xaxis\":\"x\",\"y\":[1,4,4,1,2,1,4,1,1,1,1,3,1,2,4,2,1,4],\"yaxis\":\"y\"},{\"alignmentgroup\":\"True\",\"hovertemplate\":\"Discipline=Tennis<br>NOC=%{x}<br>Count=%{y}<extra></extra>\",\"legendgroup\":\"Tennis\",\"marker\":{\"color\":\"#FECB52\",\"pattern\":{\"shape\":\"\"}},\"name\":\"Tennis\",\"offsetgroup\":\"Tennis\",\"orientation\":\"v\",\"showlegend\":true,\"textposition\":\"auto\",\"type\":\"bar\",\"x\":[\"Argentina\",\"Australia\",\"Austria\",\"Belarus\",\"Belgium\",\"Bolivia\",\"Brazil\",\"Canada\",\"Chile\",\"Chinese Taipei\",\"Colombia\",\"Croatia\",\"Czech Republic\",\"Egypt\",\"Estonia\",\"France\",\"Georgia\",\"Germany\",\"Great Britain\",\"Greece\",\"Hungary\",\"India\",\"Italy\",\"Japan\",\"Kazakhstan\",\"Latvia\",\"Mexico\",\"Netherlands\",\"New Zealand\",\"Paraguay\",\"People's Republic of China\",\"Peru\",\"Poland\",\"Portugal\",\"ROC\",\"Republic of Korea\",\"Romania\",\"Serbia\",\"Slovakia\",\"Spain\",\"Sweden\",\"Switzerland\",\"Tunisia\",\"Ukraine\",\"United States of America\",\"Uzbekistan\"],\"xaxis\":\"x\",\"y\":[7,10,2,3,4,1,5,4,1,5,3,6,6,2,1,9,1,9,5,1,1,3,6,10,7,1,2,4,1,1,5,1,6,1,8,1,3,4,3,7,1,2,1,3,10,1],\"yaxis\":\"y\"},{\"alignmentgroup\":\"True\",\"hovertemplate\":\"Discipline=Triathlon<br>NOC=%{x}<br>Count=%{y}<extra></extra>\",\"legendgroup\":\"Triathlon\",\"marker\":{\"color\":\"#636efa\",\"pattern\":{\"shape\":\"\"}},\"name\":\"Triathlon\",\"offsetgroup\":\"Triathlon\",\"orientation\":\"v\",\"showlegend\":true,\"textposition\":\"auto\",\"type\":\"bar\",\"x\":[\"Argentina\",\"Australia\",\"Austria\",\"Azerbaijan\",\"Belgium\",\"Bermuda\",\"Brazil\",\"Canada\",\"Chile\",\"Czech Republic\",\"Ecuador\",\"Egypt\",\"Estonia\",\"France\",\"Germany\",\"Great Britain\",\"Hong Kong, China\",\"Hungary\",\"Ireland\",\"Israel\",\"Italy\",\"Japan\",\"Luxembourg\",\"Mexico\",\"Morocco\",\"Netherlands\",\"New Zealand\",\"Norway\",\"People's Republic of China\",\"Portugal\",\"ROC\",\"Romania\",\"South Africa\",\"Spain\",\"Switzerland\",\"Syrian Arab Republic\",\"Ukraine\",\"United States of America\"],\"xaxis\":\"x\",\"y\":[1,5,4,1,3,1,3,4,2,2,1,1,1,5,4,5,1,4,2,2,5,4,1,4,1,3,3,4,1,3,4,1,4,5,4,1,1,5],\"yaxis\":\"y\"},{\"alignmentgroup\":\"True\",\"hovertemplate\":\"Discipline=Volleyball<br>NOC=%{x}<br>Count=%{y}<extra></extra>\",\"legendgroup\":\"Volleyball\",\"marker\":{\"color\":\"#EF553B\",\"pattern\":{\"shape\":\"\"}},\"name\":\"Volleyball\",\"offsetgroup\":\"Volleyball\",\"orientation\":\"v\",\"showlegend\":true,\"textposition\":\"auto\",\"type\":\"bar\",\"x\":[\"Argentina\",\"Brazil\",\"Canada\",\"Dominican Republic\",\"France\",\"Islamic Republic of Iran\",\"Italy\",\"Japan\",\"Kenya\",\"People's Republic of China\",\"Poland\",\"ROC\",\"Republic of Korea\",\"Serbia\",\"Tunisia\",\"Turkey\",\"United States of America\",\"Venezuela\"],\"xaxis\":\"x\",\"y\":[23,23,12,12,11,12,22,22,12,12,11,22,12,12,10,12,22,12],\"yaxis\":\"y\"},{\"alignmentgroup\":\"True\",\"hovertemplate\":\"Discipline=Archery<br>NOC=%{x}<br>Count=%{y}<extra></extra>\",\"legendgroup\":\"Archery\",\"marker\":{\"color\":\"#00cc96\",\"pattern\":{\"shape\":\"\"}},\"name\":\"Archery\",\"offsetgroup\":\"Archery\",\"orientation\":\"v\",\"showlegend\":true,\"textposition\":\"auto\",\"type\":\"bar\",\"x\":[\"Australia\",\"Bangladesh\",\"Belarus\",\"Belgium\",\"Bhutan\",\"Brazil\",\"Canada\",\"Chad\",\"Chile\",\"Chinese Taipei\",\"Colombia\",\"Czech Republic\",\"Denmark\",\"Ecuador\",\"Egypt\",\"Estonia\",\"Finland\",\"France\",\"Germany\",\"Great Britain\",\"Greece\",\"Hungary\",\"India\",\"Indonesia\",\"Islamic Republic of Iran\",\"Israel\",\"Italy\",\"Japan\",\"Kazakhstan\",\"Luxembourg\",\"Malawi\",\"Malaysia\",\"Mexico\",\"Mongolia\",\"Netherlands\",\"People's Republic of China\",\"Poland\",\"ROC\",\"Republic of Korea\",\"Republic of Moldova\",\"Romania\",\"Slovakia\",\"Slovenia\",\"Spain\",\"Sweden\",\"Tunisia\",\"Turkey\",\"Ukraine\",\"United States of America\",\"Vietnam\",\"Virgin Islands, US\"],\"xaxis\":\"x\",\"y\":[2,2,3,1,1,2,1,1,1,6,2,1,1,1,2,1,1,4,4,5,1,1,4,4,1,1,3,6,3,1,1,2,4,2,4,6,2,3,6,2,1,1,1,2,1,2,2,4,6,2,1],\"yaxis\":\"y\"},{\"alignmentgroup\":\"True\",\"hovertemplate\":\"Discipline=Artistic Swimming<br>NOC=%{x}<br>Count=%{y}<extra></extra>\",\"legendgroup\":\"Artistic Swimming\",\"marker\":{\"color\":\"#ab63fa\",\"pattern\":{\"shape\":\"\"}},\"name\":\"Artistic Swimming\",\"offsetgroup\":\"Artistic Swimming\",\"orientation\":\"v\",\"showlegend\":true,\"textposition\":\"auto\",\"type\":\"bar\",\"x\":[\"Australia\",\"Austria\",\"Belarus\",\"Canada\",\"Colombia\",\"Egypt\",\"France\",\"Great Britain\",\"Greece\",\"Israel\",\"Italy\",\"Japan\",\"Kazakhstan\",\"Liechtenstein\",\"Mexico\",\"Netherlands\",\"People's Republic of China\",\"ROC\",\"South Africa\",\"Spain\",\"Ukraine\",\"United States of America\"],\"xaxis\":\"x\",\"y\":[7,2,2,6,2,8,2,1,8,2,8,8,2,2,2,1,8,7,2,8,8,2],\"yaxis\":\"y\"},{\"alignmentgroup\":\"True\",\"hovertemplate\":\"Discipline=Badminton<br>NOC=%{x}<br>Count=%{y}<extra></extra>\",\"legendgroup\":\"Badminton\",\"marker\":{\"color\":\"#FFA15A\",\"pattern\":{\"shape\":\"\"}},\"name\":\"Badminton\",\"offsetgroup\":\"Badminton\",\"orientation\":\"v\",\"showlegend\":true,\"textposition\":\"auto\",\"type\":\"bar\",\"x\":[\"Australia\",\"Austria\",\"Azerbaijan\",\"Belgium\",\"Brazil\",\"Bulgaria\",\"Canada\",\"Chinese Taipei\",\"Denmark\",\"Egypt\",\"Estonia\",\"Finland\",\"France\",\"Germany\",\"Great Britain\",\"Guatemala\",\"Hong Kong, China\",\"Hungary\",\"India\",\"Indonesia\",\"Ireland\",\"Islamic Republic of Iran\",\"Israel\",\"Japan\",\"Malaysia\",\"Maldives\",\"Malta\",\"Mauritius\",\"Mexico\",\"Myanmar\",\"Netherlands\",\"Nigeria\",\"Pakistan\",\"People's Republic of China\",\"Peru\",\"ROC\",\"Refugee Olympic Team\",\"Republic of Korea\",\"Singapore\",\"Slovakia\",\"Spain\",\"Sri Lanka\",\"Suriname\",\"Sweden\",\"Switzerland\",\"Thailand\",\"Turkey\",\"Ukraine\",\"United States of America\",\"Vietnam\"],\"xaxis\":\"x\",\"y\":[4,1,1,1,2,2,8,5,8,3,2,1,4,5,7,2,4,2,3,10,1,1,2,11,8,1,1,1,2,1,3,2,1,14,1,3,1,10,2,1,2,1,1,1,1,7,1,2,4,2],\"yaxis\":\"y\"},{\"alignmentgroup\":\"True\",\"hovertemplate\":\"Discipline=Baseball/Softball<br>NOC=%{x}<br>Count=%{y}<extra></extra>\",\"legendgroup\":\"Baseball/Softball\",\"marker\":{\"color\":\"#19d3f3\",\"pattern\":{\"shape\":\"\"}},\"name\":\"Baseball/Softball\",\"offsetgroup\":\"Baseball/Softball\",\"orientation\":\"v\",\"showlegend\":true,\"textposition\":\"auto\",\"type\":\"bar\",\"x\":[\"Australia\",\"Canada\",\"Dominican Republic\",\"Israel\",\"Italy\",\"Japan\",\"Mexico\",\"Republic of Korea\",\"United States of America\"],\"xaxis\":\"x\",\"y\":[15,14,21,22,14,37,37,22,38],\"yaxis\":\"y\"},{\"alignmentgroup\":\"True\",\"hovertemplate\":\"Discipline=Cycling BMX Freestyle<br>NOC=%{x}<br>Count=%{y}<extra></extra>\",\"legendgroup\":\"Cycling BMX Freestyle\",\"marker\":{\"color\":\"#FF6692\",\"pattern\":{\"shape\":\"\"}},\"name\":\"Cycling BMX Freestyle\",\"offsetgroup\":\"Cycling BMX Freestyle\",\"orientation\":\"v\",\"showlegend\":true,\"textposition\":\"auto\",\"type\":\"bar\",\"x\":[\"Australia\",\"Chile\",\"Costa Rica\",\"France\",\"Germany\",\"Great Britain\",\"Japan\",\"ROC\",\"Switzerland\",\"United States of America\",\"Venezuela\"],\"xaxis\":\"x\",\"y\":[2,1,1,1,2,2,2,2,1,4,1],\"yaxis\":\"y\"},{\"alignmentgroup\":\"True\",\"hovertemplate\":\"Discipline=Cycling Track<br>NOC=%{x}<br>Count=%{y}<extra></extra>\",\"legendgroup\":\"Cycling Track\",\"marker\":{\"color\":\"#B6E880\",\"pattern\":{\"shape\":\"\"}},\"name\":\"Cycling Track\",\"offsetgroup\":\"Cycling Track\",\"orientation\":\"v\",\"showlegend\":true,\"textposition\":\"auto\",\"type\":\"bar\",\"x\":[\"Australia\",\"Austria\",\"Belarus\",\"Belgium\",\"Canada\",\"Colombia\",\"Czech Republic\",\"Denmark\",\"Egypt\",\"France\",\"Germany\",\"Great Britain\",\"Greece\",\"Hong Kong, China\",\"Ireland\",\"Italy\",\"Japan\",\"Kazakhstan\",\"Lithuania\",\"Malaysia\",\"Mexico\",\"Netherlands\",\"New Zealand\",\"Norway\",\"People's Republic of China\",\"Poland\",\"Portugal\",\"ROC\",\"Republic of Korea\",\"South Africa\",\"Spain\",\"Suriname\",\"Switzerland\",\"Trinidad and Tobago\",\"Ukraine\",\"United States of America\"],\"xaxis\":\"x\",\"y\":[16,3,2,5,14,1,1,7,1,12,18,15,1,4,6,10,7,2,2,2,3,9,16,1,5,9,1,9,1,3,2,1,6,2,2,9],\"yaxis\":\"y\"},{\"alignmentgroup\":\"True\",\"hovertemplate\":\"Discipline=Diving<br>NOC=%{x}<br>Count=%{y}<extra></extra>\",\"legendgroup\":\"Diving\",\"marker\":{\"color\":\"#FF97FF\",\"pattern\":{\"shape\":\"\"}},\"name\":\"Diving\",\"offsetgroup\":\"Diving\",\"orientation\":\"v\",\"showlegend\":true,\"textposition\":\"auto\",\"type\":\"bar\",\"x\":[\"Australia\",\"Brazil\",\"Canada\",\"Colombia\",\"Dominican Republic\",\"Egypt\",\"France\",\"Germany\",\"Great Britain\",\"Ireland\",\"Italy\",\"Jamaica\",\"Japan\",\"Malaysia\",\"Mexico\",\"Netherlands\",\"New Zealand\",\"Norway\",\"People's Republic of China\",\"Puerto Rico\",\"ROC\",\"Republic of Korea\",\"Singapore\",\"South Africa\",\"Spain\",\"Sweden\",\"Switzerland\",\"Ukraine\",\"United States of America\",\"Venezuela\"],\"xaxis\":\"x\",\"y\":[7,4,9,2,1,2,3,7,11,2,6,1,11,5,13,2,1,1,8,1,6,5,2,2,2,1,1,6,10,1],\"yaxis\":\"y\"},{\"alignmentgroup\":\"True\",\"hovertemplate\":\"Discipline=Karate<br>NOC=%{x}<br>Count=%{y}<extra></extra>\",\"legendgroup\":\"Karate\",\"marker\":{\"color\":\"#FECB52\",\"pattern\":{\"shape\":\"\"}},\"name\":\"Karate\",\"offsetgroup\":\"Karate\",\"orientation\":\"v\",\"showlegend\":true,\"textposition\":\"auto\",\"type\":\"bar\",\"x\":[\"Australia\",\"Austria\",\"Azerbaijan\",\"Bulgaria\",\"Canada\",\"Chinese Taipei\",\"Croatia\",\"Egypt\",\"France\",\"Georgia\",\"Germany\",\"Hong Kong, China\",\"Hungary\",\"Islamic Republic of Iran\",\"Italy\",\"Japan\",\"Kazakhstan\",\"Kuwait\",\"Latvia\",\"Morocco\",\"New Zealand\",\"North Macedonia\",\"People's Republic of China\",\"Peru\",\"ROC\",\"Refugee Olympic Team\",\"Republic of Korea\",\"Saudi Arabia\",\"Serbia\",\"Spain\",\"Switzerland\",\"Turkey\",\"Ukraine\",\"United States of America\",\"Venezuela\"],\"xaxis\":\"x\",\"y\":[1,1,3,1,1,2,1,4,3,1,4,1,1,3,5,8,5,1,1,1,1,1,2,1,1,2,1,1,1,2,1,5,3,4,3],\"yaxis\":\"y\"},{\"alignmentgroup\":\"True\",\"hovertemplate\":\"Discipline=Rhythmic Gymnastics<br>NOC=%{x}<br>Count=%{y}<extra></extra>\",\"legendgroup\":\"Rhythmic Gymnastics\",\"marker\":{\"color\":\"#636efa\",\"pattern\":{\"shape\":\"\"}},\"name\":\"Rhythmic Gymnastics\",\"offsetgroup\":\"Rhythmic Gymnastics\",\"orientation\":\"v\",\"showlegend\":true,\"textposition\":\"auto\",\"type\":\"bar\",\"x\":[\"Australia\",\"Azerbaijan\",\"Belarus\",\"Brazil\",\"Bulgaria\",\"Cape Verde\",\"Egypt\",\"Georgia\",\"Hungary\",\"Israel\",\"Italy\",\"Japan\",\"Kazakhstan\",\"Mexico\",\"People's Republic of China\",\"ROC\",\"Slovenia\",\"Ukraine\",\"United States of America\",\"Uzbekistan\"],\"xaxis\":\"x\",\"y\":[6,6,7,5,7,1,6,1,1,7,7,7,1,1,5,7,1,7,7,5],\"yaxis\":\"y\"},{\"alignmentgroup\":\"True\",\"hovertemplate\":\"Discipline=Skateboarding<br>NOC=%{x}<br>Count=%{y}<extra></extra>\",\"legendgroup\":\"Skateboarding\",\"marker\":{\"color\":\"#EF553B\",\"pattern\":{\"shape\":\"\"}},\"name\":\"Skateboarding\",\"offsetgroup\":\"Skateboarding\",\"orientation\":\"v\",\"showlegend\":true,\"textposition\":\"auto\",\"type\":\"bar\",\"x\":[\"Australia\",\"Austria\",\"Belgium\",\"Brazil\",\"Canada\",\"Chile\",\"Colombia\",\"Denmark\",\"Finland\",\"France\",\"Germany\",\"Great Britain\",\"Italy\",\"Japan\",\"Netherlands\",\"People's Republic of China\",\"Peru\",\"Philippines\",\"Poland\",\"Portugal\",\"Puerto Rico\",\"South Africa\",\"Spain\",\"Sweden\",\"United States of America\"],\"xaxis\":\"x\",\"y\":[5,1,2,12,4,1,1,1,1,5,2,1,3,10,2,2,1,1,1,1,1,3,4,1,11],\"yaxis\":\"y\"},{\"alignmentgroup\":\"True\",\"hovertemplate\":\"Discipline=Sport Climbing<br>NOC=%{x}<br>Count=%{y}<extra></extra>\",\"legendgroup\":\"Sport Climbing\",\"marker\":{\"color\":\"#00cc96\",\"pattern\":{\"shape\":\"\"}},\"name\":\"Sport Climbing\",\"offsetgroup\":\"Sport Climbing\",\"orientation\":\"v\",\"showlegend\":true,\"textposition\":\"auto\",\"type\":\"bar\",\"x\":[\"Australia\",\"Austria\",\"Canada\",\"Czech Republic\",\"France\",\"Germany\",\"Great Britain\",\"Italy\",\"Japan\",\"Kazakhstan\",\"People's Republic of China\",\"Poland\",\"ROC\",\"Republic of Korea\",\"Slovenia\",\"South Africa\",\"Spain\",\"Switzerland\",\"United States of America\"],\"xaxis\":\"x\",\"y\":[2,2,2,1,4,1,1,3,4,1,2,1,2,2,2,2,1,1,3],\"yaxis\":\"y\"},{\"alignmentgroup\":\"True\",\"hovertemplate\":\"Discipline=Trampoline Gymnastics<br>NOC=%{x}<br>Count=%{y}<extra></extra>\",\"legendgroup\":\"Trampoline Gymnastics\",\"marker\":{\"color\":\"#ab63fa\",\"pattern\":{\"shape\":\"\"}},\"name\":\"Trampoline Gymnastics\",\"offsetgroup\":\"Trampoline Gymnastics\",\"orientation\":\"v\",\"showlegend\":true,\"textposition\":\"auto\",\"type\":\"bar\",\"x\":[\"Australia\",\"Belarus\",\"Canada\",\"Colombia\",\"Egypt\",\"France\",\"Great Britain\",\"Japan\",\"Mexico\",\"New Zealand\",\"People's Republic of China\",\"Portugal\",\"ROC\",\"Ukraine\",\"United States of America\"],\"xaxis\":\"x\",\"y\":[2,2,2,1,2,2,2,4,1,1,4,1,4,1,2],\"yaxis\":\"y\"},{\"alignmentgroup\":\"True\",\"hovertemplate\":\"Discipline=Water Polo<br>NOC=%{x}<br>Count=%{y}<extra></extra>\",\"legendgroup\":\"Water Polo\",\"marker\":{\"color\":\"#FFA15A\",\"pattern\":{\"shape\":\"\"}},\"name\":\"Water Polo\",\"offsetgroup\":\"Water Polo\",\"orientation\":\"v\",\"showlegend\":true,\"textposition\":\"auto\",\"type\":\"bar\",\"x\":[\"Australia\",\"Canada\",\"Croatia\",\"Greece\",\"Hungary\",\"Italy\",\"Japan\",\"Kazakhstan\",\"Montenegro\",\"Netherlands\",\"People's Republic of China\",\"ROC\",\"Serbia\",\"South Africa\",\"Spain\",\"United States of America\"],\"xaxis\":\"x\",\"y\":[25,13,12,12,25,12,23,11,13,13,12,12,13,22,26,25],\"yaxis\":\"y\"},{\"alignmentgroup\":\"True\",\"hovertemplate\":\"Discipline=3x3 Basketball<br>NOC=%{x}<br>Count=%{y}<extra></extra>\",\"legendgroup\":\"3x3 Basketball\",\"marker\":{\"color\":\"#19d3f3\",\"pattern\":{\"shape\":\"\"}},\"name\":\"3x3 Basketball\",\"offsetgroup\":\"3x3 Basketball\",\"orientation\":\"v\",\"showlegend\":true,\"textposition\":\"auto\",\"type\":\"bar\",\"x\":[\"Belgium\",\"France\",\"Italy\",\"Japan\",\"Latvia\",\"Mongolia\",\"Netherlands\",\"People's Republic of China\",\"Poland\",\"ROC\",\"Romania\",\"Serbia\",\"United States of America\"],\"xaxis\":\"x\",\"y\":[4,3,4,8,3,4,4,8,4,8,4,4,4],\"yaxis\":\"y\"}],                        {\"barmode\":\"relative\",\"legend\":{\"title\":{\"text\":\"Discipline\"},\"tracegroupgap\":0},\"template\":{\"data\":{\"bar\":[{\"error_x\":{\"color\":\"#2a3f5f\"},\"error_y\":{\"color\":\"#2a3f5f\"},\"marker\":{\"line\":{\"color\":\"#E5ECF6\",\"width\":0.5},\"pattern\":{\"fillmode\":\"overlay\",\"size\":10,\"solidity\":0.2}},\"type\":\"bar\"}],\"barpolar\":[{\"marker\":{\"line\":{\"color\":\"#E5ECF6\",\"width\":0.5},\"pattern\":{\"fillmode\":\"overlay\",\"size\":10,\"solidity\":0.2}},\"type\":\"barpolar\"}],\"carpet\":[{\"aaxis\":{\"endlinecolor\":\"#2a3f5f\",\"gridcolor\":\"white\",\"linecolor\":\"white\",\"minorgridcolor\":\"white\",\"startlinecolor\":\"#2a3f5f\"},\"baxis\":{\"endlinecolor\":\"#2a3f5f\",\"gridcolor\":\"white\",\"linecolor\":\"white\",\"minorgridcolor\":\"white\",\"startlinecolor\":\"#2a3f5f\"},\"type\":\"carpet\"}],\"choropleth\":[{\"colorbar\":{\"outlinewidth\":0,\"ticks\":\"\"},\"type\":\"choropleth\"}],\"contour\":[{\"colorbar\":{\"outlinewidth\":0,\"ticks\":\"\"},\"colorscale\":[[0.0,\"#0d0887\"],[0.1111111111111111,\"#46039f\"],[0.2222222222222222,\"#7201a8\"],[0.3333333333333333,\"#9c179e\"],[0.4444444444444444,\"#bd3786\"],[0.5555555555555556,\"#d8576b\"],[0.6666666666666666,\"#ed7953\"],[0.7777777777777778,\"#fb9f3a\"],[0.8888888888888888,\"#fdca26\"],[1.0,\"#f0f921\"]],\"type\":\"contour\"}],\"contourcarpet\":[{\"colorbar\":{\"outlinewidth\":0,\"ticks\":\"\"},\"type\":\"contourcarpet\"}],\"heatmap\":[{\"colorbar\":{\"outlinewidth\":0,\"ticks\":\"\"},\"colorscale\":[[0.0,\"#0d0887\"],[0.1111111111111111,\"#46039f\"],[0.2222222222222222,\"#7201a8\"],[0.3333333333333333,\"#9c179e\"],[0.4444444444444444,\"#bd3786\"],[0.5555555555555556,\"#d8576b\"],[0.6666666666666666,\"#ed7953\"],[0.7777777777777778,\"#fb9f3a\"],[0.8888888888888888,\"#fdca26\"],[1.0,\"#f0f921\"]],\"type\":\"heatmap\"}],\"heatmapgl\":[{\"colorbar\":{\"outlinewidth\":0,\"ticks\":\"\"},\"colorscale\":[[0.0,\"#0d0887\"],[0.1111111111111111,\"#46039f\"],[0.2222222222222222,\"#7201a8\"],[0.3333333333333333,\"#9c179e\"],[0.4444444444444444,\"#bd3786\"],[0.5555555555555556,\"#d8576b\"],[0.6666666666666666,\"#ed7953\"],[0.7777777777777778,\"#fb9f3a\"],[0.8888888888888888,\"#fdca26\"],[1.0,\"#f0f921\"]],\"type\":\"heatmapgl\"}],\"histogram\":[{\"marker\":{\"pattern\":{\"fillmode\":\"overlay\",\"size\":10,\"solidity\":0.2}},\"type\":\"histogram\"}],\"histogram2d\":[{\"colorbar\":{\"outlinewidth\":0,\"ticks\":\"\"},\"colorscale\":[[0.0,\"#0d0887\"],[0.1111111111111111,\"#46039f\"],[0.2222222222222222,\"#7201a8\"],[0.3333333333333333,\"#9c179e\"],[0.4444444444444444,\"#bd3786\"],[0.5555555555555556,\"#d8576b\"],[0.6666666666666666,\"#ed7953\"],[0.7777777777777778,\"#fb9f3a\"],[0.8888888888888888,\"#fdca26\"],[1.0,\"#f0f921\"]],\"type\":\"histogram2d\"}],\"histogram2dcontour\":[{\"colorbar\":{\"outlinewidth\":0,\"ticks\":\"\"},\"colorscale\":[[0.0,\"#0d0887\"],[0.1111111111111111,\"#46039f\"],[0.2222222222222222,\"#7201a8\"],[0.3333333333333333,\"#9c179e\"],[0.4444444444444444,\"#bd3786\"],[0.5555555555555556,\"#d8576b\"],[0.6666666666666666,\"#ed7953\"],[0.7777777777777778,\"#fb9f3a\"],[0.8888888888888888,\"#fdca26\"],[1.0,\"#f0f921\"]],\"type\":\"histogram2dcontour\"}],\"mesh3d\":[{\"colorbar\":{\"outlinewidth\":0,\"ticks\":\"\"},\"type\":\"mesh3d\"}],\"parcoords\":[{\"line\":{\"colorbar\":{\"outlinewidth\":0,\"ticks\":\"\"}},\"type\":\"parcoords\"}],\"pie\":[{\"automargin\":true,\"type\":\"pie\"}],\"scatter\":[{\"marker\":{\"colorbar\":{\"outlinewidth\":0,\"ticks\":\"\"}},\"type\":\"scatter\"}],\"scatter3d\":[{\"line\":{\"colorbar\":{\"outlinewidth\":0,\"ticks\":\"\"}},\"marker\":{\"colorbar\":{\"outlinewidth\":0,\"ticks\":\"\"}},\"type\":\"scatter3d\"}],\"scattercarpet\":[{\"marker\":{\"colorbar\":{\"outlinewidth\":0,\"ticks\":\"\"}},\"type\":\"scattercarpet\"}],\"scattergeo\":[{\"marker\":{\"colorbar\":{\"outlinewidth\":0,\"ticks\":\"\"}},\"type\":\"scattergeo\"}],\"scattergl\":[{\"marker\":{\"colorbar\":{\"outlinewidth\":0,\"ticks\":\"\"}},\"type\":\"scattergl\"}],\"scattermapbox\":[{\"marker\":{\"colorbar\":{\"outlinewidth\":0,\"ticks\":\"\"}},\"type\":\"scattermapbox\"}],\"scatterpolar\":[{\"marker\":{\"colorbar\":{\"outlinewidth\":0,\"ticks\":\"\"}},\"type\":\"scatterpolar\"}],\"scatterpolargl\":[{\"marker\":{\"colorbar\":{\"outlinewidth\":0,\"ticks\":\"\"}},\"type\":\"scatterpolargl\"}],\"scatterternary\":[{\"marker\":{\"colorbar\":{\"outlinewidth\":0,\"ticks\":\"\"}},\"type\":\"scatterternary\"}],\"surface\":[{\"colorbar\":{\"outlinewidth\":0,\"ticks\":\"\"},\"colorscale\":[[0.0,\"#0d0887\"],[0.1111111111111111,\"#46039f\"],[0.2222222222222222,\"#7201a8\"],[0.3333333333333333,\"#9c179e\"],[0.4444444444444444,\"#bd3786\"],[0.5555555555555556,\"#d8576b\"],[0.6666666666666666,\"#ed7953\"],[0.7777777777777778,\"#fb9f3a\"],[0.8888888888888888,\"#fdca26\"],[1.0,\"#f0f921\"]],\"type\":\"surface\"}],\"table\":[{\"cells\":{\"fill\":{\"color\":\"#EBF0F8\"},\"line\":{\"color\":\"white\"}},\"header\":{\"fill\":{\"color\":\"#C8D4E3\"},\"line\":{\"color\":\"white\"}},\"type\":\"table\"}]},\"layout\":{\"annotationdefaults\":{\"arrowcolor\":\"#2a3f5f\",\"arrowhead\":0,\"arrowwidth\":1},\"autotypenumbers\":\"strict\",\"coloraxis\":{\"colorbar\":{\"outlinewidth\":0,\"ticks\":\"\"}},\"colorscale\":{\"diverging\":[[0,\"#8e0152\"],[0.1,\"#c51b7d\"],[0.2,\"#de77ae\"],[0.3,\"#f1b6da\"],[0.4,\"#fde0ef\"],[0.5,\"#f7f7f7\"],[0.6,\"#e6f5d0\"],[0.7,\"#b8e186\"],[0.8,\"#7fbc41\"],[0.9,\"#4d9221\"],[1,\"#276419\"]],\"sequential\":[[0.0,\"#0d0887\"],[0.1111111111111111,\"#46039f\"],[0.2222222222222222,\"#7201a8\"],[0.3333333333333333,\"#9c179e\"],[0.4444444444444444,\"#bd3786\"],[0.5555555555555556,\"#d8576b\"],[0.6666666666666666,\"#ed7953\"],[0.7777777777777778,\"#fb9f3a\"],[0.8888888888888888,\"#fdca26\"],[1.0,\"#f0f921\"]],\"sequentialminus\":[[0.0,\"#0d0887\"],[0.1111111111111111,\"#46039f\"],[0.2222222222222222,\"#7201a8\"],[0.3333333333333333,\"#9c179e\"],[0.4444444444444444,\"#bd3786\"],[0.5555555555555556,\"#d8576b\"],[0.6666666666666666,\"#ed7953\"],[0.7777777777777778,\"#fb9f3a\"],[0.8888888888888888,\"#fdca26\"],[1.0,\"#f0f921\"]]},\"colorway\":[\"#636efa\",\"#EF553B\",\"#00cc96\",\"#ab63fa\",\"#FFA15A\",\"#19d3f3\",\"#FF6692\",\"#B6E880\",\"#FF97FF\",\"#FECB52\"],\"font\":{\"color\":\"#2a3f5f\"},\"geo\":{\"bgcolor\":\"white\",\"lakecolor\":\"white\",\"landcolor\":\"#E5ECF6\",\"showlakes\":true,\"showland\":true,\"subunitcolor\":\"white\"},\"hoverlabel\":{\"align\":\"left\"},\"hovermode\":\"closest\",\"mapbox\":{\"style\":\"light\"},\"paper_bgcolor\":\"white\",\"plot_bgcolor\":\"#E5ECF6\",\"polar\":{\"angularaxis\":{\"gridcolor\":\"white\",\"linecolor\":\"white\",\"ticks\":\"\"},\"bgcolor\":\"#E5ECF6\",\"radialaxis\":{\"gridcolor\":\"white\",\"linecolor\":\"white\",\"ticks\":\"\"}},\"scene\":{\"xaxis\":{\"backgroundcolor\":\"#E5ECF6\",\"gridcolor\":\"white\",\"gridwidth\":2,\"linecolor\":\"white\",\"showbackground\":true,\"ticks\":\"\",\"zerolinecolor\":\"white\"},\"yaxis\":{\"backgroundcolor\":\"#E5ECF6\",\"gridcolor\":\"white\",\"gridwidth\":2,\"linecolor\":\"white\",\"showbackground\":true,\"ticks\":\"\",\"zerolinecolor\":\"white\"},\"zaxis\":{\"backgroundcolor\":\"#E5ECF6\",\"gridcolor\":\"white\",\"gridwidth\":2,\"linecolor\":\"white\",\"showbackground\":true,\"ticks\":\"\",\"zerolinecolor\":\"white\"}},\"shapedefaults\":{\"line\":{\"color\":\"#2a3f5f\"}},\"ternary\":{\"aaxis\":{\"gridcolor\":\"white\",\"linecolor\":\"white\",\"ticks\":\"\"},\"baxis\":{\"gridcolor\":\"white\",\"linecolor\":\"white\",\"ticks\":\"\"},\"bgcolor\":\"#E5ECF6\",\"caxis\":{\"gridcolor\":\"white\",\"linecolor\":\"white\",\"ticks\":\"\"}},\"title\":{\"x\":0.05},\"xaxis\":{\"automargin\":true,\"gridcolor\":\"white\",\"linecolor\":\"white\",\"ticks\":\"\",\"title\":{\"standoff\":15},\"zerolinecolor\":\"white\",\"zerolinewidth\":2},\"yaxis\":{\"automargin\":true,\"gridcolor\":\"white\",\"linecolor\":\"white\",\"ticks\":\"\",\"title\":{\"standoff\":15},\"zerolinecolor\":\"white\",\"zerolinewidth\":2}}},\"title\":{\"text\":\"Number of Athletes from each country by Discipline\"},\"xaxis\":{\"anchor\":\"y\",\"domain\":[0.0,1.0],\"title\":{\"text\":\"NOC\"}},\"yaxis\":{\"anchor\":\"x\",\"domain\":[0.0,1.0],\"title\":{\"text\":\"Count\"}}},                        {\"responsive\": true}                    ).then(function(){\n",
       "                            \n",
       "var gd = document.getElementById('4f6e44ee-a50b-4257-8cbf-bbcfdeca7696');\n",
       "var x = new MutationObserver(function (mutations, observer) {{\n",
       "        var display = window.getComputedStyle(gd).display;\n",
       "        if (!display || display === 'none') {{\n",
       "            console.log([gd, 'removed!']);\n",
       "            Plotly.purge(gd);\n",
       "            observer.disconnect();\n",
       "        }}\n",
       "}});\n",
       "\n",
       "// Listen for the removal of the full notebook cells\n",
       "var notebookContainer = gd.closest('#notebook-container');\n",
       "if (notebookContainer) {{\n",
       "    x.observe(notebookContainer, {childList: true});\n",
       "}}\n",
       "\n",
       "// Listen for the clearing of the current output cell\n",
       "var outputEl = gd.closest('.output');\n",
       "if (outputEl) {{\n",
       "    x.observe(outputEl, {childList: true});\n",
       "}}\n",
       "\n",
       "                        })                };                });            </script>        </div>"
      ]
     },
     "metadata": {},
     "output_type": "display_data"
    }
   ],
   "source": [
    "fig = px.bar(pd_athletes_query, x='NOC', y='Count', color='Discipline', title='Number of Athletes from each country by Discipline')\n",
    "fig.show()"
   ]
  },
  {
   "cell_type": "code",
   "execution_count": 38,
   "id": "884c2ff7",
   "metadata": {},
   "outputs": [
    {
     "data": {
      "text/plain": [
       "Athletics    2068\n",
       "Swimming      743\n",
       "Football      567\n",
       "Rowing        496\n",
       "Hockey        406\n",
       "Name: Discipline, dtype: int64"
      ]
     },
     "execution_count": 38,
     "metadata": {},
     "output_type": "execute_result"
    }
   ],
   "source": [
    "athletes['Discipline'].value_counts().head()"
   ]
  },
  {
   "cell_type": "code",
   "execution_count": 41,
   "id": "486482bf",
   "metadata": {},
   "outputs": [
    {
     "data": {
      "text/html": [
       "<div>\n",
       "<style scoped>\n",
       "    .dataframe tbody tr th:only-of-type {\n",
       "        vertical-align: middle;\n",
       "    }\n",
       "\n",
       "    .dataframe tbody tr th {\n",
       "        vertical-align: top;\n",
       "    }\n",
       "\n",
       "    .dataframe thead th {\n",
       "        text-align: right;\n",
       "    }\n",
       "</style>\n",
       "<table border=\"1\" class=\"dataframe\">\n",
       "  <thead>\n",
       "    <tr style=\"text-align: right;\">\n",
       "      <th></th>\n",
       "      <th>NOC</th>\n",
       "      <th>Discipline</th>\n",
       "      <th>Count</th>\n",
       "    </tr>\n",
       "  </thead>\n",
       "  <tbody>\n",
       "    <tr>\n",
       "      <th>0</th>\n",
       "      <td>Afghanistan</td>\n",
       "      <td>Athletics</td>\n",
       "      <td>2</td>\n",
       "    </tr>\n",
       "    <tr>\n",
       "      <th>2</th>\n",
       "      <td>Afghanistan</td>\n",
       "      <td>Swimming</td>\n",
       "      <td>1</td>\n",
       "    </tr>\n",
       "    <tr>\n",
       "      <th>5</th>\n",
       "      <td>Albania</td>\n",
       "      <td>Athletics</td>\n",
       "      <td>1</td>\n",
       "    </tr>\n",
       "    <tr>\n",
       "      <th>8</th>\n",
       "      <td>Albania</td>\n",
       "      <td>Swimming</td>\n",
       "      <td>2</td>\n",
       "    </tr>\n",
       "    <tr>\n",
       "      <th>10</th>\n",
       "      <td>Algeria</td>\n",
       "      <td>Athletics</td>\n",
       "      <td>8</td>\n",
       "    </tr>\n",
       "  </tbody>\n",
       "</table>\n",
       "</div>"
      ],
      "text/plain": [
       "            NOC Discipline  Count\n",
       "0   Afghanistan  Athletics      2\n",
       "2   Afghanistan   Swimming      1\n",
       "5       Albania  Athletics      1\n",
       "8       Albania   Swimming      2\n",
       "10      Algeria  Athletics      8"
      ]
     },
     "execution_count": 41,
     "metadata": {},
     "output_type": "execute_result"
    }
   ],
   "source": [
    "pd_athletes_query = pd_athletes_query.loc[pd_athletes_query['Discipline'].isin(['Athletics', 'Swimming','Football'])]\n",
    "pd_athletes_query.head()"
   ]
  },
  {
   "cell_type": "code",
   "execution_count": 42,
   "id": "00ca3894",
   "metadata": {},
   "outputs": [
    {
     "data": {
      "text/plain": [
       "Athletics    195\n",
       "Swimming     181\n",
       "Football      24\n",
       "Name: Discipline, dtype: int64"
      ]
     },
     "execution_count": 42,
     "metadata": {},
     "output_type": "execute_result"
    }
   ],
   "source": [
    "pd_athletes_query.Discipline.value_counts()"
   ]
  },
  {
   "cell_type": "code",
   "execution_count": 43,
   "id": "0a32d716",
   "metadata": {},
   "outputs": [
    {
     "data": {
      "application/vnd.plotly.v1+json": {
       "config": {
        "plotlyServerURL": "https://plot.ly"
       },
       "data": [
        {
         "alignmentgroup": "True",
         "hovertemplate": "Discipline=Athletics<br>NOC=%{x}<br>Count=%{y}<extra></extra>",
         "legendgroup": "Athletics",
         "marker": {
          "color": "#636efa",
          "pattern": {
           "shape": ""
          }
         },
         "name": "Athletics",
         "offsetgroup": "Athletics",
         "orientation": "v",
         "showlegend": true,
         "textposition": "auto",
         "type": "bar",
         "x": [
          "Afghanistan",
          "Albania",
          "Algeria",
          "American Samoa",
          "Andorra",
          "Angola",
          "Antigua and Barbuda",
          "Argentina",
          "Armenia",
          "Australia",
          "Austria",
          "Azerbaijan",
          "Bahamas",
          "Bahrain",
          "Bangladesh",
          "Barbados",
          "Belarus",
          "Belgium",
          "Belize",
          "Benin",
          "Bolivia",
          "Bosnia and Herzegovina",
          "Botswana",
          "Brazil",
          "Brunei Darussalam",
          "Bulgaria",
          "Burkina Faso",
          "Burundi",
          "Cambodia",
          "Cameroon",
          "Canada",
          "Cape Verde",
          "Cayman Islands",
          "Central African Republic",
          "Chad",
          "Chile",
          "Chinese Taipei",
          "Colombia",
          "Comoros",
          "Congo",
          "Cook Islands",
          "Costa Rica",
          "Croatia",
          "Cuba",
          "Cyprus",
          "Czech Republic",
          "Côte d'Ivoire",
          "Democratic Republic of Timor-Leste",
          "Democratic Republic of the Congo",
          "Denmark",
          "Djibouti",
          "Dominica",
          "Dominican Republic",
          "Ecuador",
          "Egypt",
          "El Salvador",
          "Equatorial Guinea",
          "Eritrea",
          "Estonia",
          "Eswatini",
          "Ethiopia",
          "Federated States of Micronesia",
          "Fiji",
          "Finland",
          "France",
          "Gabon",
          "Gambia",
          "Georgia",
          "Germany",
          "Ghana",
          "Great Britain",
          "Greece",
          "Grenada",
          "Guam",
          "Guatemala",
          "Guinea",
          "Guinea-Bissau",
          "Guyana",
          "Haiti",
          "Honduras",
          "Hong Kong, China",
          "Hungary",
          "Iceland",
          "India",
          "Indonesia",
          "Iraq",
          "Ireland",
          "Islamic Republic of Iran",
          "Israel",
          "Italy",
          "Jamaica",
          "Japan",
          "Jordan",
          "Kazakhstan",
          "Kenya",
          "Kiribati",
          "Kosovo",
          "Kuwait",
          "Kyrgyzstan",
          "Lao People's Democratic Republic",
          "Latvia",
          "Lebanon",
          "Lesotho",
          "Liberia",
          "Libya",
          "Lithuania",
          "Luxembourg",
          "Madagascar",
          "Malawi",
          "Malaysia",
          "Maldives",
          "Mali",
          "Malta",
          "Mauritania",
          "Mauritius",
          "Mexico",
          "Monaco",
          "Mongolia",
          "Montenegro",
          "Morocco",
          "Mozambique",
          "Namibia",
          "Nauru",
          "Nepal",
          "Netherlands",
          "New Zealand",
          "Nicaragua",
          "Niger",
          "Nigeria",
          "North Macedonia",
          "Norway",
          "Oman",
          "Pakistan",
          "Palau",
          "Palestine",
          "Panama",
          "Papua New Guinea",
          "Paraguay",
          "People's Republic of China",
          "Peru",
          "Philippines",
          "Poland",
          "Portugal",
          "Puerto Rico",
          "Qatar",
          "ROC",
          "Refugee Olympic Team",
          "Republic of Korea",
          "Republic of Moldova",
          "Romania",
          "Rwanda",
          "Saint Kitts and Nevis",
          "Saint Lucia",
          "Samoa",
          "Sao Tome and Principe",
          "Saudi Arabia",
          "Senegal",
          "Serbia",
          "Seychelles",
          "Sierra Leone",
          "Singapore",
          "Slovakia",
          "Slovenia",
          "Solomon Islands",
          "Somalia",
          "South Africa",
          "South Sudan",
          "Spain",
          "Sri Lanka",
          "Sudan",
          "Sweden",
          "Switzerland",
          "Syrian Arab Republic",
          "Tajikistan",
          "Thailand",
          "Togo",
          "Tonga",
          "Trinidad and Tobago",
          "Tunisia",
          "Turkey",
          "Turkmenistan",
          "Tuvalu",
          "Uganda",
          "Ukraine",
          "United Republic of Tanzania",
          "United States of America",
          "Uruguay",
          "Uzbekistan",
          "Venezuela",
          "Vietnam",
          "Virgin Islands, British",
          "Virgin Islands, US",
          "Yemen",
          "Zambia",
          "Zimbabwe"
         ],
         "xaxis": "x",
         "y": [
          2,
          1,
          8,
          1,
          1,
          1,
          2,
          5,
          1,
          65,
          7,
          2,
          14,
          13,
          1,
          6,
          33,
          30,
          2,
          3,
          2,
          2,
          9,
          53,
          1,
          5,
          2,
          3,
          1,
          1,
          56,
          1,
          2,
          1,
          1,
          3,
          6,
          24,
          2,
          2,
          1,
          3,
          7,
          18,
          3,
          31,
          3,
          1,
          1,
          16,
          2,
          2,
          7,
          18,
          5,
          1,
          2,
          9,
          7,
          1,
          39,
          1,
          1,
          22,
          66,
          1,
          2,
          5,
          95,
          7,
          75,
          20,
          4,
          1,
          9,
          1,
          1,
          3,
          1,
          1,
          2,
          19,
          1,
          25,
          2,
          2,
          27,
          4,
          9,
          73,
          54,
          70,
          1,
          10,
          37,
          1,
          1,
          2,
          3,
          1,
          7,
          1,
          2,
          3,
          1,
          9,
          2,
          1,
          1,
          2,
          1,
          2,
          1,
          2,
          1,
          18,
          1,
          3,
          2,
          16,
          1,
          4,
          1,
          1,
          44,
          12,
          1,
          2,
          20,
          1,
          15,
          2,
          2,
          1,
          1,
          4,
          1,
          2,
          53,
          7,
          2,
          64,
          19,
          4,
          8,
          10,
          6,
          6,
          5,
          10,
          2,
          2,
          1,
          1,
          1,
          2,
          1,
          5,
          1,
          1,
          1,
          9,
          7,
          1,
          1,
          30,
          2,
          58,
          2,
          1,
          20,
          30,
          1,
          1,
          2,
          1,
          1,
          22,
          3,
          24,
          1,
          2,
          18,
          48,
          2,
          144,
          3,
          7,
          4,
          1,
          2,
          1,
          1,
          2,
          1
         ],
         "yaxis": "y"
        },
        {
         "alignmentgroup": "True",
         "hovertemplate": "Discipline=Swimming<br>NOC=%{x}<br>Count=%{y}<extra></extra>",
         "legendgroup": "Swimming",
         "marker": {
          "color": "#EF553B",
          "pattern": {
           "shape": ""
          }
         },
         "name": "Swimming",
         "offsetgroup": "Swimming",
         "orientation": "v",
         "showlegend": true,
         "textposition": "auto",
         "type": "bar",
         "x": [
          "Afghanistan",
          "Albania",
          "Algeria",
          "American Samoa",
          "Angola",
          "Antigua and Barbuda",
          "Argentina",
          "Armenia",
          "Aruba",
          "Australia",
          "Austria",
          "Azerbaijan",
          "Bahamas",
          "Bahrain",
          "Bangladesh",
          "Barbados",
          "Belarus",
          "Belgium",
          "Benin",
          "Bhutan",
          "Bolivia",
          "Bosnia and Herzegovina",
          "Botswana",
          "Brazil",
          "Brunei Darussalam",
          "Bulgaria",
          "Burkina Faso",
          "Burundi",
          "Cambodia",
          "Cameroon",
          "Canada",
          "Cape Verde",
          "Cayman Islands",
          "Central African Republic",
          "Chile",
          "Chinese Taipei",
          "Colombia",
          "Congo",
          "Cook Islands",
          "Costa Rica",
          "Croatia",
          "Cuba",
          "Cyprus",
          "Czech Republic",
          "Côte d'Ivoire",
          "Democratic Republic of Timor-Leste",
          "Denmark",
          "Djibouti",
          "Dominican Republic",
          "Ecuador",
          "Egypt",
          "El Salvador",
          "Equatorial Guinea",
          "Eritrea",
          "Estonia",
          "Eswatini",
          "Ethiopia",
          "Federated States of Micronesia",
          "Fiji",
          "Finland",
          "France",
          "Gabon",
          "Georgia",
          "Germany",
          "Ghana",
          "Great Britain",
          "Greece",
          "Grenada",
          "Guam",
          "Guatemala",
          "Guinea",
          "Guyana",
          "Haiti",
          "Honduras",
          "Hong Kong, China",
          "Hungary",
          "Iceland",
          "India",
          "Indonesia",
          "Ireland",
          "Islamic Republic of Iran",
          "Israel",
          "Italy",
          "Jamaica",
          "Japan",
          "Jordan",
          "Kazakhstan",
          "Kenya",
          "Kosovo",
          "Kuwait",
          "Kyrgyzstan",
          "Lao People's Democratic Republic",
          "Latvia",
          "Lebanon",
          "Libya",
          "Liechtenstein",
          "Lithuania",
          "Luxembourg",
          "Madagascar",
          "Malawi",
          "Malaysia",
          "Maldives",
          "Mali",
          "Malta",
          "Marshall Islands",
          "Mauritius",
          "Mexico",
          "Monaco",
          "Mongolia",
          "Montenegro",
          "Morocco",
          "Mozambique",
          "Nepal",
          "Netherlands",
          "New Zealand",
          "Nicaragua",
          "Niger",
          "Nigeria",
          "North Macedonia",
          "Norway",
          "Oman",
          "Pakistan",
          "Palau",
          "Palestine",
          "Panama",
          "Papua New Guinea",
          "Paraguay",
          "People's Republic of China",
          "Peru",
          "Philippines",
          "Poland",
          "Portugal",
          "Puerto Rico",
          "Qatar",
          "ROC",
          "Refugee Olympic Team",
          "Republic of Korea",
          "Republic of Moldova",
          "Romania",
          "Rwanda",
          "Saint Lucia",
          "San Marino",
          "Saudi Arabia",
          "Senegal",
          "Serbia",
          "Seychelles",
          "Sierra Leone",
          "Singapore",
          "Slovakia",
          "Slovenia",
          "Solomon Islands",
          "South Africa",
          "Spain",
          "Sri Lanka",
          "St Vincent and the Grenadines",
          "Sudan",
          "Suriname",
          "Sweden",
          "Switzerland",
          "Syrian Arab Republic",
          "Tajikistan",
          "Thailand",
          "Togo",
          "Tonga",
          "Trinidad and Tobago",
          "Tunisia",
          "Turkey",
          "Turkmenistan",
          "Uganda",
          "Ukraine",
          "United Arab Emirates",
          "United States of America",
          "Uruguay",
          "Uzbekistan",
          "Venezuela",
          "Vietnam",
          "Virgin Islands, British",
          "Virgin Islands, US",
          "Yemen",
          "Zambia",
          "Zimbabwe"
         ],
         "xaxis": "x",
         "y": [
          1,
          2,
          2,
          1,
          2,
          2,
          3,
          2,
          2,
          30,
          7,
          2,
          2,
          2,
          2,
          1,
          5,
          2,
          2,
          1,
          2,
          2,
          1,
          17,
          1,
          5,
          2,
          2,
          2,
          2,
          20,
          2,
          2,
          1,
          2,
          3,
          2,
          1,
          2,
          2,
          2,
          2,
          2,
          8,
          1,
          2,
          9,
          1,
          2,
          2,
          4,
          2,
          1,
          1,
          3,
          2,
          1,
          2,
          2,
          5,
          17,
          2,
          2,
          24,
          2,
          27,
          7,
          2,
          2,
          2,
          2,
          2,
          2,
          2,
          6,
          20,
          2,
          3,
          2,
          6,
          1,
          10,
          29,
          2,
          25,
          1,
          2,
          2,
          2,
          2,
          1,
          2,
          2,
          2,
          1,
          2,
          4,
          2,
          2,
          2,
          2,
          2,
          1,
          2,
          2,
          1,
          3,
          2,
          2,
          2,
          2,
          2,
          2,
          14,
          6,
          2,
          2,
          1,
          2,
          4,
          1,
          2,
          2,
          1,
          1,
          2,
          2,
          25,
          1,
          2,
          8,
          6,
          2,
          2,
          28,
          2,
          8,
          2,
          3,
          2,
          2,
          1,
          1,
          2,
          5,
          2,
          2,
          3,
          2,
          3,
          1,
          12,
          8,
          2,
          2,
          2,
          1,
          10,
          6,
          1,
          2,
          2,
          1,
          2,
          2,
          1,
          10,
          2,
          2,
          6,
          1,
          39,
          2,
          2,
          3,
          2,
          1,
          2,
          1,
          2,
          2
         ],
         "yaxis": "y"
        },
        {
         "alignmentgroup": "True",
         "hovertemplate": "Discipline=Football<br>NOC=%{x}<br>Count=%{y}<extra></extra>",
         "legendgroup": "Football",
         "marker": {
          "color": "#00cc96",
          "pattern": {
           "shape": ""
          }
         },
         "name": "Football",
         "offsetgroup": "Football",
         "orientation": "v",
         "showlegend": true,
         "textposition": "auto",
         "type": "bar",
         "x": [
          "Argentina",
          "Australia",
          "Brazil",
          "Canada",
          "Chile",
          "Côte d'Ivoire",
          "Egypt",
          "France",
          "Germany",
          "Great Britain",
          "Honduras",
          "Japan",
          "Mexico",
          "Netherlands",
          "New Zealand",
          "People's Republic of China",
          "Republic of Korea",
          "Romania",
          "Saudi Arabia",
          "South Africa",
          "Spain",
          "Sweden",
          "United States of America",
          "Zambia"
         ],
         "xaxis": "x",
         "y": [
          19,
          43,
          41,
          22,
          21,
          20,
          20,
          21,
          17,
          21,
          20,
          42,
          21,
          20,
          39,
          20,
          20,
          20,
          21,
          19,
          19,
          20,
          20,
          21
         ],
         "yaxis": "y"
        }
       ],
       "layout": {
        "barmode": "relative",
        "legend": {
         "title": {
          "text": "Discipline"
         },
         "tracegroupgap": 0
        },
        "template": {
         "data": {
          "bar": [
           {
            "error_x": {
             "color": "#2a3f5f"
            },
            "error_y": {
             "color": "#2a3f5f"
            },
            "marker": {
             "line": {
              "color": "#E5ECF6",
              "width": 0.5
             },
             "pattern": {
              "fillmode": "overlay",
              "size": 10,
              "solidity": 0.2
             }
            },
            "type": "bar"
           }
          ],
          "barpolar": [
           {
            "marker": {
             "line": {
              "color": "#E5ECF6",
              "width": 0.5
             },
             "pattern": {
              "fillmode": "overlay",
              "size": 10,
              "solidity": 0.2
             }
            },
            "type": "barpolar"
           }
          ],
          "carpet": [
           {
            "aaxis": {
             "endlinecolor": "#2a3f5f",
             "gridcolor": "white",
             "linecolor": "white",
             "minorgridcolor": "white",
             "startlinecolor": "#2a3f5f"
            },
            "baxis": {
             "endlinecolor": "#2a3f5f",
             "gridcolor": "white",
             "linecolor": "white",
             "minorgridcolor": "white",
             "startlinecolor": "#2a3f5f"
            },
            "type": "carpet"
           }
          ],
          "choropleth": [
           {
            "colorbar": {
             "outlinewidth": 0,
             "ticks": ""
            },
            "type": "choropleth"
           }
          ],
          "contour": [
           {
            "colorbar": {
             "outlinewidth": 0,
             "ticks": ""
            },
            "colorscale": [
             [
              0,
              "#0d0887"
             ],
             [
              0.1111111111111111,
              "#46039f"
             ],
             [
              0.2222222222222222,
              "#7201a8"
             ],
             [
              0.3333333333333333,
              "#9c179e"
             ],
             [
              0.4444444444444444,
              "#bd3786"
             ],
             [
              0.5555555555555556,
              "#d8576b"
             ],
             [
              0.6666666666666666,
              "#ed7953"
             ],
             [
              0.7777777777777778,
              "#fb9f3a"
             ],
             [
              0.8888888888888888,
              "#fdca26"
             ],
             [
              1,
              "#f0f921"
             ]
            ],
            "type": "contour"
           }
          ],
          "contourcarpet": [
           {
            "colorbar": {
             "outlinewidth": 0,
             "ticks": ""
            },
            "type": "contourcarpet"
           }
          ],
          "heatmap": [
           {
            "colorbar": {
             "outlinewidth": 0,
             "ticks": ""
            },
            "colorscale": [
             [
              0,
              "#0d0887"
             ],
             [
              0.1111111111111111,
              "#46039f"
             ],
             [
              0.2222222222222222,
              "#7201a8"
             ],
             [
              0.3333333333333333,
              "#9c179e"
             ],
             [
              0.4444444444444444,
              "#bd3786"
             ],
             [
              0.5555555555555556,
              "#d8576b"
             ],
             [
              0.6666666666666666,
              "#ed7953"
             ],
             [
              0.7777777777777778,
              "#fb9f3a"
             ],
             [
              0.8888888888888888,
              "#fdca26"
             ],
             [
              1,
              "#f0f921"
             ]
            ],
            "type": "heatmap"
           }
          ],
          "heatmapgl": [
           {
            "colorbar": {
             "outlinewidth": 0,
             "ticks": ""
            },
            "colorscale": [
             [
              0,
              "#0d0887"
             ],
             [
              0.1111111111111111,
              "#46039f"
             ],
             [
              0.2222222222222222,
              "#7201a8"
             ],
             [
              0.3333333333333333,
              "#9c179e"
             ],
             [
              0.4444444444444444,
              "#bd3786"
             ],
             [
              0.5555555555555556,
              "#d8576b"
             ],
             [
              0.6666666666666666,
              "#ed7953"
             ],
             [
              0.7777777777777778,
              "#fb9f3a"
             ],
             [
              0.8888888888888888,
              "#fdca26"
             ],
             [
              1,
              "#f0f921"
             ]
            ],
            "type": "heatmapgl"
           }
          ],
          "histogram": [
           {
            "marker": {
             "pattern": {
              "fillmode": "overlay",
              "size": 10,
              "solidity": 0.2
             }
            },
            "type": "histogram"
           }
          ],
          "histogram2d": [
           {
            "colorbar": {
             "outlinewidth": 0,
             "ticks": ""
            },
            "colorscale": [
             [
              0,
              "#0d0887"
             ],
             [
              0.1111111111111111,
              "#46039f"
             ],
             [
              0.2222222222222222,
              "#7201a8"
             ],
             [
              0.3333333333333333,
              "#9c179e"
             ],
             [
              0.4444444444444444,
              "#bd3786"
             ],
             [
              0.5555555555555556,
              "#d8576b"
             ],
             [
              0.6666666666666666,
              "#ed7953"
             ],
             [
              0.7777777777777778,
              "#fb9f3a"
             ],
             [
              0.8888888888888888,
              "#fdca26"
             ],
             [
              1,
              "#f0f921"
             ]
            ],
            "type": "histogram2d"
           }
          ],
          "histogram2dcontour": [
           {
            "colorbar": {
             "outlinewidth": 0,
             "ticks": ""
            },
            "colorscale": [
             [
              0,
              "#0d0887"
             ],
             [
              0.1111111111111111,
              "#46039f"
             ],
             [
              0.2222222222222222,
              "#7201a8"
             ],
             [
              0.3333333333333333,
              "#9c179e"
             ],
             [
              0.4444444444444444,
              "#bd3786"
             ],
             [
              0.5555555555555556,
              "#d8576b"
             ],
             [
              0.6666666666666666,
              "#ed7953"
             ],
             [
              0.7777777777777778,
              "#fb9f3a"
             ],
             [
              0.8888888888888888,
              "#fdca26"
             ],
             [
              1,
              "#f0f921"
             ]
            ],
            "type": "histogram2dcontour"
           }
          ],
          "mesh3d": [
           {
            "colorbar": {
             "outlinewidth": 0,
             "ticks": ""
            },
            "type": "mesh3d"
           }
          ],
          "parcoords": [
           {
            "line": {
             "colorbar": {
              "outlinewidth": 0,
              "ticks": ""
             }
            },
            "type": "parcoords"
           }
          ],
          "pie": [
           {
            "automargin": true,
            "type": "pie"
           }
          ],
          "scatter": [
           {
            "marker": {
             "colorbar": {
              "outlinewidth": 0,
              "ticks": ""
             }
            },
            "type": "scatter"
           }
          ],
          "scatter3d": [
           {
            "line": {
             "colorbar": {
              "outlinewidth": 0,
              "ticks": ""
             }
            },
            "marker": {
             "colorbar": {
              "outlinewidth": 0,
              "ticks": ""
             }
            },
            "type": "scatter3d"
           }
          ],
          "scattercarpet": [
           {
            "marker": {
             "colorbar": {
              "outlinewidth": 0,
              "ticks": ""
             }
            },
            "type": "scattercarpet"
           }
          ],
          "scattergeo": [
           {
            "marker": {
             "colorbar": {
              "outlinewidth": 0,
              "ticks": ""
             }
            },
            "type": "scattergeo"
           }
          ],
          "scattergl": [
           {
            "marker": {
             "colorbar": {
              "outlinewidth": 0,
              "ticks": ""
             }
            },
            "type": "scattergl"
           }
          ],
          "scattermapbox": [
           {
            "marker": {
             "colorbar": {
              "outlinewidth": 0,
              "ticks": ""
             }
            },
            "type": "scattermapbox"
           }
          ],
          "scatterpolar": [
           {
            "marker": {
             "colorbar": {
              "outlinewidth": 0,
              "ticks": ""
             }
            },
            "type": "scatterpolar"
           }
          ],
          "scatterpolargl": [
           {
            "marker": {
             "colorbar": {
              "outlinewidth": 0,
              "ticks": ""
             }
            },
            "type": "scatterpolargl"
           }
          ],
          "scatterternary": [
           {
            "marker": {
             "colorbar": {
              "outlinewidth": 0,
              "ticks": ""
             }
            },
            "type": "scatterternary"
           }
          ],
          "surface": [
           {
            "colorbar": {
             "outlinewidth": 0,
             "ticks": ""
            },
            "colorscale": [
             [
              0,
              "#0d0887"
             ],
             [
              0.1111111111111111,
              "#46039f"
             ],
             [
              0.2222222222222222,
              "#7201a8"
             ],
             [
              0.3333333333333333,
              "#9c179e"
             ],
             [
              0.4444444444444444,
              "#bd3786"
             ],
             [
              0.5555555555555556,
              "#d8576b"
             ],
             [
              0.6666666666666666,
              "#ed7953"
             ],
             [
              0.7777777777777778,
              "#fb9f3a"
             ],
             [
              0.8888888888888888,
              "#fdca26"
             ],
             [
              1,
              "#f0f921"
             ]
            ],
            "type": "surface"
           }
          ],
          "table": [
           {
            "cells": {
             "fill": {
              "color": "#EBF0F8"
             },
             "line": {
              "color": "white"
             }
            },
            "header": {
             "fill": {
              "color": "#C8D4E3"
             },
             "line": {
              "color": "white"
             }
            },
            "type": "table"
           }
          ]
         },
         "layout": {
          "annotationdefaults": {
           "arrowcolor": "#2a3f5f",
           "arrowhead": 0,
           "arrowwidth": 1
          },
          "autotypenumbers": "strict",
          "coloraxis": {
           "colorbar": {
            "outlinewidth": 0,
            "ticks": ""
           }
          },
          "colorscale": {
           "diverging": [
            [
             0,
             "#8e0152"
            ],
            [
             0.1,
             "#c51b7d"
            ],
            [
             0.2,
             "#de77ae"
            ],
            [
             0.3,
             "#f1b6da"
            ],
            [
             0.4,
             "#fde0ef"
            ],
            [
             0.5,
             "#f7f7f7"
            ],
            [
             0.6,
             "#e6f5d0"
            ],
            [
             0.7,
             "#b8e186"
            ],
            [
             0.8,
             "#7fbc41"
            ],
            [
             0.9,
             "#4d9221"
            ],
            [
             1,
             "#276419"
            ]
           ],
           "sequential": [
            [
             0,
             "#0d0887"
            ],
            [
             0.1111111111111111,
             "#46039f"
            ],
            [
             0.2222222222222222,
             "#7201a8"
            ],
            [
             0.3333333333333333,
             "#9c179e"
            ],
            [
             0.4444444444444444,
             "#bd3786"
            ],
            [
             0.5555555555555556,
             "#d8576b"
            ],
            [
             0.6666666666666666,
             "#ed7953"
            ],
            [
             0.7777777777777778,
             "#fb9f3a"
            ],
            [
             0.8888888888888888,
             "#fdca26"
            ],
            [
             1,
             "#f0f921"
            ]
           ],
           "sequentialminus": [
            [
             0,
             "#0d0887"
            ],
            [
             0.1111111111111111,
             "#46039f"
            ],
            [
             0.2222222222222222,
             "#7201a8"
            ],
            [
             0.3333333333333333,
             "#9c179e"
            ],
            [
             0.4444444444444444,
             "#bd3786"
            ],
            [
             0.5555555555555556,
             "#d8576b"
            ],
            [
             0.6666666666666666,
             "#ed7953"
            ],
            [
             0.7777777777777778,
             "#fb9f3a"
            ],
            [
             0.8888888888888888,
             "#fdca26"
            ],
            [
             1,
             "#f0f921"
            ]
           ]
          },
          "colorway": [
           "#636efa",
           "#EF553B",
           "#00cc96",
           "#ab63fa",
           "#FFA15A",
           "#19d3f3",
           "#FF6692",
           "#B6E880",
           "#FF97FF",
           "#FECB52"
          ],
          "font": {
           "color": "#2a3f5f"
          },
          "geo": {
           "bgcolor": "white",
           "lakecolor": "white",
           "landcolor": "#E5ECF6",
           "showlakes": true,
           "showland": true,
           "subunitcolor": "white"
          },
          "hoverlabel": {
           "align": "left"
          },
          "hovermode": "closest",
          "mapbox": {
           "style": "light"
          },
          "paper_bgcolor": "white",
          "plot_bgcolor": "#E5ECF6",
          "polar": {
           "angularaxis": {
            "gridcolor": "white",
            "linecolor": "white",
            "ticks": ""
           },
           "bgcolor": "#E5ECF6",
           "radialaxis": {
            "gridcolor": "white",
            "linecolor": "white",
            "ticks": ""
           }
          },
          "scene": {
           "xaxis": {
            "backgroundcolor": "#E5ECF6",
            "gridcolor": "white",
            "gridwidth": 2,
            "linecolor": "white",
            "showbackground": true,
            "ticks": "",
            "zerolinecolor": "white"
           },
           "yaxis": {
            "backgroundcolor": "#E5ECF6",
            "gridcolor": "white",
            "gridwidth": 2,
            "linecolor": "white",
            "showbackground": true,
            "ticks": "",
            "zerolinecolor": "white"
           },
           "zaxis": {
            "backgroundcolor": "#E5ECF6",
            "gridcolor": "white",
            "gridwidth": 2,
            "linecolor": "white",
            "showbackground": true,
            "ticks": "",
            "zerolinecolor": "white"
           }
          },
          "shapedefaults": {
           "line": {
            "color": "#2a3f5f"
           }
          },
          "ternary": {
           "aaxis": {
            "gridcolor": "white",
            "linecolor": "white",
            "ticks": ""
           },
           "baxis": {
            "gridcolor": "white",
            "linecolor": "white",
            "ticks": ""
           },
           "bgcolor": "#E5ECF6",
           "caxis": {
            "gridcolor": "white",
            "linecolor": "white",
            "ticks": ""
           }
          },
          "title": {
           "x": 0.05
          },
          "xaxis": {
           "automargin": true,
           "gridcolor": "white",
           "linecolor": "white",
           "ticks": "",
           "title": {
            "standoff": 15
           },
           "zerolinecolor": "white",
           "zerolinewidth": 2
          },
          "yaxis": {
           "automargin": true,
           "gridcolor": "white",
           "linecolor": "white",
           "ticks": "",
           "title": {
            "standoff": 15
           },
           "zerolinecolor": "white",
           "zerolinewidth": 2
          }
         }
        },
        "title": {
         "text": "Number of Athletes from each country by Discipline"
        },
        "xaxis": {
         "anchor": "y",
         "domain": [
          0,
          1
         ],
         "title": {
          "text": "NOC"
         }
        },
        "yaxis": {
         "anchor": "x",
         "domain": [
          0,
          1
         ],
         "title": {
          "text": "Count"
         }
        }
       }
      },
      "text/html": [
       "<div>                            <div id=\"bd3b48e8-3272-4a4c-be40-c529b73779f2\" class=\"plotly-graph-div\" style=\"height:525px; width:100%;\"></div>            <script type=\"text/javascript\">                require([\"plotly\"], function(Plotly) {                    window.PLOTLYENV=window.PLOTLYENV || {};                                    if (document.getElementById(\"bd3b48e8-3272-4a4c-be40-c529b73779f2\")) {                    Plotly.newPlot(                        \"bd3b48e8-3272-4a4c-be40-c529b73779f2\",                        [{\"alignmentgroup\":\"True\",\"hovertemplate\":\"Discipline=Athletics<br>NOC=%{x}<br>Count=%{y}<extra></extra>\",\"legendgroup\":\"Athletics\",\"marker\":{\"color\":\"#636efa\",\"pattern\":{\"shape\":\"\"}},\"name\":\"Athletics\",\"offsetgroup\":\"Athletics\",\"orientation\":\"v\",\"showlegend\":true,\"textposition\":\"auto\",\"type\":\"bar\",\"x\":[\"Afghanistan\",\"Albania\",\"Algeria\",\"American Samoa\",\"Andorra\",\"Angola\",\"Antigua and Barbuda\",\"Argentina\",\"Armenia\",\"Australia\",\"Austria\",\"Azerbaijan\",\"Bahamas\",\"Bahrain\",\"Bangladesh\",\"Barbados\",\"Belarus\",\"Belgium\",\"Belize\",\"Benin\",\"Bolivia\",\"Bosnia and Herzegovina\",\"Botswana\",\"Brazil\",\"Brunei Darussalam\",\"Bulgaria\",\"Burkina Faso\",\"Burundi\",\"Cambodia\",\"Cameroon\",\"Canada\",\"Cape Verde\",\"Cayman Islands\",\"Central African Republic\",\"Chad\",\"Chile\",\"Chinese Taipei\",\"Colombia\",\"Comoros\",\"Congo\",\"Cook Islands\",\"Costa Rica\",\"Croatia\",\"Cuba\",\"Cyprus\",\"Czech Republic\",\"C\\u00f4te d'Ivoire\",\"Democratic Republic of Timor-Leste\",\"Democratic Republic of the Congo\",\"Denmark\",\"Djibouti\",\"Dominica\",\"Dominican Republic\",\"Ecuador\",\"Egypt\",\"El Salvador\",\"Equatorial Guinea\",\"Eritrea\",\"Estonia\",\"Eswatini\",\"Ethiopia\",\"Federated States of Micronesia\",\"Fiji\",\"Finland\",\"France\",\"Gabon\",\"Gambia\",\"Georgia\",\"Germany\",\"Ghana\",\"Great Britain\",\"Greece\",\"Grenada\",\"Guam\",\"Guatemala\",\"Guinea\",\"Guinea-Bissau\",\"Guyana\",\"Haiti\",\"Honduras\",\"Hong Kong, China\",\"Hungary\",\"Iceland\",\"India\",\"Indonesia\",\"Iraq\",\"Ireland\",\"Islamic Republic of Iran\",\"Israel\",\"Italy\",\"Jamaica\",\"Japan\",\"Jordan\",\"Kazakhstan\",\"Kenya\",\"Kiribati\",\"Kosovo\",\"Kuwait\",\"Kyrgyzstan\",\"Lao People's Democratic Republic\",\"Latvia\",\"Lebanon\",\"Lesotho\",\"Liberia\",\"Libya\",\"Lithuania\",\"Luxembourg\",\"Madagascar\",\"Malawi\",\"Malaysia\",\"Maldives\",\"Mali\",\"Malta\",\"Mauritania\",\"Mauritius\",\"Mexico\",\"Monaco\",\"Mongolia\",\"Montenegro\",\"Morocco\",\"Mozambique\",\"Namibia\",\"Nauru\",\"Nepal\",\"Netherlands\",\"New Zealand\",\"Nicaragua\",\"Niger\",\"Nigeria\",\"North Macedonia\",\"Norway\",\"Oman\",\"Pakistan\",\"Palau\",\"Palestine\",\"Panama\",\"Papua New Guinea\",\"Paraguay\",\"People's Republic of China\",\"Peru\",\"Philippines\",\"Poland\",\"Portugal\",\"Puerto Rico\",\"Qatar\",\"ROC\",\"Refugee Olympic Team\",\"Republic of Korea\",\"Republic of Moldova\",\"Romania\",\"Rwanda\",\"Saint Kitts and Nevis\",\"Saint Lucia\",\"Samoa\",\"Sao Tome and Principe\",\"Saudi Arabia\",\"Senegal\",\"Serbia\",\"Seychelles\",\"Sierra Leone\",\"Singapore\",\"Slovakia\",\"Slovenia\",\"Solomon Islands\",\"Somalia\",\"South Africa\",\"South Sudan\",\"Spain\",\"Sri Lanka\",\"Sudan\",\"Sweden\",\"Switzerland\",\"Syrian Arab Republic\",\"Tajikistan\",\"Thailand\",\"Togo\",\"Tonga\",\"Trinidad and Tobago\",\"Tunisia\",\"Turkey\",\"Turkmenistan\",\"Tuvalu\",\"Uganda\",\"Ukraine\",\"United Republic of Tanzania\",\"United States of America\",\"Uruguay\",\"Uzbekistan\",\"Venezuela\",\"Vietnam\",\"Virgin Islands, British\",\"Virgin Islands, US\",\"Yemen\",\"Zambia\",\"Zimbabwe\"],\"xaxis\":\"x\",\"y\":[2,1,8,1,1,1,2,5,1,65,7,2,14,13,1,6,33,30,2,3,2,2,9,53,1,5,2,3,1,1,56,1,2,1,1,3,6,24,2,2,1,3,7,18,3,31,3,1,1,16,2,2,7,18,5,1,2,9,7,1,39,1,1,22,66,1,2,5,95,7,75,20,4,1,9,1,1,3,1,1,2,19,1,25,2,2,27,4,9,73,54,70,1,10,37,1,1,2,3,1,7,1,2,3,1,9,2,1,1,2,1,2,1,2,1,18,1,3,2,16,1,4,1,1,44,12,1,2,20,1,15,2,2,1,1,4,1,2,53,7,2,64,19,4,8,10,6,6,5,10,2,2,1,1,1,2,1,5,1,1,1,9,7,1,1,30,2,58,2,1,20,30,1,1,2,1,1,22,3,24,1,2,18,48,2,144,3,7,4,1,2,1,1,2,1],\"yaxis\":\"y\"},{\"alignmentgroup\":\"True\",\"hovertemplate\":\"Discipline=Swimming<br>NOC=%{x}<br>Count=%{y}<extra></extra>\",\"legendgroup\":\"Swimming\",\"marker\":{\"color\":\"#EF553B\",\"pattern\":{\"shape\":\"\"}},\"name\":\"Swimming\",\"offsetgroup\":\"Swimming\",\"orientation\":\"v\",\"showlegend\":true,\"textposition\":\"auto\",\"type\":\"bar\",\"x\":[\"Afghanistan\",\"Albania\",\"Algeria\",\"American Samoa\",\"Angola\",\"Antigua and Barbuda\",\"Argentina\",\"Armenia\",\"Aruba\",\"Australia\",\"Austria\",\"Azerbaijan\",\"Bahamas\",\"Bahrain\",\"Bangladesh\",\"Barbados\",\"Belarus\",\"Belgium\",\"Benin\",\"Bhutan\",\"Bolivia\",\"Bosnia and Herzegovina\",\"Botswana\",\"Brazil\",\"Brunei Darussalam\",\"Bulgaria\",\"Burkina Faso\",\"Burundi\",\"Cambodia\",\"Cameroon\",\"Canada\",\"Cape Verde\",\"Cayman Islands\",\"Central African Republic\",\"Chile\",\"Chinese Taipei\",\"Colombia\",\"Congo\",\"Cook Islands\",\"Costa Rica\",\"Croatia\",\"Cuba\",\"Cyprus\",\"Czech Republic\",\"C\\u00f4te d'Ivoire\",\"Democratic Republic of Timor-Leste\",\"Denmark\",\"Djibouti\",\"Dominican Republic\",\"Ecuador\",\"Egypt\",\"El Salvador\",\"Equatorial Guinea\",\"Eritrea\",\"Estonia\",\"Eswatini\",\"Ethiopia\",\"Federated States of Micronesia\",\"Fiji\",\"Finland\",\"France\",\"Gabon\",\"Georgia\",\"Germany\",\"Ghana\",\"Great Britain\",\"Greece\",\"Grenada\",\"Guam\",\"Guatemala\",\"Guinea\",\"Guyana\",\"Haiti\",\"Honduras\",\"Hong Kong, China\",\"Hungary\",\"Iceland\",\"India\",\"Indonesia\",\"Ireland\",\"Islamic Republic of Iran\",\"Israel\",\"Italy\",\"Jamaica\",\"Japan\",\"Jordan\",\"Kazakhstan\",\"Kenya\",\"Kosovo\",\"Kuwait\",\"Kyrgyzstan\",\"Lao People's Democratic Republic\",\"Latvia\",\"Lebanon\",\"Libya\",\"Liechtenstein\",\"Lithuania\",\"Luxembourg\",\"Madagascar\",\"Malawi\",\"Malaysia\",\"Maldives\",\"Mali\",\"Malta\",\"Marshall Islands\",\"Mauritius\",\"Mexico\",\"Monaco\",\"Mongolia\",\"Montenegro\",\"Morocco\",\"Mozambique\",\"Nepal\",\"Netherlands\",\"New Zealand\",\"Nicaragua\",\"Niger\",\"Nigeria\",\"North Macedonia\",\"Norway\",\"Oman\",\"Pakistan\",\"Palau\",\"Palestine\",\"Panama\",\"Papua New Guinea\",\"Paraguay\",\"People's Republic of China\",\"Peru\",\"Philippines\",\"Poland\",\"Portugal\",\"Puerto Rico\",\"Qatar\",\"ROC\",\"Refugee Olympic Team\",\"Republic of Korea\",\"Republic of Moldova\",\"Romania\",\"Rwanda\",\"Saint Lucia\",\"San Marino\",\"Saudi Arabia\",\"Senegal\",\"Serbia\",\"Seychelles\",\"Sierra Leone\",\"Singapore\",\"Slovakia\",\"Slovenia\",\"Solomon Islands\",\"South Africa\",\"Spain\",\"Sri Lanka\",\"St Vincent and the Grenadines\",\"Sudan\",\"Suriname\",\"Sweden\",\"Switzerland\",\"Syrian Arab Republic\",\"Tajikistan\",\"Thailand\",\"Togo\",\"Tonga\",\"Trinidad and Tobago\",\"Tunisia\",\"Turkey\",\"Turkmenistan\",\"Uganda\",\"Ukraine\",\"United Arab Emirates\",\"United States of America\",\"Uruguay\",\"Uzbekistan\",\"Venezuela\",\"Vietnam\",\"Virgin Islands, British\",\"Virgin Islands, US\",\"Yemen\",\"Zambia\",\"Zimbabwe\"],\"xaxis\":\"x\",\"y\":[1,2,2,1,2,2,3,2,2,30,7,2,2,2,2,1,5,2,2,1,2,2,1,17,1,5,2,2,2,2,20,2,2,1,2,3,2,1,2,2,2,2,2,8,1,2,9,1,2,2,4,2,1,1,3,2,1,2,2,5,17,2,2,24,2,27,7,2,2,2,2,2,2,2,6,20,2,3,2,6,1,10,29,2,25,1,2,2,2,2,1,2,2,2,1,2,4,2,2,2,2,2,1,2,2,1,3,2,2,2,2,2,2,14,6,2,2,1,2,4,1,2,2,1,1,2,2,25,1,2,8,6,2,2,28,2,8,2,3,2,2,1,1,2,5,2,2,3,2,3,1,12,8,2,2,2,1,10,6,1,2,2,1,2,2,1,10,2,2,6,1,39,2,2,3,2,1,2,1,2,2],\"yaxis\":\"y\"},{\"alignmentgroup\":\"True\",\"hovertemplate\":\"Discipline=Football<br>NOC=%{x}<br>Count=%{y}<extra></extra>\",\"legendgroup\":\"Football\",\"marker\":{\"color\":\"#00cc96\",\"pattern\":{\"shape\":\"\"}},\"name\":\"Football\",\"offsetgroup\":\"Football\",\"orientation\":\"v\",\"showlegend\":true,\"textposition\":\"auto\",\"type\":\"bar\",\"x\":[\"Argentina\",\"Australia\",\"Brazil\",\"Canada\",\"Chile\",\"C\\u00f4te d'Ivoire\",\"Egypt\",\"France\",\"Germany\",\"Great Britain\",\"Honduras\",\"Japan\",\"Mexico\",\"Netherlands\",\"New Zealand\",\"People's Republic of China\",\"Republic of Korea\",\"Romania\",\"Saudi Arabia\",\"South Africa\",\"Spain\",\"Sweden\",\"United States of America\",\"Zambia\"],\"xaxis\":\"x\",\"y\":[19,43,41,22,21,20,20,21,17,21,20,42,21,20,39,20,20,20,21,19,19,20,20,21],\"yaxis\":\"y\"}],                        {\"barmode\":\"relative\",\"legend\":{\"title\":{\"text\":\"Discipline\"},\"tracegroupgap\":0},\"template\":{\"data\":{\"bar\":[{\"error_x\":{\"color\":\"#2a3f5f\"},\"error_y\":{\"color\":\"#2a3f5f\"},\"marker\":{\"line\":{\"color\":\"#E5ECF6\",\"width\":0.5},\"pattern\":{\"fillmode\":\"overlay\",\"size\":10,\"solidity\":0.2}},\"type\":\"bar\"}],\"barpolar\":[{\"marker\":{\"line\":{\"color\":\"#E5ECF6\",\"width\":0.5},\"pattern\":{\"fillmode\":\"overlay\",\"size\":10,\"solidity\":0.2}},\"type\":\"barpolar\"}],\"carpet\":[{\"aaxis\":{\"endlinecolor\":\"#2a3f5f\",\"gridcolor\":\"white\",\"linecolor\":\"white\",\"minorgridcolor\":\"white\",\"startlinecolor\":\"#2a3f5f\"},\"baxis\":{\"endlinecolor\":\"#2a3f5f\",\"gridcolor\":\"white\",\"linecolor\":\"white\",\"minorgridcolor\":\"white\",\"startlinecolor\":\"#2a3f5f\"},\"type\":\"carpet\"}],\"choropleth\":[{\"colorbar\":{\"outlinewidth\":0,\"ticks\":\"\"},\"type\":\"choropleth\"}],\"contour\":[{\"colorbar\":{\"outlinewidth\":0,\"ticks\":\"\"},\"colorscale\":[[0.0,\"#0d0887\"],[0.1111111111111111,\"#46039f\"],[0.2222222222222222,\"#7201a8\"],[0.3333333333333333,\"#9c179e\"],[0.4444444444444444,\"#bd3786\"],[0.5555555555555556,\"#d8576b\"],[0.6666666666666666,\"#ed7953\"],[0.7777777777777778,\"#fb9f3a\"],[0.8888888888888888,\"#fdca26\"],[1.0,\"#f0f921\"]],\"type\":\"contour\"}],\"contourcarpet\":[{\"colorbar\":{\"outlinewidth\":0,\"ticks\":\"\"},\"type\":\"contourcarpet\"}],\"heatmap\":[{\"colorbar\":{\"outlinewidth\":0,\"ticks\":\"\"},\"colorscale\":[[0.0,\"#0d0887\"],[0.1111111111111111,\"#46039f\"],[0.2222222222222222,\"#7201a8\"],[0.3333333333333333,\"#9c179e\"],[0.4444444444444444,\"#bd3786\"],[0.5555555555555556,\"#d8576b\"],[0.6666666666666666,\"#ed7953\"],[0.7777777777777778,\"#fb9f3a\"],[0.8888888888888888,\"#fdca26\"],[1.0,\"#f0f921\"]],\"type\":\"heatmap\"}],\"heatmapgl\":[{\"colorbar\":{\"outlinewidth\":0,\"ticks\":\"\"},\"colorscale\":[[0.0,\"#0d0887\"],[0.1111111111111111,\"#46039f\"],[0.2222222222222222,\"#7201a8\"],[0.3333333333333333,\"#9c179e\"],[0.4444444444444444,\"#bd3786\"],[0.5555555555555556,\"#d8576b\"],[0.6666666666666666,\"#ed7953\"],[0.7777777777777778,\"#fb9f3a\"],[0.8888888888888888,\"#fdca26\"],[1.0,\"#f0f921\"]],\"type\":\"heatmapgl\"}],\"histogram\":[{\"marker\":{\"pattern\":{\"fillmode\":\"overlay\",\"size\":10,\"solidity\":0.2}},\"type\":\"histogram\"}],\"histogram2d\":[{\"colorbar\":{\"outlinewidth\":0,\"ticks\":\"\"},\"colorscale\":[[0.0,\"#0d0887\"],[0.1111111111111111,\"#46039f\"],[0.2222222222222222,\"#7201a8\"],[0.3333333333333333,\"#9c179e\"],[0.4444444444444444,\"#bd3786\"],[0.5555555555555556,\"#d8576b\"],[0.6666666666666666,\"#ed7953\"],[0.7777777777777778,\"#fb9f3a\"],[0.8888888888888888,\"#fdca26\"],[1.0,\"#f0f921\"]],\"type\":\"histogram2d\"}],\"histogram2dcontour\":[{\"colorbar\":{\"outlinewidth\":0,\"ticks\":\"\"},\"colorscale\":[[0.0,\"#0d0887\"],[0.1111111111111111,\"#46039f\"],[0.2222222222222222,\"#7201a8\"],[0.3333333333333333,\"#9c179e\"],[0.4444444444444444,\"#bd3786\"],[0.5555555555555556,\"#d8576b\"],[0.6666666666666666,\"#ed7953\"],[0.7777777777777778,\"#fb9f3a\"],[0.8888888888888888,\"#fdca26\"],[1.0,\"#f0f921\"]],\"type\":\"histogram2dcontour\"}],\"mesh3d\":[{\"colorbar\":{\"outlinewidth\":0,\"ticks\":\"\"},\"type\":\"mesh3d\"}],\"parcoords\":[{\"line\":{\"colorbar\":{\"outlinewidth\":0,\"ticks\":\"\"}},\"type\":\"parcoords\"}],\"pie\":[{\"automargin\":true,\"type\":\"pie\"}],\"scatter\":[{\"marker\":{\"colorbar\":{\"outlinewidth\":0,\"ticks\":\"\"}},\"type\":\"scatter\"}],\"scatter3d\":[{\"line\":{\"colorbar\":{\"outlinewidth\":0,\"ticks\":\"\"}},\"marker\":{\"colorbar\":{\"outlinewidth\":0,\"ticks\":\"\"}},\"type\":\"scatter3d\"}],\"scattercarpet\":[{\"marker\":{\"colorbar\":{\"outlinewidth\":0,\"ticks\":\"\"}},\"type\":\"scattercarpet\"}],\"scattergeo\":[{\"marker\":{\"colorbar\":{\"outlinewidth\":0,\"ticks\":\"\"}},\"type\":\"scattergeo\"}],\"scattergl\":[{\"marker\":{\"colorbar\":{\"outlinewidth\":0,\"ticks\":\"\"}},\"type\":\"scattergl\"}],\"scattermapbox\":[{\"marker\":{\"colorbar\":{\"outlinewidth\":0,\"ticks\":\"\"}},\"type\":\"scattermapbox\"}],\"scatterpolar\":[{\"marker\":{\"colorbar\":{\"outlinewidth\":0,\"ticks\":\"\"}},\"type\":\"scatterpolar\"}],\"scatterpolargl\":[{\"marker\":{\"colorbar\":{\"outlinewidth\":0,\"ticks\":\"\"}},\"type\":\"scatterpolargl\"}],\"scatterternary\":[{\"marker\":{\"colorbar\":{\"outlinewidth\":0,\"ticks\":\"\"}},\"type\":\"scatterternary\"}],\"surface\":[{\"colorbar\":{\"outlinewidth\":0,\"ticks\":\"\"},\"colorscale\":[[0.0,\"#0d0887\"],[0.1111111111111111,\"#46039f\"],[0.2222222222222222,\"#7201a8\"],[0.3333333333333333,\"#9c179e\"],[0.4444444444444444,\"#bd3786\"],[0.5555555555555556,\"#d8576b\"],[0.6666666666666666,\"#ed7953\"],[0.7777777777777778,\"#fb9f3a\"],[0.8888888888888888,\"#fdca26\"],[1.0,\"#f0f921\"]],\"type\":\"surface\"}],\"table\":[{\"cells\":{\"fill\":{\"color\":\"#EBF0F8\"},\"line\":{\"color\":\"white\"}},\"header\":{\"fill\":{\"color\":\"#C8D4E3\"},\"line\":{\"color\":\"white\"}},\"type\":\"table\"}]},\"layout\":{\"annotationdefaults\":{\"arrowcolor\":\"#2a3f5f\",\"arrowhead\":0,\"arrowwidth\":1},\"autotypenumbers\":\"strict\",\"coloraxis\":{\"colorbar\":{\"outlinewidth\":0,\"ticks\":\"\"}},\"colorscale\":{\"diverging\":[[0,\"#8e0152\"],[0.1,\"#c51b7d\"],[0.2,\"#de77ae\"],[0.3,\"#f1b6da\"],[0.4,\"#fde0ef\"],[0.5,\"#f7f7f7\"],[0.6,\"#e6f5d0\"],[0.7,\"#b8e186\"],[0.8,\"#7fbc41\"],[0.9,\"#4d9221\"],[1,\"#276419\"]],\"sequential\":[[0.0,\"#0d0887\"],[0.1111111111111111,\"#46039f\"],[0.2222222222222222,\"#7201a8\"],[0.3333333333333333,\"#9c179e\"],[0.4444444444444444,\"#bd3786\"],[0.5555555555555556,\"#d8576b\"],[0.6666666666666666,\"#ed7953\"],[0.7777777777777778,\"#fb9f3a\"],[0.8888888888888888,\"#fdca26\"],[1.0,\"#f0f921\"]],\"sequentialminus\":[[0.0,\"#0d0887\"],[0.1111111111111111,\"#46039f\"],[0.2222222222222222,\"#7201a8\"],[0.3333333333333333,\"#9c179e\"],[0.4444444444444444,\"#bd3786\"],[0.5555555555555556,\"#d8576b\"],[0.6666666666666666,\"#ed7953\"],[0.7777777777777778,\"#fb9f3a\"],[0.8888888888888888,\"#fdca26\"],[1.0,\"#f0f921\"]]},\"colorway\":[\"#636efa\",\"#EF553B\",\"#00cc96\",\"#ab63fa\",\"#FFA15A\",\"#19d3f3\",\"#FF6692\",\"#B6E880\",\"#FF97FF\",\"#FECB52\"],\"font\":{\"color\":\"#2a3f5f\"},\"geo\":{\"bgcolor\":\"white\",\"lakecolor\":\"white\",\"landcolor\":\"#E5ECF6\",\"showlakes\":true,\"showland\":true,\"subunitcolor\":\"white\"},\"hoverlabel\":{\"align\":\"left\"},\"hovermode\":\"closest\",\"mapbox\":{\"style\":\"light\"},\"paper_bgcolor\":\"white\",\"plot_bgcolor\":\"#E5ECF6\",\"polar\":{\"angularaxis\":{\"gridcolor\":\"white\",\"linecolor\":\"white\",\"ticks\":\"\"},\"bgcolor\":\"#E5ECF6\",\"radialaxis\":{\"gridcolor\":\"white\",\"linecolor\":\"white\",\"ticks\":\"\"}},\"scene\":{\"xaxis\":{\"backgroundcolor\":\"#E5ECF6\",\"gridcolor\":\"white\",\"gridwidth\":2,\"linecolor\":\"white\",\"showbackground\":true,\"ticks\":\"\",\"zerolinecolor\":\"white\"},\"yaxis\":{\"backgroundcolor\":\"#E5ECF6\",\"gridcolor\":\"white\",\"gridwidth\":2,\"linecolor\":\"white\",\"showbackground\":true,\"ticks\":\"\",\"zerolinecolor\":\"white\"},\"zaxis\":{\"backgroundcolor\":\"#E5ECF6\",\"gridcolor\":\"white\",\"gridwidth\":2,\"linecolor\":\"white\",\"showbackground\":true,\"ticks\":\"\",\"zerolinecolor\":\"white\"}},\"shapedefaults\":{\"line\":{\"color\":\"#2a3f5f\"}},\"ternary\":{\"aaxis\":{\"gridcolor\":\"white\",\"linecolor\":\"white\",\"ticks\":\"\"},\"baxis\":{\"gridcolor\":\"white\",\"linecolor\":\"white\",\"ticks\":\"\"},\"bgcolor\":\"#E5ECF6\",\"caxis\":{\"gridcolor\":\"white\",\"linecolor\":\"white\",\"ticks\":\"\"}},\"title\":{\"x\":0.05},\"xaxis\":{\"automargin\":true,\"gridcolor\":\"white\",\"linecolor\":\"white\",\"ticks\":\"\",\"title\":{\"standoff\":15},\"zerolinecolor\":\"white\",\"zerolinewidth\":2},\"yaxis\":{\"automargin\":true,\"gridcolor\":\"white\",\"linecolor\":\"white\",\"ticks\":\"\",\"title\":{\"standoff\":15},\"zerolinecolor\":\"white\",\"zerolinewidth\":2}}},\"title\":{\"text\":\"Number of Athletes from each country by Discipline\"},\"xaxis\":{\"anchor\":\"y\",\"domain\":[0.0,1.0],\"title\":{\"text\":\"NOC\"}},\"yaxis\":{\"anchor\":\"x\",\"domain\":[0.0,1.0],\"title\":{\"text\":\"Count\"}}},                        {\"responsive\": true}                    ).then(function(){\n",
       "                            \n",
       "var gd = document.getElementById('bd3b48e8-3272-4a4c-be40-c529b73779f2');\n",
       "var x = new MutationObserver(function (mutations, observer) {{\n",
       "        var display = window.getComputedStyle(gd).display;\n",
       "        if (!display || display === 'none') {{\n",
       "            console.log([gd, 'removed!']);\n",
       "            Plotly.purge(gd);\n",
       "            observer.disconnect();\n",
       "        }}\n",
       "}});\n",
       "\n",
       "// Listen for the removal of the full notebook cells\n",
       "var notebookContainer = gd.closest('#notebook-container');\n",
       "if (notebookContainer) {{\n",
       "    x.observe(notebookContainer, {childList: true});\n",
       "}}\n",
       "\n",
       "// Listen for the clearing of the current output cell\n",
       "var outputEl = gd.closest('.output');\n",
       "if (outputEl) {{\n",
       "    x.observe(outputEl, {childList: true});\n",
       "}}\n",
       "\n",
       "                        })                };                });            </script>        </div>"
      ]
     },
     "metadata": {},
     "output_type": "display_data"
    }
   ],
   "source": [
    "fig = px.bar(pd_athletes_query, x='NOC', y='Count', color='Discipline', title='Number of Athletes from each country by Discipline')\n",
    "fig.show()"
   ]
  },
  {
   "cell_type": "code",
   "execution_count": 44,
   "id": "28e8ca6d",
   "metadata": {},
   "outputs": [
    {
     "data": {
      "text/html": [
       "<div>\n",
       "<style scoped>\n",
       "    .dataframe tbody tr th:only-of-type {\n",
       "        vertical-align: middle;\n",
       "    }\n",
       "\n",
       "    .dataframe tbody tr th {\n",
       "        vertical-align: top;\n",
       "    }\n",
       "\n",
       "    .dataframe thead th {\n",
       "        text-align: right;\n",
       "    }\n",
       "</style>\n",
       "<table border=\"1\" class=\"dataframe\">\n",
       "  <thead>\n",
       "    <tr style=\"text-align: right;\">\n",
       "      <th></th>\n",
       "      <th>Discipline</th>\n",
       "      <th>Female</th>\n",
       "      <th>Male</th>\n",
       "      <th>Total</th>\n",
       "    </tr>\n",
       "  </thead>\n",
       "  <tbody>\n",
       "    <tr>\n",
       "      <th>0</th>\n",
       "      <td>3x3 Basketball</td>\n",
       "      <td>32</td>\n",
       "      <td>32</td>\n",
       "      <td>64</td>\n",
       "    </tr>\n",
       "    <tr>\n",
       "      <th>1</th>\n",
       "      <td>Archery</td>\n",
       "      <td>64</td>\n",
       "      <td>64</td>\n",
       "      <td>128</td>\n",
       "    </tr>\n",
       "    <tr>\n",
       "      <th>2</th>\n",
       "      <td>Artistic Gymnastics</td>\n",
       "      <td>98</td>\n",
       "      <td>98</td>\n",
       "      <td>196</td>\n",
       "    </tr>\n",
       "    <tr>\n",
       "      <th>3</th>\n",
       "      <td>Artistic Swimming</td>\n",
       "      <td>105</td>\n",
       "      <td>0</td>\n",
       "      <td>105</td>\n",
       "    </tr>\n",
       "    <tr>\n",
       "      <th>4</th>\n",
       "      <td>Athletics</td>\n",
       "      <td>969</td>\n",
       "      <td>1072</td>\n",
       "      <td>2041</td>\n",
       "    </tr>\n",
       "  </tbody>\n",
       "</table>\n",
       "</div>"
      ],
      "text/plain": [
       "            Discipline  Female  Male  Total\n",
       "0       3x3 Basketball      32    32     64\n",
       "1              Archery      64    64    128\n",
       "2  Artistic Gymnastics      98    98    196\n",
       "3    Artistic Swimming     105     0    105\n",
       "4            Athletics     969  1072   2041"
      ]
     },
     "execution_count": 44,
     "metadata": {},
     "output_type": "execute_result"
    }
   ],
   "source": [
    "entries_gender.head()"
   ]
  },
  {
   "cell_type": "code",
   "execution_count": 45,
   "id": "0b015717",
   "metadata": {},
   "outputs": [
    {
     "data": {
      "text/plain": [
       "46"
      ]
     },
     "execution_count": 45,
     "metadata": {},
     "output_type": "execute_result"
    }
   ],
   "source": [
    "len(entries_gender)"
   ]
  },
  {
   "cell_type": "code",
   "execution_count": 47,
   "id": "45b4055c",
   "metadata": {},
   "outputs": [
    {
     "data": {
      "text/plain": [
       "[[{'type': 'domain'}, {'type': 'domain'}],\n",
       " [{'type': 'domain'}, {'type': 'domain'}],\n",
       " [{'type': 'domain'}, {'type': 'domain'}],\n",
       " [{'type': 'domain'}, {'type': 'domain'}],\n",
       " [{'type': 'domain'}, {'type': 'domain'}],\n",
       " [{'type': 'domain'}, {'type': 'domain'}],\n",
       " [{'type': 'domain'}, {'type': 'domain'}],\n",
       " [{'type': 'domain'}, {'type': 'domain'}],\n",
       " [{'type': 'domain'}, {'type': 'domain'}],\n",
       " [{'type': 'domain'}, {'type': 'domain'}],\n",
       " [{'type': 'domain'}, {'type': 'domain'}],\n",
       " [{'type': 'domain'}, {'type': 'domain'}],\n",
       " [{'type': 'domain'}, {'type': 'domain'}],\n",
       " [{'type': 'domain'}, {'type': 'domain'}],\n",
       " [{'type': 'domain'}, {'type': 'domain'}],\n",
       " [{'type': 'domain'}, {'type': 'domain'}],\n",
       " [{'type': 'domain'}, {'type': 'domain'}],\n",
       " [{'type': 'domain'}, {'type': 'domain'}],\n",
       " [{'type': 'domain'}, {'type': 'domain'}],\n",
       " [{'type': 'domain'}, {'type': 'domain'}],\n",
       " [{'type': 'domain'}, {'type': 'domain'}],\n",
       " [{'type': 'domain'}, {'type': 'domain'}],\n",
       " [{'type': 'domain'}, {'type': 'domain'}]]"
      ]
     },
     "execution_count": 47,
     "metadata": {},
     "output_type": "execute_result"
    }
   ],
   "source": [
    "from plotly.subplots import make_subplots\n",
    "import plotly.graph_objects as go\n",
    "\n",
    "# Shape of chart\n",
    "specs = [[{'type': 'domain'}, {'type': 'domain'}]]*23\n",
    "specs"
   ]
  },
  {
   "cell_type": "code",
   "execution_count": 65,
   "id": "36ae53b0",
   "metadata": {},
   "outputs": [
    {
     "data": {
      "application/vnd.plotly.v1+json": {
       "config": {
        "plotlyServerURL": "https://plot.ly"
       },
       "data": [
        {
         "domain": {
          "x": [
           0,
           0.45
          ],
          "y": [
           0.9773156899810964,
           1
          ]
         },
         "hoverinfo": "label+value+percent",
         "labels": [
          "Female",
          "Male"
         ],
         "textinfo": "label+percent",
         "textposition": "inside",
         "type": "pie",
         "values": [
          32,
          32
         ]
        },
        {
         "domain": {
          "x": [
           0.55,
           1
          ],
          "y": [
           0.9773156899810964,
           1
          ]
         },
         "hoverinfo": "label+value+percent",
         "labels": [
          "Female",
          "Male"
         ],
         "textinfo": "label+percent",
         "textposition": "inside",
         "type": "pie",
         "values": [
          64,
          64
         ]
        },
        {
         "domain": {
          "x": [
           0,
           0.45
          ],
          "y": [
           0.9328922495274101,
           0.9555765595463137
          ]
         },
         "hoverinfo": "label+value+percent",
         "labels": [
          "Female",
          "Male"
         ],
         "textinfo": "label+percent",
         "textposition": "inside",
         "type": "pie",
         "values": [
          98,
          98
         ]
        },
        {
         "domain": {
          "x": [
           0.55,
           1
          ],
          "y": [
           0.9328922495274101,
           0.9555765595463137
          ]
         },
         "hoverinfo": "label+value+percent",
         "labels": [
          "Female",
          "Male"
         ],
         "textinfo": "label+percent",
         "textposition": "inside",
         "type": "pie",
         "values": [
          105,
          0
         ]
        },
        {
         "domain": {
          "x": [
           0,
           0.45
          ],
          "y": [
           0.8884688090737239,
           0.9111531190926275
          ]
         },
         "hoverinfo": "label+value+percent",
         "labels": [
          "Female",
          "Male"
         ],
         "textinfo": "label+percent",
         "textposition": "inside",
         "type": "pie",
         "values": [
          969,
          1072
         ]
        },
        {
         "domain": {
          "x": [
           0.55,
           1
          ],
          "y": [
           0.8884688090737239,
           0.9111531190926275
          ]
         },
         "hoverinfo": "label+value+percent",
         "labels": [
          "Female",
          "Male"
         ],
         "textinfo": "label+percent",
         "textposition": "inside",
         "type": "pie",
         "values": [
          86,
          87
         ]
        },
        {
         "domain": {
          "x": [
           0,
           0.45
          ],
          "y": [
           0.8440453686200378,
           0.8667296786389413
          ]
         },
         "hoverinfo": "label+value+percent",
         "labels": [
          "Female",
          "Male"
         ],
         "textinfo": "label+percent",
         "textposition": "inside",
         "type": "pie",
         "values": [
          90,
          144
         ]
        },
        {
         "domain": {
          "x": [
           0.55,
           1
          ],
          "y": [
           0.8440453686200378,
           0.8667296786389413
          ]
         },
         "hoverinfo": "label+value+percent",
         "labels": [
          "Female",
          "Male"
         ],
         "textinfo": "label+percent",
         "textposition": "inside",
         "type": "pie",
         "values": [
          144,
          144
         ]
        },
        {
         "domain": {
          "x": [
           0,
           0.45
          ],
          "y": [
           0.7996219281663515,
           0.8223062381852551
          ]
         },
         "hoverinfo": "label+value+percent",
         "labels": [
          "Female",
          "Male"
         ],
         "textinfo": "label+percent",
         "textposition": "inside",
         "type": "pie",
         "values": [
          48,
          48
         ]
        },
        {
         "domain": {
          "x": [
           0.55,
           1
          ],
          "y": [
           0.7996219281663515,
           0.8223062381852551
          ]
         },
         "hoverinfo": "label+value+percent",
         "labels": [
          "Female",
          "Male"
         ],
         "textinfo": "label+percent",
         "textposition": "inside",
         "type": "pie",
         "values": [
          102,
          187
         ]
        },
        {
         "domain": {
          "x": [
           0,
           0.45
          ],
          "y": [
           0.7551984877126654,
           0.777882797731569
          ]
         },
         "hoverinfo": "label+value+percent",
         "labels": [
          "Female",
          "Male"
         ],
         "textinfo": "label+percent",
         "textposition": "inside",
         "type": "pie",
         "values": [
          41,
          41
         ]
        },
        {
         "domain": {
          "x": [
           0.55,
           1
          ],
          "y": [
           0.7551984877126654,
           0.777882797731569
          ]
         },
         "hoverinfo": "label+value+percent",
         "labels": [
          "Female",
          "Male"
         ],
         "textinfo": "label+percent",
         "textposition": "inside",
         "type": "pie",
         "values": [
          123,
          126
         ]
        },
        {
         "domain": {
          "x": [
           0,
           0.45
          ],
          "y": [
           0.7107750472589791,
           0.7334593572778827
          ]
         },
         "hoverinfo": "label+value+percent",
         "labels": [
          "Female",
          "Male"
         ],
         "textinfo": "label+percent",
         "textposition": "inside",
         "type": "pie",
         "values": [
          10,
          9
         ]
        },
        {
         "domain": {
          "x": [
           0.55,
           1
          ],
          "y": [
           0.7107750472589791,
           0.7334593572778827
          ]
         },
         "hoverinfo": "label+value+percent",
         "labels": [
          "Female",
          "Male"
         ],
         "textinfo": "label+percent",
         "textposition": "inside",
         "type": "pie",
         "values": [
          24,
          24
         ]
        },
        {
         "domain": {
          "x": [
           0,
           0.45
          ],
          "y": [
           0.666351606805293,
           0.6890359168241966
          ]
         },
         "hoverinfo": "label+value+percent",
         "labels": [
          "Female",
          "Male"
         ],
         "textinfo": "label+percent",
         "textposition": "inside",
         "type": "pie",
         "values": [
          38,
          38
         ]
        },
        {
         "domain": {
          "x": [
           0.55,
           1
          ],
          "y": [
           0.666351606805293,
           0.6890359168241966
          ]
         },
         "hoverinfo": "label+value+percent",
         "labels": [
          "Female",
          "Male"
         ],
         "textinfo": "label+percent",
         "textposition": "inside",
         "type": "pie",
         "values": [
          70,
          131
         ]
        },
        {
         "domain": {
          "x": [
           0,
           0.45
          ],
          "y": [
           0.6219281663516067,
           0.6446124763705103
          ]
         },
         "hoverinfo": "label+value+percent",
         "labels": [
          "Female",
          "Male"
         ],
         "textinfo": "label+percent",
         "textposition": "inside",
         "type": "pie",
         "values": [
          90,
          99
         ]
        },
        {
         "domain": {
          "x": [
           0.55,
           1
          ],
          "y": [
           0.6219281663516067,
           0.6446124763705103
          ]
         },
         "hoverinfo": "label+value+percent",
         "labels": [
          "Female",
          "Male"
         ],
         "textinfo": "label+percent",
         "textposition": "inside",
         "type": "pie",
         "values": [
          72,
          71
         ]
        },
        {
         "domain": {
          "x": [
           0,
           0.45
          ],
          "y": [
           0.5775047258979206,
           0.6001890359168242
          ]
         },
         "hoverinfo": "label+value+percent",
         "labels": [
          "Female",
          "Male"
         ],
         "textinfo": "label+percent",
         "textposition": "inside",
         "type": "pie",
         "values": [
          73,
          125
         ]
        },
        {
         "domain": {
          "x": [
           0.55,
           1
          ],
          "y": [
           0.5775047258979206,
           0.6001890359168242
          ]
         },
         "hoverinfo": "label+value+percent",
         "labels": [
          "Female",
          "Male"
         ],
         "textinfo": "label+percent",
         "textposition": "inside",
         "type": "pie",
         "values": [
          107,
          108
         ]
        },
        {
         "domain": {
          "x": [
           0,
           0.45
          ],
          "y": [
           0.5330812854442344,
           0.555765595463138
          ]
         },
         "hoverinfo": "label+value+percent",
         "labels": [
          "Female",
          "Male"
         ],
         "textinfo": "label+percent",
         "textposition": "inside",
         "type": "pie",
         "values": [
          264,
          344
         ]
        },
        {
         "domain": {
          "x": [
           0.55,
           1
          ],
          "y": [
           0.5330812854442344,
           0.555765595463138
          ]
         },
         "hoverinfo": "label+value+percent",
         "labels": [
          "Female",
          "Male"
         ],
         "textinfo": "label+percent",
         "textposition": "inside",
         "type": "pie",
         "values": [
          60,
          60
         ]
        },
        {
         "domain": {
          "x": [
           0,
           0.45
          ],
          "y": [
           0.4886578449905482,
           0.5113421550094518
          ]
         },
         "hoverinfo": "label+value+percent",
         "labels": [
          "Female",
          "Male"
         ],
         "textinfo": "label+percent",
         "textposition": "inside",
         "type": "pie",
         "values": [
          168,
          168
         ]
        },
        {
         "domain": {
          "x": [
           0.55,
           1
          ],
          "y": [
           0.4886578449905482,
           0.5113421550094518
          ]
         },
         "hoverinfo": "label+value+percent",
         "labels": [
          "Female",
          "Male"
         ],
         "textinfo": "label+percent",
         "textposition": "inside",
         "type": "pie",
         "values": [
          192,
          192
         ]
        },
        {
         "domain": {
          "x": [
           0,
           0.45
          ],
          "y": [
           0.44423440453686197,
           0.46691871455576556
          ]
         },
         "hoverinfo": "label+value+percent",
         "labels": [
          "Female",
          "Male"
         ],
         "textinfo": "label+percent",
         "textposition": "inside",
         "type": "pie",
         "values": [
          192,
          201
         ]
        },
        {
         "domain": {
          "x": [
           0.55,
           1
          ],
          "y": [
           0.44423440453686197,
           0.46691871455576556
          ]
         },
         "hoverinfo": "label+value+percent",
         "labels": [
          "Female",
          "Male"
         ],
         "textinfo": "label+percent",
         "textposition": "inside",
         "type": "pie",
         "values": [
          40,
          42
         ]
        },
        {
         "domain": {
          "x": [
           0,
           0.45
          ],
          "y": [
           0.39981096408317573,
           0.4224952741020793
          ]
         },
         "hoverinfo": "label+value+percent",
         "labels": [
          "Female",
          "Male"
         ],
         "textinfo": "label+percent",
         "textposition": "inside",
         "type": "pie",
         "values": [
          25,
          25
         ]
        },
        {
         "domain": {
          "x": [
           0.55,
           1
          ],
          "y": [
           0.39981096408317573,
           0.4224952741020793
          ]
         },
         "hoverinfo": "label+value+percent",
         "labels": [
          "Female",
          "Male"
         ],
         "textinfo": "label+percent",
         "textposition": "inside",
         "type": "pie",
         "values": [
          36,
          36
         ]
        },
        {
         "domain": {
          "x": [
           0,
           0.45
          ],
          "y": [
           0.35538752362948955,
           0.37807183364839314
          ]
         },
         "hoverinfo": "label+value+percent",
         "labels": [
          "Female",
          "Male"
         ],
         "textinfo": "label+percent",
         "textposition": "inside",
         "type": "pie",
         "values": [
          96,
          0
         ]
        },
        {
         "domain": {
          "x": [
           0.55,
           1
          ],
          "y": [
           0.35538752362948955,
           0.37807183364839314
          ]
         },
         "hoverinfo": "label+value+percent",
         "labels": [
          "Female",
          "Male"
         ],
         "textinfo": "label+percent",
         "textposition": "inside",
         "type": "pie",
         "values": [
          257,
          265
         ]
        },
        {
         "domain": {
          "x": [
           0,
           0.45
          ],
          "y": [
           0.3109640831758034,
           0.33364839319470696
          ]
         },
         "hoverinfo": "label+value+percent",
         "labels": [
          "Female",
          "Male"
         ],
         "textinfo": "label+percent",
         "textposition": "inside",
         "type": "pie",
         "values": [
          146,
          151
         ]
        },
        {
         "domain": {
          "x": [
           0.55,
           1
          ],
          "y": [
           0.3109640831758034,
           0.33364839319470696
          ]
         },
         "hoverinfo": "label+value+percent",
         "labels": [
          "Female",
          "Male"
         ],
         "textinfo": "label+percent",
         "textposition": "inside",
         "type": "pie",
         "values": [
          175,
          175
         ]
        },
        {
         "domain": {
          "x": [
           0,
           0.45
          ],
          "y": [
           0.2665406427221172,
           0.2892249527410208
          ]
         },
         "hoverinfo": "label+value+percent",
         "labels": [
          "Female",
          "Male"
         ],
         "textinfo": "label+percent",
         "textposition": "inside",
         "type": "pie",
         "values": [
          178,
          178
         ]
        },
        {
         "domain": {
          "x": [
           0.55,
           1
          ],
          "y": [
           0.2665406427221172,
           0.2892249527410208
          ]
         },
         "hoverinfo": "label+value+percent",
         "labels": [
          "Female",
          "Male"
         ],
         "textinfo": "label+percent",
         "textposition": "inside",
         "type": "pie",
         "values": [
          40,
          40
         ]
        },
        {
         "domain": {
          "x": [
           0,
           0.45
          ],
          "y": [
           0.22211720226843099,
           0.24480151228733457
          ]
         },
         "hoverinfo": "label+value+percent",
         "labels": [
          "Female",
          "Male"
         ],
         "textinfo": "label+percent",
         "textposition": "inside",
         "type": "pie",
         "values": [
          20,
          20
         ]
        },
        {
         "domain": {
          "x": [
           0.55,
           1
          ],
          "y": [
           0.22211720226843099,
           0.24480151228733457
          ]
         },
         "hoverinfo": "label+value+percent",
         "labels": [
          "Female",
          "Male"
         ],
         "textinfo": "label+percent",
         "textposition": "inside",
         "type": "pie",
         "values": [
          20,
          20
         ]
        },
        {
         "domain": {
          "x": [
           0,
           0.45
          ],
          "y": [
           0.17769376181474478,
           0.20037807183364836
          ]
         },
         "hoverinfo": "label+value+percent",
         "labels": [
          "Female",
          "Male"
         ],
         "textinfo": "label+percent",
         "textposition": "inside",
         "type": "pie",
         "values": [
          361,
          418
         ]
        },
        {
         "domain": {
          "x": [
           0.55,
           1
          ],
          "y": [
           0.17769376181474478,
           0.20037807183364836
          ]
         },
         "hoverinfo": "label+value+percent",
         "labels": [
          "Female",
          "Male"
         ],
         "textinfo": "label+percent",
         "textposition": "inside",
         "type": "pie",
         "values": [
          86,
          86
         ]
        },
        {
         "domain": {
          "x": [
           0,
           0.45
          ],
          "y": [
           0.1332703213610586,
           0.15595463137996218
          ]
         },
         "hoverinfo": "label+value+percent",
         "labels": [
          "Female",
          "Male"
         ],
         "textinfo": "label+percent",
         "textposition": "inside",
         "type": "pie",
         "values": [
          65,
          65
         ]
        },
        {
         "domain": {
          "x": [
           0.55,
           1
          ],
          "y": [
           0.1332703213610586,
           0.15595463137996218
          ]
         },
         "hoverinfo": "label+value+percent",
         "labels": [
          "Female",
          "Male"
         ],
         "textinfo": "label+percent",
         "textposition": "inside",
         "type": "pie",
         "values": [
          94,
          97
         ]
        },
        {
         "domain": {
          "x": [
           0,
           0.45
          ],
          "y": [
           0.08884688090737239,
           0.11153119092627597
          ]
         },
         "hoverinfo": "label+value+percent",
         "labels": [
          "Female",
          "Male"
         ],
         "textinfo": "label+percent",
         "textposition": "inside",
         "type": "pie",
         "values": [
          16,
          16
         ]
        },
        {
         "domain": {
          "x": [
           0.55,
           1
          ],
          "y": [
           0.08884688090737239,
           0.11153119092627597
          ]
         },
         "hoverinfo": "label+value+percent",
         "labels": [
          "Female",
          "Male"
         ],
         "textinfo": "label+percent",
         "textposition": "inside",
         "type": "pie",
         "values": [
          55,
          55
         ]
        },
        {
         "domain": {
          "x": [
           0,
           0.45
          ],
          "y": [
           0.044423440453686194,
           0.06710775047258978
          ]
         },
         "hoverinfo": "label+value+percent",
         "labels": [
          "Female",
          "Male"
         ],
         "textinfo": "label+percent",
         "textposition": "inside",
         "type": "pie",
         "values": [
          144,
          144
         ]
        },
        {
         "domain": {
          "x": [
           0.55,
           1
          ],
          "y": [
           0.044423440453686194,
           0.06710775047258978
          ]
         },
         "hoverinfo": "label+value+percent",
         "labels": [
          "Female",
          "Male"
         ],
         "textinfo": "label+percent",
         "textposition": "inside",
         "type": "pie",
         "values": [
          122,
          146
         ]
        },
        {
         "domain": {
          "x": [
           0,
           0.45
          ],
          "y": [
           0,
           0.02268431001890359
          ]
         },
         "hoverinfo": "label+value+percent",
         "labels": [
          "Female",
          "Male"
         ],
         "textinfo": "label+percent",
         "textposition": "inside",
         "type": "pie",
         "values": [
          98,
          99
         ]
        },
        {
         "domain": {
          "x": [
           0.55,
           1
          ],
          "y": [
           0,
           0.02268431001890359
          ]
         },
         "hoverinfo": "label+value+percent",
         "labels": [
          "Female",
          "Male"
         ],
         "textinfo": "label+percent",
         "textposition": "inside",
         "type": "pie",
         "values": [
          96,
          193
         ]
        }
       ],
       "layout": {
        "annotations": [
         {
          "font": {
           "size": 16
          },
          "showarrow": false,
          "text": "3x3 Basketball",
          "x": 0.225,
          "xanchor": "center",
          "xref": "paper",
          "y": 1,
          "yanchor": "bottom",
          "yref": "paper"
         },
         {
          "font": {
           "size": 16
          },
          "showarrow": false,
          "text": "Archery",
          "x": 0.775,
          "xanchor": "center",
          "xref": "paper",
          "y": 1,
          "yanchor": "bottom",
          "yref": "paper"
         },
         {
          "font": {
           "size": 16
          },
          "showarrow": false,
          "text": "Artistic Gymnastics",
          "x": 0.225,
          "xanchor": "center",
          "xref": "paper",
          "y": 0.9555765595463137,
          "yanchor": "bottom",
          "yref": "paper"
         },
         {
          "font": {
           "size": 16
          },
          "showarrow": false,
          "text": "Artistic Swimming",
          "x": 0.775,
          "xanchor": "center",
          "xref": "paper",
          "y": 0.9555765595463137,
          "yanchor": "bottom",
          "yref": "paper"
         },
         {
          "font": {
           "size": 16
          },
          "showarrow": false,
          "text": "Athletics",
          "x": 0.225,
          "xanchor": "center",
          "xref": "paper",
          "y": 0.9111531190926275,
          "yanchor": "bottom",
          "yref": "paper"
         },
         {
          "font": {
           "size": 16
          },
          "showarrow": false,
          "text": "Badminton",
          "x": 0.775,
          "xanchor": "center",
          "xref": "paper",
          "y": 0.9111531190926275,
          "yanchor": "bottom",
          "yref": "paper"
         },
         {
          "font": {
           "size": 16
          },
          "showarrow": false,
          "text": "Baseball/Softball",
          "x": 0.225,
          "xanchor": "center",
          "xref": "paper",
          "y": 0.8667296786389413,
          "yanchor": "bottom",
          "yref": "paper"
         },
         {
          "font": {
           "size": 16
          },
          "showarrow": false,
          "text": "Basketball",
          "x": 0.775,
          "xanchor": "center",
          "xref": "paper",
          "y": 0.8667296786389413,
          "yanchor": "bottom",
          "yref": "paper"
         },
         {
          "font": {
           "size": 16
          },
          "showarrow": false,
          "text": "Beach Volleyball",
          "x": 0.225,
          "xanchor": "center",
          "xref": "paper",
          "y": 0.8223062381852551,
          "yanchor": "bottom",
          "yref": "paper"
         },
         {
          "font": {
           "size": 16
          },
          "showarrow": false,
          "text": "Boxing",
          "x": 0.775,
          "xanchor": "center",
          "xref": "paper",
          "y": 0.8223062381852551,
          "yanchor": "bottom",
          "yref": "paper"
         },
         {
          "font": {
           "size": 16
          },
          "showarrow": false,
          "text": "Canoe Slalom",
          "x": 0.225,
          "xanchor": "center",
          "xref": "paper",
          "y": 0.777882797731569,
          "yanchor": "bottom",
          "yref": "paper"
         },
         {
          "font": {
           "size": 16
          },
          "showarrow": false,
          "text": "Canoe Sprint",
          "x": 0.775,
          "xanchor": "center",
          "xref": "paper",
          "y": 0.777882797731569,
          "yanchor": "bottom",
          "yref": "paper"
         },
         {
          "font": {
           "size": 16
          },
          "showarrow": false,
          "text": "Cycling BMX Freestyle",
          "x": 0.225,
          "xanchor": "center",
          "xref": "paper",
          "y": 0.7334593572778827,
          "yanchor": "bottom",
          "yref": "paper"
         },
         {
          "font": {
           "size": 16
          },
          "showarrow": false,
          "text": "Cycling BMX Racing",
          "x": 0.775,
          "xanchor": "center",
          "xref": "paper",
          "y": 0.7334593572778827,
          "yanchor": "bottom",
          "yref": "paper"
         },
         {
          "font": {
           "size": 16
          },
          "showarrow": false,
          "text": "Cycling Mountain Bike",
          "x": 0.225,
          "xanchor": "center",
          "xref": "paper",
          "y": 0.6890359168241966,
          "yanchor": "bottom",
          "yref": "paper"
         },
         {
          "font": {
           "size": 16
          },
          "showarrow": false,
          "text": "Cycling Road",
          "x": 0.775,
          "xanchor": "center",
          "xref": "paper",
          "y": 0.6890359168241966,
          "yanchor": "bottom",
          "yref": "paper"
         },
         {
          "font": {
           "size": 16
          },
          "showarrow": false,
          "text": "Cycling Track",
          "x": 0.225,
          "xanchor": "center",
          "xref": "paper",
          "y": 0.6446124763705103,
          "yanchor": "bottom",
          "yref": "paper"
         },
         {
          "font": {
           "size": 16
          },
          "showarrow": false,
          "text": "Diving",
          "x": 0.775,
          "xanchor": "center",
          "xref": "paper",
          "y": 0.6446124763705103,
          "yanchor": "bottom",
          "yref": "paper"
         },
         {
          "font": {
           "size": 16
          },
          "showarrow": false,
          "text": "Equestrian",
          "x": 0.225,
          "xanchor": "center",
          "xref": "paper",
          "y": 0.6001890359168242,
          "yanchor": "bottom",
          "yref": "paper"
         },
         {
          "font": {
           "size": 16
          },
          "showarrow": false,
          "text": "Fencing",
          "x": 0.775,
          "xanchor": "center",
          "xref": "paper",
          "y": 0.6001890359168242,
          "yanchor": "bottom",
          "yref": "paper"
         },
         {
          "font": {
           "size": 16
          },
          "showarrow": false,
          "text": "Football",
          "x": 0.225,
          "xanchor": "center",
          "xref": "paper",
          "y": 0.555765595463138,
          "yanchor": "bottom",
          "yref": "paper"
         },
         {
          "font": {
           "size": 16
          },
          "showarrow": false,
          "text": "Golf",
          "x": 0.775,
          "xanchor": "center",
          "xref": "paper",
          "y": 0.555765595463138,
          "yanchor": "bottom",
          "yref": "paper"
         },
         {
          "font": {
           "size": 16
          },
          "showarrow": false,
          "text": "Handball",
          "x": 0.225,
          "xanchor": "center",
          "xref": "paper",
          "y": 0.5113421550094518,
          "yanchor": "bottom",
          "yref": "paper"
         },
         {
          "font": {
           "size": 16
          },
          "showarrow": false,
          "text": "Hockey",
          "x": 0.775,
          "xanchor": "center",
          "xref": "paper",
          "y": 0.5113421550094518,
          "yanchor": "bottom",
          "yref": "paper"
         },
         {
          "font": {
           "size": 16
          },
          "showarrow": false,
          "text": "Judo",
          "x": 0.225,
          "xanchor": "center",
          "xref": "paper",
          "y": 0.46691871455576556,
          "yanchor": "bottom",
          "yref": "paper"
         },
         {
          "font": {
           "size": 16
          },
          "showarrow": false,
          "text": "Karate",
          "x": 0.775,
          "xanchor": "center",
          "xref": "paper",
          "y": 0.46691871455576556,
          "yanchor": "bottom",
          "yref": "paper"
         },
         {
          "font": {
           "size": 16
          },
          "showarrow": false,
          "text": "Marathon Swimming",
          "x": 0.225,
          "xanchor": "center",
          "xref": "paper",
          "y": 0.4224952741020793,
          "yanchor": "bottom",
          "yref": "paper"
         },
         {
          "font": {
           "size": 16
          },
          "showarrow": false,
          "text": "Modern Pentathlon",
          "x": 0.775,
          "xanchor": "center",
          "xref": "paper",
          "y": 0.4224952741020793,
          "yanchor": "bottom",
          "yref": "paper"
         },
         {
          "font": {
           "size": 16
          },
          "showarrow": false,
          "text": "Rhythmic Gymnastics",
          "x": 0.225,
          "xanchor": "center",
          "xref": "paper",
          "y": 0.37807183364839314,
          "yanchor": "bottom",
          "yref": "paper"
         },
         {
          "font": {
           "size": 16
          },
          "showarrow": false,
          "text": "Rowing",
          "x": 0.775,
          "xanchor": "center",
          "xref": "paper",
          "y": 0.37807183364839314,
          "yanchor": "bottom",
          "yref": "paper"
         },
         {
          "font": {
           "size": 16
          },
          "showarrow": false,
          "text": "Rugby Sevens",
          "x": 0.225,
          "xanchor": "center",
          "xref": "paper",
          "y": 0.33364839319470696,
          "yanchor": "bottom",
          "yref": "paper"
         },
         {
          "font": {
           "size": 16
          },
          "showarrow": false,
          "text": "Sailing",
          "x": 0.775,
          "xanchor": "center",
          "xref": "paper",
          "y": 0.33364839319470696,
          "yanchor": "bottom",
          "yref": "paper"
         },
         {
          "font": {
           "size": 16
          },
          "showarrow": false,
          "text": "Shooting",
          "x": 0.225,
          "xanchor": "center",
          "xref": "paper",
          "y": 0.2892249527410208,
          "yanchor": "bottom",
          "yref": "paper"
         },
         {
          "font": {
           "size": 16
          },
          "showarrow": false,
          "text": "Skateboarding",
          "x": 0.775,
          "xanchor": "center",
          "xref": "paper",
          "y": 0.2892249527410208,
          "yanchor": "bottom",
          "yref": "paper"
         },
         {
          "font": {
           "size": 16
          },
          "showarrow": false,
          "text": "Sport Climbing",
          "x": 0.225,
          "xanchor": "center",
          "xref": "paper",
          "y": 0.24480151228733457,
          "yanchor": "bottom",
          "yref": "paper"
         },
         {
          "font": {
           "size": 16
          },
          "showarrow": false,
          "text": "Surfing",
          "x": 0.775,
          "xanchor": "center",
          "xref": "paper",
          "y": 0.24480151228733457,
          "yanchor": "bottom",
          "yref": "paper"
         },
         {
          "font": {
           "size": 16
          },
          "showarrow": false,
          "text": "Swimming",
          "x": 0.225,
          "xanchor": "center",
          "xref": "paper",
          "y": 0.20037807183364836,
          "yanchor": "bottom",
          "yref": "paper"
         },
         {
          "font": {
           "size": 16
          },
          "showarrow": false,
          "text": "Table Tennis",
          "x": 0.775,
          "xanchor": "center",
          "xref": "paper",
          "y": 0.20037807183364836,
          "yanchor": "bottom",
          "yref": "paper"
         },
         {
          "font": {
           "size": 16
          },
          "showarrow": false,
          "text": "Taekwondo",
          "x": 0.225,
          "xanchor": "center",
          "xref": "paper",
          "y": 0.15595463137996218,
          "yanchor": "bottom",
          "yref": "paper"
         },
         {
          "font": {
           "size": 16
          },
          "showarrow": false,
          "text": "Tennis",
          "x": 0.775,
          "xanchor": "center",
          "xref": "paper",
          "y": 0.15595463137996218,
          "yanchor": "bottom",
          "yref": "paper"
         },
         {
          "font": {
           "size": 16
          },
          "showarrow": false,
          "text": "Trampoline Gymnastics",
          "x": 0.225,
          "xanchor": "center",
          "xref": "paper",
          "y": 0.11153119092627597,
          "yanchor": "bottom",
          "yref": "paper"
         },
         {
          "font": {
           "size": 16
          },
          "showarrow": false,
          "text": "Triathlon",
          "x": 0.775,
          "xanchor": "center",
          "xref": "paper",
          "y": 0.11153119092627597,
          "yanchor": "bottom",
          "yref": "paper"
         },
         {
          "font": {
           "size": 16
          },
          "showarrow": false,
          "text": "Volleyball",
          "x": 0.225,
          "xanchor": "center",
          "xref": "paper",
          "y": 0.06710775047258978,
          "yanchor": "bottom",
          "yref": "paper"
         },
         {
          "font": {
           "size": 16
          },
          "showarrow": false,
          "text": "Water Polo",
          "x": 0.775,
          "xanchor": "center",
          "xref": "paper",
          "y": 0.06710775047258978,
          "yanchor": "bottom",
          "yref": "paper"
         },
         {
          "font": {
           "size": 16
          },
          "showarrow": false,
          "text": "Weightlifting",
          "x": 0.225,
          "xanchor": "center",
          "xref": "paper",
          "y": 0.02268431001890359,
          "yanchor": "bottom",
          "yref": "paper"
         },
         {
          "font": {
           "size": 16
          },
          "showarrow": false,
          "text": "Wrestling",
          "x": 0.775,
          "xanchor": "center",
          "xref": "paper",
          "y": 0.02268431001890359,
          "yanchor": "bottom",
          "yref": "paper"
         }
        ],
        "height": 10000,
        "showlegend": false,
        "template": {
         "data": {
          "bar": [
           {
            "error_x": {
             "color": "#2a3f5f"
            },
            "error_y": {
             "color": "#2a3f5f"
            },
            "marker": {
             "line": {
              "color": "#E5ECF6",
              "width": 0.5
             },
             "pattern": {
              "fillmode": "overlay",
              "size": 10,
              "solidity": 0.2
             }
            },
            "type": "bar"
           }
          ],
          "barpolar": [
           {
            "marker": {
             "line": {
              "color": "#E5ECF6",
              "width": 0.5
             },
             "pattern": {
              "fillmode": "overlay",
              "size": 10,
              "solidity": 0.2
             }
            },
            "type": "barpolar"
           }
          ],
          "carpet": [
           {
            "aaxis": {
             "endlinecolor": "#2a3f5f",
             "gridcolor": "white",
             "linecolor": "white",
             "minorgridcolor": "white",
             "startlinecolor": "#2a3f5f"
            },
            "baxis": {
             "endlinecolor": "#2a3f5f",
             "gridcolor": "white",
             "linecolor": "white",
             "minorgridcolor": "white",
             "startlinecolor": "#2a3f5f"
            },
            "type": "carpet"
           }
          ],
          "choropleth": [
           {
            "colorbar": {
             "outlinewidth": 0,
             "ticks": ""
            },
            "type": "choropleth"
           }
          ],
          "contour": [
           {
            "colorbar": {
             "outlinewidth": 0,
             "ticks": ""
            },
            "colorscale": [
             [
              0,
              "#0d0887"
             ],
             [
              0.1111111111111111,
              "#46039f"
             ],
             [
              0.2222222222222222,
              "#7201a8"
             ],
             [
              0.3333333333333333,
              "#9c179e"
             ],
             [
              0.4444444444444444,
              "#bd3786"
             ],
             [
              0.5555555555555556,
              "#d8576b"
             ],
             [
              0.6666666666666666,
              "#ed7953"
             ],
             [
              0.7777777777777778,
              "#fb9f3a"
             ],
             [
              0.8888888888888888,
              "#fdca26"
             ],
             [
              1,
              "#f0f921"
             ]
            ],
            "type": "contour"
           }
          ],
          "contourcarpet": [
           {
            "colorbar": {
             "outlinewidth": 0,
             "ticks": ""
            },
            "type": "contourcarpet"
           }
          ],
          "heatmap": [
           {
            "colorbar": {
             "outlinewidth": 0,
             "ticks": ""
            },
            "colorscale": [
             [
              0,
              "#0d0887"
             ],
             [
              0.1111111111111111,
              "#46039f"
             ],
             [
              0.2222222222222222,
              "#7201a8"
             ],
             [
              0.3333333333333333,
              "#9c179e"
             ],
             [
              0.4444444444444444,
              "#bd3786"
             ],
             [
              0.5555555555555556,
              "#d8576b"
             ],
             [
              0.6666666666666666,
              "#ed7953"
             ],
             [
              0.7777777777777778,
              "#fb9f3a"
             ],
             [
              0.8888888888888888,
              "#fdca26"
             ],
             [
              1,
              "#f0f921"
             ]
            ],
            "type": "heatmap"
           }
          ],
          "heatmapgl": [
           {
            "colorbar": {
             "outlinewidth": 0,
             "ticks": ""
            },
            "colorscale": [
             [
              0,
              "#0d0887"
             ],
             [
              0.1111111111111111,
              "#46039f"
             ],
             [
              0.2222222222222222,
              "#7201a8"
             ],
             [
              0.3333333333333333,
              "#9c179e"
             ],
             [
              0.4444444444444444,
              "#bd3786"
             ],
             [
              0.5555555555555556,
              "#d8576b"
             ],
             [
              0.6666666666666666,
              "#ed7953"
             ],
             [
              0.7777777777777778,
              "#fb9f3a"
             ],
             [
              0.8888888888888888,
              "#fdca26"
             ],
             [
              1,
              "#f0f921"
             ]
            ],
            "type": "heatmapgl"
           }
          ],
          "histogram": [
           {
            "marker": {
             "pattern": {
              "fillmode": "overlay",
              "size": 10,
              "solidity": 0.2
             }
            },
            "type": "histogram"
           }
          ],
          "histogram2d": [
           {
            "colorbar": {
             "outlinewidth": 0,
             "ticks": ""
            },
            "colorscale": [
             [
              0,
              "#0d0887"
             ],
             [
              0.1111111111111111,
              "#46039f"
             ],
             [
              0.2222222222222222,
              "#7201a8"
             ],
             [
              0.3333333333333333,
              "#9c179e"
             ],
             [
              0.4444444444444444,
              "#bd3786"
             ],
             [
              0.5555555555555556,
              "#d8576b"
             ],
             [
              0.6666666666666666,
              "#ed7953"
             ],
             [
              0.7777777777777778,
              "#fb9f3a"
             ],
             [
              0.8888888888888888,
              "#fdca26"
             ],
             [
              1,
              "#f0f921"
             ]
            ],
            "type": "histogram2d"
           }
          ],
          "histogram2dcontour": [
           {
            "colorbar": {
             "outlinewidth": 0,
             "ticks": ""
            },
            "colorscale": [
             [
              0,
              "#0d0887"
             ],
             [
              0.1111111111111111,
              "#46039f"
             ],
             [
              0.2222222222222222,
              "#7201a8"
             ],
             [
              0.3333333333333333,
              "#9c179e"
             ],
             [
              0.4444444444444444,
              "#bd3786"
             ],
             [
              0.5555555555555556,
              "#d8576b"
             ],
             [
              0.6666666666666666,
              "#ed7953"
             ],
             [
              0.7777777777777778,
              "#fb9f3a"
             ],
             [
              0.8888888888888888,
              "#fdca26"
             ],
             [
              1,
              "#f0f921"
             ]
            ],
            "type": "histogram2dcontour"
           }
          ],
          "mesh3d": [
           {
            "colorbar": {
             "outlinewidth": 0,
             "ticks": ""
            },
            "type": "mesh3d"
           }
          ],
          "parcoords": [
           {
            "line": {
             "colorbar": {
              "outlinewidth": 0,
              "ticks": ""
             }
            },
            "type": "parcoords"
           }
          ],
          "pie": [
           {
            "automargin": true,
            "type": "pie"
           }
          ],
          "scatter": [
           {
            "marker": {
             "colorbar": {
              "outlinewidth": 0,
              "ticks": ""
             }
            },
            "type": "scatter"
           }
          ],
          "scatter3d": [
           {
            "line": {
             "colorbar": {
              "outlinewidth": 0,
              "ticks": ""
             }
            },
            "marker": {
             "colorbar": {
              "outlinewidth": 0,
              "ticks": ""
             }
            },
            "type": "scatter3d"
           }
          ],
          "scattercarpet": [
           {
            "marker": {
             "colorbar": {
              "outlinewidth": 0,
              "ticks": ""
             }
            },
            "type": "scattercarpet"
           }
          ],
          "scattergeo": [
           {
            "marker": {
             "colorbar": {
              "outlinewidth": 0,
              "ticks": ""
             }
            },
            "type": "scattergeo"
           }
          ],
          "scattergl": [
           {
            "marker": {
             "colorbar": {
              "outlinewidth": 0,
              "ticks": ""
             }
            },
            "type": "scattergl"
           }
          ],
          "scattermapbox": [
           {
            "marker": {
             "colorbar": {
              "outlinewidth": 0,
              "ticks": ""
             }
            },
            "type": "scattermapbox"
           }
          ],
          "scatterpolar": [
           {
            "marker": {
             "colorbar": {
              "outlinewidth": 0,
              "ticks": ""
             }
            },
            "type": "scatterpolar"
           }
          ],
          "scatterpolargl": [
           {
            "marker": {
             "colorbar": {
              "outlinewidth": 0,
              "ticks": ""
             }
            },
            "type": "scatterpolargl"
           }
          ],
          "scatterternary": [
           {
            "marker": {
             "colorbar": {
              "outlinewidth": 0,
              "ticks": ""
             }
            },
            "type": "scatterternary"
           }
          ],
          "surface": [
           {
            "colorbar": {
             "outlinewidth": 0,
             "ticks": ""
            },
            "colorscale": [
             [
              0,
              "#0d0887"
             ],
             [
              0.1111111111111111,
              "#46039f"
             ],
             [
              0.2222222222222222,
              "#7201a8"
             ],
             [
              0.3333333333333333,
              "#9c179e"
             ],
             [
              0.4444444444444444,
              "#bd3786"
             ],
             [
              0.5555555555555556,
              "#d8576b"
             ],
             [
              0.6666666666666666,
              "#ed7953"
             ],
             [
              0.7777777777777778,
              "#fb9f3a"
             ],
             [
              0.8888888888888888,
              "#fdca26"
             ],
             [
              1,
              "#f0f921"
             ]
            ],
            "type": "surface"
           }
          ],
          "table": [
           {
            "cells": {
             "fill": {
              "color": "#EBF0F8"
             },
             "line": {
              "color": "white"
             }
            },
            "header": {
             "fill": {
              "color": "#C8D4E3"
             },
             "line": {
              "color": "white"
             }
            },
            "type": "table"
           }
          ]
         },
         "layout": {
          "annotationdefaults": {
           "arrowcolor": "#2a3f5f",
           "arrowhead": 0,
           "arrowwidth": 1
          },
          "autotypenumbers": "strict",
          "coloraxis": {
           "colorbar": {
            "outlinewidth": 0,
            "ticks": ""
           }
          },
          "colorscale": {
           "diverging": [
            [
             0,
             "#8e0152"
            ],
            [
             0.1,
             "#c51b7d"
            ],
            [
             0.2,
             "#de77ae"
            ],
            [
             0.3,
             "#f1b6da"
            ],
            [
             0.4,
             "#fde0ef"
            ],
            [
             0.5,
             "#f7f7f7"
            ],
            [
             0.6,
             "#e6f5d0"
            ],
            [
             0.7,
             "#b8e186"
            ],
            [
             0.8,
             "#7fbc41"
            ],
            [
             0.9,
             "#4d9221"
            ],
            [
             1,
             "#276419"
            ]
           ],
           "sequential": [
            [
             0,
             "#0d0887"
            ],
            [
             0.1111111111111111,
             "#46039f"
            ],
            [
             0.2222222222222222,
             "#7201a8"
            ],
            [
             0.3333333333333333,
             "#9c179e"
            ],
            [
             0.4444444444444444,
             "#bd3786"
            ],
            [
             0.5555555555555556,
             "#d8576b"
            ],
            [
             0.6666666666666666,
             "#ed7953"
            ],
            [
             0.7777777777777778,
             "#fb9f3a"
            ],
            [
             0.8888888888888888,
             "#fdca26"
            ],
            [
             1,
             "#f0f921"
            ]
           ],
           "sequentialminus": [
            [
             0,
             "#0d0887"
            ],
            [
             0.1111111111111111,
             "#46039f"
            ],
            [
             0.2222222222222222,
             "#7201a8"
            ],
            [
             0.3333333333333333,
             "#9c179e"
            ],
            [
             0.4444444444444444,
             "#bd3786"
            ],
            [
             0.5555555555555556,
             "#d8576b"
            ],
            [
             0.6666666666666666,
             "#ed7953"
            ],
            [
             0.7777777777777778,
             "#fb9f3a"
            ],
            [
             0.8888888888888888,
             "#fdca26"
            ],
            [
             1,
             "#f0f921"
            ]
           ]
          },
          "colorway": [
           "#636efa",
           "#EF553B",
           "#00cc96",
           "#ab63fa",
           "#FFA15A",
           "#19d3f3",
           "#FF6692",
           "#B6E880",
           "#FF97FF",
           "#FECB52"
          ],
          "font": {
           "color": "#2a3f5f"
          },
          "geo": {
           "bgcolor": "white",
           "lakecolor": "white",
           "landcolor": "#E5ECF6",
           "showlakes": true,
           "showland": true,
           "subunitcolor": "white"
          },
          "hoverlabel": {
           "align": "left"
          },
          "hovermode": "closest",
          "mapbox": {
           "style": "light"
          },
          "paper_bgcolor": "white",
          "plot_bgcolor": "#E5ECF6",
          "polar": {
           "angularaxis": {
            "gridcolor": "white",
            "linecolor": "white",
            "ticks": ""
           },
           "bgcolor": "#E5ECF6",
           "radialaxis": {
            "gridcolor": "white",
            "linecolor": "white",
            "ticks": ""
           }
          },
          "scene": {
           "xaxis": {
            "backgroundcolor": "#E5ECF6",
            "gridcolor": "white",
            "gridwidth": 2,
            "linecolor": "white",
            "showbackground": true,
            "ticks": "",
            "zerolinecolor": "white"
           },
           "yaxis": {
            "backgroundcolor": "#E5ECF6",
            "gridcolor": "white",
            "gridwidth": 2,
            "linecolor": "white",
            "showbackground": true,
            "ticks": "",
            "zerolinecolor": "white"
           },
           "zaxis": {
            "backgroundcolor": "#E5ECF6",
            "gridcolor": "white",
            "gridwidth": 2,
            "linecolor": "white",
            "showbackground": true,
            "ticks": "",
            "zerolinecolor": "white"
           }
          },
          "shapedefaults": {
           "line": {
            "color": "#2a3f5f"
           }
          },
          "ternary": {
           "aaxis": {
            "gridcolor": "white",
            "linecolor": "white",
            "ticks": ""
           },
           "baxis": {
            "gridcolor": "white",
            "linecolor": "white",
            "ticks": ""
           },
           "bgcolor": "#E5ECF6",
           "caxis": {
            "gridcolor": "white",
            "linecolor": "white",
            "ticks": ""
           }
          },
          "title": {
           "x": 0.05
          },
          "xaxis": {
           "automargin": true,
           "gridcolor": "white",
           "linecolor": "white",
           "ticks": "",
           "title": {
            "standoff": 15
           },
           "zerolinecolor": "white",
           "zerolinewidth": 2
          },
          "yaxis": {
           "automargin": true,
           "gridcolor": "white",
           "linecolor": "white",
           "ticks": "",
           "title": {
            "standoff": 15
           },
           "zerolinecolor": "white",
           "zerolinewidth": 2
          }
         }
        },
        "title": {
         "text": "Distribution of Gender amongst each game"
        },
        "width": 800
       }
      },
      "text/html": [
       "<div>                            <div id=\"f24c35ad-a0bc-4562-b5fe-7f5aaa3b31f1\" class=\"plotly-graph-div\" style=\"height:10000px; width:800px;\"></div>            <script type=\"text/javascript\">                require([\"plotly\"], function(Plotly) {                    window.PLOTLYENV=window.PLOTLYENV || {};                                    if (document.getElementById(\"f24c35ad-a0bc-4562-b5fe-7f5aaa3b31f1\")) {                    Plotly.newPlot(                        \"f24c35ad-a0bc-4562-b5fe-7f5aaa3b31f1\",                        [{\"domain\":{\"x\":[0.0,0.45],\"y\":[0.9773156899810964,1.0]},\"hoverinfo\":\"label+value+percent\",\"labels\":[\"Female\",\"Male\"],\"textinfo\":\"label+percent\",\"textposition\":\"inside\",\"type\":\"pie\",\"values\":[32,32]},{\"domain\":{\"x\":[0.55,1.0],\"y\":[0.9773156899810964,1.0]},\"hoverinfo\":\"label+value+percent\",\"labels\":[\"Female\",\"Male\"],\"textinfo\":\"label+percent\",\"textposition\":\"inside\",\"type\":\"pie\",\"values\":[64,64]},{\"domain\":{\"x\":[0.0,0.45],\"y\":[0.9328922495274101,0.9555765595463137]},\"hoverinfo\":\"label+value+percent\",\"labels\":[\"Female\",\"Male\"],\"textinfo\":\"label+percent\",\"textposition\":\"inside\",\"type\":\"pie\",\"values\":[98,98]},{\"domain\":{\"x\":[0.55,1.0],\"y\":[0.9328922495274101,0.9555765595463137]},\"hoverinfo\":\"label+value+percent\",\"labels\":[\"Female\",\"Male\"],\"textinfo\":\"label+percent\",\"textposition\":\"inside\",\"type\":\"pie\",\"values\":[105,0]},{\"domain\":{\"x\":[0.0,0.45],\"y\":[0.8884688090737239,0.9111531190926275]},\"hoverinfo\":\"label+value+percent\",\"labels\":[\"Female\",\"Male\"],\"textinfo\":\"label+percent\",\"textposition\":\"inside\",\"type\":\"pie\",\"values\":[969,1072]},{\"domain\":{\"x\":[0.55,1.0],\"y\":[0.8884688090737239,0.9111531190926275]},\"hoverinfo\":\"label+value+percent\",\"labels\":[\"Female\",\"Male\"],\"textinfo\":\"label+percent\",\"textposition\":\"inside\",\"type\":\"pie\",\"values\":[86,87]},{\"domain\":{\"x\":[0.0,0.45],\"y\":[0.8440453686200378,0.8667296786389413]},\"hoverinfo\":\"label+value+percent\",\"labels\":[\"Female\",\"Male\"],\"textinfo\":\"label+percent\",\"textposition\":\"inside\",\"type\":\"pie\",\"values\":[90,144]},{\"domain\":{\"x\":[0.55,1.0],\"y\":[0.8440453686200378,0.8667296786389413]},\"hoverinfo\":\"label+value+percent\",\"labels\":[\"Female\",\"Male\"],\"textinfo\":\"label+percent\",\"textposition\":\"inside\",\"type\":\"pie\",\"values\":[144,144]},{\"domain\":{\"x\":[0.0,0.45],\"y\":[0.7996219281663515,0.8223062381852551]},\"hoverinfo\":\"label+value+percent\",\"labels\":[\"Female\",\"Male\"],\"textinfo\":\"label+percent\",\"textposition\":\"inside\",\"type\":\"pie\",\"values\":[48,48]},{\"domain\":{\"x\":[0.55,1.0],\"y\":[0.7996219281663515,0.8223062381852551]},\"hoverinfo\":\"label+value+percent\",\"labels\":[\"Female\",\"Male\"],\"textinfo\":\"label+percent\",\"textposition\":\"inside\",\"type\":\"pie\",\"values\":[102,187]},{\"domain\":{\"x\":[0.0,0.45],\"y\":[0.7551984877126654,0.777882797731569]},\"hoverinfo\":\"label+value+percent\",\"labels\":[\"Female\",\"Male\"],\"textinfo\":\"label+percent\",\"textposition\":\"inside\",\"type\":\"pie\",\"values\":[41,41]},{\"domain\":{\"x\":[0.55,1.0],\"y\":[0.7551984877126654,0.777882797731569]},\"hoverinfo\":\"label+value+percent\",\"labels\":[\"Female\",\"Male\"],\"textinfo\":\"label+percent\",\"textposition\":\"inside\",\"type\":\"pie\",\"values\":[123,126]},{\"domain\":{\"x\":[0.0,0.45],\"y\":[0.7107750472589791,0.7334593572778827]},\"hoverinfo\":\"label+value+percent\",\"labels\":[\"Female\",\"Male\"],\"textinfo\":\"label+percent\",\"textposition\":\"inside\",\"type\":\"pie\",\"values\":[10,9]},{\"domain\":{\"x\":[0.55,1.0],\"y\":[0.7107750472589791,0.7334593572778827]},\"hoverinfo\":\"label+value+percent\",\"labels\":[\"Female\",\"Male\"],\"textinfo\":\"label+percent\",\"textposition\":\"inside\",\"type\":\"pie\",\"values\":[24,24]},{\"domain\":{\"x\":[0.0,0.45],\"y\":[0.666351606805293,0.6890359168241966]},\"hoverinfo\":\"label+value+percent\",\"labels\":[\"Female\",\"Male\"],\"textinfo\":\"label+percent\",\"textposition\":\"inside\",\"type\":\"pie\",\"values\":[38,38]},{\"domain\":{\"x\":[0.55,1.0],\"y\":[0.666351606805293,0.6890359168241966]},\"hoverinfo\":\"label+value+percent\",\"labels\":[\"Female\",\"Male\"],\"textinfo\":\"label+percent\",\"textposition\":\"inside\",\"type\":\"pie\",\"values\":[70,131]},{\"domain\":{\"x\":[0.0,0.45],\"y\":[0.6219281663516067,0.6446124763705103]},\"hoverinfo\":\"label+value+percent\",\"labels\":[\"Female\",\"Male\"],\"textinfo\":\"label+percent\",\"textposition\":\"inside\",\"type\":\"pie\",\"values\":[90,99]},{\"domain\":{\"x\":[0.55,1.0],\"y\":[0.6219281663516067,0.6446124763705103]},\"hoverinfo\":\"label+value+percent\",\"labels\":[\"Female\",\"Male\"],\"textinfo\":\"label+percent\",\"textposition\":\"inside\",\"type\":\"pie\",\"values\":[72,71]},{\"domain\":{\"x\":[0.0,0.45],\"y\":[0.5775047258979206,0.6001890359168242]},\"hoverinfo\":\"label+value+percent\",\"labels\":[\"Female\",\"Male\"],\"textinfo\":\"label+percent\",\"textposition\":\"inside\",\"type\":\"pie\",\"values\":[73,125]},{\"domain\":{\"x\":[0.55,1.0],\"y\":[0.5775047258979206,0.6001890359168242]},\"hoverinfo\":\"label+value+percent\",\"labels\":[\"Female\",\"Male\"],\"textinfo\":\"label+percent\",\"textposition\":\"inside\",\"type\":\"pie\",\"values\":[107,108]},{\"domain\":{\"x\":[0.0,0.45],\"y\":[0.5330812854442344,0.555765595463138]},\"hoverinfo\":\"label+value+percent\",\"labels\":[\"Female\",\"Male\"],\"textinfo\":\"label+percent\",\"textposition\":\"inside\",\"type\":\"pie\",\"values\":[264,344]},{\"domain\":{\"x\":[0.55,1.0],\"y\":[0.5330812854442344,0.555765595463138]},\"hoverinfo\":\"label+value+percent\",\"labels\":[\"Female\",\"Male\"],\"textinfo\":\"label+percent\",\"textposition\":\"inside\",\"type\":\"pie\",\"values\":[60,60]},{\"domain\":{\"x\":[0.0,0.45],\"y\":[0.4886578449905482,0.5113421550094518]},\"hoverinfo\":\"label+value+percent\",\"labels\":[\"Female\",\"Male\"],\"textinfo\":\"label+percent\",\"textposition\":\"inside\",\"type\":\"pie\",\"values\":[168,168]},{\"domain\":{\"x\":[0.55,1.0],\"y\":[0.4886578449905482,0.5113421550094518]},\"hoverinfo\":\"label+value+percent\",\"labels\":[\"Female\",\"Male\"],\"textinfo\":\"label+percent\",\"textposition\":\"inside\",\"type\":\"pie\",\"values\":[192,192]},{\"domain\":{\"x\":[0.0,0.45],\"y\":[0.44423440453686197,0.46691871455576556]},\"hoverinfo\":\"label+value+percent\",\"labels\":[\"Female\",\"Male\"],\"textinfo\":\"label+percent\",\"textposition\":\"inside\",\"type\":\"pie\",\"values\":[192,201]},{\"domain\":{\"x\":[0.55,1.0],\"y\":[0.44423440453686197,0.46691871455576556]},\"hoverinfo\":\"label+value+percent\",\"labels\":[\"Female\",\"Male\"],\"textinfo\":\"label+percent\",\"textposition\":\"inside\",\"type\":\"pie\",\"values\":[40,42]},{\"domain\":{\"x\":[0.0,0.45],\"y\":[0.39981096408317573,0.4224952741020793]},\"hoverinfo\":\"label+value+percent\",\"labels\":[\"Female\",\"Male\"],\"textinfo\":\"label+percent\",\"textposition\":\"inside\",\"type\":\"pie\",\"values\":[25,25]},{\"domain\":{\"x\":[0.55,1.0],\"y\":[0.39981096408317573,0.4224952741020793]},\"hoverinfo\":\"label+value+percent\",\"labels\":[\"Female\",\"Male\"],\"textinfo\":\"label+percent\",\"textposition\":\"inside\",\"type\":\"pie\",\"values\":[36,36]},{\"domain\":{\"x\":[0.0,0.45],\"y\":[0.35538752362948955,0.37807183364839314]},\"hoverinfo\":\"label+value+percent\",\"labels\":[\"Female\",\"Male\"],\"textinfo\":\"label+percent\",\"textposition\":\"inside\",\"type\":\"pie\",\"values\":[96,0]},{\"domain\":{\"x\":[0.55,1.0],\"y\":[0.35538752362948955,0.37807183364839314]},\"hoverinfo\":\"label+value+percent\",\"labels\":[\"Female\",\"Male\"],\"textinfo\":\"label+percent\",\"textposition\":\"inside\",\"type\":\"pie\",\"values\":[257,265]},{\"domain\":{\"x\":[0.0,0.45],\"y\":[0.3109640831758034,0.33364839319470696]},\"hoverinfo\":\"label+value+percent\",\"labels\":[\"Female\",\"Male\"],\"textinfo\":\"label+percent\",\"textposition\":\"inside\",\"type\":\"pie\",\"values\":[146,151]},{\"domain\":{\"x\":[0.55,1.0],\"y\":[0.3109640831758034,0.33364839319470696]},\"hoverinfo\":\"label+value+percent\",\"labels\":[\"Female\",\"Male\"],\"textinfo\":\"label+percent\",\"textposition\":\"inside\",\"type\":\"pie\",\"values\":[175,175]},{\"domain\":{\"x\":[0.0,0.45],\"y\":[0.2665406427221172,0.2892249527410208]},\"hoverinfo\":\"label+value+percent\",\"labels\":[\"Female\",\"Male\"],\"textinfo\":\"label+percent\",\"textposition\":\"inside\",\"type\":\"pie\",\"values\":[178,178]},{\"domain\":{\"x\":[0.55,1.0],\"y\":[0.2665406427221172,0.2892249527410208]},\"hoverinfo\":\"label+value+percent\",\"labels\":[\"Female\",\"Male\"],\"textinfo\":\"label+percent\",\"textposition\":\"inside\",\"type\":\"pie\",\"values\":[40,40]},{\"domain\":{\"x\":[0.0,0.45],\"y\":[0.22211720226843099,0.24480151228733457]},\"hoverinfo\":\"label+value+percent\",\"labels\":[\"Female\",\"Male\"],\"textinfo\":\"label+percent\",\"textposition\":\"inside\",\"type\":\"pie\",\"values\":[20,20]},{\"domain\":{\"x\":[0.55,1.0],\"y\":[0.22211720226843099,0.24480151228733457]},\"hoverinfo\":\"label+value+percent\",\"labels\":[\"Female\",\"Male\"],\"textinfo\":\"label+percent\",\"textposition\":\"inside\",\"type\":\"pie\",\"values\":[20,20]},{\"domain\":{\"x\":[0.0,0.45],\"y\":[0.17769376181474478,0.20037807183364836]},\"hoverinfo\":\"label+value+percent\",\"labels\":[\"Female\",\"Male\"],\"textinfo\":\"label+percent\",\"textposition\":\"inside\",\"type\":\"pie\",\"values\":[361,418]},{\"domain\":{\"x\":[0.55,1.0],\"y\":[0.17769376181474478,0.20037807183364836]},\"hoverinfo\":\"label+value+percent\",\"labels\":[\"Female\",\"Male\"],\"textinfo\":\"label+percent\",\"textposition\":\"inside\",\"type\":\"pie\",\"values\":[86,86]},{\"domain\":{\"x\":[0.0,0.45],\"y\":[0.1332703213610586,0.15595463137996218]},\"hoverinfo\":\"label+value+percent\",\"labels\":[\"Female\",\"Male\"],\"textinfo\":\"label+percent\",\"textposition\":\"inside\",\"type\":\"pie\",\"values\":[65,65]},{\"domain\":{\"x\":[0.55,1.0],\"y\":[0.1332703213610586,0.15595463137996218]},\"hoverinfo\":\"label+value+percent\",\"labels\":[\"Female\",\"Male\"],\"textinfo\":\"label+percent\",\"textposition\":\"inside\",\"type\":\"pie\",\"values\":[94,97]},{\"domain\":{\"x\":[0.0,0.45],\"y\":[0.08884688090737239,0.11153119092627597]},\"hoverinfo\":\"label+value+percent\",\"labels\":[\"Female\",\"Male\"],\"textinfo\":\"label+percent\",\"textposition\":\"inside\",\"type\":\"pie\",\"values\":[16,16]},{\"domain\":{\"x\":[0.55,1.0],\"y\":[0.08884688090737239,0.11153119092627597]},\"hoverinfo\":\"label+value+percent\",\"labels\":[\"Female\",\"Male\"],\"textinfo\":\"label+percent\",\"textposition\":\"inside\",\"type\":\"pie\",\"values\":[55,55]},{\"domain\":{\"x\":[0.0,0.45],\"y\":[0.044423440453686194,0.06710775047258978]},\"hoverinfo\":\"label+value+percent\",\"labels\":[\"Female\",\"Male\"],\"textinfo\":\"label+percent\",\"textposition\":\"inside\",\"type\":\"pie\",\"values\":[144,144]},{\"domain\":{\"x\":[0.55,1.0],\"y\":[0.044423440453686194,0.06710775047258978]},\"hoverinfo\":\"label+value+percent\",\"labels\":[\"Female\",\"Male\"],\"textinfo\":\"label+percent\",\"textposition\":\"inside\",\"type\":\"pie\",\"values\":[122,146]},{\"domain\":{\"x\":[0.0,0.45],\"y\":[0.0,0.02268431001890359]},\"hoverinfo\":\"label+value+percent\",\"labels\":[\"Female\",\"Male\"],\"textinfo\":\"label+percent\",\"textposition\":\"inside\",\"type\":\"pie\",\"values\":[98,99]},{\"domain\":{\"x\":[0.55,1.0],\"y\":[0.0,0.02268431001890359]},\"hoverinfo\":\"label+value+percent\",\"labels\":[\"Female\",\"Male\"],\"textinfo\":\"label+percent\",\"textposition\":\"inside\",\"type\":\"pie\",\"values\":[96,193]}],                        {\"annotations\":[{\"font\":{\"size\":16},\"showarrow\":false,\"text\":\"3x3 Basketball\",\"x\":0.225,\"xanchor\":\"center\",\"xref\":\"paper\",\"y\":1.0,\"yanchor\":\"bottom\",\"yref\":\"paper\"},{\"font\":{\"size\":16},\"showarrow\":false,\"text\":\"Archery\",\"x\":0.775,\"xanchor\":\"center\",\"xref\":\"paper\",\"y\":1.0,\"yanchor\":\"bottom\",\"yref\":\"paper\"},{\"font\":{\"size\":16},\"showarrow\":false,\"text\":\"Artistic Gymnastics\",\"x\":0.225,\"xanchor\":\"center\",\"xref\":\"paper\",\"y\":0.9555765595463137,\"yanchor\":\"bottom\",\"yref\":\"paper\"},{\"font\":{\"size\":16},\"showarrow\":false,\"text\":\"Artistic Swimming\",\"x\":0.775,\"xanchor\":\"center\",\"xref\":\"paper\",\"y\":0.9555765595463137,\"yanchor\":\"bottom\",\"yref\":\"paper\"},{\"font\":{\"size\":16},\"showarrow\":false,\"text\":\"Athletics\",\"x\":0.225,\"xanchor\":\"center\",\"xref\":\"paper\",\"y\":0.9111531190926275,\"yanchor\":\"bottom\",\"yref\":\"paper\"},{\"font\":{\"size\":16},\"showarrow\":false,\"text\":\"Badminton\",\"x\":0.775,\"xanchor\":\"center\",\"xref\":\"paper\",\"y\":0.9111531190926275,\"yanchor\":\"bottom\",\"yref\":\"paper\"},{\"font\":{\"size\":16},\"showarrow\":false,\"text\":\"Baseball/Softball\",\"x\":0.225,\"xanchor\":\"center\",\"xref\":\"paper\",\"y\":0.8667296786389413,\"yanchor\":\"bottom\",\"yref\":\"paper\"},{\"font\":{\"size\":16},\"showarrow\":false,\"text\":\"Basketball\",\"x\":0.775,\"xanchor\":\"center\",\"xref\":\"paper\",\"y\":0.8667296786389413,\"yanchor\":\"bottom\",\"yref\":\"paper\"},{\"font\":{\"size\":16},\"showarrow\":false,\"text\":\"Beach Volleyball\",\"x\":0.225,\"xanchor\":\"center\",\"xref\":\"paper\",\"y\":0.8223062381852551,\"yanchor\":\"bottom\",\"yref\":\"paper\"},{\"font\":{\"size\":16},\"showarrow\":false,\"text\":\"Boxing\",\"x\":0.775,\"xanchor\":\"center\",\"xref\":\"paper\",\"y\":0.8223062381852551,\"yanchor\":\"bottom\",\"yref\":\"paper\"},{\"font\":{\"size\":16},\"showarrow\":false,\"text\":\"Canoe Slalom\",\"x\":0.225,\"xanchor\":\"center\",\"xref\":\"paper\",\"y\":0.777882797731569,\"yanchor\":\"bottom\",\"yref\":\"paper\"},{\"font\":{\"size\":16},\"showarrow\":false,\"text\":\"Canoe Sprint\",\"x\":0.775,\"xanchor\":\"center\",\"xref\":\"paper\",\"y\":0.777882797731569,\"yanchor\":\"bottom\",\"yref\":\"paper\"},{\"font\":{\"size\":16},\"showarrow\":false,\"text\":\"Cycling BMX Freestyle\",\"x\":0.225,\"xanchor\":\"center\",\"xref\":\"paper\",\"y\":0.7334593572778827,\"yanchor\":\"bottom\",\"yref\":\"paper\"},{\"font\":{\"size\":16},\"showarrow\":false,\"text\":\"Cycling BMX Racing\",\"x\":0.775,\"xanchor\":\"center\",\"xref\":\"paper\",\"y\":0.7334593572778827,\"yanchor\":\"bottom\",\"yref\":\"paper\"},{\"font\":{\"size\":16},\"showarrow\":false,\"text\":\"Cycling Mountain Bike\",\"x\":0.225,\"xanchor\":\"center\",\"xref\":\"paper\",\"y\":0.6890359168241966,\"yanchor\":\"bottom\",\"yref\":\"paper\"},{\"font\":{\"size\":16},\"showarrow\":false,\"text\":\"Cycling Road\",\"x\":0.775,\"xanchor\":\"center\",\"xref\":\"paper\",\"y\":0.6890359168241966,\"yanchor\":\"bottom\",\"yref\":\"paper\"},{\"font\":{\"size\":16},\"showarrow\":false,\"text\":\"Cycling Track\",\"x\":0.225,\"xanchor\":\"center\",\"xref\":\"paper\",\"y\":0.6446124763705103,\"yanchor\":\"bottom\",\"yref\":\"paper\"},{\"font\":{\"size\":16},\"showarrow\":false,\"text\":\"Diving\",\"x\":0.775,\"xanchor\":\"center\",\"xref\":\"paper\",\"y\":0.6446124763705103,\"yanchor\":\"bottom\",\"yref\":\"paper\"},{\"font\":{\"size\":16},\"showarrow\":false,\"text\":\"Equestrian\",\"x\":0.225,\"xanchor\":\"center\",\"xref\":\"paper\",\"y\":0.6001890359168242,\"yanchor\":\"bottom\",\"yref\":\"paper\"},{\"font\":{\"size\":16},\"showarrow\":false,\"text\":\"Fencing\",\"x\":0.775,\"xanchor\":\"center\",\"xref\":\"paper\",\"y\":0.6001890359168242,\"yanchor\":\"bottom\",\"yref\":\"paper\"},{\"font\":{\"size\":16},\"showarrow\":false,\"text\":\"Football\",\"x\":0.225,\"xanchor\":\"center\",\"xref\":\"paper\",\"y\":0.555765595463138,\"yanchor\":\"bottom\",\"yref\":\"paper\"},{\"font\":{\"size\":16},\"showarrow\":false,\"text\":\"Golf\",\"x\":0.775,\"xanchor\":\"center\",\"xref\":\"paper\",\"y\":0.555765595463138,\"yanchor\":\"bottom\",\"yref\":\"paper\"},{\"font\":{\"size\":16},\"showarrow\":false,\"text\":\"Handball\",\"x\":0.225,\"xanchor\":\"center\",\"xref\":\"paper\",\"y\":0.5113421550094518,\"yanchor\":\"bottom\",\"yref\":\"paper\"},{\"font\":{\"size\":16},\"showarrow\":false,\"text\":\"Hockey\",\"x\":0.775,\"xanchor\":\"center\",\"xref\":\"paper\",\"y\":0.5113421550094518,\"yanchor\":\"bottom\",\"yref\":\"paper\"},{\"font\":{\"size\":16},\"showarrow\":false,\"text\":\"Judo\",\"x\":0.225,\"xanchor\":\"center\",\"xref\":\"paper\",\"y\":0.46691871455576556,\"yanchor\":\"bottom\",\"yref\":\"paper\"},{\"font\":{\"size\":16},\"showarrow\":false,\"text\":\"Karate\",\"x\":0.775,\"xanchor\":\"center\",\"xref\":\"paper\",\"y\":0.46691871455576556,\"yanchor\":\"bottom\",\"yref\":\"paper\"},{\"font\":{\"size\":16},\"showarrow\":false,\"text\":\"Marathon Swimming\",\"x\":0.225,\"xanchor\":\"center\",\"xref\":\"paper\",\"y\":0.4224952741020793,\"yanchor\":\"bottom\",\"yref\":\"paper\"},{\"font\":{\"size\":16},\"showarrow\":false,\"text\":\"Modern Pentathlon\",\"x\":0.775,\"xanchor\":\"center\",\"xref\":\"paper\",\"y\":0.4224952741020793,\"yanchor\":\"bottom\",\"yref\":\"paper\"},{\"font\":{\"size\":16},\"showarrow\":false,\"text\":\"Rhythmic Gymnastics\",\"x\":0.225,\"xanchor\":\"center\",\"xref\":\"paper\",\"y\":0.37807183364839314,\"yanchor\":\"bottom\",\"yref\":\"paper\"},{\"font\":{\"size\":16},\"showarrow\":false,\"text\":\"Rowing\",\"x\":0.775,\"xanchor\":\"center\",\"xref\":\"paper\",\"y\":0.37807183364839314,\"yanchor\":\"bottom\",\"yref\":\"paper\"},{\"font\":{\"size\":16},\"showarrow\":false,\"text\":\"Rugby Sevens\",\"x\":0.225,\"xanchor\":\"center\",\"xref\":\"paper\",\"y\":0.33364839319470696,\"yanchor\":\"bottom\",\"yref\":\"paper\"},{\"font\":{\"size\":16},\"showarrow\":false,\"text\":\"Sailing\",\"x\":0.775,\"xanchor\":\"center\",\"xref\":\"paper\",\"y\":0.33364839319470696,\"yanchor\":\"bottom\",\"yref\":\"paper\"},{\"font\":{\"size\":16},\"showarrow\":false,\"text\":\"Shooting\",\"x\":0.225,\"xanchor\":\"center\",\"xref\":\"paper\",\"y\":0.2892249527410208,\"yanchor\":\"bottom\",\"yref\":\"paper\"},{\"font\":{\"size\":16},\"showarrow\":false,\"text\":\"Skateboarding\",\"x\":0.775,\"xanchor\":\"center\",\"xref\":\"paper\",\"y\":0.2892249527410208,\"yanchor\":\"bottom\",\"yref\":\"paper\"},{\"font\":{\"size\":16},\"showarrow\":false,\"text\":\"Sport Climbing\",\"x\":0.225,\"xanchor\":\"center\",\"xref\":\"paper\",\"y\":0.24480151228733457,\"yanchor\":\"bottom\",\"yref\":\"paper\"},{\"font\":{\"size\":16},\"showarrow\":false,\"text\":\"Surfing\",\"x\":0.775,\"xanchor\":\"center\",\"xref\":\"paper\",\"y\":0.24480151228733457,\"yanchor\":\"bottom\",\"yref\":\"paper\"},{\"font\":{\"size\":16},\"showarrow\":false,\"text\":\"Swimming\",\"x\":0.225,\"xanchor\":\"center\",\"xref\":\"paper\",\"y\":0.20037807183364836,\"yanchor\":\"bottom\",\"yref\":\"paper\"},{\"font\":{\"size\":16},\"showarrow\":false,\"text\":\"Table Tennis\",\"x\":0.775,\"xanchor\":\"center\",\"xref\":\"paper\",\"y\":0.20037807183364836,\"yanchor\":\"bottom\",\"yref\":\"paper\"},{\"font\":{\"size\":16},\"showarrow\":false,\"text\":\"Taekwondo\",\"x\":0.225,\"xanchor\":\"center\",\"xref\":\"paper\",\"y\":0.15595463137996218,\"yanchor\":\"bottom\",\"yref\":\"paper\"},{\"font\":{\"size\":16},\"showarrow\":false,\"text\":\"Tennis\",\"x\":0.775,\"xanchor\":\"center\",\"xref\":\"paper\",\"y\":0.15595463137996218,\"yanchor\":\"bottom\",\"yref\":\"paper\"},{\"font\":{\"size\":16},\"showarrow\":false,\"text\":\"Trampoline Gymnastics\",\"x\":0.225,\"xanchor\":\"center\",\"xref\":\"paper\",\"y\":0.11153119092627597,\"yanchor\":\"bottom\",\"yref\":\"paper\"},{\"font\":{\"size\":16},\"showarrow\":false,\"text\":\"Triathlon\",\"x\":0.775,\"xanchor\":\"center\",\"xref\":\"paper\",\"y\":0.11153119092627597,\"yanchor\":\"bottom\",\"yref\":\"paper\"},{\"font\":{\"size\":16},\"showarrow\":false,\"text\":\"Volleyball\",\"x\":0.225,\"xanchor\":\"center\",\"xref\":\"paper\",\"y\":0.06710775047258978,\"yanchor\":\"bottom\",\"yref\":\"paper\"},{\"font\":{\"size\":16},\"showarrow\":false,\"text\":\"Water Polo\",\"x\":0.775,\"xanchor\":\"center\",\"xref\":\"paper\",\"y\":0.06710775047258978,\"yanchor\":\"bottom\",\"yref\":\"paper\"},{\"font\":{\"size\":16},\"showarrow\":false,\"text\":\"Weightlifting\",\"x\":0.225,\"xanchor\":\"center\",\"xref\":\"paper\",\"y\":0.02268431001890359,\"yanchor\":\"bottom\",\"yref\":\"paper\"},{\"font\":{\"size\":16},\"showarrow\":false,\"text\":\"Wrestling\",\"x\":0.775,\"xanchor\":\"center\",\"xref\":\"paper\",\"y\":0.02268431001890359,\"yanchor\":\"bottom\",\"yref\":\"paper\"}],\"height\":10000,\"showlegend\":false,\"template\":{\"data\":{\"bar\":[{\"error_x\":{\"color\":\"#2a3f5f\"},\"error_y\":{\"color\":\"#2a3f5f\"},\"marker\":{\"line\":{\"color\":\"#E5ECF6\",\"width\":0.5},\"pattern\":{\"fillmode\":\"overlay\",\"size\":10,\"solidity\":0.2}},\"type\":\"bar\"}],\"barpolar\":[{\"marker\":{\"line\":{\"color\":\"#E5ECF6\",\"width\":0.5},\"pattern\":{\"fillmode\":\"overlay\",\"size\":10,\"solidity\":0.2}},\"type\":\"barpolar\"}],\"carpet\":[{\"aaxis\":{\"endlinecolor\":\"#2a3f5f\",\"gridcolor\":\"white\",\"linecolor\":\"white\",\"minorgridcolor\":\"white\",\"startlinecolor\":\"#2a3f5f\"},\"baxis\":{\"endlinecolor\":\"#2a3f5f\",\"gridcolor\":\"white\",\"linecolor\":\"white\",\"minorgridcolor\":\"white\",\"startlinecolor\":\"#2a3f5f\"},\"type\":\"carpet\"}],\"choropleth\":[{\"colorbar\":{\"outlinewidth\":0,\"ticks\":\"\"},\"type\":\"choropleth\"}],\"contour\":[{\"colorbar\":{\"outlinewidth\":0,\"ticks\":\"\"},\"colorscale\":[[0.0,\"#0d0887\"],[0.1111111111111111,\"#46039f\"],[0.2222222222222222,\"#7201a8\"],[0.3333333333333333,\"#9c179e\"],[0.4444444444444444,\"#bd3786\"],[0.5555555555555556,\"#d8576b\"],[0.6666666666666666,\"#ed7953\"],[0.7777777777777778,\"#fb9f3a\"],[0.8888888888888888,\"#fdca26\"],[1.0,\"#f0f921\"]],\"type\":\"contour\"}],\"contourcarpet\":[{\"colorbar\":{\"outlinewidth\":0,\"ticks\":\"\"},\"type\":\"contourcarpet\"}],\"heatmap\":[{\"colorbar\":{\"outlinewidth\":0,\"ticks\":\"\"},\"colorscale\":[[0.0,\"#0d0887\"],[0.1111111111111111,\"#46039f\"],[0.2222222222222222,\"#7201a8\"],[0.3333333333333333,\"#9c179e\"],[0.4444444444444444,\"#bd3786\"],[0.5555555555555556,\"#d8576b\"],[0.6666666666666666,\"#ed7953\"],[0.7777777777777778,\"#fb9f3a\"],[0.8888888888888888,\"#fdca26\"],[1.0,\"#f0f921\"]],\"type\":\"heatmap\"}],\"heatmapgl\":[{\"colorbar\":{\"outlinewidth\":0,\"ticks\":\"\"},\"colorscale\":[[0.0,\"#0d0887\"],[0.1111111111111111,\"#46039f\"],[0.2222222222222222,\"#7201a8\"],[0.3333333333333333,\"#9c179e\"],[0.4444444444444444,\"#bd3786\"],[0.5555555555555556,\"#d8576b\"],[0.6666666666666666,\"#ed7953\"],[0.7777777777777778,\"#fb9f3a\"],[0.8888888888888888,\"#fdca26\"],[1.0,\"#f0f921\"]],\"type\":\"heatmapgl\"}],\"histogram\":[{\"marker\":{\"pattern\":{\"fillmode\":\"overlay\",\"size\":10,\"solidity\":0.2}},\"type\":\"histogram\"}],\"histogram2d\":[{\"colorbar\":{\"outlinewidth\":0,\"ticks\":\"\"},\"colorscale\":[[0.0,\"#0d0887\"],[0.1111111111111111,\"#46039f\"],[0.2222222222222222,\"#7201a8\"],[0.3333333333333333,\"#9c179e\"],[0.4444444444444444,\"#bd3786\"],[0.5555555555555556,\"#d8576b\"],[0.6666666666666666,\"#ed7953\"],[0.7777777777777778,\"#fb9f3a\"],[0.8888888888888888,\"#fdca26\"],[1.0,\"#f0f921\"]],\"type\":\"histogram2d\"}],\"histogram2dcontour\":[{\"colorbar\":{\"outlinewidth\":0,\"ticks\":\"\"},\"colorscale\":[[0.0,\"#0d0887\"],[0.1111111111111111,\"#46039f\"],[0.2222222222222222,\"#7201a8\"],[0.3333333333333333,\"#9c179e\"],[0.4444444444444444,\"#bd3786\"],[0.5555555555555556,\"#d8576b\"],[0.6666666666666666,\"#ed7953\"],[0.7777777777777778,\"#fb9f3a\"],[0.8888888888888888,\"#fdca26\"],[1.0,\"#f0f921\"]],\"type\":\"histogram2dcontour\"}],\"mesh3d\":[{\"colorbar\":{\"outlinewidth\":0,\"ticks\":\"\"},\"type\":\"mesh3d\"}],\"parcoords\":[{\"line\":{\"colorbar\":{\"outlinewidth\":0,\"ticks\":\"\"}},\"type\":\"parcoords\"}],\"pie\":[{\"automargin\":true,\"type\":\"pie\"}],\"scatter\":[{\"marker\":{\"colorbar\":{\"outlinewidth\":0,\"ticks\":\"\"}},\"type\":\"scatter\"}],\"scatter3d\":[{\"line\":{\"colorbar\":{\"outlinewidth\":0,\"ticks\":\"\"}},\"marker\":{\"colorbar\":{\"outlinewidth\":0,\"ticks\":\"\"}},\"type\":\"scatter3d\"}],\"scattercarpet\":[{\"marker\":{\"colorbar\":{\"outlinewidth\":0,\"ticks\":\"\"}},\"type\":\"scattercarpet\"}],\"scattergeo\":[{\"marker\":{\"colorbar\":{\"outlinewidth\":0,\"ticks\":\"\"}},\"type\":\"scattergeo\"}],\"scattergl\":[{\"marker\":{\"colorbar\":{\"outlinewidth\":0,\"ticks\":\"\"}},\"type\":\"scattergl\"}],\"scattermapbox\":[{\"marker\":{\"colorbar\":{\"outlinewidth\":0,\"ticks\":\"\"}},\"type\":\"scattermapbox\"}],\"scatterpolar\":[{\"marker\":{\"colorbar\":{\"outlinewidth\":0,\"ticks\":\"\"}},\"type\":\"scatterpolar\"}],\"scatterpolargl\":[{\"marker\":{\"colorbar\":{\"outlinewidth\":0,\"ticks\":\"\"}},\"type\":\"scatterpolargl\"}],\"scatterternary\":[{\"marker\":{\"colorbar\":{\"outlinewidth\":0,\"ticks\":\"\"}},\"type\":\"scatterternary\"}],\"surface\":[{\"colorbar\":{\"outlinewidth\":0,\"ticks\":\"\"},\"colorscale\":[[0.0,\"#0d0887\"],[0.1111111111111111,\"#46039f\"],[0.2222222222222222,\"#7201a8\"],[0.3333333333333333,\"#9c179e\"],[0.4444444444444444,\"#bd3786\"],[0.5555555555555556,\"#d8576b\"],[0.6666666666666666,\"#ed7953\"],[0.7777777777777778,\"#fb9f3a\"],[0.8888888888888888,\"#fdca26\"],[1.0,\"#f0f921\"]],\"type\":\"surface\"}],\"table\":[{\"cells\":{\"fill\":{\"color\":\"#EBF0F8\"},\"line\":{\"color\":\"white\"}},\"header\":{\"fill\":{\"color\":\"#C8D4E3\"},\"line\":{\"color\":\"white\"}},\"type\":\"table\"}]},\"layout\":{\"annotationdefaults\":{\"arrowcolor\":\"#2a3f5f\",\"arrowhead\":0,\"arrowwidth\":1},\"autotypenumbers\":\"strict\",\"coloraxis\":{\"colorbar\":{\"outlinewidth\":0,\"ticks\":\"\"}},\"colorscale\":{\"diverging\":[[0,\"#8e0152\"],[0.1,\"#c51b7d\"],[0.2,\"#de77ae\"],[0.3,\"#f1b6da\"],[0.4,\"#fde0ef\"],[0.5,\"#f7f7f7\"],[0.6,\"#e6f5d0\"],[0.7,\"#b8e186\"],[0.8,\"#7fbc41\"],[0.9,\"#4d9221\"],[1,\"#276419\"]],\"sequential\":[[0.0,\"#0d0887\"],[0.1111111111111111,\"#46039f\"],[0.2222222222222222,\"#7201a8\"],[0.3333333333333333,\"#9c179e\"],[0.4444444444444444,\"#bd3786\"],[0.5555555555555556,\"#d8576b\"],[0.6666666666666666,\"#ed7953\"],[0.7777777777777778,\"#fb9f3a\"],[0.8888888888888888,\"#fdca26\"],[1.0,\"#f0f921\"]],\"sequentialminus\":[[0.0,\"#0d0887\"],[0.1111111111111111,\"#46039f\"],[0.2222222222222222,\"#7201a8\"],[0.3333333333333333,\"#9c179e\"],[0.4444444444444444,\"#bd3786\"],[0.5555555555555556,\"#d8576b\"],[0.6666666666666666,\"#ed7953\"],[0.7777777777777778,\"#fb9f3a\"],[0.8888888888888888,\"#fdca26\"],[1.0,\"#f0f921\"]]},\"colorway\":[\"#636efa\",\"#EF553B\",\"#00cc96\",\"#ab63fa\",\"#FFA15A\",\"#19d3f3\",\"#FF6692\",\"#B6E880\",\"#FF97FF\",\"#FECB52\"],\"font\":{\"color\":\"#2a3f5f\"},\"geo\":{\"bgcolor\":\"white\",\"lakecolor\":\"white\",\"landcolor\":\"#E5ECF6\",\"showlakes\":true,\"showland\":true,\"subunitcolor\":\"white\"},\"hoverlabel\":{\"align\":\"left\"},\"hovermode\":\"closest\",\"mapbox\":{\"style\":\"light\"},\"paper_bgcolor\":\"white\",\"plot_bgcolor\":\"#E5ECF6\",\"polar\":{\"angularaxis\":{\"gridcolor\":\"white\",\"linecolor\":\"white\",\"ticks\":\"\"},\"bgcolor\":\"#E5ECF6\",\"radialaxis\":{\"gridcolor\":\"white\",\"linecolor\":\"white\",\"ticks\":\"\"}},\"scene\":{\"xaxis\":{\"backgroundcolor\":\"#E5ECF6\",\"gridcolor\":\"white\",\"gridwidth\":2,\"linecolor\":\"white\",\"showbackground\":true,\"ticks\":\"\",\"zerolinecolor\":\"white\"},\"yaxis\":{\"backgroundcolor\":\"#E5ECF6\",\"gridcolor\":\"white\",\"gridwidth\":2,\"linecolor\":\"white\",\"showbackground\":true,\"ticks\":\"\",\"zerolinecolor\":\"white\"},\"zaxis\":{\"backgroundcolor\":\"#E5ECF6\",\"gridcolor\":\"white\",\"gridwidth\":2,\"linecolor\":\"white\",\"showbackground\":true,\"ticks\":\"\",\"zerolinecolor\":\"white\"}},\"shapedefaults\":{\"line\":{\"color\":\"#2a3f5f\"}},\"ternary\":{\"aaxis\":{\"gridcolor\":\"white\",\"linecolor\":\"white\",\"ticks\":\"\"},\"baxis\":{\"gridcolor\":\"white\",\"linecolor\":\"white\",\"ticks\":\"\"},\"bgcolor\":\"#E5ECF6\",\"caxis\":{\"gridcolor\":\"white\",\"linecolor\":\"white\",\"ticks\":\"\"}},\"title\":{\"x\":0.05},\"xaxis\":{\"automargin\":true,\"gridcolor\":\"white\",\"linecolor\":\"white\",\"ticks\":\"\",\"title\":{\"standoff\":15},\"zerolinecolor\":\"white\",\"zerolinewidth\":2},\"yaxis\":{\"automargin\":true,\"gridcolor\":\"white\",\"linecolor\":\"white\",\"ticks\":\"\",\"title\":{\"standoff\":15},\"zerolinecolor\":\"white\",\"zerolinewidth\":2}}},\"title\":{\"text\":\"Distribution of Gender amongst each game\"},\"width\":800},                        {\"responsive\": true}                    ).then(function(){\n",
       "                            \n",
       "var gd = document.getElementById('f24c35ad-a0bc-4562-b5fe-7f5aaa3b31f1');\n",
       "var x = new MutationObserver(function (mutations, observer) {{\n",
       "        var display = window.getComputedStyle(gd).display;\n",
       "        if (!display || display === 'none') {{\n",
       "            console.log([gd, 'removed!']);\n",
       "            Plotly.purge(gd);\n",
       "            observer.disconnect();\n",
       "        }}\n",
       "}});\n",
       "\n",
       "// Listen for the removal of the full notebook cells\n",
       "var notebookContainer = gd.closest('#notebook-container');\n",
       "if (notebookContainer) {{\n",
       "    x.observe(notebookContainer, {childList: true});\n",
       "}}\n",
       "\n",
       "// Listen for the clearing of the current output cell\n",
       "var outputEl = gd.closest('.output');\n",
       "if (outputEl) {{\n",
       "    x.observe(outputEl, {childList: true});\n",
       "}}\n",
       "\n",
       "                        })                };                });            </script>        </div>"
      ]
     },
     "metadata": {},
     "output_type": "display_data"
    }
   ],
   "source": [
    "# Plot pie chart\n",
    "fig = make_subplots(rows=23, cols=2,\n",
    "                   subplot_titles=entries_gender['Discipline'], specs=specs)\n",
    "\n",
    "sub_figs = []\n",
    "for index, row in entries_gender.iterrows():\n",
    "    sub_fig = go.Pie(labels=['Female', 'Male'], values=[row['Female'], \n",
    "                                                        row['Male']])\n",
    "    sub_figs.append(sub_fig)\n",
    "\n",
    "k=0\n",
    "for i in range(1,24):\n",
    "    for j in range(1,3):\n",
    "        fig.add_trace(sub_figs[k], i, j)\n",
    "        k += 1\n",
    "        \n",
    "fig.update_layout(showlegend=False, height=10000, width=800,  title_text='Distribution of Gender amongst each game')\n",
    "fig.update_traces(textposition='inside', textinfo='label+percent', hoverinfo='label+value+percent')\n",
    "\n",
    "fig = go.Figure(fig)\n",
    "fig.show()"
   ]
  },
  {
   "cell_type": "code",
   "execution_count": 68,
   "id": "eba9c451",
   "metadata": {},
   "outputs": [
    {
     "data": {
      "text/html": [
       "<div>\n",
       "<style scoped>\n",
       "    .dataframe tbody tr th:only-of-type {\n",
       "        vertical-align: middle;\n",
       "    }\n",
       "\n",
       "    .dataframe tbody tr th {\n",
       "        vertical-align: top;\n",
       "    }\n",
       "\n",
       "    .dataframe thead th {\n",
       "        text-align: right;\n",
       "    }\n",
       "</style>\n",
       "<table border=\"1\" class=\"dataframe\">\n",
       "  <thead>\n",
       "    <tr style=\"text-align: right;\">\n",
       "      <th></th>\n",
       "      <th>Name</th>\n",
       "      <th>Discipline</th>\n",
       "      <th>NOC</th>\n",
       "      <th>Event</th>\n",
       "    </tr>\n",
       "  </thead>\n",
       "  <tbody>\n",
       "    <tr>\n",
       "      <th>0</th>\n",
       "      <td>Belgium</td>\n",
       "      <td>3x3 Basketball</td>\n",
       "      <td>Belgium</td>\n",
       "      <td>Men</td>\n",
       "    </tr>\n",
       "    <tr>\n",
       "      <th>1</th>\n",
       "      <td>China</td>\n",
       "      <td>3x3 Basketball</td>\n",
       "      <td>People's Republic of China</td>\n",
       "      <td>Men</td>\n",
       "    </tr>\n",
       "    <tr>\n",
       "      <th>2</th>\n",
       "      <td>China</td>\n",
       "      <td>3x3 Basketball</td>\n",
       "      <td>People's Republic of China</td>\n",
       "      <td>Women</td>\n",
       "    </tr>\n",
       "    <tr>\n",
       "      <th>3</th>\n",
       "      <td>France</td>\n",
       "      <td>3x3 Basketball</td>\n",
       "      <td>France</td>\n",
       "      <td>Women</td>\n",
       "    </tr>\n",
       "    <tr>\n",
       "      <th>4</th>\n",
       "      <td>Italy</td>\n",
       "      <td>3x3 Basketball</td>\n",
       "      <td>Italy</td>\n",
       "      <td>Women</td>\n",
       "    </tr>\n",
       "  </tbody>\n",
       "</table>\n",
       "</div>"
      ],
      "text/plain": [
       "      Name      Discipline                         NOC  Event\n",
       "0  Belgium  3x3 Basketball                     Belgium    Men\n",
       "1    China  3x3 Basketball  People's Republic of China    Men\n",
       "2    China  3x3 Basketball  People's Republic of China  Women\n",
       "3   France  3x3 Basketball                      France  Women\n",
       "4    Italy  3x3 Basketball                       Italy  Women"
      ]
     },
     "execution_count": 68,
     "metadata": {},
     "output_type": "execute_result"
    }
   ],
   "source": [
    "teams.head()"
   ]
  },
  {
   "cell_type": "code",
   "execution_count": 69,
   "id": "97cb3f6c",
   "metadata": {},
   "outputs": [
    {
     "name": "stdout",
     "output_type": "stream",
     "text": [
      "+-------+--------------+--------------------+-----+\n",
      "|   Name|    Discipline|                 NOC|Event|\n",
      "+-------+--------------+--------------------+-----+\n",
      "|Belgium|3x3 Basketball|             Belgium|  Men|\n",
      "|  China|3x3 Basketball|People's Republic...|  Men|\n",
      "|  China|3x3 Basketball|People's Republic...|Women|\n",
      "| France|3x3 Basketball|              France|Women|\n",
      "|  Italy|3x3 Basketball|               Italy|Women|\n",
      "+-------+--------------+--------------------+-----+\n",
      "only showing top 5 rows\n",
      "\n"
     ]
    }
   ],
   "source": [
    "spark.read.csv('Teams.csv', header=True, inferSchema=True).createOrReplaceTempView('Teams')\n",
    "spark.sql('select * from teams order by Discipline').show(5)"
   ]
  },
  {
   "cell_type": "code",
   "execution_count": 98,
   "id": "f46a846b",
   "metadata": {},
   "outputs": [
    {
     "data": {
      "text/html": [
       "<div>\n",
       "<style scoped>\n",
       "    .dataframe tbody tr th:only-of-type {\n",
       "        vertical-align: middle;\n",
       "    }\n",
       "\n",
       "    .dataframe tbody tr th {\n",
       "        vertical-align: top;\n",
       "    }\n",
       "\n",
       "    .dataframe thead th {\n",
       "        text-align: right;\n",
       "    }\n",
       "</style>\n",
       "<table border=\"1\" class=\"dataframe\">\n",
       "  <thead>\n",
       "    <tr style=\"text-align: right;\">\n",
       "      <th></th>\n",
       "      <th>Discipline</th>\n",
       "      <th>number_of_country</th>\n",
       "    </tr>\n",
       "  </thead>\n",
       "  <tbody>\n",
       "    <tr>\n",
       "      <th>0</th>\n",
       "      <td>Baseball/Softball</td>\n",
       "      <td>9</td>\n",
       "    </tr>\n",
       "    <tr>\n",
       "      <th>1</th>\n",
       "      <td>3x3 Basketball</td>\n",
       "      <td>13</td>\n",
       "    </tr>\n",
       "    <tr>\n",
       "      <th>2</th>\n",
       "      <td>Rhythmic Gymnastics</td>\n",
       "      <td>14</td>\n",
       "    </tr>\n",
       "    <tr>\n",
       "      <th>3</th>\n",
       "      <td>Hockey</td>\n",
       "      <td>14</td>\n",
       "    </tr>\n",
       "    <tr>\n",
       "      <th>4</th>\n",
       "      <td>Rugby Sevens</td>\n",
       "      <td>16</td>\n",
       "    </tr>\n",
       "    <tr>\n",
       "      <th>5</th>\n",
       "      <td>Water Polo</td>\n",
       "      <td>16</td>\n",
       "    </tr>\n",
       "    <tr>\n",
       "      <th>6</th>\n",
       "      <td>Artistic Gymnastics</td>\n",
       "      <td>17</td>\n",
       "    </tr>\n",
       "    <tr>\n",
       "      <th>7</th>\n",
       "      <td>Basketball</td>\n",
       "      <td>18</td>\n",
       "    </tr>\n",
       "    <tr>\n",
       "      <th>8</th>\n",
       "      <td>Handball</td>\n",
       "      <td>18</td>\n",
       "    </tr>\n",
       "    <tr>\n",
       "      <th>9</th>\n",
       "      <td>Triathlon</td>\n",
       "      <td>18</td>\n",
       "    </tr>\n",
       "  </tbody>\n",
       "</table>\n",
       "</div>"
      ],
      "text/plain": [
       "            Discipline  number_of_country\n",
       "0    Baseball/Softball                  9\n",
       "1       3x3 Basketball                 13\n",
       "2  Rhythmic Gymnastics                 14\n",
       "3               Hockey                 14\n",
       "4         Rugby Sevens                 16\n",
       "5           Water Polo                 16\n",
       "6  Artistic Gymnastics                 17\n",
       "7           Basketball                 18\n",
       "8             Handball                 18\n",
       "9            Triathlon                 18"
      ]
     },
     "execution_count": 98,
     "metadata": {},
     "output_type": "execute_result"
    }
   ],
   "source": [
    "pd_teams_query = spark.sql('''select Discipline, count(distinct Name) as number_of_country from Teams group by Discipline order by number_of_country ''').toPandas()\n",
    "\n",
    "pd_teams_query.head(10)"
   ]
  },
  {
   "cell_type": "code",
   "execution_count": 99,
   "id": "4ff6500c",
   "metadata": {},
   "outputs": [
    {
     "data": {
      "text/plain": [
       "(20, 2)"
      ]
     },
     "execution_count": 99,
     "metadata": {},
     "output_type": "execute_result"
    }
   ],
   "source": [
    "pd_teams_query.shape"
   ]
  },
  {
   "cell_type": "code",
   "execution_count": 100,
   "id": "5b6ca0fd",
   "metadata": {},
   "outputs": [
    {
     "data": {
      "application/vnd.plotly.v1+json": {
       "config": {
        "plotlyServerURL": "https://plot.ly"
       },
       "data": [
        {
         "alignmentgroup": "True",
         "hovertemplate": "number_of_country=%{marker.color}<br>Discipline=%{y}<extra></extra>",
         "legendgroup": "",
         "marker": {
          "color": [
           9,
           13,
           14,
           14,
           16,
           16,
           17,
           18,
           18,
           18,
           18,
           18,
           22,
           23,
           24,
           30,
           31,
           33,
           37,
           48
          ],
          "coloraxis": "coloraxis",
          "pattern": {
           "shape": ""
          }
         },
         "name": "",
         "offsetgroup": "",
         "orientation": "h",
         "showlegend": false,
         "textposition": "auto",
         "type": "bar",
         "x": [
          9,
          13,
          14,
          14,
          16,
          16,
          17,
          18,
          18,
          18,
          18,
          18,
          22,
          23,
          24,
          30,
          31,
          33,
          37,
          48
         ],
         "xaxis": "x",
         "y": [
          "Baseball/Softball",
          "3x3 Basketball",
          "Rhythmic Gymnastics",
          "Hockey",
          "Rugby Sevens",
          "Water Polo",
          "Artistic Gymnastics",
          "Basketball",
          "Handball",
          "Triathlon",
          "Volleyball",
          "Fencing",
          "Artistic Swimming",
          "Cycling Track",
          "Football",
          "Swimming",
          "Archery",
          "Athletics",
          "Table Tennis",
          "Beach Volleyball"
         ],
         "yaxis": "y"
        }
       ],
       "layout": {
        "barmode": "relative",
        "coloraxis": {
         "colorbar": {
          "title": {
           "text": "number_of_country"
          }
         },
         "colorscale": [
          [
           0,
           "#0d0887"
          ],
          [
           0.1111111111111111,
           "#46039f"
          ],
          [
           0.2222222222222222,
           "#7201a8"
          ],
          [
           0.3333333333333333,
           "#9c179e"
          ],
          [
           0.4444444444444444,
           "#bd3786"
          ],
          [
           0.5555555555555556,
           "#d8576b"
          ],
          [
           0.6666666666666666,
           "#ed7953"
          ],
          [
           0.7777777777777778,
           "#fb9f3a"
          ],
          [
           0.8888888888888888,
           "#fdca26"
          ],
          [
           1,
           "#f0f921"
          ]
         ]
        },
        "height": 700,
        "legend": {
         "tracegroupgap": 0
        },
        "template": {
         "data": {
          "bar": [
           {
            "error_x": {
             "color": "#2a3f5f"
            },
            "error_y": {
             "color": "#2a3f5f"
            },
            "marker": {
             "line": {
              "color": "#E5ECF6",
              "width": 0.5
             },
             "pattern": {
              "fillmode": "overlay",
              "size": 10,
              "solidity": 0.2
             }
            },
            "type": "bar"
           }
          ],
          "barpolar": [
           {
            "marker": {
             "line": {
              "color": "#E5ECF6",
              "width": 0.5
             },
             "pattern": {
              "fillmode": "overlay",
              "size": 10,
              "solidity": 0.2
             }
            },
            "type": "barpolar"
           }
          ],
          "carpet": [
           {
            "aaxis": {
             "endlinecolor": "#2a3f5f",
             "gridcolor": "white",
             "linecolor": "white",
             "minorgridcolor": "white",
             "startlinecolor": "#2a3f5f"
            },
            "baxis": {
             "endlinecolor": "#2a3f5f",
             "gridcolor": "white",
             "linecolor": "white",
             "minorgridcolor": "white",
             "startlinecolor": "#2a3f5f"
            },
            "type": "carpet"
           }
          ],
          "choropleth": [
           {
            "colorbar": {
             "outlinewidth": 0,
             "ticks": ""
            },
            "type": "choropleth"
           }
          ],
          "contour": [
           {
            "colorbar": {
             "outlinewidth": 0,
             "ticks": ""
            },
            "colorscale": [
             [
              0,
              "#0d0887"
             ],
             [
              0.1111111111111111,
              "#46039f"
             ],
             [
              0.2222222222222222,
              "#7201a8"
             ],
             [
              0.3333333333333333,
              "#9c179e"
             ],
             [
              0.4444444444444444,
              "#bd3786"
             ],
             [
              0.5555555555555556,
              "#d8576b"
             ],
             [
              0.6666666666666666,
              "#ed7953"
             ],
             [
              0.7777777777777778,
              "#fb9f3a"
             ],
             [
              0.8888888888888888,
              "#fdca26"
             ],
             [
              1,
              "#f0f921"
             ]
            ],
            "type": "contour"
           }
          ],
          "contourcarpet": [
           {
            "colorbar": {
             "outlinewidth": 0,
             "ticks": ""
            },
            "type": "contourcarpet"
           }
          ],
          "heatmap": [
           {
            "colorbar": {
             "outlinewidth": 0,
             "ticks": ""
            },
            "colorscale": [
             [
              0,
              "#0d0887"
             ],
             [
              0.1111111111111111,
              "#46039f"
             ],
             [
              0.2222222222222222,
              "#7201a8"
             ],
             [
              0.3333333333333333,
              "#9c179e"
             ],
             [
              0.4444444444444444,
              "#bd3786"
             ],
             [
              0.5555555555555556,
              "#d8576b"
             ],
             [
              0.6666666666666666,
              "#ed7953"
             ],
             [
              0.7777777777777778,
              "#fb9f3a"
             ],
             [
              0.8888888888888888,
              "#fdca26"
             ],
             [
              1,
              "#f0f921"
             ]
            ],
            "type": "heatmap"
           }
          ],
          "heatmapgl": [
           {
            "colorbar": {
             "outlinewidth": 0,
             "ticks": ""
            },
            "colorscale": [
             [
              0,
              "#0d0887"
             ],
             [
              0.1111111111111111,
              "#46039f"
             ],
             [
              0.2222222222222222,
              "#7201a8"
             ],
             [
              0.3333333333333333,
              "#9c179e"
             ],
             [
              0.4444444444444444,
              "#bd3786"
             ],
             [
              0.5555555555555556,
              "#d8576b"
             ],
             [
              0.6666666666666666,
              "#ed7953"
             ],
             [
              0.7777777777777778,
              "#fb9f3a"
             ],
             [
              0.8888888888888888,
              "#fdca26"
             ],
             [
              1,
              "#f0f921"
             ]
            ],
            "type": "heatmapgl"
           }
          ],
          "histogram": [
           {
            "marker": {
             "pattern": {
              "fillmode": "overlay",
              "size": 10,
              "solidity": 0.2
             }
            },
            "type": "histogram"
           }
          ],
          "histogram2d": [
           {
            "colorbar": {
             "outlinewidth": 0,
             "ticks": ""
            },
            "colorscale": [
             [
              0,
              "#0d0887"
             ],
             [
              0.1111111111111111,
              "#46039f"
             ],
             [
              0.2222222222222222,
              "#7201a8"
             ],
             [
              0.3333333333333333,
              "#9c179e"
             ],
             [
              0.4444444444444444,
              "#bd3786"
             ],
             [
              0.5555555555555556,
              "#d8576b"
             ],
             [
              0.6666666666666666,
              "#ed7953"
             ],
             [
              0.7777777777777778,
              "#fb9f3a"
             ],
             [
              0.8888888888888888,
              "#fdca26"
             ],
             [
              1,
              "#f0f921"
             ]
            ],
            "type": "histogram2d"
           }
          ],
          "histogram2dcontour": [
           {
            "colorbar": {
             "outlinewidth": 0,
             "ticks": ""
            },
            "colorscale": [
             [
              0,
              "#0d0887"
             ],
             [
              0.1111111111111111,
              "#46039f"
             ],
             [
              0.2222222222222222,
              "#7201a8"
             ],
             [
              0.3333333333333333,
              "#9c179e"
             ],
             [
              0.4444444444444444,
              "#bd3786"
             ],
             [
              0.5555555555555556,
              "#d8576b"
             ],
             [
              0.6666666666666666,
              "#ed7953"
             ],
             [
              0.7777777777777778,
              "#fb9f3a"
             ],
             [
              0.8888888888888888,
              "#fdca26"
             ],
             [
              1,
              "#f0f921"
             ]
            ],
            "type": "histogram2dcontour"
           }
          ],
          "mesh3d": [
           {
            "colorbar": {
             "outlinewidth": 0,
             "ticks": ""
            },
            "type": "mesh3d"
           }
          ],
          "parcoords": [
           {
            "line": {
             "colorbar": {
              "outlinewidth": 0,
              "ticks": ""
             }
            },
            "type": "parcoords"
           }
          ],
          "pie": [
           {
            "automargin": true,
            "type": "pie"
           }
          ],
          "scatter": [
           {
            "marker": {
             "colorbar": {
              "outlinewidth": 0,
              "ticks": ""
             }
            },
            "type": "scatter"
           }
          ],
          "scatter3d": [
           {
            "line": {
             "colorbar": {
              "outlinewidth": 0,
              "ticks": ""
             }
            },
            "marker": {
             "colorbar": {
              "outlinewidth": 0,
              "ticks": ""
             }
            },
            "type": "scatter3d"
           }
          ],
          "scattercarpet": [
           {
            "marker": {
             "colorbar": {
              "outlinewidth": 0,
              "ticks": ""
             }
            },
            "type": "scattercarpet"
           }
          ],
          "scattergeo": [
           {
            "marker": {
             "colorbar": {
              "outlinewidth": 0,
              "ticks": ""
             }
            },
            "type": "scattergeo"
           }
          ],
          "scattergl": [
           {
            "marker": {
             "colorbar": {
              "outlinewidth": 0,
              "ticks": ""
             }
            },
            "type": "scattergl"
           }
          ],
          "scattermapbox": [
           {
            "marker": {
             "colorbar": {
              "outlinewidth": 0,
              "ticks": ""
             }
            },
            "type": "scattermapbox"
           }
          ],
          "scatterpolar": [
           {
            "marker": {
             "colorbar": {
              "outlinewidth": 0,
              "ticks": ""
             }
            },
            "type": "scatterpolar"
           }
          ],
          "scatterpolargl": [
           {
            "marker": {
             "colorbar": {
              "outlinewidth": 0,
              "ticks": ""
             }
            },
            "type": "scatterpolargl"
           }
          ],
          "scatterternary": [
           {
            "marker": {
             "colorbar": {
              "outlinewidth": 0,
              "ticks": ""
             }
            },
            "type": "scatterternary"
           }
          ],
          "surface": [
           {
            "colorbar": {
             "outlinewidth": 0,
             "ticks": ""
            },
            "colorscale": [
             [
              0,
              "#0d0887"
             ],
             [
              0.1111111111111111,
              "#46039f"
             ],
             [
              0.2222222222222222,
              "#7201a8"
             ],
             [
              0.3333333333333333,
              "#9c179e"
             ],
             [
              0.4444444444444444,
              "#bd3786"
             ],
             [
              0.5555555555555556,
              "#d8576b"
             ],
             [
              0.6666666666666666,
              "#ed7953"
             ],
             [
              0.7777777777777778,
              "#fb9f3a"
             ],
             [
              0.8888888888888888,
              "#fdca26"
             ],
             [
              1,
              "#f0f921"
             ]
            ],
            "type": "surface"
           }
          ],
          "table": [
           {
            "cells": {
             "fill": {
              "color": "#EBF0F8"
             },
             "line": {
              "color": "white"
             }
            },
            "header": {
             "fill": {
              "color": "#C8D4E3"
             },
             "line": {
              "color": "white"
             }
            },
            "type": "table"
           }
          ]
         },
         "layout": {
          "annotationdefaults": {
           "arrowcolor": "#2a3f5f",
           "arrowhead": 0,
           "arrowwidth": 1
          },
          "autotypenumbers": "strict",
          "coloraxis": {
           "colorbar": {
            "outlinewidth": 0,
            "ticks": ""
           }
          },
          "colorscale": {
           "diverging": [
            [
             0,
             "#8e0152"
            ],
            [
             0.1,
             "#c51b7d"
            ],
            [
             0.2,
             "#de77ae"
            ],
            [
             0.3,
             "#f1b6da"
            ],
            [
             0.4,
             "#fde0ef"
            ],
            [
             0.5,
             "#f7f7f7"
            ],
            [
             0.6,
             "#e6f5d0"
            ],
            [
             0.7,
             "#b8e186"
            ],
            [
             0.8,
             "#7fbc41"
            ],
            [
             0.9,
             "#4d9221"
            ],
            [
             1,
             "#276419"
            ]
           ],
           "sequential": [
            [
             0,
             "#0d0887"
            ],
            [
             0.1111111111111111,
             "#46039f"
            ],
            [
             0.2222222222222222,
             "#7201a8"
            ],
            [
             0.3333333333333333,
             "#9c179e"
            ],
            [
             0.4444444444444444,
             "#bd3786"
            ],
            [
             0.5555555555555556,
             "#d8576b"
            ],
            [
             0.6666666666666666,
             "#ed7953"
            ],
            [
             0.7777777777777778,
             "#fb9f3a"
            ],
            [
             0.8888888888888888,
             "#fdca26"
            ],
            [
             1,
             "#f0f921"
            ]
           ],
           "sequentialminus": [
            [
             0,
             "#0d0887"
            ],
            [
             0.1111111111111111,
             "#46039f"
            ],
            [
             0.2222222222222222,
             "#7201a8"
            ],
            [
             0.3333333333333333,
             "#9c179e"
            ],
            [
             0.4444444444444444,
             "#bd3786"
            ],
            [
             0.5555555555555556,
             "#d8576b"
            ],
            [
             0.6666666666666666,
             "#ed7953"
            ],
            [
             0.7777777777777778,
             "#fb9f3a"
            ],
            [
             0.8888888888888888,
             "#fdca26"
            ],
            [
             1,
             "#f0f921"
            ]
           ]
          },
          "colorway": [
           "#636efa",
           "#EF553B",
           "#00cc96",
           "#ab63fa",
           "#FFA15A",
           "#19d3f3",
           "#FF6692",
           "#B6E880",
           "#FF97FF",
           "#FECB52"
          ],
          "font": {
           "color": "#2a3f5f"
          },
          "geo": {
           "bgcolor": "white",
           "lakecolor": "white",
           "landcolor": "#E5ECF6",
           "showlakes": true,
           "showland": true,
           "subunitcolor": "white"
          },
          "hoverlabel": {
           "align": "left"
          },
          "hovermode": "closest",
          "mapbox": {
           "style": "light"
          },
          "paper_bgcolor": "white",
          "plot_bgcolor": "#E5ECF6",
          "polar": {
           "angularaxis": {
            "gridcolor": "white",
            "linecolor": "white",
            "ticks": ""
           },
           "bgcolor": "#E5ECF6",
           "radialaxis": {
            "gridcolor": "white",
            "linecolor": "white",
            "ticks": ""
           }
          },
          "scene": {
           "xaxis": {
            "backgroundcolor": "#E5ECF6",
            "gridcolor": "white",
            "gridwidth": 2,
            "linecolor": "white",
            "showbackground": true,
            "ticks": "",
            "zerolinecolor": "white"
           },
           "yaxis": {
            "backgroundcolor": "#E5ECF6",
            "gridcolor": "white",
            "gridwidth": 2,
            "linecolor": "white",
            "showbackground": true,
            "ticks": "",
            "zerolinecolor": "white"
           },
           "zaxis": {
            "backgroundcolor": "#E5ECF6",
            "gridcolor": "white",
            "gridwidth": 2,
            "linecolor": "white",
            "showbackground": true,
            "ticks": "",
            "zerolinecolor": "white"
           }
          },
          "shapedefaults": {
           "line": {
            "color": "#2a3f5f"
           }
          },
          "ternary": {
           "aaxis": {
            "gridcolor": "white",
            "linecolor": "white",
            "ticks": ""
           },
           "baxis": {
            "gridcolor": "white",
            "linecolor": "white",
            "ticks": ""
           },
           "bgcolor": "#E5ECF6",
           "caxis": {
            "gridcolor": "white",
            "linecolor": "white",
            "ticks": ""
           }
          },
          "title": {
           "x": 0.05
          },
          "xaxis": {
           "automargin": true,
           "gridcolor": "white",
           "linecolor": "white",
           "ticks": "",
           "title": {
            "standoff": 15
           },
           "zerolinecolor": "white",
           "zerolinewidth": 2
          },
          "yaxis": {
           "automargin": true,
           "gridcolor": "white",
           "linecolor": "white",
           "ticks": "",
           "title": {
            "standoff": 15
           },
           "zerolinecolor": "white",
           "zerolinewidth": 2
          }
         }
        },
        "title": {
         "text": "Number of country by Discipline"
        },
        "xaxis": {
         "anchor": "y",
         "domain": [
          0,
          1
         ],
         "title": {
          "text": "number_of_country"
         }
        },
        "yaxis": {
         "anchor": "x",
         "domain": [
          0,
          1
         ],
         "title": {
          "text": "Discipline"
         }
        }
       }
      },
      "text/html": [
       "<div>                            <div id=\"16d81f72-4ded-4838-b84a-675e4eec5817\" class=\"plotly-graph-div\" style=\"height:700px; width:100%;\"></div>            <script type=\"text/javascript\">                require([\"plotly\"], function(Plotly) {                    window.PLOTLYENV=window.PLOTLYENV || {};                                    if (document.getElementById(\"16d81f72-4ded-4838-b84a-675e4eec5817\")) {                    Plotly.newPlot(                        \"16d81f72-4ded-4838-b84a-675e4eec5817\",                        [{\"alignmentgroup\":\"True\",\"hovertemplate\":\"number_of_country=%{marker.color}<br>Discipline=%{y}<extra></extra>\",\"legendgroup\":\"\",\"marker\":{\"color\":[9,13,14,14,16,16,17,18,18,18,18,18,22,23,24,30,31,33,37,48],\"coloraxis\":\"coloraxis\",\"pattern\":{\"shape\":\"\"}},\"name\":\"\",\"offsetgroup\":\"\",\"orientation\":\"h\",\"showlegend\":false,\"textposition\":\"auto\",\"type\":\"bar\",\"x\":[9,13,14,14,16,16,17,18,18,18,18,18,22,23,24,30,31,33,37,48],\"xaxis\":\"x\",\"y\":[\"Baseball/Softball\",\"3x3 Basketball\",\"Rhythmic Gymnastics\",\"Hockey\",\"Rugby Sevens\",\"Water Polo\",\"Artistic Gymnastics\",\"Basketball\",\"Handball\",\"Triathlon\",\"Volleyball\",\"Fencing\",\"Artistic Swimming\",\"Cycling Track\",\"Football\",\"Swimming\",\"Archery\",\"Athletics\",\"Table Tennis\",\"Beach Volleyball\"],\"yaxis\":\"y\"}],                        {\"barmode\":\"relative\",\"coloraxis\":{\"colorbar\":{\"title\":{\"text\":\"number_of_country\"}},\"colorscale\":[[0.0,\"#0d0887\"],[0.1111111111111111,\"#46039f\"],[0.2222222222222222,\"#7201a8\"],[0.3333333333333333,\"#9c179e\"],[0.4444444444444444,\"#bd3786\"],[0.5555555555555556,\"#d8576b\"],[0.6666666666666666,\"#ed7953\"],[0.7777777777777778,\"#fb9f3a\"],[0.8888888888888888,\"#fdca26\"],[1.0,\"#f0f921\"]]},\"height\":700,\"legend\":{\"tracegroupgap\":0},\"template\":{\"data\":{\"bar\":[{\"error_x\":{\"color\":\"#2a3f5f\"},\"error_y\":{\"color\":\"#2a3f5f\"},\"marker\":{\"line\":{\"color\":\"#E5ECF6\",\"width\":0.5},\"pattern\":{\"fillmode\":\"overlay\",\"size\":10,\"solidity\":0.2}},\"type\":\"bar\"}],\"barpolar\":[{\"marker\":{\"line\":{\"color\":\"#E5ECF6\",\"width\":0.5},\"pattern\":{\"fillmode\":\"overlay\",\"size\":10,\"solidity\":0.2}},\"type\":\"barpolar\"}],\"carpet\":[{\"aaxis\":{\"endlinecolor\":\"#2a3f5f\",\"gridcolor\":\"white\",\"linecolor\":\"white\",\"minorgridcolor\":\"white\",\"startlinecolor\":\"#2a3f5f\"},\"baxis\":{\"endlinecolor\":\"#2a3f5f\",\"gridcolor\":\"white\",\"linecolor\":\"white\",\"minorgridcolor\":\"white\",\"startlinecolor\":\"#2a3f5f\"},\"type\":\"carpet\"}],\"choropleth\":[{\"colorbar\":{\"outlinewidth\":0,\"ticks\":\"\"},\"type\":\"choropleth\"}],\"contour\":[{\"colorbar\":{\"outlinewidth\":0,\"ticks\":\"\"},\"colorscale\":[[0.0,\"#0d0887\"],[0.1111111111111111,\"#46039f\"],[0.2222222222222222,\"#7201a8\"],[0.3333333333333333,\"#9c179e\"],[0.4444444444444444,\"#bd3786\"],[0.5555555555555556,\"#d8576b\"],[0.6666666666666666,\"#ed7953\"],[0.7777777777777778,\"#fb9f3a\"],[0.8888888888888888,\"#fdca26\"],[1.0,\"#f0f921\"]],\"type\":\"contour\"}],\"contourcarpet\":[{\"colorbar\":{\"outlinewidth\":0,\"ticks\":\"\"},\"type\":\"contourcarpet\"}],\"heatmap\":[{\"colorbar\":{\"outlinewidth\":0,\"ticks\":\"\"},\"colorscale\":[[0.0,\"#0d0887\"],[0.1111111111111111,\"#46039f\"],[0.2222222222222222,\"#7201a8\"],[0.3333333333333333,\"#9c179e\"],[0.4444444444444444,\"#bd3786\"],[0.5555555555555556,\"#d8576b\"],[0.6666666666666666,\"#ed7953\"],[0.7777777777777778,\"#fb9f3a\"],[0.8888888888888888,\"#fdca26\"],[1.0,\"#f0f921\"]],\"type\":\"heatmap\"}],\"heatmapgl\":[{\"colorbar\":{\"outlinewidth\":0,\"ticks\":\"\"},\"colorscale\":[[0.0,\"#0d0887\"],[0.1111111111111111,\"#46039f\"],[0.2222222222222222,\"#7201a8\"],[0.3333333333333333,\"#9c179e\"],[0.4444444444444444,\"#bd3786\"],[0.5555555555555556,\"#d8576b\"],[0.6666666666666666,\"#ed7953\"],[0.7777777777777778,\"#fb9f3a\"],[0.8888888888888888,\"#fdca26\"],[1.0,\"#f0f921\"]],\"type\":\"heatmapgl\"}],\"histogram\":[{\"marker\":{\"pattern\":{\"fillmode\":\"overlay\",\"size\":10,\"solidity\":0.2}},\"type\":\"histogram\"}],\"histogram2d\":[{\"colorbar\":{\"outlinewidth\":0,\"ticks\":\"\"},\"colorscale\":[[0.0,\"#0d0887\"],[0.1111111111111111,\"#46039f\"],[0.2222222222222222,\"#7201a8\"],[0.3333333333333333,\"#9c179e\"],[0.4444444444444444,\"#bd3786\"],[0.5555555555555556,\"#d8576b\"],[0.6666666666666666,\"#ed7953\"],[0.7777777777777778,\"#fb9f3a\"],[0.8888888888888888,\"#fdca26\"],[1.0,\"#f0f921\"]],\"type\":\"histogram2d\"}],\"histogram2dcontour\":[{\"colorbar\":{\"outlinewidth\":0,\"ticks\":\"\"},\"colorscale\":[[0.0,\"#0d0887\"],[0.1111111111111111,\"#46039f\"],[0.2222222222222222,\"#7201a8\"],[0.3333333333333333,\"#9c179e\"],[0.4444444444444444,\"#bd3786\"],[0.5555555555555556,\"#d8576b\"],[0.6666666666666666,\"#ed7953\"],[0.7777777777777778,\"#fb9f3a\"],[0.8888888888888888,\"#fdca26\"],[1.0,\"#f0f921\"]],\"type\":\"histogram2dcontour\"}],\"mesh3d\":[{\"colorbar\":{\"outlinewidth\":0,\"ticks\":\"\"},\"type\":\"mesh3d\"}],\"parcoords\":[{\"line\":{\"colorbar\":{\"outlinewidth\":0,\"ticks\":\"\"}},\"type\":\"parcoords\"}],\"pie\":[{\"automargin\":true,\"type\":\"pie\"}],\"scatter\":[{\"marker\":{\"colorbar\":{\"outlinewidth\":0,\"ticks\":\"\"}},\"type\":\"scatter\"}],\"scatter3d\":[{\"line\":{\"colorbar\":{\"outlinewidth\":0,\"ticks\":\"\"}},\"marker\":{\"colorbar\":{\"outlinewidth\":0,\"ticks\":\"\"}},\"type\":\"scatter3d\"}],\"scattercarpet\":[{\"marker\":{\"colorbar\":{\"outlinewidth\":0,\"ticks\":\"\"}},\"type\":\"scattercarpet\"}],\"scattergeo\":[{\"marker\":{\"colorbar\":{\"outlinewidth\":0,\"ticks\":\"\"}},\"type\":\"scattergeo\"}],\"scattergl\":[{\"marker\":{\"colorbar\":{\"outlinewidth\":0,\"ticks\":\"\"}},\"type\":\"scattergl\"}],\"scattermapbox\":[{\"marker\":{\"colorbar\":{\"outlinewidth\":0,\"ticks\":\"\"}},\"type\":\"scattermapbox\"}],\"scatterpolar\":[{\"marker\":{\"colorbar\":{\"outlinewidth\":0,\"ticks\":\"\"}},\"type\":\"scatterpolar\"}],\"scatterpolargl\":[{\"marker\":{\"colorbar\":{\"outlinewidth\":0,\"ticks\":\"\"}},\"type\":\"scatterpolargl\"}],\"scatterternary\":[{\"marker\":{\"colorbar\":{\"outlinewidth\":0,\"ticks\":\"\"}},\"type\":\"scatterternary\"}],\"surface\":[{\"colorbar\":{\"outlinewidth\":0,\"ticks\":\"\"},\"colorscale\":[[0.0,\"#0d0887\"],[0.1111111111111111,\"#46039f\"],[0.2222222222222222,\"#7201a8\"],[0.3333333333333333,\"#9c179e\"],[0.4444444444444444,\"#bd3786\"],[0.5555555555555556,\"#d8576b\"],[0.6666666666666666,\"#ed7953\"],[0.7777777777777778,\"#fb9f3a\"],[0.8888888888888888,\"#fdca26\"],[1.0,\"#f0f921\"]],\"type\":\"surface\"}],\"table\":[{\"cells\":{\"fill\":{\"color\":\"#EBF0F8\"},\"line\":{\"color\":\"white\"}},\"header\":{\"fill\":{\"color\":\"#C8D4E3\"},\"line\":{\"color\":\"white\"}},\"type\":\"table\"}]},\"layout\":{\"annotationdefaults\":{\"arrowcolor\":\"#2a3f5f\",\"arrowhead\":0,\"arrowwidth\":1},\"autotypenumbers\":\"strict\",\"coloraxis\":{\"colorbar\":{\"outlinewidth\":0,\"ticks\":\"\"}},\"colorscale\":{\"diverging\":[[0,\"#8e0152\"],[0.1,\"#c51b7d\"],[0.2,\"#de77ae\"],[0.3,\"#f1b6da\"],[0.4,\"#fde0ef\"],[0.5,\"#f7f7f7\"],[0.6,\"#e6f5d0\"],[0.7,\"#b8e186\"],[0.8,\"#7fbc41\"],[0.9,\"#4d9221\"],[1,\"#276419\"]],\"sequential\":[[0.0,\"#0d0887\"],[0.1111111111111111,\"#46039f\"],[0.2222222222222222,\"#7201a8\"],[0.3333333333333333,\"#9c179e\"],[0.4444444444444444,\"#bd3786\"],[0.5555555555555556,\"#d8576b\"],[0.6666666666666666,\"#ed7953\"],[0.7777777777777778,\"#fb9f3a\"],[0.8888888888888888,\"#fdca26\"],[1.0,\"#f0f921\"]],\"sequentialminus\":[[0.0,\"#0d0887\"],[0.1111111111111111,\"#46039f\"],[0.2222222222222222,\"#7201a8\"],[0.3333333333333333,\"#9c179e\"],[0.4444444444444444,\"#bd3786\"],[0.5555555555555556,\"#d8576b\"],[0.6666666666666666,\"#ed7953\"],[0.7777777777777778,\"#fb9f3a\"],[0.8888888888888888,\"#fdca26\"],[1.0,\"#f0f921\"]]},\"colorway\":[\"#636efa\",\"#EF553B\",\"#00cc96\",\"#ab63fa\",\"#FFA15A\",\"#19d3f3\",\"#FF6692\",\"#B6E880\",\"#FF97FF\",\"#FECB52\"],\"font\":{\"color\":\"#2a3f5f\"},\"geo\":{\"bgcolor\":\"white\",\"lakecolor\":\"white\",\"landcolor\":\"#E5ECF6\",\"showlakes\":true,\"showland\":true,\"subunitcolor\":\"white\"},\"hoverlabel\":{\"align\":\"left\"},\"hovermode\":\"closest\",\"mapbox\":{\"style\":\"light\"},\"paper_bgcolor\":\"white\",\"plot_bgcolor\":\"#E5ECF6\",\"polar\":{\"angularaxis\":{\"gridcolor\":\"white\",\"linecolor\":\"white\",\"ticks\":\"\"},\"bgcolor\":\"#E5ECF6\",\"radialaxis\":{\"gridcolor\":\"white\",\"linecolor\":\"white\",\"ticks\":\"\"}},\"scene\":{\"xaxis\":{\"backgroundcolor\":\"#E5ECF6\",\"gridcolor\":\"white\",\"gridwidth\":2,\"linecolor\":\"white\",\"showbackground\":true,\"ticks\":\"\",\"zerolinecolor\":\"white\"},\"yaxis\":{\"backgroundcolor\":\"#E5ECF6\",\"gridcolor\":\"white\",\"gridwidth\":2,\"linecolor\":\"white\",\"showbackground\":true,\"ticks\":\"\",\"zerolinecolor\":\"white\"},\"zaxis\":{\"backgroundcolor\":\"#E5ECF6\",\"gridcolor\":\"white\",\"gridwidth\":2,\"linecolor\":\"white\",\"showbackground\":true,\"ticks\":\"\",\"zerolinecolor\":\"white\"}},\"shapedefaults\":{\"line\":{\"color\":\"#2a3f5f\"}},\"ternary\":{\"aaxis\":{\"gridcolor\":\"white\",\"linecolor\":\"white\",\"ticks\":\"\"},\"baxis\":{\"gridcolor\":\"white\",\"linecolor\":\"white\",\"ticks\":\"\"},\"bgcolor\":\"#E5ECF6\",\"caxis\":{\"gridcolor\":\"white\",\"linecolor\":\"white\",\"ticks\":\"\"}},\"title\":{\"x\":0.05},\"xaxis\":{\"automargin\":true,\"gridcolor\":\"white\",\"linecolor\":\"white\",\"ticks\":\"\",\"title\":{\"standoff\":15},\"zerolinecolor\":\"white\",\"zerolinewidth\":2},\"yaxis\":{\"automargin\":true,\"gridcolor\":\"white\",\"linecolor\":\"white\",\"ticks\":\"\",\"title\":{\"standoff\":15},\"zerolinecolor\":\"white\",\"zerolinewidth\":2}}},\"title\":{\"text\":\"Number of country by Discipline\"},\"xaxis\":{\"anchor\":\"y\",\"domain\":[0.0,1.0],\"title\":{\"text\":\"number_of_country\"}},\"yaxis\":{\"anchor\":\"x\",\"domain\":[0.0,1.0],\"title\":{\"text\":\"Discipline\"}}},                        {\"responsive\": true}                    ).then(function(){\n",
       "                            \n",
       "var gd = document.getElementById('16d81f72-4ded-4838-b84a-675e4eec5817');\n",
       "var x = new MutationObserver(function (mutations, observer) {{\n",
       "        var display = window.getComputedStyle(gd).display;\n",
       "        if (!display || display === 'none') {{\n",
       "            console.log([gd, 'removed!']);\n",
       "            Plotly.purge(gd);\n",
       "            observer.disconnect();\n",
       "        }}\n",
       "}});\n",
       "\n",
       "// Listen for the removal of the full notebook cells\n",
       "var notebookContainer = gd.closest('#notebook-container');\n",
       "if (notebookContainer) {{\n",
       "    x.observe(notebookContainer, {childList: true});\n",
       "}}\n",
       "\n",
       "// Listen for the clearing of the current output cell\n",
       "var outputEl = gd.closest('.output');\n",
       "if (outputEl) {{\n",
       "    x.observe(outputEl, {childList: true});\n",
       "}}\n",
       "\n",
       "                        })                };                });            </script>        </div>"
      ]
     },
     "metadata": {},
     "output_type": "display_data"
    }
   ],
   "source": [
    "fig = px.bar(pd_teams_query, x='number_of_country', y='Discipline', color='number_of_country',\n",
    "             title='Number of country by Discipline', height=700)\n",
    "fig.show()"
   ]
  },
  {
   "cell_type": "code",
   "execution_count": null,
   "id": "710705e5",
   "metadata": {},
   "outputs": [],
   "source": []
  }
 ],
 "metadata": {
  "kernelspec": {
   "display_name": "Python 3 (ipykernel)",
   "language": "python",
   "name": "python3"
  },
  "language_info": {
   "codemirror_mode": {
    "name": "ipython",
    "version": 3
   },
   "file_extension": ".py",
   "mimetype": "text/x-python",
   "name": "python",
   "nbconvert_exporter": "python",
   "pygments_lexer": "ipython3",
   "version": "3.8.2"
  }
 },
 "nbformat": 4,
 "nbformat_minor": 5
}
